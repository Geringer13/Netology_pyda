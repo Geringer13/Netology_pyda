{
 "cells": [
  {
   "cell_type": "code",
   "execution_count": null,
   "metadata": {},
   "outputs": [],
   "source": []
  },
  {
   "cell_type": "code",
   "execution_count": 2,
   "metadata": {},
   "outputs": [
    {
     "data": {
      "text/plain": [
       "('yandex', 120)"
      ]
     },
     "execution_count": 2,
     "metadata": {},
     "output_type": "execute_result"
    }
   ],
   "source": [
    "# Дана статистика рекламных каналов по объемам продаж. Напишите скрипт, который возвращает название канала с максимальным объемом.\n",
    "# Т. е. в данном примере скрипт должен возвращать “yandex”.\n",
    "\n",
    "stats = {'facebook': 55, 'yandex': 120, 'vk': 115, 'google': 99, 'email': 42, 'ok': 98}\n",
    "\n",
    "max(stats.items(), key = lambda x: x[1])\n",
    "('yandex', 120)\n"
   ]
  },
  {
   "cell_type": "code",
   "execution_count": 1,
   "metadata": {},
   "outputs": [
    {
     "name": "stdout",
     "output_type": "stream",
     "text": [
      "['браслет', 'xiaomi', 'mi', 'band', '2', 'умный', 'лидер', 'в', 'линейке', 'фитнес', 'для', 'android', '4', 'ios', '7', 'экран', 'oled', 'лучший', 'выбор']\n",
      "['браслет', 'huawei', 'honor', 'band', '3', 'фитнес', 'влагозащищенный', 'сенсорный', 'экран', 'android', 'ios', 'мониторинг', 'сна']\n",
      "['браслет', 'samsung', 'gear', 'fit2', 'pro', 'влагозащищенный', 'сенсорный', 'amoled-экран', 'мониторинг', 'сна', 'калорий', 'новинка']\n",
      "6\n",
      "1\n",
      "1\n"
     ]
    }
   ],
   "source": [
    "# Есть подозрение, что некоторые описания содержат много дубликатов одних и тех же слов. \n",
    "# Т. е. могут быть переоптимизированными. Для каждого описания товара выведите на экран разницу между количеством уникальных \n",
    "# слов и общим количеством слов в этом описании.\n",
    "# Дан список описаний товаров descriptions:\n",
    "    \n",
    "descriptions = [\n",
    "['браслет', 'xiaomi', 'mi', 'band', '2', 'умный', 'браслет', 'xiaomi', 'mi', 'лидер', 'в', 'линейке', 'xiaomi', 'фитнес', 'браслет', 'для', 'android', '4', 'ios', '7', 'экран', 'oled', 'лучший', 'выбор', 'xiaomi'],\n",
    "['браслет', 'huawei', 'honor', 'band', '3', 'фитнес', 'браслет', 'влагозащищенный', 'сенсорный', 'экран', 'android', 'ios', 'мониторинг', 'сна'],\n",
    "['браслет', 'samsung', 'gear', 'fit2', 'pro', 'влагозащищенный', 'сенсорный', 'amoled-экран', 'мониторинг', 'сна', 'калорий', 'новинка', 'samsung'],\n",
    "]\n",
    "\n",
    "words1 = []\n",
    "words2 = []\n",
    "words3 = []\n",
    "\n",
    "for a in descriptions[0]:\n",
    "    if a not in words1:\n",
    "        words1.append(a)\n",
    "print(words1)\n",
    "\n",
    "for a in descriptions[1]:\n",
    "    if a not in words2:\n",
    "        words2.append(a)\n",
    "print(words2)\n",
    "\n",
    "for a in descriptions[2]:\n",
    "    if a not in words3:\n",
    "        words3.append(a)\n",
    "print(words3)\n",
    "\n",
    "diff1 = len(descriptions[0]) - len(words1)\n",
    "print(diff1)\n",
    "\n",
    "diff2 = len(descriptions[1]) - len(words2)\n",
    "print(diff2)\n",
    "\n",
    "diff3 = len(descriptions[2]) - len(words3)\n",
    "print(diff3)\n"
   ]
  },
  {
   "cell_type": "code",
   "execution_count": 1,
   "metadata": {},
   "outputs": [
    {
     "name": "stdout",
     "output_type": "stream",
     "text": [
      "1\n",
      "('14',) 3946\n",
      "('12',) 12250\n",
      "('28',) 21895\n",
      "('25',) 4200\n",
      "('20',) 26344\n",
      "('22',) 19918\n",
      "('4',) 14495\n",
      "('24',) 8245\n",
      "('11',) 3790\n",
      "('26',) 25705\n",
      "('7',) 4049\n",
      "('9',) 21576\n",
      "('1',) 22964\n",
      "('17',) 1630\n",
      "('18',) 8679\n",
      "('13',) 13104\n",
      "('31',) 8315\n",
      "('2',) 12785\n",
      "('5',) 26829\n",
      "('19',) 18689\n",
      "('6',) 4157\n",
      "('27',) 10130\n",
      "('29',) 2291\n",
      "('8',) 22814\n",
      "('16',) 2388\n",
      "('30',) 25987\n",
      "('21',) 19528\n",
      "('23',) 18740\n",
      "('3',) 26191\n",
      "('15',) 12999\n",
      "('10',) 21117\n"
     ]
    }
   ],
   "source": [
    "# Задание 3\n",
    "\n",
    "hw_dict = {}\n",
    "n = int(input())\n",
    "\n",
    "with open('stats.csv') as number:\n",
    "    for line in number:\n",
    "        line = line.strip().split(',')\n",
    "        hw_dict[tuple(line[:n])] = line[n]\n",
    "for key,value in hw_dict.items():\n",
    "    print(key, value)\n",
    "         "
   ]
  },
  {
   "cell_type": "code",
   "execution_count": null,
   "metadata": {},
   "outputs": [],
   "source": []
  },
  {
   "cell_type": "code",
   "execution_count": null,
   "metadata": {},
   "outputs": [],
   "source": []
  },
  {
   "cell_type": "code",
   "execution_count": null,
   "metadata": {},
   "outputs": [],
   "source": []
  },
  {
   "cell_type": "code",
   "execution_count": null,
   "metadata": {},
   "outputs": [],
   "source": []
  }
 ],
 "metadata": {
  "kernelspec": {
   "display_name": "Python 3",
   "language": "python",
   "name": "python3"
  },
  "language_info": {
   "codemirror_mode": {
    "name": "ipython",
    "version": 3
   },
   "file_extension": ".py",
   "mimetype": "text/x-python",
   "name": "python",
   "nbconvert_exporter": "python",
   "pygments_lexer": "ipython3",
   "version": "3.7.3"
  }
 },
 "nbformat": 4,
 "nbformat_minor": 2
}
