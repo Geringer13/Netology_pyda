{
  "nbformat": 4,
  "nbformat_minor": 0,
  "metadata": {
    "colab": {
      "name": "Machine_learning_Homework_2.ipynb",
      "provenance": [],
      "collapsed_sections": [],
      "authorship_tag": "ABX9TyM+7g9j24wJB0ROoQG3QkdJ",
      "include_colab_link": true
    },
    "kernelspec": {
      "name": "python3",
      "display_name": "Python 3"
    }
  },
  "cells": [
    {
      "cell_type": "markdown",
      "metadata": {
        "id": "view-in-github",
        "colab_type": "text"
      },
      "source": [
        "<a href=\"https://colab.research.google.com/github/Geringer13/Netology_pyda/blob/master/Machine_learning_Homework_2.ipynb\" target=\"_parent\"><img src=\"https://colab.research.google.com/assets/colab-badge.svg\" alt=\"Open In Colab\"/></a>"
      ]
    },
    {
      "cell_type": "markdown",
      "metadata": {
        "id": "EOwEI1zTjiIy",
        "colab_type": "text"
      },
      "source": [
        "0. Обозначаем корень дерева\n",
        "1.Находим максимальный Gain (вспоминаем лекцию) для каждого признака.\n",
        "2.Из полученных Gain’ов признаков выбираем максимальный, и таким образом определяется узел дерева.\n",
        "3.Далее следуем по левому и правому разбиению, и выполняем пункты 1-3 до тех пор, пока Gain не станет равным 0. В этом случае, мы определяем лист дерева (то есть, возвращаемый ответ)"
      ]
    },
    {
      "cell_type": "code",
      "metadata": {
        "id": "dNyDPLB9jXFr",
        "colab_type": "code",
        "colab": {}
      },
      "source": [
        "import pandas as pd\n",
        "import numpy as np\n",
        "from collections import Counter"
      ],
      "execution_count": 0,
      "outputs": []
    },
    {
      "cell_type": "code",
      "metadata": {
        "id": "2NyfqqeAjXC2",
        "colab_type": "code",
        "colab": {}
      },
      "source": [
        "data = pd.read_csv('aac_shelter_outcomes.csv')"
      ],
      "execution_count": 0,
      "outputs": []
    },
    {
      "cell_type": "code",
      "metadata": {
        "id": "BIz8JpjvjW_O",
        "colab_type": "code",
        "colab": {
          "base_uri": "https://localhost:8080/",
          "height": 281
        },
        "outputId": "b44835cf-f4d9-479c-c032-06daddf04f3c"
      },
      "source": [
        "data.head()"
      ],
      "execution_count": 28,
      "outputs": [
        {
          "output_type": "execute_result",
          "data": {
            "text/html": [
              "<div>\n",
              "<style scoped>\n",
              "    .dataframe tbody tr th:only-of-type {\n",
              "        vertical-align: middle;\n",
              "    }\n",
              "\n",
              "    .dataframe tbody tr th {\n",
              "        vertical-align: top;\n",
              "    }\n",
              "\n",
              "    .dataframe thead th {\n",
              "        text-align: right;\n",
              "    }\n",
              "</style>\n",
              "<table border=\"1\" class=\"dataframe\">\n",
              "  <thead>\n",
              "    <tr style=\"text-align: right;\">\n",
              "      <th></th>\n",
              "      <th>age_upon_outcome</th>\n",
              "      <th>animal_id</th>\n",
              "      <th>animal_type</th>\n",
              "      <th>breed</th>\n",
              "      <th>color</th>\n",
              "      <th>date_of_birth</th>\n",
              "      <th>datetime</th>\n",
              "      <th>monthyear</th>\n",
              "      <th>name</th>\n",
              "      <th>outcome_subtype</th>\n",
              "      <th>outcome_type</th>\n",
              "      <th>sex_upon_outcome</th>\n",
              "    </tr>\n",
              "  </thead>\n",
              "  <tbody>\n",
              "    <tr>\n",
              "      <th>0</th>\n",
              "      <td>2 weeks</td>\n",
              "      <td>A684346</td>\n",
              "      <td>Cat</td>\n",
              "      <td>Domestic Shorthair Mix</td>\n",
              "      <td>Orange Tabby</td>\n",
              "      <td>2014-07-07T00:00:00</td>\n",
              "      <td>2014-07-22T16:04:00</td>\n",
              "      <td>2014-07-22T16:04:00</td>\n",
              "      <td>unknown</td>\n",
              "      <td>Partner</td>\n",
              "      <td>Transfer</td>\n",
              "      <td>Intact Male</td>\n",
              "    </tr>\n",
              "    <tr>\n",
              "      <th>1</th>\n",
              "      <td>1 year</td>\n",
              "      <td>A666430</td>\n",
              "      <td>Dog</td>\n",
              "      <td>Beagle Mix</td>\n",
              "      <td>White/Brown</td>\n",
              "      <td>2012-11-06T00:00:00</td>\n",
              "      <td>2013-11-07T11:47:00</td>\n",
              "      <td>2013-11-07T11:47:00</td>\n",
              "      <td>Lucy</td>\n",
              "      <td>Partner</td>\n",
              "      <td>Transfer</td>\n",
              "      <td>Spayed Female</td>\n",
              "    </tr>\n",
              "    <tr>\n",
              "      <th>2</th>\n",
              "      <td>1 year</td>\n",
              "      <td>A675708</td>\n",
              "      <td>Dog</td>\n",
              "      <td>Pit Bull</td>\n",
              "      <td>Blue/White</td>\n",
              "      <td>2013-03-31T00:00:00</td>\n",
              "      <td>2014-06-03T14:20:00</td>\n",
              "      <td>2014-06-03T14:20:00</td>\n",
              "      <td>*Johnny</td>\n",
              "      <td>unknown</td>\n",
              "      <td>Adoption</td>\n",
              "      <td>Neutered Male</td>\n",
              "    </tr>\n",
              "    <tr>\n",
              "      <th>3</th>\n",
              "      <td>9 years</td>\n",
              "      <td>A680386</td>\n",
              "      <td>Dog</td>\n",
              "      <td>Miniature Schnauzer Mix</td>\n",
              "      <td>White</td>\n",
              "      <td>2005-06-02T00:00:00</td>\n",
              "      <td>2014-06-15T15:50:00</td>\n",
              "      <td>2014-06-15T15:50:00</td>\n",
              "      <td>Monday</td>\n",
              "      <td>Partner</td>\n",
              "      <td>Transfer</td>\n",
              "      <td>Neutered Male</td>\n",
              "    </tr>\n",
              "    <tr>\n",
              "      <th>4</th>\n",
              "      <td>5 months</td>\n",
              "      <td>A683115</td>\n",
              "      <td>Other</td>\n",
              "      <td>Bat Mix</td>\n",
              "      <td>Brown</td>\n",
              "      <td>2014-01-07T00:00:00</td>\n",
              "      <td>2014-07-07T14:04:00</td>\n",
              "      <td>2014-07-07T14:04:00</td>\n",
              "      <td>unknown</td>\n",
              "      <td>Rabies Risk</td>\n",
              "      <td>Euthanasia</td>\n",
              "      <td>Unknown</td>\n",
              "    </tr>\n",
              "  </tbody>\n",
              "</table>\n",
              "</div>"
            ],
            "text/plain": [
              "  age_upon_outcome animal_id  ... outcome_type sex_upon_outcome\n",
              "0          2 weeks   A684346  ...     Transfer      Intact Male\n",
              "1           1 year   A666430  ...     Transfer    Spayed Female\n",
              "2           1 year   A675708  ...     Adoption    Neutered Male\n",
              "3          9 years   A680386  ...     Transfer    Neutered Male\n",
              "4         5 months   A683115  ...   Euthanasia          Unknown\n",
              "\n",
              "[5 rows x 12 columns]"
            ]
          },
          "metadata": {
            "tags": []
          },
          "execution_count": 28
        }
      ]
    },
    {
      "cell_type": "code",
      "metadata": {
        "id": "hR5EkcMQjW8F",
        "colab_type": "code",
        "colab": {}
      },
      "source": [
        "data = data.fillna('unknown')"
      ],
      "execution_count": 0,
      "outputs": []
    },
    {
      "cell_type": "code",
      "metadata": {
        "id": "NRGitm8m-QlT",
        "colab_type": "code",
        "colab": {
          "base_uri": "https://localhost:8080/",
          "height": 34
        },
        "outputId": "af72c7da-43dd-4a5a-b0a5-1f8193d85671"
      },
      "source": [
        "len(data)"
      ],
      "execution_count": 28,
      "outputs": [
        {
          "output_type": "execute_result",
          "data": {
            "text/plain": [
              "78256"
            ]
          },
          "metadata": {
            "tags": []
          },
          "execution_count": 28
        }
      ]
    },
    {
      "cell_type": "code",
      "metadata": {
        "id": "2ATtwYz1-SzU",
        "colab_type": "code",
        "colab": {}
      },
      "source": [
        "data = data[:100]"
      ],
      "execution_count": 0,
      "outputs": []
    },
    {
      "cell_type": "code",
      "metadata": {
        "id": "Bkk3-vMEjW43",
        "colab_type": "code",
        "colab": {
          "base_uri": "https://localhost:8080/",
          "height": 230
        },
        "outputId": "9fdac942-33f0-47d6-e371-5ceb0709dcf5"
      },
      "source": [
        "Counter(data)"
      ],
      "execution_count": 14,
      "outputs": [
        {
          "output_type": "execute_result",
          "data": {
            "text/plain": [
              "Counter({'age_upon_outcome': 1,\n",
              "         'animal_id': 1,\n",
              "         'animal_type': 1,\n",
              "         'breed': 1,\n",
              "         'color': 1,\n",
              "         'date_of_birth': 1,\n",
              "         'datetime': 1,\n",
              "         'monthyear': 1,\n",
              "         'name': 1,\n",
              "         'outcome_subtype': 1,\n",
              "         'outcome_type': 1,\n",
              "         'sex_upon_outcome': 1})"
            ]
          },
          "metadata": {
            "tags": []
          },
          "execution_count": 14
        }
      ]
    },
    {
      "cell_type": "code",
      "metadata": {
        "id": "4qMiT3YMjW1Y",
        "colab_type": "code",
        "colab": {}
      },
      "source": [
        "def HEntropy(l):\n",
        "    length = len(l)\n",
        "    cnt = Counter(l)\n",
        "    \n",
        "    ent = 0\n",
        "    for cl in cnt.values():\n",
        "        p = cl / length\n",
        "        l2 = np.log2(p)\n",
        "        it = -p * l2\n",
        "        ent += it\n",
        "    \n",
        "    return ent"
      ],
      "execution_count": 0,
      "outputs": []
    },
    {
      "cell_type": "code",
      "metadata": {
        "id": "kJ3Xq_Nu8N2o",
        "colab_type": "code",
        "colab": {
          "base_uri": "https://localhost:8080/",
          "height": 34
        },
        "outputId": "fa199a52-dc09-44d0-a8dd-3908a76ffdbe"
      },
      "source": [
        "HEntropy(data)"
      ],
      "execution_count": 16,
      "outputs": [
        {
          "output_type": "execute_result",
          "data": {
            "text/plain": [
              "0.7972627427729667"
            ]
          },
          "metadata": {
            "tags": []
          },
          "execution_count": 16
        }
      ]
    },
    {
      "cell_type": "code",
      "metadata": {
        "id": "YqJ1Cv0RjWyi",
        "colab_type": "code",
        "colab": {
          "base_uri": "https://localhost:8080/",
          "height": 34
        },
        "outputId": "99046ed4-0858-4126-b5a5-c400d6d07998"
      },
      "source": [
        "HEntropy(data['age_upon_outcome'])"
      ],
      "execution_count": 17,
      "outputs": [
        {
          "output_type": "execute_result",
          "data": {
            "text/plain": [
              "3.9040125617909625"
            ]
          },
          "metadata": {
            "tags": []
          },
          "execution_count": 17
        }
      ]
    },
    {
      "cell_type": "code",
      "metadata": {
        "id": "8keL1JG23Lnw",
        "colab_type": "code",
        "colab": {
          "base_uri": "https://localhost:8080/",
          "height": 34
        },
        "outputId": "d7a5398a-fef8-478e-b00b-8819165ea8c6"
      },
      "source": [
        "HEntropy(data['animal_type'])"
      ],
      "execution_count": 14,
      "outputs": [
        {
          "output_type": "execute_result",
          "data": {
            "text/plain": [
              "1.2590824350392555"
            ]
          },
          "metadata": {
            "tags": []
          },
          "execution_count": 14
        }
      ]
    },
    {
      "cell_type": "code",
      "metadata": {
        "id": "AVGGg_TL3Llu",
        "colab_type": "code",
        "colab": {
          "base_uri": "https://localhost:8080/",
          "height": 34
        },
        "outputId": "3bb3d1ca-342a-45d3-cdfd-b37d0fdb0f82"
      },
      "source": [
        "HEntropy(data['breed'])"
      ],
      "execution_count": 15,
      "outputs": [
        {
          "output_type": "execute_result",
          "data": {
            "text/plain": [
              "5.757093540044606"
            ]
          },
          "metadata": {
            "tags": []
          },
          "execution_count": 15
        }
      ]
    },
    {
      "cell_type": "code",
      "metadata": {
        "id": "rha_g6nM3Li3",
        "colab_type": "code",
        "colab": {
          "base_uri": "https://localhost:8080/",
          "height": 34
        },
        "outputId": "2405afad-741c-4970-f4eb-7dbd59b921bb"
      },
      "source": [
        "HEntropy(data['color'])"
      ],
      "execution_count": 16,
      "outputs": [
        {
          "output_type": "execute_result",
          "data": {
            "text/plain": [
              "5.7374826075977365"
            ]
          },
          "metadata": {
            "tags": []
          },
          "execution_count": 16
        }
      ]
    },
    {
      "cell_type": "code",
      "metadata": {
        "id": "gqNm-R4T3Lfp",
        "colab_type": "code",
        "colab": {
          "base_uri": "https://localhost:8080/",
          "height": 34
        },
        "outputId": "914d7345-1bf9-4958-e9f4-199de3e44bf1"
      },
      "source": [
        "HEntropy(data['name'])"
      ],
      "execution_count": 17,
      "outputs": [
        {
          "output_type": "execute_result",
          "data": {
            "text/plain": [
              "9.514150704421482"
            ]
          },
          "metadata": {
            "tags": []
          },
          "execution_count": 17
        }
      ]
    },
    {
      "cell_type": "code",
      "metadata": {
        "id": "863RWzrR3LcU",
        "colab_type": "code",
        "colab": {
          "base_uri": "https://localhost:8080/",
          "height": 34
        },
        "outputId": "44c6d2cb-52b7-4ef2-c177-fbe67dcdf482"
      },
      "source": [
        "HEntropy(data['outcome_subtype'])"
      ],
      "execution_count": 18,
      "outputs": [
        {
          "output_type": "execute_result",
          "data": {
            "text/plain": [
              "2.017770867430251"
            ]
          },
          "metadata": {
            "tags": []
          },
          "execution_count": 18
        }
      ]
    },
    {
      "cell_type": "code",
      "metadata": {
        "id": "Kj65odgP3LZo",
        "colab_type": "code",
        "colab": {
          "base_uri": "https://localhost:8080/",
          "height": 34
        },
        "outputId": "ef1c16ef-eb65-415a-8d06-a099c1bc2c95"
      },
      "source": [
        "HEntropy(data['outcome_type'])"
      ],
      "execution_count": 19,
      "outputs": [
        {
          "output_type": "execute_result",
          "data": {
            "text/plain": [
              "1.9002931792978204"
            ]
          },
          "metadata": {
            "tags": []
          },
          "execution_count": 19
        }
      ]
    },
    {
      "cell_type": "code",
      "metadata": {
        "id": "vxdazUn03LWh",
        "colab_type": "code",
        "colab": {
          "base_uri": "https://localhost:8080/",
          "height": 34
        },
        "outputId": "d28f2865-2c3e-43a1-c65e-a60a8da140e3"
      },
      "source": [
        "HEntropy(data['sex_upon_outcome'])"
      ],
      "execution_count": 20,
      "outputs": [
        {
          "output_type": "execute_result",
          "data": {
            "text/plain": [
              "2.0896532063606212"
            ]
          },
          "metadata": {
            "tags": []
          },
          "execution_count": 20
        }
      ]
    },
    {
      "cell_type": "code",
      "metadata": {
        "id": "jku72gK39W_O",
        "colab_type": "code",
        "colab": {}
      },
      "source": [
        "def IG(H, l, i):\n",
        "    left_l = l[:i]\n",
        "    right_l = l[i:]\n",
        "    return H(l) - (len(left_l) / len(l)) * H(left_l) - (len(right_l) / len(l)) * H(right_l)"
      ],
      "execution_count": 0,
      "outputs": []
    },
    {
      "cell_type": "code",
      "metadata": {
        "id": "5O-hjd_a72pW",
        "colab_type": "code",
        "colab": {}
      },
      "source": [
        "def test_H(H, l):\n",
        "    print(\"{:5} {:3}   {:4} {:4} {:4}\".format(\"#\",\"l\",\"IG\",\"Hl\",\"Hr\"))\n",
        "    print(\"-\"*24)\n",
        "    for i in range(1,len(l)):\n",
        "        print(\"{:2}. {:3}   {:.2f} {:.2f} {:.2f}\".format(i, l[i], IG(H, l, i), H(l[:i]), H(l[i:])))"
      ],
      "execution_count": 0,
      "outputs": []
    },
    {
      "cell_type": "code",
      "metadata": {
        "id": "kK-vp0Q-72mD",
        "colab_type": "code",
        "colab": {
          "base_uri": "https://localhost:8080/",
          "height": 1000
        },
        "outputId": "e450e4a2-2b8e-477f-bff8-11a003f1319d"
      },
      "source": [
        "test_H(HEntropy, data['sex_upon_outcome'])"
      ],
      "execution_count": 29,
      "outputs": [
        {
          "output_type": "stream",
          "text": [
            "#     l     IG   Hl   Hr  \n",
            "------------------------\n",
            " 1. Spayed Female   0.03 0.00 2.11\n",
            " 2. Neutered Male   0.03 1.00 2.11\n",
            " 3. Neutered Male   0.02 1.58 2.12\n",
            " 4. Unknown   0.02 1.50 2.12\n",
            " 5. Intact Male   0.02 1.92 2.11\n",
            " 6. Unknown   0.03 1.92 2.10\n",
            " 7. Spayed Female   0.04 1.95 2.09\n",
            " 8. Intact Female   0.04 2.00 2.09\n",
            " 9. Spayed Female   0.02 2.28 2.08\n",
            "10. Spayed Female   0.02 2.25 2.09\n",
            "11. Neutered Male   0.02 2.19 2.09\n",
            "12. Neutered Male   0.01 2.19 2.10\n",
            "13. Spayed Female   0.01 2.16 2.11\n",
            "14. Neutered Male   0.01 2.12 2.11\n",
            "15. Neutered Male   0.01 2.09 2.12\n",
            "16. Neutered Male   0.01 2.06 2.12\n",
            "17. Intact Male   0.01 2.01 2.13\n",
            "18. Spayed Female   0.02 2.06 2.11\n",
            "19. Spayed Female   0.02 2.04 2.12\n",
            "20. Unknown   0.02 2.02 2.13\n",
            "21. Neutered Male   0.02 2.07 2.11\n",
            "22. Spayed Female   0.02 2.04 2.12\n",
            "23. Neutered Male   0.02 2.02 2.13\n",
            "24. Neutered Male   0.02 2.00 2.13\n",
            "25. Spayed Female   0.02 1.97 2.14\n",
            "26. Intact Female   0.02 1.96 2.15\n",
            "27. Spayed Female   0.01 2.04 2.14\n",
            "28. Intact Female   0.01 2.02 2.15\n",
            "29. Intact Female   0.00 2.08 2.14\n",
            "30. Unknown   0.00 2.11 2.13\n",
            "31. Spayed Female   0.00 2.14 2.11\n",
            "32. Spayed Female   0.00 2.12 2.12\n",
            "33. Spayed Female   0.00 2.11 2.12\n",
            "34. Neutered Male   0.01 2.09 2.13\n",
            "35. Intact Male   0.00 2.07 2.14\n",
            "36. Spayed Female   0.00 2.11 2.12\n",
            "37. Spayed Female   0.01 2.09 2.13\n",
            "38. Neutered Male   0.01 2.07 2.13\n",
            "39. Intact Male   0.01 2.06 2.14\n",
            "40. Unknown   0.01 2.09 2.12\n",
            "41. Spayed Female   0.01 2.12 2.10\n",
            "42. Spayed Female   0.01 2.10 2.11\n",
            "43. Neutered Male   0.02 2.08 2.12\n",
            "44. Neutered Male   0.02 2.08 2.13\n",
            "45. Spayed Female   0.01 2.07 2.14\n",
            "46. Intact Female   0.02 2.05 2.14\n",
            "47. Spayed Female   0.01 2.08 2.13\n",
            "48. Neutered Male   0.02 2.07 2.14\n",
            "49. Intact Female   0.01 2.06 2.15\n",
            "50. Intact Female   0.01 2.08 2.14\n",
            "51. Neutered Male   0.01 2.10 2.13\n",
            "52. Neutered Male   0.01 2.09 2.14\n",
            "53. Spayed Female   0.00 2.09 2.15\n",
            "54. Neutered Male   0.01 2.07 2.16\n",
            "55. Intact Female   0.01 2.07 2.17\n",
            "56. Intact Male   0.01 2.08 2.15\n",
            "57. Neutered Male   0.01 2.10 2.13\n",
            "58. Spayed Female   0.01 2.09 2.14\n",
            "59. Spayed Female   0.01 2.08 2.15\n",
            "60. Intact Male   0.01 2.07 2.16\n",
            "61. Intact Female   0.01 2.09 2.13\n",
            "62. Spayed Female   0.02 2.11 2.10\n",
            "63. Neutered Male   0.02 2.10 2.11\n",
            "64. Neutered Male   0.02 2.09 2.13\n",
            "65. Spayed Female   0.02 2.08 2.14\n",
            "66. Neutered Male   0.02 2.07 2.15\n",
            "67. Unknown   0.02 2.07 2.17\n",
            "68. Intact Male   0.01 2.09 2.16\n",
            "69. Unknown   0.01 2.11 2.11\n",
            "70. Spayed Female   0.01 2.12 2.09\n",
            "71. Intact Female   0.01 2.12 2.10\n",
            "72. Spayed Female   0.01 2.13 2.06\n",
            "73. Intact Male   0.01 2.12 2.07\n",
            "74. Neutered Male   0.03 2.13 1.99\n",
            "75. Neutered Male   0.02 2.13 2.02\n",
            "76. Intact Female   0.02 2.12 2.05\n",
            "77. Neutered Male   0.02 2.13 1.99\n",
            "78. Unknown   0.02 2.12 2.02\n",
            "79. Spayed Female   0.01 2.14 1.99\n",
            "80. Intact Male   0.01 2.13 2.01\n",
            "81. Spayed Female   0.04 2.15 1.81\n",
            "82. Unknown   0.04 2.14 1.82\n",
            "83. Spayed Female   0.04 2.15 1.76\n",
            "84. Intact Female   0.04 2.14 1.75\n",
            "85. Neutered Male   0.04 2.15 1.64\n",
            "86. Neutered Male   0.04 2.15 1.69\n",
            "87. Spayed Female   0.03 2.14 1.74\n",
            "88. Neutered Male   0.03 2.14 1.73\n",
            "89. Neutered Male   0.03 2.13 1.79\n",
            "90. Neutered Male   0.02 2.13 1.85\n",
            "91. Neutered Male   0.02 2.12 1.89\n",
            "92. Unknown   0.02 2.12 1.91\n",
            "93. Unknown   0.01 2.13 1.84\n",
            "94. Neutered Male   0.02 2.14 1.46\n",
            "95. Spayed Female   0.03 2.13 1.37\n",
            "96. Intact Female   0.02 2.13 1.50\n",
            "97. Spayed Female   0.02 2.14 0.92\n",
            "98. Neutered Male   0.01 2.13 1.00\n",
            "99. Spayed Female   0.02 2.13 0.00\n"
          ],
          "name": "stdout"
        }
      ]
    },
    {
      "cell_type": "code",
      "metadata": {
        "id": "8tEcYtFB72jR",
        "colab_type": "code",
        "colab": {
          "base_uri": "https://localhost:8080/",
          "height": 1000
        },
        "outputId": "57d59dcb-e6ba-486f-94a7-40418c4e7d62"
      },
      "source": [
        "test_H(HEntropy, data['age_upon_outcome'])"
      ],
      "execution_count": 30,
      "outputs": [
        {
          "output_type": "stream",
          "text": [
            "#     l     IG   Hl   Hr  \n",
            "------------------------\n",
            " 1. 1 year   0.05 0.00 3.89\n",
            " 2. 1 year   0.06 1.00 3.90\n",
            " 3. 9 years   0.08 0.92 3.92\n",
            " 4. 5 months   0.12 1.50 3.87\n",
            " 5. 4 months   0.14 1.92 3.86\n",
            " 6. 1 year   0.15 2.25 3.85\n",
            " 7. 3 years   0.16 2.13 3.87\n",
            " 8. 1 month   0.15 2.41 3.87\n",
            " 9. 3 months   0.16 2.64 3.86\n",
            "10. 1 year   0.15 2.85 3.86\n",
            "11. 2 years   0.16 2.73 3.87\n",
            "12. 2 months   0.13 2.92 3.89\n",
            "13. 4 years   0.11 3.09 3.90\n",
            "14. 8 years   0.11 3.24 3.89\n",
            "15. 2 years   0.14 3.37 3.84\n",
            "16. 1 year   0.13 3.38 3.85\n",
            "17. 3 weeks   0.14 3.29 3.87\n",
            "18. 2 months   0.13 3.41 3.85\n",
            "19. 2 months   0.12 3.43 3.87\n",
            "20. 8 months   0.12 3.40 3.88\n",
            "21. 5 months   0.14 3.52 3.83\n",
            "22. 2 years   0.16 3.53 3.81\n",
            "23. 2 months   0.15 3.52 3.82\n",
            "24. 1 year   0.16 3.49 3.83\n",
            "25. 1 year   0.16 3.43 3.85\n",
            "26. 4 months   0.17 3.38 3.86\n",
            "27. 2 months   0.17 3.41 3.86\n",
            "28. 4 months   0.17 3.38 3.87\n",
            "29. 2 months   0.19 3.38 3.86\n",
            "30. 2 weeks   0.19 3.35 3.87\n",
            "31. 2 months   0.20 3.38 3.84\n",
            "32. 3 months   0.21 3.35 3.85\n",
            "33. 3 months   0.20 3.38 3.86\n",
            "34. 12 years   0.21 3.39 3.85\n",
            "35. 3 weeks   0.22 3.48 3.80\n",
            "36. 2 years   0.22 3.52 3.77\n",
            "37. 4 years   0.22 3.51 3.79\n",
            "38. 3 years   0.22 3.54 3.77\n",
            "39. 1 year   0.21 3.57 3.78\n",
            "40. 1 year   0.21 3.54 3.80\n",
            "41. 4 years   0.21 3.51 3.82\n",
            "42. 3 months   0.24 3.52 3.76\n",
            "43. 2 years   0.25 3.53 3.75\n",
            "44. 7 years   0.24 3.52 3.77\n",
            "45. 3 years   0.24 3.60 3.71\n",
            "46. 1 month   0.23 3.61 3.72\n",
            "47. 2 years   0.24 3.64 3.70\n",
            "48. 1 year   0.23 3.63 3.72\n",
            "49. 1 year   0.23 3.60 3.74\n",
            "50. 2 years   0.24 3.57 3.76\n",
            "51. 2 months   0.24 3.56 3.78\n",
            "52. 5 years   0.24 3.55 3.80\n",
            "53. 6 years   0.24 3.62 3.73\n",
            "54. 3 years   0.21 3.68 3.70\n",
            "55. 3 years   0.20 3.69 3.72\n",
            "56. 5 days   0.20 3.69 3.72\n",
            "57. 2 years   0.20 3.75 3.65\n",
            "58. 1 year   0.20 3.73 3.67\n",
            "59. 10 months   0.20 3.71 3.70\n",
            "60. 4 weeks   0.19 3.77 3.62\n",
            "61. 3 months   0.16 3.83 3.61\n",
            "62. 10 years   0.16 3.83 3.60\n",
            "63. 4 months   0.13 3.89 3.57\n",
            "64. 1 year   0.14 3.89 3.54\n",
            "65. 5 months   0.14 3.87 3.57\n",
            "66. 2 years   0.16 3.88 3.48\n",
            "67. 1 year   0.16 3.87 3.51\n",
            "68. 2 months   0.16 3.84 3.53\n",
            "69. 4 weeks   0.16 3.83 3.56\n",
            "70. 1 year   0.14 3.86 3.53\n",
            "71. 2 months   0.15 3.83 3.55\n",
            "72. 3 years   0.15 3.82 3.58\n",
            "73. 4 weeks   0.14 3.82 3.60\n",
            "74. 6 years   0.16 3.83 3.50\n",
            "75. 2 years   0.16 3.86 3.40\n",
            "76. 2 days   0.15 3.85 3.44\n",
            "77. 2 years   0.14 3.90 3.33\n",
            "78. 2 weeks   0.14 3.88 3.36\n",
            "79. 2 months   0.14 3.90 3.24\n",
            "80. 3 weeks   0.14 3.89 3.27\n",
            "81. 2 months   0.15 3.90 3.14\n",
            "82. 3 years   0.15 3.89 3.16\n",
            "83. 3 months   0.14 3.88 3.18\n",
            "84. 1 month   0.14 3.89 3.16\n",
            "85. 3 years   0.14 3.90 3.01\n",
            "86. 2 years   0.14 3.89 2.99\n",
            "87. 2 months   0.13 3.88 3.03\n",
            "88. 4 months   0.13 3.87 3.02\n",
            "89. 10 years   0.14 3.88 2.85\n",
            "90. 6 months   0.13 3.90 2.65\n",
            "91. 3 months   0.10 3.94 2.42\n",
            "92. 1 year   0.11 3.94 2.16\n",
            "93. 1 year   0.10 3.93 2.24\n",
            "94. 3 years   0.09 3.91 2.25\n",
            "95. 14 years   0.10 3.91 1.92\n",
            "96. 2 years   0.05 3.95 1.50\n",
            "97. 1 year   0.03 3.94 1.58\n",
            "98. 2 years   0.04 3.93 1.00\n",
            "99. 2 months   0.03 3.91 0.00\n"
          ],
          "name": "stdout"
        }
      ]
    },
    {
      "cell_type": "code",
      "metadata": {
        "id": "vme7fP_i72gb",
        "colab_type": "code",
        "colab": {
          "base_uri": "https://localhost:8080/",
          "height": 1000
        },
        "outputId": "130a9cd9-a469-4450-b214-b7cc373c9be8"
      },
      "source": [
        "test_H(HEntropy, data['animal_type'])"
      ],
      "execution_count": 37,
      "outputs": [
        {
          "output_type": "stream",
          "text": [
            "#     l     IG   Hl   Hr  \n",
            "------------------------\n",
            " 1. Dog   0.01 0.00 1.32\n",
            " 2. Dog   0.00 1.00 1.32\n",
            " 3. Dog   0.00 0.92 1.33\n",
            " 4. Other   0.01 0.81 1.33\n",
            " 5. Dog   0.01 1.37 1.31\n",
            " 6. Other   0.01 1.25 1.31\n",
            " 7. Dog   0.02 1.38 1.29\n",
            " 8. Cat   0.03 1.30 1.29\n",
            " 9. Cat   0.01 1.44 1.29\n",
            "10. Cat   0.01 1.49 1.29\n",
            "11. Dog   0.01 1.49 1.29\n",
            "12. Dog   0.01 1.46 1.29\n",
            "13. Dog   0.01 1.42 1.30\n",
            "14. Dog   0.01 1.38 1.30\n",
            "15. Dog   0.01 1.34 1.31\n",
            "16. Dog   0.01 1.30 1.31\n",
            "17. Cat   0.01 1.26 1.32\n",
            "18. Dog   0.00 1.30 1.32\n",
            "19. Cat   0.01 1.27 1.32\n",
            "20. Cat   0.00 1.30 1.32\n",
            "21. Cat   0.00 1.31 1.32\n",
            "22. Dog   0.00 1.32 1.32\n",
            "23. Cat   0.00 1.30 1.32\n",
            "24. Cat   0.00 1.31 1.32\n",
            "25. Dog   0.00 1.31 1.32\n",
            "26. Dog   0.00 1.30 1.32\n",
            "27. Dog   0.00 1.28 1.33\n",
            "28. Dog   0.00 1.26 1.34\n",
            "29. Cat   0.00 1.25 1.34\n",
            "30. Cat   0.00 1.26 1.34\n",
            "31. Cat   0.00 1.26 1.34\n",
            "32. Dog   0.01 1.26 1.34\n",
            "33. Cat   0.00 1.25 1.34\n",
            "34. Dog   0.01 1.25 1.34\n",
            "35. Cat   0.01 1.24 1.35\n",
            "36. Dog   0.01 1.24 1.34\n",
            "37. Dog   0.01 1.24 1.35\n",
            "38. Cat   0.01 1.23 1.36\n",
            "39. Dog   0.01 1.23 1.36\n",
            "40. Other   0.01 1.22 1.36\n",
            "41. Cat   0.00 1.29 1.33\n",
            "42. Dog   0.01 1.29 1.33\n",
            "43. Cat   0.00 1.28 1.34\n",
            "44. Cat   0.01 1.28 1.33\n",
            "45. Dog   0.01 1.28 1.33\n",
            "46. Cat   0.01 1.27 1.34\n",
            "47. Dog   0.01 1.27 1.33\n",
            "48. Dog   0.01 1.27 1.34\n",
            "49. Cat   0.01 1.26 1.35\n",
            "50. Cat   0.02 1.26 1.34\n",
            "51. Cat   0.02 1.26 1.34\n",
            "52. Dog   0.03 1.26 1.32\n",
            "53. Dog   0.03 1.25 1.34\n",
            "54. Dog   0.02 1.25 1.35\n",
            "55. Dog   0.02 1.24 1.36\n",
            "56. Dog   0.02 1.24 1.38\n",
            "57. Dog   0.02 1.23 1.39\n",
            "58. Dog   0.02 1.22 1.40\n",
            "59. Dog   0.02 1.22 1.41\n",
            "60. Cat   0.02 1.21 1.43\n",
            "61. Cat   0.02 1.21 1.42\n",
            "62. Dog   0.03 1.22 1.41\n",
            "63. Dog   0.03 1.21 1.43\n",
            "64. Dog   0.03 1.20 1.44\n",
            "65. Dog   0.03 1.20 1.45\n",
            "66. Dog   0.03 1.19 1.47\n",
            "67. Other   0.03 1.19 1.48\n",
            "68. Dog   0.02 1.23 1.45\n",
            "69. Other   0.02 1.22 1.46\n",
            "70. Cat   0.01 1.26 1.42\n",
            "71. Cat   0.01 1.27 1.42\n",
            "72. Dog   0.01 1.27 1.41\n",
            "73. Dog   0.01 1.26 1.43\n",
            "74. Cat   0.01 1.26 1.45\n",
            "75. Dog   0.01 1.26 1.44\n",
            "76. Dog   0.01 1.25 1.46\n",
            "77. Cat   0.02 1.25 1.48\n",
            "78. Cat   0.02 1.25 1.47\n",
            "79. Dog   0.02 1.25 1.46\n",
            "80. Cat   0.02 1.25 1.49\n",
            "81. Cat   0.03 1.25 1.47\n",
            "82. Other   0.03 1.25 1.44\n",
            "83. Cat   0.02 1.28 1.38\n",
            "84. Dog   0.03 1.28 1.33\n",
            "85. Dog   0.02 1.28 1.37\n",
            "86. Cat   0.02 1.27 1.41\n",
            "87. Dog   0.03 1.28 1.33\n",
            "88. Cat   0.03 1.27 1.38\n",
            "89. Dog   0.05 1.27 1.24\n",
            "90. Dog   0.05 1.27 1.30\n",
            "91. Dog   0.05 1.26 1.35\n",
            "92. Other   0.05 1.26 1.41\n",
            "93. Other   0.02 1.29 1.38\n",
            "94. Dog   0.01 1.31 1.25\n",
            "95. Dog   0.01 1.31 1.37\n",
            "96. Other   0.01 1.30 1.50\n",
            "97. Dog   0.00 1.33 0.92\n",
            "98. Dog   0.00 1.32 1.00\n",
            "99. Cat   0.01 1.32 0.00\n"
          ],
          "name": "stdout"
        }
      ]
    },
    {
      "cell_type": "code",
      "metadata": {
        "id": "xos2-AYL72dX",
        "colab_type": "code",
        "colab": {
          "base_uri": "https://localhost:8080/",
          "height": 1000
        },
        "outputId": "aaa910b3-6da3-4c9d-da6d-804c9b3a6139"
      },
      "source": [
        "test_H(HEntropy, data['breed'])"
      ],
      "execution_count": 21,
      "outputs": [
        {
          "output_type": "stream",
          "text": [
            "#     l     IG   Hl   Hr  \n",
            "------------------------\n",
            " 1. Beagle Mix   0.02 0.00 4.51\n",
            " 2. Pit Bull   0.06 1.00 4.49\n",
            " 3. Miniature Schnauzer Mix   0.11 1.58 4.46\n",
            " 4. Bat Mix   0.14 2.00 4.44\n",
            " 5. Leonberger Mix   0.16 2.32 4.43\n",
            " 6. Squirrel Mix   0.21 2.58 4.39\n",
            " 7. Chihuahua Shorthair Mix   0.24 2.81 4.35\n",
            " 8. Domestic Shorthair Mix   0.24 3.00 4.36\n",
            " 9. Domestic Shorthair Mix   0.23 2.95 4.38\n",
            "10. Domestic Medium Hair Mix   0.23 2.85 4.41\n",
            "11. Papillon/Border Collie   0.22 3.03 4.41\n",
            "12. Chihuahua Shorthair/Pomeranian   0.25 3.19 4.37\n",
            "13. Miniature Schnauzer/Miniature Poodle   0.28 3.33 4.33\n",
            "14. Labrador Retriever Mix   0.31 3.47 4.29\n",
            "15. Rat Terrier Mix   0.30 3.59 4.30\n",
            "16. Pit Bull Mix   0.30 3.70 4.28\n",
            "17. Domestic Shorthair Mix   0.28 3.81 4.28\n",
            "18. German Shepherd/Labrador Retriever   0.28 3.73 4.31\n",
            "19. Domestic Shorthair Mix   0.30 3.83 4.27\n",
            "20. Domestic Shorthair Mix   0.30 3.74 4.30\n",
            "21. Domestic Shorthair Mix   0.30 3.65 4.33\n",
            "22. Beagle Mix   0.30 3.57 4.36\n",
            "23. Domestic Shorthair Mix   0.34 3.58 4.32\n",
            "24. Domestic Medium Hair Mix   0.34 3.50 4.35\n",
            "25. Mastiff Mix   0.34 3.52 4.35\n",
            "26. Plott Hound Mix   0.36 3.62 4.30\n",
            "27. Labrador Retriever Mix   0.37 3.72 4.26\n",
            "28. Chihuahua Shorthair Mix   0.37 3.74 4.26\n",
            "29. Siamese   0.36 3.75 4.27\n",
            "30. Domestic Shorthair Mix   0.37 3.84 4.23\n",
            "31. Domestic Shorthair Mix   0.38 3.78 4.26\n",
            "32. Labrador Retriever Mix   0.38 3.71 4.29\n",
            "33. Domestic Shorthair Mix   0.38 3.71 4.29\n",
            "34. Labrador Retriever Mix   0.39 3.65 4.33\n",
            "35. Domestic Shorthair Mix   0.40 3.64 4.32\n",
            "36. Chihuahua Shorthair Mix   0.41 3.59 4.36\n",
            "37. Chihuahua Shorthair Mix   0.40 3.59 4.37\n",
            "38. Domestic Medium Hair Mix   0.41 3.59 4.38\n",
            "39. Miniature Pinscher Mix   0.41 3.60 4.38\n",
            "40. Bat   0.42 3.68 4.33\n",
            "41. Russian Blue Mix   0.40 3.75 4.32\n",
            "42. Cardigan Welsh Corgi/English Setter   0.38 3.83 4.30\n",
            "43. Domestic Shorthair Mix   0.39 3.90 4.25\n",
            "44. Russian Blue Mix   0.39 3.85 4.29\n",
            "45. Border Collie Mix   0.41 3.87 4.24\n",
            "46. Domestic Shorthair Mix   0.39 3.94 4.22\n",
            "47. Pit Bull Mix   0.40 3.89 4.26\n",
            "48. Boxer Mix   0.38 3.92 4.28\n",
            "49. Domestic Medium Hair Mix   0.38 3.98 4.23\n",
            "50. Domestic Shorthair Mix   0.39 3.98 4.21\n",
            "51. Domestic Shorthair Mix   0.39 3.94 4.25\n",
            "52. Parson Russell Terrier Mix   0.40 3.89 4.30\n",
            "53. Pit Bull Mix   0.39 3.95 4.24\n",
            "54. Miniature Poodle Mix   0.38 3.96 4.26\n",
            "55. Pit Bull Mix   0.38 4.02 4.20\n",
            "56. Pit Bull Mix   0.38 4.02 4.21\n",
            "57. Miniature Schnauzer Mix   0.38 4.02 4.22\n",
            "58. Chihuahua Shorthair Mix   0.40 4.04 4.15\n",
            "59. Australian Shepherd/Australian Cattle Dog   0.40 4.03 4.17\n",
            "60. Domestic Shorthair Mix   0.39 4.09 4.10\n",
            "61. Domestic Shorthair Mix   0.39 4.05 4.16\n",
            "62. Labrador Retriever Mix   0.39 4.01 4.21\n",
            "63. Basenji/Chihuahua Longhair   0.40 4.01 4.20\n",
            "64. Chihuahua Shorthair Mix   0.40 4.06 4.13\n",
            "65. Pit Bull Mix   0.40 4.06 4.14\n",
            "66. Labrador Retriever   0.41 4.05 4.13\n",
            "67. Bat Mix   0.40 4.10 4.06\n",
            "68. Siberian Husky/German Shepherd   0.41 4.12 3.98\n",
            "69. Bat   0.40 4.17 3.90\n",
            "70. Domestic Shorthair Mix   0.38 4.19 3.89\n",
            "71. Domestic Medium Hair Mix   0.38 4.16 3.96\n",
            "72. Chihuahua Shorthair Mix   0.41 4.16 3.88\n",
            "73. German Shepherd/Boxer   0.41 4.15 3.87\n",
            "74. Domestic Shorthair Mix   0.40 4.19 3.78\n",
            "75. Labrador Retriever/German Shepherd   0.40 4.16 3.86\n",
            "76. Labrador Retriever Mix   0.38 4.21 3.77\n",
            "77. Domestic Shorthair Mix   0.40 4.21 3.67\n",
            "78. Domestic Shorthair Mix   0.40 4.18 3.75\n",
            "79. Pit Bull Mix   0.40 4.15 3.84\n",
            "80. Domestic Shorthair Mix   0.42 4.14 3.74\n",
            "81. Domestic Shorthair Mix   0.43 4.11 3.83\n",
            "82. Raccoon Mix   0.43 4.08 3.91\n",
            "83. Domestic Shorthair Mix   0.41 4.13 3.81\n",
            "84. Chihuahua Shorthair Mix   0.42 4.10 3.88\n",
            "85. German Shepherd/Chow Chow   0.44 4.09 3.77\n",
            "86. Domestic Shorthair Mix   0.41 4.14 3.66\n",
            "87. Pit Bull/Labrador Retriever   0.43 4.11 3.70\n",
            "88. Domestic Shorthair Mix   0.40 4.15 3.58\n",
            "89. Yorkshire Terrier Mix   0.43 4.13 3.46\n",
            "90. Rat Terrier Mix   0.40 4.17 3.32\n",
            "91. Beagle/Chihuahua Longhair   0.39 4.19 3.17\n",
            "92. Armadillo Mix   0.35 4.23 3.00\n",
            "93. Bat   0.32 4.27 2.81\n",
            "94. Parson Russell Terrier/Chihuahua Shorthair   0.31 4.28 2.58\n",
            "95. Border Collie Mix   0.27 4.32 2.32\n",
            "96. Rat   0.24 4.34 2.00\n",
            "97. German Shepherd Mix   0.19 4.37 1.58\n",
            "98. Staffordshire   0.14 4.41 1.00\n",
            "99. Domestic Longhair Mix   0.08 4.45 0.00\n"
          ],
          "name": "stdout"
        }
      ]
    },
    {
      "cell_type": "code",
      "metadata": {
        "id": "D91w3Cvf72an",
        "colab_type": "code",
        "colab": {
          "base_uri": "https://localhost:8080/",
          "height": 1000
        },
        "outputId": "60d93578-ce01-4869-de5b-83b941d933f0"
      },
      "source": [
        "test_H(HEntropy, data['color'])"
      ],
      "execution_count": 22,
      "outputs": [
        {
          "output_type": "stream",
          "text": [
            "#     l     IG   Hl   Hr  \n",
            "------------------------\n",
            " 1. White/Brown   0.05 0.00 4.96\n",
            " 2. Blue/White   0.08 1.00 4.96\n",
            " 3. White   0.11 1.58 4.95\n",
            " 4. Brown   0.12 2.00 4.95\n",
            " 5. Brown/White   0.13 2.32 4.96\n",
            " 6. Tan   0.15 2.58 4.95\n",
            " 7. Brown   0.16 2.81 4.95\n",
            " 8. Blue Tabby/White   0.18 2.75 4.96\n",
            " 9. White/Black   0.19 2.95 4.95\n",
            "10. Black/White   0.20 3.12 4.94\n",
            "11. Black/White   0.18 3.28 4.97\n",
            "12. Black   0.18 3.25 4.99\n",
            "13. White   0.16 3.39 5.00\n",
            "14. Black   0.18 3.38 5.00\n",
            "15. White/Black   0.19 3.37 5.02\n",
            "16. Brown Brindle/White   0.21 3.38 5.01\n",
            "17. Black/White   0.23 3.50 4.97\n",
            "18. Black/White   0.24 3.46 5.00\n",
            "19. Brown Tabby   0.25 3.41 5.02\n",
            "20. Brown Tabby/White   0.22 3.52 5.04\n",
            "21. Black Tabby   0.22 3.63 5.03\n",
            "22. Tan/White   0.24 3.73 4.99\n",
            "23. Orange Tabby   0.23 3.83 4.99\n",
            "24. Black/White   0.24 3.83 4.99\n",
            "25. Brown Brindle   0.25 3.78 5.02\n",
            "26. Brown Brindle/Black   0.27 3.87 4.98\n",
            "27. Yellow   0.28 3.95 4.94\n",
            "28. Blue/Tan   0.28 4.04 4.93\n",
            "29. Seal Point   0.29 4.11 4.90\n",
            "30. Black   0.30 4.19 4.86\n",
            "31. Torbie   0.30 4.17 4.87\n",
            "32. Tan/White   0.29 4.24 4.86\n",
            "33. Black   0.30 4.25 4.86\n",
            "34. Black/White   0.31 4.22 4.87\n",
            "35. Black   0.32 4.17 4.89\n",
            "36. Buff   0.33 4.14 4.90\n",
            "37. Red/White   0.32 4.21 4.90\n",
            "38. Orange Tabby   0.30 4.27 4.89\n",
            "39. Black/White   0.32 4.26 4.88\n",
            "40. Black/Brown   0.33 4.22 4.90\n",
            "41. Blue   0.31 4.28 4.90\n",
            "42. White/Black   0.30 4.34 4.89\n",
            "43. Cream Tabby/White   0.33 4.34 4.85\n",
            "44. Blue   0.33 4.40 4.80\n",
            "45. Black/White   0.36 4.41 4.76\n",
            "46. Calico   0.37 4.37 4.78\n",
            "47. Brown Merle/White   0.35 4.42 4.77\n",
            "48. Brown   0.35 4.48 4.73\n",
            "49. Brown Tabby   0.34 4.47 4.75\n",
            "50. Calico   0.32 4.49 4.78\n",
            "51. Chocolate   0.34 4.50 4.73\n",
            "52. White/Brown Brindle   0.34 4.55 4.69\n",
            "53. Black/White   0.34 4.60 4.64\n",
            "54. White   0.35 4.56 4.66\n",
            "55. White/Brown   0.36 4.56 4.65\n",
            "56. Fawn   0.35 4.57 4.66\n",
            "57. Black   0.34 4.62 4.61\n",
            "58. Brown/White   0.35 4.60 4.62\n",
            "59. Blue Merle/White   0.36 4.61 4.57\n",
            "60. Brown Tabby   0.36 4.66 4.51\n",
            "61. Brown Tabby/White   0.34 4.66 4.55\n",
            "62. Yellow   0.36 4.67 4.49\n",
            "63. Red/White   0.37 4.68 4.43\n",
            "64. Buff   0.38 4.69 4.37\n",
            "65. Blue/White   0.39 4.70 4.31\n",
            "66. Tan   0.40 4.71 4.24\n",
            "67. Brown   0.39 4.73 4.23\n",
            "68. White   0.38 4.72 4.27\n",
            "69. Brown/Black   0.41 4.71 4.20\n",
            "70. Torbie   0.39 4.75 4.12\n",
            "71. Brown Tabby   0.40 4.77 4.05\n",
            "72. Brown   0.39 4.76 4.08\n",
            "73. Sable   0.38 4.75 4.11\n",
            "74. Blue Tabby/White   0.37 4.79 4.03\n",
            "75. Black/Brown   0.37 4.80 3.94\n",
            "76. Cream   0.38 4.81 3.86\n",
            "77. Black/White   0.36 4.85 3.76\n",
            "78. Black/White   0.36 4.83 3.79\n",
            "79. White/Tan   0.37 4.80 3.78\n",
            "80. Orange Tabby   0.35 4.84 3.68\n",
            "81. Brown Tabby   0.36 4.83 3.58\n",
            "82. Black/Gray   0.35 4.83 3.61\n",
            "83. Brown Tabby   0.33 4.86 3.50\n",
            "84. Black/Tan   0.32 4.85 3.50\n",
            "85. Tan   0.28 4.89 3.51\n",
            "86. Blue Tabby   0.28 4.89 3.38\n",
            "87. Black   0.25 4.92 3.24\n",
            "88. Black   0.25 4.91 3.25\n",
            "89. Black/Tan   0.26 4.90 3.10\n",
            "90. White/Brown   0.25 4.91 2.92\n",
            "91. Brown   0.22 4.91 2.95\n",
            "92. Gray   0.21 4.90 3.00\n",
            "93. Brown   0.17 4.93 2.81\n",
            "94. White/Brown   0.18 4.92 2.58\n",
            "95. White/Tricolor   0.17 4.92 2.32\n",
            "96. Black/White   0.12 4.95 2.00\n",
            "97. Tan/White   0.13 4.93 1.58\n",
            "98. Fawn/White   0.10 4.94 1.00\n",
            "99. Brown Tabby   0.04 4.97 0.00\n"
          ],
          "name": "stdout"
        }
      ]
    },
    {
      "cell_type": "code",
      "metadata": {
        "id": "aD1kcBwsNMC3",
        "colab_type": "code",
        "colab": {
          "base_uri": "https://localhost:8080/",
          "height": 1000
        },
        "outputId": "43a66182-ca36-49bb-d06d-de7d63752ef7"
      },
      "source": [
        "test_H(HEntropy, data['outcome_type'])"
      ],
      "execution_count": 31,
      "outputs": [
        {
          "output_type": "stream",
          "text": [
            "#     l     IG   Hl   Hr  \n",
            "------------------------\n",
            " 1. Transfer   0.01 0.00 1.85\n",
            " 2. Adoption   0.03 0.00 1.85\n",
            " 3. Transfer   0.02 0.92 1.85\n",
            " 4. Euthanasia   0.02 0.81 1.86\n",
            " 5. Transfer   0.02 1.37 1.85\n",
            " 6. Euthanasia   0.03 1.25 1.85\n",
            " 7. Transfer   0.04 1.38 1.84\n",
            " 8. Adoption   0.04 1.30 1.84\n",
            " 9. Adoption   0.03 1.44 1.85\n",
            "10. Return to Owner   0.02 1.49 1.85\n",
            "11. Transfer   0.01 1.79 1.84\n",
            "12. Adoption   0.01 1.73 1.84\n",
            "13. Return to Owner   0.01 1.74 1.85\n",
            "14. Return to Owner   0.01 1.84 1.83\n",
            "15. Transfer   0.02 1.89 1.81\n",
            "16. Transfer   0.02 1.85 1.82\n",
            "17. Transfer   0.02 1.81 1.82\n",
            "18. Adoption   0.03 1.77 1.82\n",
            "19. Adoption   0.02 1.78 1.83\n",
            "20. Transfer   0.02 1.78 1.84\n",
            "21. Adoption   0.02 1.75 1.84\n",
            "22. Adoption   0.02 1.75 1.85\n",
            "23. Adoption   0.01 1.74 1.86\n",
            "24. Transfer   0.01 1.73 1.86\n",
            "25. Adoption   0.01 1.71 1.87\n",
            "26. Transfer   0.01 1.70 1.87\n",
            "27. Adoption   0.02 1.68 1.88\n",
            "28. Transfer   0.02 1.67 1.89\n",
            "29. Transfer   0.02 1.65 1.89\n",
            "30. Transfer   0.02 1.64 1.90\n",
            "31. Adoption   0.03 1.62 1.90\n",
            "32. Adoption   0.03 1.61 1.91\n",
            "33. Adoption   0.03 1.61 1.92\n",
            "34. Adoption   0.03 1.60 1.92\n",
            "35. Transfer   0.03 1.59 1.93\n",
            "36. Adoption   0.03 1.58 1.94\n",
            "37. Adoption   0.04 1.57 1.95\n",
            "38. Died   0.04 1.56 1.95\n",
            "39. Transfer   0.05 1.69 1.86\n",
            "40. Euthanasia   0.05 1.68 1.87\n",
            "41. Adoption   0.03 1.74 1.86\n",
            "42. Adoption   0.04 1.72 1.87\n",
            "43. Transfer   0.04 1.71 1.87\n",
            "44. Adoption   0.04 1.70 1.88\n",
            "45. Adoption   0.04 1.69 1.89\n",
            "46. Transfer   0.05 1.68 1.89\n",
            "47. Transfer   0.05 1.67 1.90\n",
            "48. Return to Owner   0.05 1.66 1.90\n",
            "49. Transfer   0.04 1.71 1.88\n",
            "50. Transfer   0.05 1.70 1.89\n",
            "51. Transfer   0.05 1.69 1.89\n",
            "52. Adoption   0.06 1.68 1.90\n",
            "53. Euthanasia   0.06 1.67 1.91\n",
            "54. Adoption   0.04 1.72 1.90\n",
            "55. Return to Owner   0.04 1.71 1.91\n",
            "56. Transfer   0.04 1.74 1.88\n",
            "57. Return to Owner   0.04 1.73 1.89\n",
            "58. Adoption   0.04 1.76 1.85\n",
            "59. Adoption   0.04 1.75 1.86\n",
            "60. Transfer   0.04 1.75 1.87\n",
            "61. Transfer   0.05 1.74 1.88\n",
            "62. Return to Owner   0.05 1.73 1.88\n",
            "63. Transfer   0.05 1.76 1.84\n",
            "64. Adoption   0.06 1.75 1.84\n",
            "65. Transfer   0.06 1.74 1.85\n",
            "66. Return to Owner   0.07 1.73 1.85\n",
            "67. Euthanasia   0.07 1.76 1.80\n",
            "68. Transfer   0.05 1.79 1.79\n",
            "69. Euthanasia   0.06 1.78 1.79\n",
            "70. Adoption   0.04 1.81 1.78\n",
            "71. Euthanasia   0.04 1.80 1.80\n",
            "72. Adoption   0.03 1.82 1.79\n",
            "73. Transfer   0.03 1.82 1.81\n",
            "74. Return to Owner   0.03 1.81 1.81\n",
            "75. Adoption   0.04 1.83 1.72\n",
            "76. Transfer   0.04 1.82 1.74\n",
            "77. Transfer   0.04 1.82 1.73\n",
            "78. Euthanasia   0.05 1.81 1.72\n",
            "79. Adoption   0.04 1.83 1.70\n",
            "80. Transfer   0.03 1.83 1.73\n",
            "81. Adoption   0.04 1.82 1.71\n",
            "82. Euthanasia   0.04 1.81 1.75\n",
            "83. Adoption   0.03 1.83 1.73\n",
            "84. Adoption   0.02 1.83 1.77\n",
            "85. Adoption   0.02 1.82 1.81\n",
            "86. Transfer   0.02 1.82 1.84\n",
            "87. Adoption   0.03 1.81 1.83\n",
            "88. Adoption   0.03 1.81 1.86\n",
            "89. Transfer   0.03 1.80 1.87\n",
            "90. Adoption   0.04 1.80 1.85\n",
            "91. Adoption   0.05 1.79 1.84\n",
            "92. Euthanasia   0.06 1.78 1.75\n",
            "93. Euthanasia   0.04 1.80 1.84\n",
            "94. Return to Owner   0.02 1.81 1.92\n",
            "95. Euthanasia   0.03 1.83 1.52\n",
            "96. Transfer   0.01 1.84 1.50\n",
            "97. Transfer   0.01 1.84 1.58\n",
            "98. Euthanasia   0.02 1.84 1.00\n",
            "99. Adoption   0.01 1.85 0.00\n"
          ],
          "name": "stdout"
        }
      ]
    },
    {
      "cell_type": "code",
      "metadata": {
        "id": "DpB2-oN-72VE",
        "colab_type": "code",
        "colab": {
          "base_uri": "https://localhost:8080/",
          "height": 281
        },
        "outputId": "b4e65894-e397-4072-c3d9-69414d503a38"
      },
      "source": [
        "data.head()"
      ],
      "execution_count": 24,
      "outputs": [
        {
          "output_type": "execute_result",
          "data": {
            "text/html": [
              "<div>\n",
              "<style scoped>\n",
              "    .dataframe tbody tr th:only-of-type {\n",
              "        vertical-align: middle;\n",
              "    }\n",
              "\n",
              "    .dataframe tbody tr th {\n",
              "        vertical-align: top;\n",
              "    }\n",
              "\n",
              "    .dataframe thead th {\n",
              "        text-align: right;\n",
              "    }\n",
              "</style>\n",
              "<table border=\"1\" class=\"dataframe\">\n",
              "  <thead>\n",
              "    <tr style=\"text-align: right;\">\n",
              "      <th></th>\n",
              "      <th>age_upon_outcome</th>\n",
              "      <th>animal_id</th>\n",
              "      <th>animal_type</th>\n",
              "      <th>breed</th>\n",
              "      <th>color</th>\n",
              "      <th>date_of_birth</th>\n",
              "      <th>datetime</th>\n",
              "      <th>monthyear</th>\n",
              "      <th>name</th>\n",
              "      <th>outcome_subtype</th>\n",
              "      <th>outcome_type</th>\n",
              "      <th>sex_upon_outcome</th>\n",
              "    </tr>\n",
              "  </thead>\n",
              "  <tbody>\n",
              "    <tr>\n",
              "      <th>0</th>\n",
              "      <td>2 weeks</td>\n",
              "      <td>A684346</td>\n",
              "      <td>Cat</td>\n",
              "      <td>Domestic Shorthair Mix</td>\n",
              "      <td>Orange Tabby</td>\n",
              "      <td>2014-07-07T00:00:00</td>\n",
              "      <td>2014-07-22T16:04:00</td>\n",
              "      <td>2014-07-22T16:04:00</td>\n",
              "      <td>NaN</td>\n",
              "      <td>Partner</td>\n",
              "      <td>Transfer</td>\n",
              "      <td>Intact Male</td>\n",
              "    </tr>\n",
              "    <tr>\n",
              "      <th>1</th>\n",
              "      <td>1 year</td>\n",
              "      <td>A666430</td>\n",
              "      <td>Dog</td>\n",
              "      <td>Beagle Mix</td>\n",
              "      <td>White/Brown</td>\n",
              "      <td>2012-11-06T00:00:00</td>\n",
              "      <td>2013-11-07T11:47:00</td>\n",
              "      <td>2013-11-07T11:47:00</td>\n",
              "      <td>Lucy</td>\n",
              "      <td>Partner</td>\n",
              "      <td>Transfer</td>\n",
              "      <td>Spayed Female</td>\n",
              "    </tr>\n",
              "    <tr>\n",
              "      <th>2</th>\n",
              "      <td>1 year</td>\n",
              "      <td>A675708</td>\n",
              "      <td>Dog</td>\n",
              "      <td>Pit Bull</td>\n",
              "      <td>Blue/White</td>\n",
              "      <td>2013-03-31T00:00:00</td>\n",
              "      <td>2014-06-03T14:20:00</td>\n",
              "      <td>2014-06-03T14:20:00</td>\n",
              "      <td>*Johnny</td>\n",
              "      <td>NaN</td>\n",
              "      <td>Adoption</td>\n",
              "      <td>Neutered Male</td>\n",
              "    </tr>\n",
              "    <tr>\n",
              "      <th>3</th>\n",
              "      <td>9 years</td>\n",
              "      <td>A680386</td>\n",
              "      <td>Dog</td>\n",
              "      <td>Miniature Schnauzer Mix</td>\n",
              "      <td>White</td>\n",
              "      <td>2005-06-02T00:00:00</td>\n",
              "      <td>2014-06-15T15:50:00</td>\n",
              "      <td>2014-06-15T15:50:00</td>\n",
              "      <td>Monday</td>\n",
              "      <td>Partner</td>\n",
              "      <td>Transfer</td>\n",
              "      <td>Neutered Male</td>\n",
              "    </tr>\n",
              "    <tr>\n",
              "      <th>4</th>\n",
              "      <td>5 months</td>\n",
              "      <td>A683115</td>\n",
              "      <td>Other</td>\n",
              "      <td>Bat Mix</td>\n",
              "      <td>Brown</td>\n",
              "      <td>2014-01-07T00:00:00</td>\n",
              "      <td>2014-07-07T14:04:00</td>\n",
              "      <td>2014-07-07T14:04:00</td>\n",
              "      <td>NaN</td>\n",
              "      <td>Rabies Risk</td>\n",
              "      <td>Euthanasia</td>\n",
              "      <td>Unknown</td>\n",
              "    </tr>\n",
              "  </tbody>\n",
              "</table>\n",
              "</div>"
            ],
            "text/plain": [
              "  age_upon_outcome animal_id  ... outcome_type sex_upon_outcome\n",
              "0          2 weeks   A684346  ...     Transfer      Intact Male\n",
              "1           1 year   A666430  ...     Transfer    Spayed Female\n",
              "2           1 year   A675708  ...     Adoption    Neutered Male\n",
              "3          9 years   A680386  ...     Transfer    Neutered Male\n",
              "4         5 months   A683115  ...   Euthanasia          Unknown\n",
              "\n",
              "[5 rows x 12 columns]"
            ]
          },
          "metadata": {
            "tags": []
          },
          "execution_count": 24
        }
      ]
    },
    {
      "cell_type": "code",
      "metadata": {
        "id": "RmWJt435N0Lr",
        "colab_type": "code",
        "colab": {}
      },
      "source": [
        "new = data['outcome_type']"
      ],
      "execution_count": 0,
      "outputs": []
    },
    {
      "cell_type": "code",
      "metadata": {
        "id": "cd0uy1z7P1Ov",
        "colab_type": "code",
        "colab": {
          "base_uri": "https://localhost:8080/",
          "height": 52
        },
        "outputId": "5595677a-b503-4e9b-eceb-612914b9b9a6"
      },
      "source": [
        "new.unique()"
      ],
      "execution_count": 34,
      "outputs": [
        {
          "output_type": "execute_result",
          "data": {
            "text/plain": [
              "array(['Transfer', 'Adoption', 'Euthanasia', 'Return to Owner', 'Died'],\n",
              "      dtype=object)"
            ]
          },
          "metadata": {
            "tags": []
          },
          "execution_count": 34
        }
      ]
    },
    {
      "cell_type": "code",
      "metadata": {
        "id": "S56-oVFVN0H0",
        "colab_type": "code",
        "colab": {}
      },
      "source": [
        "new.replace(['Transfer', 'Adoption', 'Euthanasia', 'Return to Owner', 'Died'], [1, 2, 3, 4, 5], inplace=True)"
      ],
      "execution_count": 0,
      "outputs": []
    },
    {
      "cell_type": "code",
      "metadata": {
        "id": "PVTi4tPRT9Tk",
        "colab_type": "code",
        "colab": {
          "base_uri": "https://localhost:8080/",
          "height": 230
        },
        "outputId": "6241c367-544e-4961-a28e-0df5d2523537"
      },
      "source": [
        "new"
      ],
      "execution_count": 50,
      "outputs": [
        {
          "output_type": "execute_result",
          "data": {
            "text/plain": [
              "0     1\n",
              "1     1\n",
              "2     2\n",
              "3     1\n",
              "4     3\n",
              "     ..\n",
              "95    3\n",
              "96    1\n",
              "97    1\n",
              "98    3\n",
              "99    2\n",
              "Name: outcome_type, Length: 100, dtype: int64"
            ]
          },
          "metadata": {
            "tags": []
          },
          "execution_count": 50
        }
      ]
    },
    {
      "cell_type": "code",
      "metadata": {
        "id": "o6PuzX7jN0Do",
        "colab_type": "code",
        "colab": {
          "base_uri": "https://localhost:8080/",
          "height": 1000
        },
        "outputId": "6d6c94d2-a3d8-4b2d-ffc5-07f407c2d99d"
      },
      "source": [
        "test_H(HEntropy, new)"
      ],
      "execution_count": 51,
      "outputs": [
        {
          "output_type": "stream",
          "text": [
            "#     l     IG   Hl   Hr  \n",
            "------------------------\n",
            " 1.   1   0.01 0.00 1.85\n",
            " 2.   2   0.03 0.00 1.85\n",
            " 3.   1   0.02 0.92 1.85\n",
            " 4.   3   0.02 0.81 1.86\n",
            " 5.   1   0.02 1.37 1.85\n",
            " 6.   3   0.03 1.25 1.85\n",
            " 7.   1   0.04 1.38 1.84\n",
            " 8.   2   0.04 1.30 1.84\n",
            " 9.   2   0.03 1.44 1.85\n",
            "10.   4   0.02 1.49 1.85\n",
            "11.   1   0.01 1.79 1.84\n",
            "12.   2   0.01 1.73 1.84\n",
            "13.   4   0.01 1.74 1.85\n",
            "14.   4   0.01 1.84 1.83\n",
            "15.   1   0.02 1.89 1.81\n",
            "16.   1   0.02 1.85 1.82\n",
            "17.   1   0.02 1.81 1.82\n",
            "18.   2   0.03 1.77 1.82\n",
            "19.   2   0.02 1.78 1.83\n",
            "20.   1   0.02 1.78 1.84\n",
            "21.   2   0.02 1.75 1.84\n",
            "22.   2   0.02 1.75 1.85\n",
            "23.   2   0.01 1.74 1.86\n",
            "24.   1   0.01 1.73 1.86\n",
            "25.   2   0.01 1.71 1.87\n",
            "26.   1   0.01 1.70 1.87\n",
            "27.   2   0.02 1.68 1.88\n",
            "28.   1   0.02 1.67 1.89\n",
            "29.   1   0.02 1.65 1.89\n",
            "30.   1   0.02 1.64 1.90\n",
            "31.   2   0.03 1.62 1.90\n",
            "32.   2   0.03 1.61 1.91\n",
            "33.   2   0.03 1.61 1.92\n",
            "34.   2   0.03 1.60 1.92\n",
            "35.   1   0.03 1.59 1.93\n",
            "36.   2   0.03 1.58 1.94\n",
            "37.   2   0.04 1.57 1.95\n",
            "38.   5   0.04 1.56 1.95\n",
            "39.   1   0.05 1.69 1.86\n",
            "40.   3   0.05 1.68 1.87\n",
            "41.   2   0.03 1.74 1.86\n",
            "42.   2   0.04 1.72 1.87\n",
            "43.   1   0.04 1.71 1.87\n",
            "44.   2   0.04 1.70 1.88\n",
            "45.   2   0.04 1.69 1.89\n",
            "46.   1   0.05 1.68 1.89\n",
            "47.   1   0.05 1.67 1.90\n",
            "48.   4   0.05 1.66 1.90\n",
            "49.   1   0.04 1.71 1.88\n",
            "50.   1   0.05 1.70 1.89\n",
            "51.   1   0.05 1.69 1.89\n",
            "52.   2   0.06 1.68 1.90\n",
            "53.   3   0.06 1.67 1.91\n",
            "54.   2   0.04 1.72 1.90\n",
            "55.   4   0.04 1.71 1.91\n",
            "56.   1   0.04 1.74 1.88\n",
            "57.   4   0.04 1.73 1.89\n",
            "58.   2   0.04 1.76 1.85\n",
            "59.   2   0.04 1.75 1.86\n",
            "60.   1   0.04 1.75 1.87\n",
            "61.   1   0.05 1.74 1.88\n",
            "62.   4   0.05 1.73 1.88\n",
            "63.   1   0.05 1.76 1.84\n",
            "64.   2   0.06 1.75 1.84\n",
            "65.   1   0.06 1.74 1.85\n",
            "66.   4   0.07 1.73 1.85\n",
            "67.   3   0.07 1.76 1.80\n",
            "68.   1   0.05 1.79 1.79\n",
            "69.   3   0.06 1.78 1.79\n",
            "70.   2   0.04 1.81 1.78\n",
            "71.   3   0.04 1.80 1.80\n",
            "72.   2   0.03 1.82 1.79\n",
            "73.   1   0.03 1.82 1.81\n",
            "74.   4   0.03 1.81 1.81\n",
            "75.   2   0.04 1.83 1.72\n",
            "76.   1   0.04 1.82 1.74\n",
            "77.   1   0.04 1.82 1.73\n",
            "78.   3   0.05 1.81 1.72\n",
            "79.   2   0.04 1.83 1.70\n",
            "80.   1   0.03 1.83 1.73\n",
            "81.   2   0.04 1.82 1.71\n",
            "82.   3   0.04 1.81 1.75\n",
            "83.   2   0.03 1.83 1.73\n",
            "84.   2   0.02 1.83 1.77\n",
            "85.   2   0.02 1.82 1.81\n",
            "86.   1   0.02 1.82 1.84\n",
            "87.   2   0.03 1.81 1.83\n",
            "88.   2   0.03 1.81 1.86\n",
            "89.   1   0.03 1.80 1.87\n",
            "90.   2   0.04 1.80 1.85\n",
            "91.   2   0.05 1.79 1.84\n",
            "92.   3   0.06 1.78 1.75\n",
            "93.   3   0.04 1.80 1.84\n",
            "94.   4   0.02 1.81 1.92\n",
            "95.   3   0.03 1.83 1.52\n",
            "96.   1   0.01 1.84 1.50\n",
            "97.   1   0.01 1.84 1.58\n",
            "98.   3   0.02 1.84 1.00\n",
            "99.   2   0.01 1.85 0.00\n"
          ],
          "name": "stdout"
        }
      ]
    },
    {
      "cell_type": "code",
      "metadata": {
        "id": "EDeoBok9Nz_e",
        "colab_type": "code",
        "colab": {}
      },
      "source": [
        ""
      ],
      "execution_count": 0,
      "outputs": []
    },
    {
      "cell_type": "markdown",
      "metadata": {
        "id": "Xt8h63iHBC7U",
        "colab_type": "text"
      },
      "source": [
        ""
      ]
    }
  ]
}