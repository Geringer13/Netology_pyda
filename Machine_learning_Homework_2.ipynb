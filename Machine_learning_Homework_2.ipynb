{
  "nbformat": 4,
  "nbformat_minor": 0,
  "metadata": {
    "colab": {
      "name": "Machine_learning_Homework_2.ipynb",
      "provenance": [],
      "collapsed_sections": [],
      "authorship_tag": "ABX9TyPtcBU6WsERLR/iMSB1+3OW",
      "include_colab_link": true
    },
    "kernelspec": {
      "name": "python3",
      "display_name": "Python 3"
    }
  },
  "cells": [
    {
      "cell_type": "markdown",
      "metadata": {
        "id": "view-in-github",
        "colab_type": "text"
      },
      "source": [
        "<a href=\"https://colab.research.google.com/github/Geringer13/Netology_pyda/blob/master/Machine_learning_Homework_2.ipynb\" target=\"_parent\"><img src=\"https://colab.research.google.com/assets/colab-badge.svg\" alt=\"Open In Colab\"/></a>"
      ]
    },
    {
      "cell_type": "markdown",
      "metadata": {
        "id": "EOwEI1zTjiIy",
        "colab_type": "text"
      },
      "source": [
        "0. Обозначаем корень дерева\n",
        "1.Находим максимальный Gain (вспоминаем лекцию) для каждого признака.\n",
        "2.Из полученных Gain’ов признаков выбираем максимальный, и таким образом определяется узел дерева.\n",
        "3.Далее следуем по левому и правому разбиению, и выполняем пункты 1-3 до тех пор, пока Gain не станет равным 0. В этом случае, мы определяем лист дерева (то есть, возвращаемый ответ)"
      ]
    },
    {
      "cell_type": "code",
      "metadata": {
        "id": "dNyDPLB9jXFr",
        "colab_type": "code",
        "colab": {}
      },
      "source": [
        "import numpy as np\n",
        "from collections import Counter\n",
        "\n",
        "def HEntropy(l):\n",
        "    length = len(l)\n",
        "    cnt = Counter(l)\n",
        "    \n",
        "    ent = 0\n",
        "    for cl in cnt.values():\n",
        "        p = cl / length\n",
        "        l2 = np.log2(p)\n",
        "        it = -p * l2\n",
        "        ent += it\n",
        "    \n",
        "    return ent\n",
        "\n",
        "def IG(H, l, i):\n",
        "    left_l = l[:i]\n",
        "    right_l = l[i:]\n",
        "    return H(l) - (len(left_l) / len(l)) * H(left_l) - (len(right_l) / len(l)) * H(right_l)"
      ],
      "execution_count": 0,
      "outputs": []
    },
    {
      "cell_type": "code",
      "metadata": {
        "id": "2NyfqqeAjXC2",
        "colab_type": "code",
        "colab": {}
      },
      "source": [
        "\n",
        "import pandas as pd\n",
        "\n",
        "class Splitter:\n",
        "    '''\n",
        "    Объект, умеющий определять, попадет ли конкретное измерение (item) в левую часть разбиения\n",
        "    '''\n",
        "    def __init__(self, attr_name, threshold_value):\n",
        "        self.attr_name = attr_name\n",
        "        self.threshold_value = threshold_value\n",
        "        \n",
        "    def split(self, item):\n",
        "        return item[self.attr_name] < self.threshold_value\n",
        "    \n",
        "    def __str__(self):\n",
        "        return f'{self.attr_name} < {self.threshold_value}'\n",
        "        \n",
        "class Node:\n",
        "    def __init__(self, splitter, left_node, right_node):\n",
        "#         print(f'Node created with splitter = {str(splitter)}' )\n",
        "        self.splitter = splitter\n",
        "        self.left_node = left_node\n",
        "        self.right_node = right_node\n",
        "\n",
        "    def evaluate(self, item):\n",
        "        if self.splitter.split(item):\n",
        "            return self.left_node.evaluate(item)\n",
        "        else:\n",
        "            return self.right_node.evaluate(item)\n",
        "        \n",
        "class Leaf:\n",
        "    def __init__(self, clazz):\n",
        "#         print(f'Leaf created for class = {clazz}' )\n",
        "        self.clazz = clazz\n",
        "        \n",
        "    def evaluate(self, item):\n",
        "        return self.clazz"
      ],
      "execution_count": 0,
      "outputs": []
    },
    {
      "cell_type": "code",
      "metadata": {
        "id": "fwvBR1Cbelf1",
        "colab_type": "code",
        "colab": {}
      },
      "source": [
        "def get_best_splitter(training_df, attr_name):\n",
        "    \"\"\"\n",
        "    Parameters:\n",
        "        trainig_df (pandas.DataFrame): датафрейм c учебной выборкой, в которой класс объекта находится в атрибуте clazz \n",
        "        attr_name атрибут, по которому ищем разбиение\n",
        "    Returns:\n",
        "        IG: значение Information Gain при наилучшем разбиении по атрибуту,\n",
        "        Splitter: объект, умеющий определять, попадет ли конкретное измерение (item) в левую часть наилучшего разбиения\n",
        "    \"\"\"\n",
        "    sorted_df = training_df.sort_values(attr_name)\n",
        "    clazzes = sorted_df['clazz'].values\n",
        "    max_ig = 0\n",
        "    best_split_i = 0 \n",
        "    for i in range(len(sorted_df)):\n",
        "        ig = IG(HEntropy, clazzes, i)\n",
        "        if ig > max_ig:\n",
        "            max_ig = ig\n",
        "            best_split_i = i\n",
        "    \n",
        "#     print(f'best_split_i={best_split_i} out of {len(sorted_df)-1}')\n",
        "   \n",
        "            \n",
        "    best_split_value = sorted_df.iloc[best_split_i][attr_name]\n",
        "#     print(f'best_split_value={best_split_value}')\n",
        "    best_splitter = Splitter(attr_name, best_split_value)\n",
        "    return max_ig, best_splitter\n",
        "\n",
        "\n",
        "def build_tree(training_df, excluded_attrs=None):\n",
        "    \"\"\"\n",
        "    Parameters:\n",
        "        trainig_df (pandas.DataFrame): датафрейм c учебной выборкой, в которой класс объекта находится в атрибуте clazz \n",
        "    \n",
        "    Returns:\n",
        "        Node: корневой узел построенного дерева решений\n",
        "    \"\"\"\n",
        "#     print(f'building node, len(training_df) = {len(training_df)}')\n",
        "#     print(training_df['clazz'].unique())\n",
        "    need_for_split = len(training_df['clazz'].unique()) > 1\n",
        "    if not need_for_split:\n",
        "        clazz = training_df.iloc[0]['clazz']\n",
        "        return Leaf(clazz)\n",
        "    \n",
        "    if excluded_attrs == None:\n",
        "        excluded_attrs = set(['clazz'])\n",
        "\n",
        "    x_columns_names = [column for column in training_df.columns if column not in excluded_attrs]\n",
        "    \n",
        "    max_ig = 0\n",
        "    best_splitter = None\n",
        "    for attr_name in x_columns_names:\n",
        "        ig, splitter = get_best_splitter(training_df, attr_name)\n",
        "        if ig > max_ig:\n",
        "            max_ig = ig\n",
        "            best_splitter = splitter\n",
        "    \n",
        "#     print(f'max ig={max_ig}, splitter={str(best_splitter)}')\n",
        "    \n",
        "    left_df = training_df[training_df.apply(best_splitter.split, axis=1)]\n",
        "    right_df = training_df[~training_df.apply(best_splitter.split, axis=1)]\n",
        "#     print(f'len(left_df))={len(left_df)}')\n",
        "#     print(f'len(right_df))={len(right_df)}')\n",
        "    \n",
        "    if len(left_df) == 0 or len(right_df) == 0:\n",
        "#         print(\"bad split\")\n",
        "#         Такое бывает, когда из-за одинаковых значений атрибута у разных классов не получается отсечь один из них. \n",
        "#         Скорее всего лучше бы в этом случае просто создать Leaf с доминирующим классом, и это дало \n",
        "#         бы большую точность на тестовых данных, но по заданию нам надо разделить выборку до состояния, когда\n",
        "#         в каждом листе находится не больше одного класса.\n",
        "#         Поэтому просто построим текущий узел без учета атрибута, по котрому нельзя однозначно определить класс.\n",
        "#         Конечно, если вдруг не окажется ни одного атрибута, по которому можно однозначно понять класс объекта,\n",
        "#         то будет ошибка, но у нас тут учебное задание, не буду еще дальше усложнять код.\n",
        "        excluded_attrs.add(best_splitter.attr_name)\n",
        "        if(len(excluded_attrs) == len(training_df.columns)):\n",
        "            raise Exception('Алярма! Ни по одному атрибуту нельзя однозначно разделить объекты разных классов')\n",
        "        return build_tree(training_df, excluded_attrs)\n",
        "    \n",
        "    left_node = build_tree(left_df)\n",
        "    right_node = build_tree(right_df)\n",
        "    \n",
        "    return Node(best_splitter, left_node, right_node)"
      ],
      "execution_count": 0,
      "outputs": []
    },
    {
      "cell_type": "code",
      "metadata": {
        "id": "uRR9NBcTggSR",
        "colab_type": "code",
        "colab": {}
      },
      "source": [
        "from sklearn.datasets import load_iris\n",
        "iris = load_iris()\n",
        "\n",
        "training_df = pd.DataFrame(iris.data, columns=iris.feature_names)\n",
        "training_df['clazz'] = pd.DataFrame(iris.target)\n",
        "\n",
        "tree = build_tree(training_df)"
      ],
      "execution_count": 0,
      "outputs": []
    },
    {
      "cell_type": "code",
      "metadata": {
        "id": "tjKebUFCgktB",
        "colab_type": "code",
        "colab": {
          "base_uri": "https://localhost:8080/",
          "height": 544
        },
        "outputId": "7c3f0dc6-b36c-4b6d-83ff-a6a41ae03ad3"
      },
      "source": [
        "def print_tree(node, indentation=''):\n",
        "    print(indentation + \"if \" + str(node.splitter)+ ':')\n",
        "    \n",
        "    if isinstance(node.left_node, Node):\n",
        "        print_tree(node.left_node, indentation + \"\\t\")\n",
        "    else:\n",
        "        print(indentation + f\"\\tclass = {node.left_node.clazz}\")\n",
        "        \n",
        "    print(indentation + f\"else:\")\n",
        "    \n",
        "    if isinstance(node.right_node, Node):\n",
        "        print_tree(node.right_node, indentation + \"\\t\")\n",
        "    else:\n",
        "        print(indentation + f\"\\tclass = {node.right_node.clazz}\")\n",
        "\n",
        "print_tree(tree)"
      ],
      "execution_count": 18,
      "outputs": [
        {
          "output_type": "stream",
          "text": [
            "if petal length (cm) < 3.0:\n",
            "\tclass = 0.0\n",
            "else:\n",
            "\tif petal width (cm) < 1.8:\n",
            "\t\tif petal length (cm) < 5.0:\n",
            "\t\t\tif petal width (cm) < 1.7:\n",
            "\t\t\t\tclass = 1.0\n",
            "\t\t\telse:\n",
            "\t\t\t\tclass = 2.0\n",
            "\t\telse:\n",
            "\t\t\tif petal length (cm) < 5.1:\n",
            "\t\t\t\tif sepal length (cm) < 6.7:\n",
            "\t\t\t\t\tclass = 2.0\n",
            "\t\t\t\telse:\n",
            "\t\t\t\t\tclass = 1.0\n",
            "\t\t\telse:\n",
            "\t\t\t\tif sepal length (cm) < 6.1:\n",
            "\t\t\t\t\tclass = 1.0\n",
            "\t\t\t\telse:\n",
            "\t\t\t\t\tclass = 2.0\n",
            "\telse:\n",
            "\t\tif sepal length (cm) < 5.9:\n",
            "\t\t\tclass = 2.0\n",
            "\t\telse:\n",
            "\t\t\tif sepal width (cm) < 3.2:\n",
            "\t\t\t\tclass = 2.0\n",
            "\t\t\telse:\n",
            "\t\t\t\tif sepal length (cm) < 6.2:\n",
            "\t\t\t\t\tclass = 1.0\n",
            "\t\t\t\telse:\n",
            "\t\t\t\t\tclass = 2.0\n"
          ],
          "name": "stdout"
        }
      ]
    },
    {
      "cell_type": "code",
      "metadata": {
        "id": "owHaLmmVgkkH",
        "colab_type": "code",
        "colab": {
          "base_uri": "https://localhost:8080/",
          "height": 34
        },
        "outputId": "3a7f349f-5814-4058-c80a-97b1505da0b6"
      },
      "source": [
        "training_df['guess'] = training_df.apply(tree.evaluate, axis=1)\n",
        "right_guesses = training_df[training_df['guess'] == training_df['clazz']]\n",
        "accuracy = len(right_guesses)/len(training_df)\n",
        "print(f'accuracy = {accuracy}')"
      ],
      "execution_count": 19,
      "outputs": [
        {
          "output_type": "stream",
          "text": [
            "accuracy = 1.0\n"
          ],
          "name": "stdout"
        }
      ]
    }
  ]
}