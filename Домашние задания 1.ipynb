{
 "cells": [
  {
   "cell_type": "code",
   "execution_count": null,
   "metadata": {},
   "outputs": [],
   "source": [
    "ДОМАШКА 2"
   ]
  },
  {
   "cell_type": "code",
   "execution_count": 1,
   "metadata": {},
   "outputs": [
    {
     "name": "stdout",
     "output_type": "stream",
     "text": [
      "[['visit1', ['Москва', 'Россия']], ['visit3', ['Владимир', 'Россия']], ['visit7', ['Тула', 'Россия']], ['visit8', ['Тула', 'Россия']], ['visit9', ['Курск', 'Россия']], ['visit10', ['Архангельск', 'Россия']]]\n"
     ]
    }
   ],
   "source": [
    "# 1\n",
    "geo_logs = [\n",
    "['visit1', ['Москва', 'Россия']],\n",
    "['visit2', ['Дели', 'Индия']],\n",
    "['visit3', ['Владимир', 'Россия']],\n",
    "['visit4', ['Лиссабон', 'Португалия']],\n",
    "['visit5', ['Париж', 'Франция']],\n",
    "['visit6', ['Лиссабон', 'Португалия']],\n",
    "['visit7', ['Тула', 'Россия']],\n",
    "['visit8', ['Тула', 'Россия']],\n",
    "['visit9', ['Курск', 'Россия']],\n",
    "['visit10', ['Архангельск', 'Россия']],\n",
    "]\n",
    "\n",
    "nedcoun =[]\n",
    "\n",
    "for i in geo_logs:\n",
    "    for a in i[1]:\n",
    "        if a == 'Россия':\n",
    "            nedcoun.append(i)  \n",
    "        \n",
    "print(nedcoun)\n"
   ]
  },
  {
   "cell_type": "code",
   "execution_count": 16,
   "metadata": {},
   "outputs": [
    {
     "name": "stdout",
     "output_type": "stream",
     "text": [
      "[213, 15, 54, 119, 98, 35]\n"
     ]
    }
   ],
   "source": [
    "ids = [['user1', [213, 213, 213, 15, 213]], ['user2', [54, 54, 119, 119, 119]], ['user3', [213, 98, 98, 35]]]\n",
    "unique_ids =[]\n",
    "\n",
    "for i in ids:\n",
    "   \n",
    "    for a in i[1]:\n",
    "        if a not in unique_ids:\n",
    "            unique_ids.append(a)\n",
    "            \n",
    "print(unique_ids)  \n"
   ]
  },
  {
   "cell_type": "code",
   "execution_count": 4,
   "metadata": {
    "scrolled": true
   },
   "outputs": [
    {
     "name": "stdout",
     "output_type": "stream",
     "text": [
      "0.5714285714285714\n",
      "0.42857142857142855\n",
      "key 3\n",
      "value 4\n",
      "key 2\n",
      "value 3\n",
      "End of exercise\n"
     ]
    }
   ],
   "source": [
    "queries = [\n",
    "    'смотреть сериалы онлайн',\n",
    "    'новости спорта',\n",
    "    'афиша кино',\n",
    "    'курс доллара',\n",
    "    'сериалы этим летом',\n",
    "    'курс по питону',\n",
    "    'сериалы про спорт',\n",
    "]\n",
    "\n",
    "d = {}\n",
    "\n",
    "for subqueries in queries:\n",
    "    count_words = subqueries.split()\n",
    "    if not d.get(len(count_words)):\n",
    "        d[len(count_words)] = 0\n",
    "    d[len(count_words)] += 1\n",
    "\n",
    "print(d[3] / len(queries))\n",
    "print(d[2] / len(queries))\n",
    "\n",
    "for key, value in d.items():\n",
    "    print('key', key)\n",
    "    print('value', value)\n",
    "print('End of exercise')\n"
   ]
  },
  {
   "cell_type": "code",
   "execution_count": null,
   "metadata": {},
   "outputs": [],
   "source": [
    "ДОМАШКА 3"
   ]
  },
  {
   "cell_type": "code",
   "execution_count": 5,
   "metadata": {},
   "outputs": [
    {
     "data": {
      "text/plain": [
       "('yandex', 120)"
      ]
     },
     "execution_count": 5,
     "metadata": {},
     "output_type": "execute_result"
    }
   ],
   "source": [
    "# Дана статистика рекламных каналов по объемам продаж. Напишите скрипт, который возвращает название канала с максимальным объемом.\n",
    "# Т. е. в данном примере скрипт должен возвращать “yandex”.\n",
    "\n",
    "stats = {'facebook': 55, 'yandex': 120, 'vk': 115, 'google': 99, 'email': 42, 'ok': 98}\n",
    "\n",
    "max(stats.items(), key = lambda x: x[1])\n"
   ]
  },
  {
   "cell_type": "code",
   "execution_count": 15,
   "metadata": {},
   "outputs": [
    {
     "name": "stdout",
     "output_type": "stream",
     "text": [
      "6\n",
      "1\n",
      "1\n"
     ]
    }
   ],
   "source": [
    "# Task 2\n",
    "descriptions = [\n",
    "['браслет', 'xiaomi', 'mi', 'band', '2', 'умный', 'браслет', 'xiaomi', 'mi', 'лидер', 'в', 'линейке', 'xiaomi', 'фитнес', 'браслет', 'для', 'android', '4', 'ios', '7', 'экран', 'oled', 'лучший', 'выбор', 'xiaomi'],\n",
    "['браслет', 'huawei', 'honor', 'band', '3', 'фитнес', 'браслет', 'влагозащищенный', 'сенсорный', 'экран', 'android', 'ios', 'мониторинг', 'сна'],\n",
    "['браслет', 'samsung', 'gear', 'fit2', 'pro', 'влагозащищенный', 'сенсорный', 'amoled-экран', 'мониторинг', 'сна', 'калорий', 'новинка', 'samsung'],\n",
    "]\n",
    "\n",
    "for strings in descriptions:\n",
    "    a = len(strings)\n",
    "    b = len(set(strings))\n",
    "    print(a-b)\n"
   ]
  },
  {
   "cell_type": "code",
   "execution_count": null,
   "metadata": {
    "scrolled": true
   },
   "outputs": [],
   "source": [
    "# Задание 3\n",
    "hw_dict = {}\n",
    "n = int(input())\n",
    "\n",
    "with open('stats.csv') as number:\n",
    "    for line in number:\n",
    "        line = line.strip().split(',')\n",
    "        hw_dict[tuple(line[:n])] = line[n]\n",
    "for key,value in hw_dict.items():\n",
    "    print(key, value)\n"
   ]
  },
  {
   "cell_type": "code",
   "execution_count": null,
   "metadata": {},
   "outputs": [],
   "source": [
    "Домашка 4"
   ]
  },
  {
   "cell_type": "code",
   "execution_count": 34,
   "metadata": {},
   "outputs": [
    {
     "data": {
      "text/plain": [
       "103"
      ]
     },
     "execution_count": 34,
     "metadata": {},
     "output_type": "execute_result"
    }
   ],
   "source": [
    "# Task 1\n",
    "# Напишите функцию, которая возвращает сумму элементов на диагонали. Т. е. 13+32+23+35.\n",
    "# Список может быть любой длины, но всегда является \"квадратным\" \n",
    "# (количество элементов во вложенных списках равно их количеству).\n",
    "data = [\n",
    "    [13, 25, 23, 34],\n",
    "    [45, 32, 44, 47],\n",
    "    [12, 33, 23, 95],\n",
    "    [13, 53, 34, 35]\n",
    "]\n",
    "\n",
    "def total(numbers):\n",
    "    s = 0\n",
    "    for x, b in enumerate(numbers):\n",
    "        s += (b[x])\n",
    "    return s\n",
    "\n",
    "total(data)"
   ]
  },
  {
   "cell_type": "code",
   "execution_count": 29,
   "metadata": {
    "scrolled": false
   },
   "outputs": [],
   "source": [
    "#  Task 4\n",
    "# Необходимо реализовать пользовательские команды (внимание! это не название функций, которые должны быть выразительными, \n",
    "# а команды, которые вводит пользователь, чтобы получить необходимый результат):\n",
    "# p – people – команда, которая спросит номер документа и выведет имя человека, которому он принадлежит;\n",
    "# s – shelf – команда, которая спросит номер документа и выведет номер полки, на которой он находится\n",
    "# Правильно обработайте ситуацию, когда пользователь будет вводить несуществующий документ.\n",
    "\n",
    "documents = [\n",
    "    {'type': 'passport', 'number': '2207 876234', 'name': 'Василий Гупкин'},\n",
    "    {'type': 'invoice', 'number': '11-2', 'name': 'Геннадий Покемонов'},\n",
    "    {'type': 'insurance', 'number': '10006', 'name': 'Аристарх Павлов'}\n",
    "]\n",
    "\n",
    "directories = {\n",
    "    '1': ['2207 876234', '11-2', '5455 028765'],\n",
    "    '2': ['10006', '5400 028765', '5455 002299'],\n",
    "    '3': []\n",
    "}\n"
   ]
  },
  {
   "cell_type": "code",
   "execution_count": 30,
   "metadata": {},
   "outputs": [
    {
     "name": "stdout",
     "output_type": "stream",
     "text": [
      "Type document number 11-2\n",
      "Type shelf number 3\n"
     ]
    },
    {
     "data": {
      "text/plain": [
       "{'1': ['2207 876234', '5455 028765'],\n",
       " '2': ['10006', '5400 028765', '5455 002299'],\n",
       " '3': ['11-2']}"
      ]
     },
     "execution_count": 30,
     "metadata": {},
     "output_type": "execute_result"
    }
   ],
   "source": [
    "def move(data):\n",
    "   \n",
    "    number_doc = input('Type document number ')\n",
    "    number_shelf = input('Type shelf number ')\n",
    "    saved = 0\n",
    "    \n",
    "    for key, values in data.items():\n",
    "    \n",
    "        if number_doc not in data:\n",
    "                                 \n",
    "            if number_doc in values:\n",
    "                saved = values.pop(values.index(number_doc))\n",
    "         \n",
    "    if number_shelf in data:\n",
    "        data[number_shelf].append(saved)\n",
    "        return data\n",
    "    \n",
    "    if number_shelf not in data:\n",
    "        return 'This shelf not found'\n",
    "\n",
    "move(directories)"
   ]
  },
  {
   "cell_type": "code",
   "execution_count": 93,
   "metadata": {},
   "outputs": [],
   "source": [
    "def people(data):\n",
    "    code = input('Type document number ')\n",
    "    for x in data:\n",
    "            if code == x['number']:\n",
    "                print('Name', x['name'])\n",
    "                return code\n",
    "            \n",
    "    return 'This document not found'\n",
    "\n",
    "people(documents) "
   ]
  },
  {
   "cell_type": "code",
   "execution_count": 95,
   "metadata": {},
   "outputs": [],
   "source": [
    "def shelf(data):\n",
    "    code = input('Type document number ')\n",
    "    for key, value in data.items():\n",
    "           if code in value:\n",
    "                print('Shelf number', key)\n",
    "                return code\n",
    "            \n",
    "    return 'This shelf not found'\n",
    "\n",
    "shelf(directories)"
   ]
  },
  {
   "cell_type": "code",
   "execution_count": 43,
   "metadata": {},
   "outputs": [
    {
     "name": "stdout",
     "output_type": "stream",
     "text": [
      "passport \"2207 876234\" \"Василий Гупкин\"\n",
      "invoice \"11-2\" \"Геннадий Покемонов\"\n",
      "insurance \"10006\" \"Аристарх Павлов\"\n"
     ]
    }
   ],
   "source": [
    "# l – list – команда, которая выведет список всех документов в формате\n",
    "# passport \"2207 876234\" \"Василий Гупкин\"\n",
    "\n",
    "def list_of_documents(data):\n",
    "    for x in data:\n",
    "        print('{}'.format(x['type']), '\"{}\"'.format(x['number']), '\"{}\"'.format(x['name']))\n",
    "\n",
    "list_of_documents(documents) "
   ]
  },
  {
   "cell_type": "code",
   "execution_count": 4,
   "metadata": {},
   "outputs": [
    {
     "name": "stdout",
     "output_type": "stream",
     "text": [
      "5\n",
      "{'1': ['2207 876234', '11-2', '5455 028765'], '2': ['10006', '5400 028765', '5455 002299'], '3': [], '5': []}\n"
     ]
    }
   ],
   "source": [
    "# as – add shelf – команда, которая спросит номер новой полки и добавит ее в перечень\n",
    "\n",
    "def add_shelf(data):\n",
    "    new_shelf = input()\n",
    "    data.setdefault(new_shelf, [])\n",
    "    print(data)\n",
    "        \n",
    "add_shelf(directories) "
   ]
  },
  {
   "cell_type": "code",
   "execution_count": 157,
   "metadata": {},
   "outputs": [
    {
     "name": "stdout",
     "output_type": "stream",
     "text": [
      "Type document number 11-2\n",
      "[{'type': 'passport', 'number': '2207 876234', 'name': 'Василий Гупкин'}, {'type': 'insurance', 'number': '10006', 'name': 'Аристарх Павлов'}]\n",
      "{'2': ['10006', '5400 028765', '5455 002299'], '3': []}\n"
     ]
    },
    {
     "data": {
      "text/plain": [
       "'11-2'"
      ]
     },
     "execution_count": 157,
     "metadata": {},
     "output_type": "execute_result"
    }
   ],
   "source": [
    "def delete(data1, data2):\n",
    "    code = input('Type document number ')\n",
    "    for x in data1:\n",
    "        if code == x['number']:\n",
    "            data1.remove(x)\n",
    "            print(data1)\n",
    "    \n",
    "    for key, values in data2.items():\n",
    "        if code in values:\n",
    "            del data2[key]\n",
    "            print(data2)\n",
    "            return code\n",
    "            \n",
    "    return 'This document not found'\n",
    "\n",
    "delete(documents, directories) \n",
    "\n"
   ]
  },
  {
   "cell_type": "code",
   "execution_count": 3,
   "metadata": {},
   "outputs": [
    {
     "ename": "SyntaxError",
     "evalue": "invalid syntax (<ipython-input-3-9b397fffebb8>, line 1)",
     "output_type": "error",
     "traceback": [
      "\u001b[1;36m  File \u001b[1;32m\"<ipython-input-3-9b397fffebb8>\"\u001b[1;36m, line \u001b[1;32m1\u001b[0m\n\u001b[1;33m    Домашка 5\u001b[0m\n\u001b[1;37m            ^\u001b[0m\n\u001b[1;31mSyntaxError\u001b[0m\u001b[1;31m:\u001b[0m invalid syntax\n"
     ]
    }
   ],
   "source": [
    "Домашка 5"
   ]
  },
  {
   "cell_type": "code",
   "execution_count": 4,
   "metadata": {},
   "outputs": [],
   "source": [
    "# Переведите содержимое файла purchase_log.txt в словарь purchases вида:\n",
    "# {'1840e0b9d4': 'Продукты', ...}\n",
    "f = open('purchase_log.txt', 'r')"
   ]
  },
  {
   "cell_type": "code",
   "execution_count": 6,
   "metadata": {},
   "outputs": [],
   "source": [
    "purchases = {}\n",
    "import json\n",
    "with open('purchase_log.txt') as file:\n",
    "   \n",
    "    for line in file:\n",
    "        d = json.loads(line)\n",
    "        purchases = {d['user_id'] : d['category']}\n",
    "        print(purchases)"
   ]
  },
  {
   "cell_type": "code",
   "execution_count": 41,
   "metadata": {},
   "outputs": [],
   "source": [
    "# # Для каждого user_id в файле visit_log.csv добавьте третий столбец с категорией покупки (если покупка была).\n",
    "# f = open('visit_log.csv', 'r \n",
    "         f.write('Начинаю запись первой строки...\\n')"
   ]
  },
  {
   "cell_type": "code",
   "execution_count": 62,
   "metadata": {},
   "outputs": [],
   "source": [
    "def function(list1 = 'visit_log.csv', list2 = 'purchase_log.txt', list3 = 'outcome.csv'):\n",
    "    d2 = {}\n",
    "    import json\n",
    "    with open(list1, 'r') as data1, open(list2, 'r') as data2, open(list3, 'a') as data3:\n",
    "         for line1 in data1:\n",
    "                for line2 in data2:\n",
    "                    d2 = json.loads(line2)\n",
    "                    if d2['user_id'] in line1:\n",
    "                        data3.write(d2['category'])\n",
    "                             \n",
    "            \n",
    "function()"
   ]
  },
  {
   "cell_type": "code",
   "execution_count": 74,
   "metadata": {},
   "outputs": [
    {
     "data": {
      "text/plain": [
       "'user_id,source\\n'"
      ]
     },
     "execution_count": 74,
     "metadata": {},
     "output_type": "execute_result"
    }
   ],
   "source": [
    "f = open('outcome.csv', 'r')\n",
    "f.readline()"
   ]
  },
  {
   "cell_type": "code",
   "execution_count": 2,
   "metadata": {},
   "outputs": [
    {
     "name": "stdout",
     "output_type": "stream",
     "text": [
      "89\n"
     ]
    }
   ],
   "source": [
    "# Напишите функцию, возвращающую сумму первых n чисел Фибоначчи (для этого вам может понадобится ознакомиться с рекурсией).\n",
    "\n",
    "def fibonacci(n):\n",
    "    if n in (1, 2):\n",
    "        return 1\n",
    "    return fibonacci(n - 1) + fibonacci(n - 2)\n",
    " \n",
    " \n",
    "print(fibonacci(11))"
   ]
  },
  {
   "cell_type": "code",
   "execution_count": 7,
   "metadata": {},
   "outputs": [
    {
     "name": "stdout",
     "output_type": "stream",
     "text": [
      "Номер элемента ряда Фибоначчи: 2\n",
      "1\n"
     ]
    }
   ],
   "source": [
    "fib1 = 1\n",
    "fib2 = 1\n",
    " \n",
    "n = input(\"Номер элемента ряда Фибоначчи: \")\n",
    "n = int(n)\n",
    " \n",
    "i = 0\n",
    "while i < n - 2:\n",
    "    fib_sum = fib1 + fib2\n",
    "    fib1 = fib2\n",
    "    fib2 = fib_sum\n",
    "    i = i + 1\n",
    " \n",
    "print(fib2)"
   ]
  }
 ],
 "metadata": {
  "kernelspec": {
   "display_name": "Python 3",
   "language": "python",
   "name": "python3"
  },
  "language_info": {
   "codemirror_mode": {
    "name": "ipython",
    "version": 3
   },
   "file_extension": ".py",
   "mimetype": "text/x-python",
   "name": "python",
   "nbconvert_exporter": "python",
   "pygments_lexer": "ipython3",
   "version": "3.7.3"
  }
 },
 "nbformat": 4,
 "nbformat_minor": 2
}
