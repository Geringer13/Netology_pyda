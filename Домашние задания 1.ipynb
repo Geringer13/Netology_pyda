{
 "cells": [
  {
   "cell_type": "code",
   "execution_count": 3,
   "metadata": {},
   "outputs": [],
   "source": [
    "import re"
   ]
  },
  {
   "cell_type": "code",
   "execution_count": null,
   "metadata": {},
   "outputs": [],
   "source": [
    "ДОМАШКА \n",
    "Владимир, здравствуйте!\n",
    "\n",
    "Спасибо за работу, есть парочка пожеланий:\n",
    "\n",
    "в последнем задании не очень понял логику отбора, которую вы реализовали. \n",
    "Например, номера 9555555555, 89555555555, 79555555555 признаются неверными. \n",
    "Хотя с ними все ок, по тем принципам которые мы обсуждали.\n",
    "Давайте это поправим."
   ]
  },
  {
   "cell_type": "code",
   "execution_count": 8,
   "metadata": {},
   "outputs": [
    {
     "name": "stdout",
     "output_type": "stream",
     "text": [
      "а567ве577\n"
     ]
    },
    {
     "data": {
      "text/plain": [
       "'(а567ве)(577)'"
      ]
     },
     "execution_count": 8,
     "metadata": {},
     "output_type": "execute_result"
    }
   ],
   "source": [
    "# Задание 1\n",
    "# Напишите функцию, которая принимает на вход строку и проверяет является ли она валидным транспортным номером. \n",
    "# Если да, то функция должна возвращать отдельно номер и регион.\n",
    "# а, в, е, к, м, н, о, р, с, т, у, х\n",
    "def function():\n",
    "    car_number = input()\n",
    "    pattern = r'([авекмнорстух]{1})(\\d{3})([а-я]{2})(\\d{2,3})'\n",
    "    if re.findall(pattern, car_number):\n",
    "        return re.sub(pattern, r'(\\1\\2\\3)(\\4)', car_number)\n",
    "      \n",
    "    return 'Такого номер не существует'\n",
    "        \n",
    "function()"
   ]
  },
  {
   "cell_type": "code",
   "execution_count": 73,
   "metadata": {},
   "outputs": [
    {
     "name": "stdout",
     "output_type": "stream",
     "text": [
      "sdfsdfsdf\n"
     ]
    },
    {
     "data": {
      "text/plain": [
       "'Error'"
      ]
     },
     "execution_count": 73,
     "metadata": {},
     "output_type": "execute_result"
    }
   ],
   "source": [
    "# Задание 2\n",
    "# Напишите функцию, которая проверяет e-mail адрес на валидность по стандарту RFC822: http://www.w3.org/Protocols/rfc822/. \n",
    "# Для этого постарайтесь написать (в крайнем случае найти) самый полный шаблон для проверки e-mail адресов через регулярное \n",
    "# # выражение. Разберитесь и напишите примеры, какие ваш шаблон может не охватить.\n",
    "# (\\w*)(\\@)(\\w*)(\\.)(\\w{1,3}) - gerin3@yandex.ru\n",
    "def searching():\n",
    "    email = input()\n",
    "    pattern = r'(\\w*)(\\@)(\\w*|\\-)(\\.)(\\w{1,3})'\n",
    "    if re.findall(pattern, email):\n",
    "        return 'It is a valid email'\n",
    "    \n",
    "    return 'Error'\n",
    "\n",
    "searching()"
   ]
  },
  {
   "cell_type": "code",
   "execution_count": 278,
   "metadata": {},
   "outputs": [
    {
     "name": "stdout",
     "output_type": "stream",
     "text": [
      "yesterday we were going for a walk\n"
     ]
    },
    {
     "data": {
      "text/plain": [
       "'YWWGFAW'"
      ]
     },
     "execution_count": 278,
     "metadata": {},
     "output_type": "execute_result"
    }
   ],
   "source": [
    "# Задание 3\n",
    "# При помощи регулярных выражений напишите функцию, которая будет возвращать акроним переданного в нее текста.\n",
    "# string = 'yesterday we were going for a walk'\n",
    "string = input()\n",
    "\n",
    "def function(string):\n",
    "    a = re.findall(r'^[\\w]|\\s[\\w]', string)\n",
    "    new_string = ''.join(a)\n",
    "    return new_string.upper().replace(' ','')\n",
    "    \n",
    "function(string)"
   ]
  },
  {
   "cell_type": "code",
   "execution_count": 22,
   "metadata": {},
   "outputs": [
    {
     "name": "stdout",
     "output_type": "stream",
     "text": [
      "cat cat dog swim me me know you water water\n"
     ]
    },
    {
     "data": {
      "text/plain": [
       "'cat dog swim me know you water'"
      ]
     },
     "execution_count": 22,
     "metadata": {},
     "output_type": "execute_result"
    }
   ],
   "source": [
    "# Задание 4\n",
    "# Напишите функцию, которая будет удалять все последовательные повторы слов из заданной строки.\n",
    "# cat cat dog swim me me know you water water\n",
    "# re.findall('(\\d)+', numbers)\n",
    "def function():\n",
    "    string = input()\n",
    "    new_string = re.sub(r'(\\D*)\\1', r'\\1', string)\n",
    "    return new_string\n",
    "            \n",
    "function()"
   ]
  },
  {
   "cell_type": "code",
   "execution_count": 31,
   "metadata": {},
   "outputs": [
    {
     "name": "stdout",
     "output_type": "stream",
     "text": [
      "9555555555\n"
     ]
    },
    {
     "data": {
      "text/plain": [
       "'+7(955)-555-55-55'"
      ]
     },
     "execution_count": 31,
     "metadata": {},
     "output_type": "execute_result"
    }
   ],
   "source": [
    "# Напишите функцию, которая будет проверять номер сотового телефона на валидность, если он валиден,то переводить его в формат:\n",
    "# +7(xxx)-xxx-xx-xx\n",
    "# Постарайтесь предусмотреть как можно больше адекватных форматов изначального ввода номера. \n",
    "# Примеры правильных и неправильных форматов:\n",
    "# +1 955 555-55-55; ; 9555555555; 8(955)555-55-55; +7 955 555 55 55; 7(955) 555-55-55; +7 955+555+55+55\n",
    "def function():\n",
    "    ph_number = input()\n",
    "    pattern_1 = r'(\\+|\\w|\\+\\w)(\\s?|\\(?)(\\w{3})(\\s*|\\)?|\\+?|\\)\\s)(\\w{3})(\\W|\\-\\+)(\\w{2})(\\W|\\-\\+)(\\w{2})'\n",
    "    pattern_2 = r'(8|7)(\\w{3})(\\w{3})(\\w{2})(\\w{2})'\n",
    "    pattern_3 = r'(\\w{3})(\\w{3})(\\w{2})(\\w{2})'\n",
    "    \n",
    "    if re.findall(pattern_1, ph_number) and len(ph_number) > 11:\n",
    "        return re.sub(pattern_1, r'\\1(\\3)-\\5-\\7-\\9', ph_number)\n",
    "    \n",
    "    if re.findall(pattern_2, ph_number) and len(ph_number) == 11:\n",
    "        return re.sub(pattern_2, r'+7(\\2)-\\3-\\4-\\5', ph_number)\n",
    "    \n",
    "    if re.findall(pattern_3, ph_number) and len(ph_number) < 11:\n",
    "        return re.sub(pattern_3, r'+7(\\1)-\\2-\\3-\\4', ph_number)\n",
    "        \n",
    "    return 'Phone number is invalid'\n",
    "\n",
    "function()"
   ]
  },
  {
   "cell_type": "code",
   "execution_count": null,
   "metadata": {},
   "outputs": [],
   "source": []
  }
 ],
 "metadata": {
  "kernelspec": {
   "display_name": "Python 3",
   "language": "python",
   "name": "python3"
  },
  "language_info": {
   "codemirror_mode": {
    "name": "ipython",
    "version": 3
   },
   "file_extension": ".py",
   "mimetype": "text/x-python",
   "name": "python",
   "nbconvert_exporter": "python",
   "pygments_lexer": "ipython3",
   "version": "3.7.3"
  }
 },
 "nbformat": 4,
 "nbformat_minor": 2
}
