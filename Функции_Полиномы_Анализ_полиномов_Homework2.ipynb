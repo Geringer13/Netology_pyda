{
  "nbformat": 4,
  "nbformat_minor": 0,
  "metadata": {
    "colab": {
      "name": "Функции. Полиномы. Анализ полиномов_Homework2",
      "provenance": [],
      "collapsed_sections": [],
      "authorship_tag": "ABX9TyMveo4HnSXBfbdA7i+yezC5",
      "include_colab_link": true
    },
    "kernelspec": {
      "name": "python3",
      "display_name": "Python 3"
    }
  },
  "cells": [
    {
      "cell_type": "markdown",
      "metadata": {
        "id": "view-in-github",
        "colab_type": "text"
      },
      "source": [
        "<a href=\"https://colab.research.google.com/github/Geringer13/Netology_pyda/blob/master/%D0%A4%D1%83%D0%BD%D0%BA%D1%86%D0%B8%D0%B8_%D0%9F%D0%BE%D0%BB%D0%B8%D0%BD%D0%BE%D0%BC%D1%8B_%D0%90%D0%BD%D0%B0%D0%BB%D0%B8%D0%B7_%D0%BF%D0%BE%D0%BB%D0%B8%D0%BD%D0%BE%D0%BC%D0%BE%D0%B2_Homework2.ipynb\" target=\"_parent\"><img src=\"https://colab.research.google.com/assets/colab-badge.svg\" alt=\"Open In Colab\"/></a>"
      ]
    },
    {
      "cell_type": "markdown",
      "metadata": {
        "id": "R1476dRT3Duf",
        "colab_type": "text"
      },
      "source": [
        "**Задание 1**"
      ]
    },
    {
      "cell_type": "markdown",
      "metadata": {
        "id": "MdNu8akQ3BsJ",
        "colab_type": "text"
      },
      "source": [
        "Написать функцию отображения элементов одного множества в другое. Первое множество - художники, второе множество - картины художников. Множество художников - Серов, Левитан, Репин, Васнецов, Шишкин. Множество картин - \"Утро в сосновом бору\", \"Богатыри\", \"Золотая осень\", \"Девочка с персиками\", \"Запорожцы\", \"Буралки на Волге\", \"Март\", \"Алёнушка\"."
      ]
    },
    {
      "cell_type": "code",
      "metadata": {
        "id": "yf5Sxqaa0xTl",
        "colab_type": "code",
        "colab": {}
      },
      "source": [
        "painters = set(['Серов', 'Левитан', 'Репин', 'Васнецов', 'Шишкин'])"
      ],
      "execution_count": 0,
      "outputs": []
    },
    {
      "cell_type": "code",
      "metadata": {
        "id": "hV3i4hNF0yLr",
        "colab_type": "code",
        "colab": {}
      },
      "source": [
        "dict_paint = dict()\n",
        "dict_paint['Серов'] = ['Девочка с персиками']\n",
        "dict_paint['Левитан'] = ['Золотая осень', 'Март']\n",
        "dict_paint['Репин'] = ['Запорожцы', 'Буралки на Волге']\n",
        "dict_paint['Васнецов'] = ['Богатыри', 'Алёнушка']\n",
        "dict_paint['Шишкин'] = ['Утро в сосновом бору']"
      ],
      "execution_count": 0,
      "outputs": []
    },
    {
      "cell_type": "code",
      "metadata": {
        "id": "4Gp0fm3x0yOj",
        "colab_type": "code",
        "outputId": "de92071b-6dc9-450b-c7da-85f1fff0a7cc",
        "colab": {
          "base_uri": "https://localhost:8080/",
          "height": 105
        }
      },
      "source": [
        "for item in dict_paint:\n",
        "  print(item,':', dict_paint[item])"
      ],
      "execution_count": 0,
      "outputs": [
        {
          "output_type": "stream",
          "text": [
            "Серов : ['Девочка с персиками']\n",
            "Левитан : ['Золотая осень', 'Март']\n",
            "Репин : ['Запорожцы', 'Буралки на Волге']\n",
            "Васнецов : ['Богатыри', 'Алёнушка']\n",
            "Шишкин : ['Утро в сосновом бору']\n"
          ],
          "name": "stdout"
        }
      ]
    },
    {
      "cell_type": "markdown",
      "metadata": {
        "id": "-2skcVCJ9JBm",
        "colab_type": "text"
      },
      "source": [
        "**Задание 2**"
      ]
    },
    {
      "cell_type": "markdown",
      "metadata": {
        "id": "J2Qcbkyc9NSK",
        "colab_type": "text"
      },
      "source": [
        "Найти из следующих функций те, которые являются полиномиальной функцией."
      ]
    },
    {
      "cell_type": "markdown",
      "metadata": {
        "id": "nxOz4OcqGDb1",
        "colab_type": "text"
      },
      "source": [
        "Не полином 3, 4 и 5 пример"
      ]
    },
    {
      "cell_type": "markdown",
      "metadata": {
        "id": "atiCDefuRsRU",
        "colab_type": "text"
      },
      "source": [
        "**Задание 3**"
      ]
    },
    {
      "cell_type": "markdown",
      "metadata": {
        "id": "cohV1FbyR2Uq",
        "colab_type": "text"
      },
      "source": [
        "Раскрыть скобки для следующего полинома$$(2x+1)^{2}(x-1)-x(4x^{2}-1)-x(4x^{2}-1)=ax^3+bx^2+cx+d$$найти коэффициенты для a, b, c, d."
      ]
    },
    {
      "cell_type": "code",
      "metadata": {
        "id": "bT4dD6780yWE",
        "colab_type": "code",
        "colab": {}
      },
      "source": [
        "a = -4\n",
        "b = 0\n",
        "c = 1\n",
        "d = -1"
      ],
      "execution_count": 0,
      "outputs": []
    },
    {
      "cell_type": "code",
      "metadata": {
        "id": "_-d-GUps0yYn",
        "colab_type": "code",
        "colab": {}
      },
      "source": [
        "Степень полинома равна 3"
      ],
      "execution_count": 0,
      "outputs": []
    },
    {
      "cell_type": "code",
      "metadata": {
        "id": "jkcHEEUx0ybT",
        "colab_type": "code",
        "outputId": "1e6e3826-877b-4ae3-e02b-54fc8848ad77",
        "colab": {
          "base_uri": "https://localhost:8080/",
          "height": 294
        }
      },
      "source": [
        "import numpy as np\n",
        "import matplotlib.pyplot as plt\n",
        "import pandas as pd\n",
        "\n",
        "def func1(x):\n",
        "  y = 2 - 0.25 * x**2\n",
        "  return y\n",
        "  \n",
        "# создаем вектор x\n",
        "x1 = np.linspace(-3.0, 3.0, 100)\n",
        "# на основе вектора x строим значения для вектора y\n",
        "y1 = [func1(x1[i]) for i in range(len(x1))]\n",
        "\n",
        "plt.plot(x1, y1)\n",
        "plt.title('График функции')\n",
        "plt.ylabel('y')\n",
        "plt.xlabel('x')\n",
        "\n",
        "plt.show()"
      ],
      "execution_count": 0,
      "outputs": [
        {
          "output_type": "display_data",
          "data": {
            "image/png": "[encoded data removed]",
            "text/plain": [
              "<Figure size 432x288 with 1 Axes>"
            ]
          },
          "metadata": {
            "tags": []
          }
        }
      ]
    },
    {
      "cell_type": "markdown",
      "metadata": {
        "id": "NGmXFgVTVuQ2",
        "colab_type": "text"
      },
      "source": [
        "**Задание 4**"
      ]
    },
    {
      "cell_type": "markdown",
      "metadata": {
        "id": "W3-xBt5AV5ev",
        "colab_type": "text"
      },
      "source": [
        "frac(3,4) * x - 1 = рисунок 5\n",
        "\n",
        "frac(3,4) * x + 2 = рисунок 5\n",
        "\n",
        "2 - 2 * x = рисунок 1\n",
        "\n",
        "2 - x **2 and 2 - 0.25 * x **2  = рисунок 2\n",
        "\n",
        "(x+1) * (x+3) and 0.25 * (x+1)**2 - 2 = 4 рисунок"
      ]
    },
    {
      "cell_type": "markdown",
      "metadata": {
        "id": "QoOssdXxuP4-",
        "colab_type": "text"
      },
      "source": [
        "**Задание 5**"
      ]
    },
    {
      "cell_type": "markdown",
      "metadata": {
        "id": "7tQx9X4kuTtA",
        "colab_type": "text"
      },
      "source": [
        "Найти минимальную степень следующего полинома:"
      ]
    },
    {
      "cell_type": "markdown",
      "metadata": {
        "id": "Qo4N7znu7LRg",
        "colab_type": "text"
      },
      "source": [
        "Ответ: числе лежащее на Х (правый нижний квадрат)"
      ]
    },
    {
      "cell_type": "code",
      "metadata": {
        "id": "9PVr-Ec2VxUi",
        "colab_type": "code",
        "colab": {}
      },
      "source": [
        ""
      ],
      "execution_count": 0,
      "outputs": []
    },
    {
      "cell_type": "code",
      "metadata": {
        "id": "NhBSOmv5VxSn",
        "colab_type": "code",
        "colab": {}
      },
      "source": [
        ""
      ],
      "execution_count": 0,
      "outputs": []
    },
    {
      "cell_type": "code",
      "metadata": {
        "id": "nqF1SOsrVxPE",
        "colab_type": "code",
        "colab": {}
      },
      "source": [
        ""
      ],
      "execution_count": 0,
      "outputs": []
    },
    {
      "cell_type": "code",
      "metadata": {
        "id": "mdYMDMkOVxMC",
        "colab_type": "code",
        "colab": {}
      },
      "source": [
        ""
      ],
      "execution_count": 0,
      "outputs": []
    }
  ]
}