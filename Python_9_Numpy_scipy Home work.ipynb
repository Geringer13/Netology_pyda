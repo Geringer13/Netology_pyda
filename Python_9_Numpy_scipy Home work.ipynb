{
 "cells": [
  {
   "cell_type": "code",
   "execution_count": 3,
   "metadata": {},
   "outputs": [],
   "source": [
    "import numpy as np"
   ]
  },
  {
   "cell_type": "code",
   "execution_count": 23,
   "metadata": {},
   "outputs": [
    {
     "name": "stdout",
     "output_type": "stream",
     "text": [
      "10\n",
      "[9 8 7 6 5 4 3 2 1 0]\n"
     ]
    }
   ],
   "source": [
    "# Задание 1\n",
    "# Создайте numpy array с элементами от числа N до 0 (например, для N = 10 это будет array([9, 8, 7, 6, 5, 4, 3, 2, 1, 0])).\n",
    "n = int(input())\n",
    "item = np.arange(n)[::-1]\n",
    "print(item)"
   ]
  },
  {
   "cell_type": "code",
   "execution_count": 7,
   "metadata": {},
   "outputs": [
    {
     "name": "stdout",
     "output_type": "stream",
     "text": [
      "5\n",
      "[[4 3 2 1 0]\n",
      " [4 3 2 1 0]\n",
      " [4 3 2 1 0]\n",
      " [4 3 2 1 0]\n",
      " [4 3 2 1 0]]\n",
      "10\n"
     ]
    }
   ],
   "source": [
    "# Задание 2\n",
    "# Создайте диагональную матрицу с элементами от N до 0. Посчитайте сумму ее значений на диагонали.\n",
    "n = int(input())\n",
    "n = np.arange(n)[::-1]\n",
    "s = 0\n",
    "matrix = np.full([5, 5], n)\n",
    "print(matrix)\n",
    "for x, b in enumerate(matrix):\n",
    "    s += (b[x])\n",
    "print(s)\n"
   ]
  },
  {
   "cell_type": "code",
   "execution_count": 12,
   "metadata": {},
   "outputs": [
    {
     "data": {
      "text/plain": [
       "array([ 0.46666667,  3.84444444, -5.55555556])"
      ]
     },
     "execution_count": 12,
     "metadata": {},
     "output_type": "execute_result"
    }
   ],
   "source": [
    "# Задание 3\n",
    "# Решите систему уравнений:\n",
    "#  x + 3y = 12\n",
    "# 4x + 2y + z = 4\n",
    "# 5y + 4z = -3\n",
    "\n",
    "#  x + 3y + 0z = 12\n",
    "# 4x + 2y + z = 4\n",
    "# 0x + 5y + 4z = -3\n",
    "from numpy import linalg\n",
    "c = np.array( [ [1, 3, 0], [4, 2, 1], [0, 5, 4] ] )\n",
    "d = np.array( [12, 4, -3] )\n",
    "linalg.solve(c, d)\n",
    "# np.allclose( np.dot(c, linalg.solve(c, d)), d )"
   ]
  }
 ],
 "metadata": {
  "kernelspec": {
   "display_name": "Python 3",
   "language": "python",
   "name": "python3"
  },
  "language_info": {
   "codemirror_mode": {
    "name": "ipython",
    "version": 3
   },
   "file_extension": ".py",
   "mimetype": "text/x-python",
   "name": "python",
   "nbconvert_exporter": "python",
   "pygments_lexer": "ipython3",
   "version": "3.7.3"
  }
 },
 "nbformat": 4,
 "nbformat_minor": 2
}
