{
 "cells": [
  {
   "cell_type": "code",
   "execution_count": 76,
   "metadata": {},
   "outputs": [
    {
     "name": "stdout",
     "output_type": "stream",
     "text": [
      "s\n"
     ]
    },
    {
     "data": {
      "text/plain": [
       "['just', 'against', 'his', 'hes', 'just', 'blows,', 'this', 'as', 'matters']"
      ]
     },
     "execution_count": 76,
     "metadata": {},
     "output_type": "execute_result"
    }
   ],
   "source": [
    "import re\n",
    "# Задача 1\n",
    "# Дана строка\n",
    "# string_01 = “Mama, just killed a man, put a gun against his head,pulled my trigger, now he's dead. Mama, life had just begun, but now I've gone and thrown it all away. Mama, ooh (any way the wind blows), didn't mean to make you cry. If I'm not back again this time tomorrow carry on, carry on as if nothing really matters.”\n",
    "# 1. Посчитайте, сколько в строке символов (исключая пробелы). \n",
    "\n",
    "# string_01 = 'Mama, just killed a man, put a gun against his head, pulled my trigger, now hes dead. Mama, life had just begun, but now Ive gone and thrown it all away. Mama, ooh any way the wind blows, didnt mean to make you cry. If Im not back again this time tomorrow carry on, carry on as if nothing really matters'\n",
    "# len(string_01.replace(' ',''))\n",
    "\n",
    "# 2. Посчитайте, сколько в строке слов.\n",
    "# string_01 = 'Mama, just killed a man, put a gun against his head, pulled my trigger, now hes dead. Mama, life had just begun, but now Ive gone and thrown it all away. Mama, ooh any way the wind blows, didnt mean to make you cry. If Im not back again this time tomorrow carry on, carry on as if nothing really matters'\n",
    "# len(string_01.split(' '))\n",
    "\n",
    "\n",
    "# 3. Напишите функцию, которая будет принимать в качестве аргумента букву и\n",
    "# выводить все слова из строки, заканчивающиеся на эту букву (например, “s”).\n",
    "string_01 = 'Mama, just killed a man, put a gun against his head, pulled my trigger, now hes dead. Mama, life had just begun, but now Ive gone and thrown it all away. Mama, ooh any way the wind blows, didnt mean to make you cry. If Im not back again this time tomorrow carry on, carry on as if nothing really matters'\n",
    "\n",
    "def searching_s(string_01):\n",
    "    letter = input()\n",
    "    string_02 = string_01.split(' ')\n",
    "    needed = []\n",
    "#     pattern = 's$|\\,'\n",
    "    for item in string_02:\n",
    "        if letter in item:\n",
    "            needed.append(item)\n",
    "#             needed_1 = ' '.join(needed)\n",
    "    return(needed)\n",
    "        \n",
    "#     for item2 in needed:\n",
    "# #         result = re.findall(pattern, needed_1)\n",
    "#         print(item2)\n",
    "    \n",
    "searching_s(string_01)\n",
    "\n",
    "# 4. Не обязательно: Напишите функцию, которая будет принимать в качестве\n",
    "# аргумента букву и выводить все слова из строки, начинающиеся на эту букву\n",
    "# (например, “m”).\n",
    "\n"
   ]
  },
  {
   "cell_type": "code",
   "execution_count": 270,
   "metadata": {},
   "outputs": [
    {
     "name": "stdout",
     "output_type": "stream",
     "text": [
      "278325\n"
     ]
    }
   ],
   "source": [
    "# Задача 2\n",
    "# Напишите код, который будет генерировать случайную последовательность из 6\n",
    "# цифр, одна из которых должна быть 3. Позиция цифры 3 должна\n",
    "# определяться случайным образом. Результат должен быть строкой. Например:\n",
    "# \"456309\" или \"330127\".\n",
    "\n",
    "import random\n",
    "a = 3\n",
    "str1 = random.randrange(100000, 999999)\n",
    "string = str(str1)\n",
    "string1 = str(a)\n",
    "\n",
    "if string1 in string:\n",
    "    print(str1)"
   ]
  },
  {
   "cell_type": "code",
   "execution_count": 84,
   "metadata": {},
   "outputs": [
    {
     "name": "stdout",
     "output_type": "stream",
     "text": [
      "[13, 21, 34, 55, 89]\n",
      "212\n"
     ]
    }
   ],
   "source": [
    "# Задача 3\n",
    "# Дан список\n",
    "# list_01 = [1, 1, 2, 3, 5, 8, 13, 21, 34, 55, 89, 144, 233, 377, 610]\n",
    "# Напишите алгоритм, который выводит сумму элементов списка, которые больше\n",
    "# 10, но меньше 100.\n",
    "list_01 = [1, 1, 2, 3, 5, 8, 13, 21, 34, 55, 89, 144, 233, 377, 610]\n",
    "list_02 = []\n",
    "for numbers in list_01:\n",
    "    if numbers > 10 and numbers < 100:\n",
    "        list_02.append(numbers)\n",
    "print(list_02)        \n",
    "print(sum(list_02))\n",
    "        "
   ]
  },
  {
   "cell_type": "code",
   "execution_count": 279,
   "metadata": {},
   "outputs": [
    {
     "ename": "ValueError",
     "evalue": "dictionary update sequence element #0 has length 6; 2 is required",
     "output_type": "error",
     "traceback": [
      "\u001b[1;31m---------------------------------------------------------------------------\u001b[0m",
      "\u001b[1;31mValueError\u001b[0m                                Traceback (most recent call last)",
      "\u001b[1;32m<ipython-input-279-d54c5164e1bd>\u001b[0m in \u001b[0;36m<module>\u001b[1;34m\u001b[0m\n\u001b[0;32m     28\u001b[0m \u001b[0md\u001b[0m \u001b[1;33m=\u001b[0m \u001b[1;33m{\u001b[0m\u001b[1;33m}\u001b[0m\u001b[1;33m\u001b[0m\u001b[1;33m\u001b[0m\u001b[0m\n\u001b[0;32m     29\u001b[0m \u001b[1;33m\u001b[0m\u001b[0m\n\u001b[1;32m---> 30\u001b[1;33m \u001b[0ma\u001b[0m \u001b[1;33m=\u001b[0m \u001b[0mdict\u001b[0m\u001b[1;33m(\u001b[0m\u001b[0mstudents\u001b[0m\u001b[1;33m)\u001b[0m\u001b[1;33m\u001b[0m\u001b[1;33m\u001b[0m\u001b[0m\n\u001b[0m\u001b[0;32m     31\u001b[0m \u001b[0ma\u001b[0m\u001b[1;33m\u001b[0m\u001b[1;33m\u001b[0m\u001b[0m\n",
      "\u001b[1;31mValueError\u001b[0m: dictionary update sequence element #0 has length 6; 2 is required"
     ]
    }
   ],
   "source": [
    "# Задача 4\n",
    "# 1. Преобразуйте данные таким образом, чтобы они были представлены в виде\n",
    "# словаря, в котором ключами являются номера студентов, а значениями —\n",
    "# список из других данных о студентах.\n",
    "# 2. Напишите функцию, которая принимает в качестве аргумента номер студента и\n",
    "# новый номер группы и позволяет изменить номер группы этого студента на\n",
    "# новый.\n",
    "# 3. Напишите функцию, которая принимает номер группы и выводит список\n",
    "# (фамилии, имена, отчества) всех студентов этой группы.\n",
    "students = [\n",
    " [\"0001\", \"Антонов\", \"Антон\", \"Игоревич\", \"20.08.2009\",\n",
    "\"БСТ161\"],\n",
    " [\"1102\", \"Богов\", \"Артем\", \"Игоревич\", \"25.01.2010\",\n",
    "\"БСТ162\"],\n",
    " [\"0333\", \"Глаголева\", \"Анастасия\", \"Николаевна\",\n",
    "\"11.07.2009\", \"БСТ163\"],\n",
    " [\"4004\", \"Степанова\", \"Наталья\", \"Александровна\",\n",
    "\"13.02.2008\", \"БСТ161\"],\n",
    " [\"0045\", \"Боков\", \"Игорь\", \"Харитонович\", \"02.06.2009\",\n",
    "\"БСТ161\"],\n",
    " [\"0096\", \"Васильков\", \"Валентин\", \"Сергеевич\", \"20.03.2009\",\n",
    "\"БСТ164\"],\n",
    " [\"0607\", \"Сиропова\", \"Виолетта\", \"Эдуардовна\", \"28.05.2010\",\n",
    "\"БСТ162\"],\n",
    " [\"0309\", \"Шафутинский\", \"Михаил\", \"Михайлович\",\n",
    "\"03.09.2007\", \"БСТ163\"]\n",
    " ]\n",
    "d = {}\n",
    "\n",
    "a = dict(students)\n",
    "a"
   ]
  },
  {
   "cell_type": "code",
   "execution_count": 103,
   "metadata": {},
   "outputs": [
    {
     "data": {
      "text/plain": [
       "array([18, 19, 17, 13, 22])"
      ]
     },
     "execution_count": 103,
     "metadata": {},
     "output_type": "execute_result"
    }
   ],
   "source": [
    "# Задача 5\n",
    "# 1. Выведите результат сложения всех элементов матрицы.\n",
    "# 2. Напишите алгоритм вычисления максимума из сумм элементов каждого\n",
    "# столбца.\n",
    "\n",
    "import numpy as np\n",
    "\n",
    "matrix = [\n",
    "[0, 1, 2, 4, 8],\n",
    "[6, 2, 2, 1, 9],\n",
    "[3, 3, 3, 3, 3],\n",
    "[4, 6, 7, 1, 2],\n",
    "[5, 7, 3, 4, 0]\n",
    "]\n",
    "\n",
    "#1\n",
    "# for numbers1 in matrix:\n",
    "#     for numbers2 in numbers1:\n",
    "#         numbers_list.append(numbers2)\n",
    "# sum(numbers_list)\n",
    "\n",
    "#2\n",
    "np.array(matrix).sum(axis=0)"
   ]
  }
 ],
 "metadata": {
  "kernelspec": {
   "display_name": "Python 3",
   "language": "python",
   "name": "python3"
  },
  "language_info": {
   "codemirror_mode": {
    "name": "ipython",
    "version": 3
   },
   "file_extension": ".py",
   "mimetype": "text/x-python",
   "name": "python",
   "nbconvert_exporter": "python",
   "pygments_lexer": "ipython3",
   "version": "3.7.3"
  }
 },
 "nbformat": 4,
 "nbformat_minor": 2
}
