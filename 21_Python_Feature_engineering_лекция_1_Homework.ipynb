{
  "nbformat": 4,
  "nbformat_minor": 0,
  "metadata": {
    "colab": {
      "name": "21_Python_Feature engineering_лекция 1_Homework.ipynb",
      "provenance": [],
      "collapsed_sections": [],
      "include_colab_link": true
    },
    "kernelspec": {
      "name": "python3",
      "display_name": "Python 3"
    }
  },
  "cells": [
    {
      "cell_type": "markdown",
      "metadata": {
        "id": "view-in-github",
        "colab_type": "text"
      },
      "source": [
        "<a href=\"https://colab.research.google.com/github/Geringer13/Netology_pyda/blob/master/21_Python_Feature_engineering_%D0%BB%D0%B5%D0%BA%D1%86%D0%B8%D1%8F_1_Homework.ipynb\" target=\"_parent\"><img src=\"https://colab.research.google.com/assets/colab-badge.svg\" alt=\"Open In Colab\"/></a>"
      ]
    },
    {
      "cell_type": "code",
      "metadata": {
        "id": "vOvqhrGbAE7R",
        "colab_type": "code",
        "colab": {}
      },
      "source": [
        "import numpy as np\n",
        "import pandas as pd\n",
        "from sklearn.linear_model import LinearRegression"
      ],
      "execution_count": 0,
      "outputs": []
    },
    {
      "cell_type": "markdown",
      "metadata": {
        "id": "-yaaPVRZBy9t",
        "colab_type": "text"
      },
      "source": [
        "Создадим датасет с данными по продвижению препаратов фармацевтическими компаниями. Основыные каналы продвижения и факторы влияющие на продажи: визиты к врачам и аптеки, реклама, цена, дистрибьюция."
      ]
    },
    {
      "cell_type": "code",
      "metadata": {
        "id": "AN5tdQAUAGZH",
        "colab_type": "code",
        "colab": {
          "base_uri": "https://localhost:8080/",
          "height": 197
        },
        "outputId": "8285e58e-70c7-4176-e97f-eabe479722d9"
      },
      "source": [
        "# Лишним столбцом будет количество врачей в стране, в бизнесе их количество практически никак не влияет на продажи. От того, что их 4000 или 5000 существенной разницы нет, потому\n",
        "# как фармацевтические компании задействуют иные каналы для продвижения, работа с аптеками, реклама, диджитал. В любом случае покрыты будут большинство врачей и нет разницы какое\n",
        "# их количество. Поэтому зачастую чем больше визитов к врачам и в аптеки совершают компании и тратят на рекламу тем выше продажи.\n",
        "n_samples = 300\n",
        "\n",
        "visits = np.random.choice(50, n_samples)\n",
        "advertising = np.random.choice(300, n_samples)\n",
        "number_of_doctors = np.random.choice(100, n_samples)\n",
        "\n",
        "sales = visits * advertising * 100\n",
        "\n",
        "data = pd.DataFrame({'number_of_doctors': number_of_doctors, 'visits': visits, 'advertising': advertising, 'sales': sales})\n",
        "data.head()"
      ],
      "execution_count": 4,
      "outputs": [
        {
          "output_type": "execute_result",
          "data": {
            "text/html": [
              "<div>\n",
              "<style scoped>\n",
              "    .dataframe tbody tr th:only-of-type {\n",
              "        vertical-align: middle;\n",
              "    }\n",
              "\n",
              "    .dataframe tbody tr th {\n",
              "        vertical-align: top;\n",
              "    }\n",
              "\n",
              "    .dataframe thead th {\n",
              "        text-align: right;\n",
              "    }\n",
              "</style>\n",
              "<table border=\"1\" class=\"dataframe\">\n",
              "  <thead>\n",
              "    <tr style=\"text-align: right;\">\n",
              "      <th></th>\n",
              "      <th>number_of_doctors</th>\n",
              "      <th>visits</th>\n",
              "      <th>advertising</th>\n",
              "      <th>sales</th>\n",
              "    </tr>\n",
              "  </thead>\n",
              "  <tbody>\n",
              "    <tr>\n",
              "      <th>0</th>\n",
              "      <td>23</td>\n",
              "      <td>44</td>\n",
              "      <td>190</td>\n",
              "      <td>836000</td>\n",
              "    </tr>\n",
              "    <tr>\n",
              "      <th>1</th>\n",
              "      <td>63</td>\n",
              "      <td>2</td>\n",
              "      <td>166</td>\n",
              "      <td>33200</td>\n",
              "    </tr>\n",
              "    <tr>\n",
              "      <th>2</th>\n",
              "      <td>94</td>\n",
              "      <td>45</td>\n",
              "      <td>78</td>\n",
              "      <td>351000</td>\n",
              "    </tr>\n",
              "    <tr>\n",
              "      <th>3</th>\n",
              "      <td>6</td>\n",
              "      <td>29</td>\n",
              "      <td>189</td>\n",
              "      <td>548100</td>\n",
              "    </tr>\n",
              "    <tr>\n",
              "      <th>4</th>\n",
              "      <td>95</td>\n",
              "      <td>15</td>\n",
              "      <td>275</td>\n",
              "      <td>412500</td>\n",
              "    </tr>\n",
              "  </tbody>\n",
              "</table>\n",
              "</div>"
            ],
            "text/plain": [
              "   number_of_doctors  visits  advertising   sales\n",
              "0                 23      44          190  836000\n",
              "1                 63       2          166   33200\n",
              "2                 94      45           78  351000\n",
              "3                  6      29          189  548100\n",
              "4                 95      15          275  412500"
            ]
          },
          "metadata": {
            "tags": []
          },
          "execution_count": 4
        }
      ]
    },
    {
      "cell_type": "code",
      "metadata": {
        "id": "E_fD-Zx6AGWT",
        "colab_type": "code",
        "colab": {
          "base_uri": "https://localhost:8080/",
          "height": 70
        },
        "outputId": "58173774-daa6-4187-dd0d-60f3fed01f7e"
      },
      "source": [
        "from sklearn.metrics import mean_absolute_error\n",
        "\n",
        "X = data[['number_of_doctors', 'visits', 'advertising']]\n",
        "y = data['sales']\n",
        "reg = LinearRegression().fit(X, y)\n",
        "print('Weights: {}'.format(reg.coef_))\n",
        "print('Bias: {}'.format(reg.intercept_))\n",
        "\n",
        "pred_values = reg.predict(data[['number_of_doctors', 'visits', 'advertising']])\n",
        "print('Error: {}'.format(mean_absolute_error(pred_values, y)))"
      ],
      "execution_count": 5,
      "outputs": [
        {
          "output_type": "stream",
          "text": [
            "Weights: [   47.81584152 15714.59968621  2447.26067137]\n",
            "Bias: -391271.4137186959\n",
            "Error: 96168.5165423173\n"
          ],
          "name": "stdout"
        }
      ]
    },
    {
      "cell_type": "code",
      "metadata": {
        "id": "ldeG5j6NAGTO",
        "colab_type": "code",
        "colab": {
          "base_uri": "https://localhost:8080/",
          "height": 70
        },
        "outputId": "db565895-c936-498c-cf47-05a6ab2a1814"
      },
      "source": [
        "from sklearn.metrics import mean_absolute_error\n",
        "\n",
        "X = data[[ 'visits', 'advertising']]\n",
        "y = data['sales']\n",
        "reg = LinearRegression().fit(X, y)\n",
        "print('Weights: {}'.format(reg.coef_))\n",
        "print('Bias: {}'.format(reg.intercept_))\n",
        "\n",
        "pred_values = reg.predict(data[['visits', 'advertising']])\n",
        "print('Error: {}'.format(mean_absolute_error(pred_values, y)))"
      ],
      "execution_count": 6,
      "outputs": [
        {
          "output_type": "stream",
          "text": [
            "Weights: [15709.8744931   2445.64361279]\n",
            "Bias: -388607.84573195194\n",
            "Error: 96062.97664940884\n"
          ],
          "name": "stdout"
        }
      ]
    },
    {
      "cell_type": "markdown",
      "metadata": {
        "id": "lDrDMBQDFYTI",
        "colab_type": "text"
      },
      "source": [
        "Добавим новый показатель затраты фармкомпаний, логично предположить чем больше компания инвестирует в грамотное продвижение, тем выше продажи. У нас есть траты на рекламу, и есть количество визитов, средняя стоимость одного визита 500, теперь мы легко сможем посчитать сколько каждая компания тратит денег на промоцию.\n"
      ]
    },
    {
      "cell_type": "code",
      "metadata": {
        "id": "8gZNzFhhAGPn",
        "colab_type": "code",
        "colab": {
          "base_uri": "https://localhost:8080/",
          "height": 197
        },
        "outputId": "0a583fa5-c666-421c-b636-e0220dfea89f"
      },
      "source": [
        "# Если не умножать количество визитов на их стоимость 500, то всё работает хорошо, и ошибка минимальная.\n",
        "data['costs'] = data['visits'] * data['advertising']\n",
        "data.head()"
      ],
      "execution_count": 15,
      "outputs": [
        {
          "output_type": "execute_result",
          "data": {
            "text/html": [
              "<div>\n",
              "<style scoped>\n",
              "    .dataframe tbody tr th:only-of-type {\n",
              "        vertical-align: middle;\n",
              "    }\n",
              "\n",
              "    .dataframe tbody tr th {\n",
              "        vertical-align: top;\n",
              "    }\n",
              "\n",
              "    .dataframe thead th {\n",
              "        text-align: right;\n",
              "    }\n",
              "</style>\n",
              "<table border=\"1\" class=\"dataframe\">\n",
              "  <thead>\n",
              "    <tr style=\"text-align: right;\">\n",
              "      <th></th>\n",
              "      <th>number_of_doctors</th>\n",
              "      <th>visits</th>\n",
              "      <th>advertising</th>\n",
              "      <th>sales</th>\n",
              "      <th>costs</th>\n",
              "    </tr>\n",
              "  </thead>\n",
              "  <tbody>\n",
              "    <tr>\n",
              "      <th>0</th>\n",
              "      <td>23</td>\n",
              "      <td>44</td>\n",
              "      <td>190</td>\n",
              "      <td>836000</td>\n",
              "      <td>8360</td>\n",
              "    </tr>\n",
              "    <tr>\n",
              "      <th>1</th>\n",
              "      <td>63</td>\n",
              "      <td>2</td>\n",
              "      <td>166</td>\n",
              "      <td>33200</td>\n",
              "      <td>332</td>\n",
              "    </tr>\n",
              "    <tr>\n",
              "      <th>2</th>\n",
              "      <td>94</td>\n",
              "      <td>45</td>\n",
              "      <td>78</td>\n",
              "      <td>351000</td>\n",
              "      <td>3510</td>\n",
              "    </tr>\n",
              "    <tr>\n",
              "      <th>3</th>\n",
              "      <td>6</td>\n",
              "      <td>29</td>\n",
              "      <td>189</td>\n",
              "      <td>548100</td>\n",
              "      <td>5481</td>\n",
              "    </tr>\n",
              "    <tr>\n",
              "      <th>4</th>\n",
              "      <td>95</td>\n",
              "      <td>15</td>\n",
              "      <td>275</td>\n",
              "      <td>412500</td>\n",
              "      <td>4125</td>\n",
              "    </tr>\n",
              "  </tbody>\n",
              "</table>\n",
              "</div>"
            ],
            "text/plain": [
              "   number_of_doctors  visits  advertising   sales  costs\n",
              "0                 23      44          190  836000   8360\n",
              "1                 63       2          166   33200    332\n",
              "2                 94      45           78  351000   3510\n",
              "3                  6      29          189  548100   5481\n",
              "4                 95      15          275  412500   4125"
            ]
          },
          "metadata": {
            "tags": []
          },
          "execution_count": 15
        }
      ]
    },
    {
      "cell_type": "code",
      "metadata": {
        "id": "0kKpHIEpAGMg",
        "colab_type": "code",
        "colab": {
          "base_uri": "https://localhost:8080/",
          "height": 70
        },
        "outputId": "61c6bf01-25aa-46bd-c0b7-9f132b74549f"
      },
      "source": [
        "X = data[['costs']]\n",
        "y = data['sales']\n",
        "reg = LinearRegression().fit(X, y)\n",
        "print('Weights: {}'.format(reg.coef_))\n",
        "print('Bias: {}'.format(reg.intercept_))\n",
        "\n",
        "pred_values = reg.predict(data[['costs']])\n",
        "print('Error: {}'.format(mean_absolute_error(pred_values, y)))"
      ],
      "execution_count": 16,
      "outputs": [
        {
          "output_type": "stream",
          "text": [
            "Weights: [100.]\n",
            "Bias: 0.0\n",
            "Error: 5.96022194561859e-11\n"
          ],
          "name": "stdout"
        }
      ]
    },
    {
      "cell_type": "code",
      "metadata": {
        "id": "Gyel_j-IAGIx",
        "colab_type": "code",
        "colab": {
          "base_uri": "https://localhost:8080/",
          "height": 197
        },
        "outputId": "5f418c99-b65f-4cd8-fef3-e39ce24c5078"
      },
      "source": [
        "# Но если умножить то ошибка почему-то становится еще больше.\n",
        "data['costs'] = data['visits'] * 500 + data['advertising']\n",
        "data.head()"
      ],
      "execution_count": 17,
      "outputs": [
        {
          "output_type": "execute_result",
          "data": {
            "text/html": [
              "<div>\n",
              "<style scoped>\n",
              "    .dataframe tbody tr th:only-of-type {\n",
              "        vertical-align: middle;\n",
              "    }\n",
              "\n",
              "    .dataframe tbody tr th {\n",
              "        vertical-align: top;\n",
              "    }\n",
              "\n",
              "    .dataframe thead th {\n",
              "        text-align: right;\n",
              "    }\n",
              "</style>\n",
              "<table border=\"1\" class=\"dataframe\">\n",
              "  <thead>\n",
              "    <tr style=\"text-align: right;\">\n",
              "      <th></th>\n",
              "      <th>number_of_doctors</th>\n",
              "      <th>visits</th>\n",
              "      <th>advertising</th>\n",
              "      <th>sales</th>\n",
              "      <th>costs</th>\n",
              "    </tr>\n",
              "  </thead>\n",
              "  <tbody>\n",
              "    <tr>\n",
              "      <th>0</th>\n",
              "      <td>23</td>\n",
              "      <td>44</td>\n",
              "      <td>190</td>\n",
              "      <td>836000</td>\n",
              "      <td>22190</td>\n",
              "    </tr>\n",
              "    <tr>\n",
              "      <th>1</th>\n",
              "      <td>63</td>\n",
              "      <td>2</td>\n",
              "      <td>166</td>\n",
              "      <td>33200</td>\n",
              "      <td>1166</td>\n",
              "    </tr>\n",
              "    <tr>\n",
              "      <th>2</th>\n",
              "      <td>94</td>\n",
              "      <td>45</td>\n",
              "      <td>78</td>\n",
              "      <td>351000</td>\n",
              "      <td>22578</td>\n",
              "    </tr>\n",
              "    <tr>\n",
              "      <th>3</th>\n",
              "      <td>6</td>\n",
              "      <td>29</td>\n",
              "      <td>189</td>\n",
              "      <td>548100</td>\n",
              "      <td>14689</td>\n",
              "    </tr>\n",
              "    <tr>\n",
              "      <th>4</th>\n",
              "      <td>95</td>\n",
              "      <td>15</td>\n",
              "      <td>275</td>\n",
              "      <td>412500</td>\n",
              "      <td>7775</td>\n",
              "    </tr>\n",
              "  </tbody>\n",
              "</table>\n",
              "</div>"
            ],
            "text/plain": [
              "   number_of_doctors  visits  advertising   sales  costs\n",
              "0                 23      44          190  836000  22190\n",
              "1                 63       2          166   33200   1166\n",
              "2                 94      45           78  351000  22578\n",
              "3                  6      29          189  548100  14689\n",
              "4                 95      15          275  412500   7775"
            ]
          },
          "metadata": {
            "tags": []
          },
          "execution_count": 17
        }
      ]
    },
    {
      "cell_type": "code",
      "metadata": {
        "id": "biBFjZtqAGEZ",
        "colab_type": "code",
        "colab": {
          "base_uri": "https://localhost:8080/",
          "height": 70
        },
        "outputId": "ed148d1e-5731-40e3-9a23-ee07c964657b"
      },
      "source": [
        "X = data[['costs']]\n",
        "y = data['sales']\n",
        "reg = LinearRegression().fit(X, y)\n",
        "print('Weights: {}'.format(reg.coef_))\n",
        "print('Bias: {}'.format(reg.intercept_))\n",
        "\n",
        "pred_values = reg.predict(data[['costs']])\n",
        "print('Error: {}'.format(mean_absolute_error(pred_values, y)))"
      ],
      "execution_count": 18,
      "outputs": [
        {
          "output_type": "stream",
          "text": [
            "Weights: [30.72437597]\n",
            "Bias: -281.62233925494365\n",
            "Error: 181639.4832392757\n"
          ],
          "name": "stdout"
        }
      ]
    },
    {
      "cell_type": "code",
      "metadata": {
        "id": "CM5W58-yAGBR",
        "colab_type": "code",
        "colab": {}
      },
      "source": [
        ""
      ],
      "execution_count": 0,
      "outputs": []
    }
  ]
}