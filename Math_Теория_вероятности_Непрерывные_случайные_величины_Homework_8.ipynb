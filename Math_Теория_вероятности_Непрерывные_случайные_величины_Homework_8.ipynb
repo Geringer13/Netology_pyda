{
  "nbformat": 4,
  "nbformat_minor": 0,
  "metadata": {
    "kernelspec": {
      "display_name": "Python 3",
      "language": "python",
      "name": "python3"
    },
    "language_info": {
      "codemirror_mode": {
        "name": "ipython",
        "version": 3
      },
      "file_extension": ".py",
      "mimetype": "text/x-python",
      "name": "python",
      "nbconvert_exporter": "python",
      "pygments_lexer": "ipython3",
      "version": "3.7.5"
    },
    "colab": {
      "name": "Math_Теория вероятности. Непрерывные случайные величины_Homework_8.ipynb",
      "provenance": [],
      "collapsed_sections": [],
      "include_colab_link": true
    }
  },
  "cells": [
    {
      "cell_type": "markdown",
      "metadata": {
        "id": "view-in-github",
        "colab_type": "text"
      },
      "source": [
        "<a href=\"https://colab.research.google.com/github/Geringer13/Netology_pyda/blob/master/Math_%D0%A2%D0%B5%D0%BE%D1%80%D0%B8%D1%8F_%D0%B2%D0%B5%D1%80%D0%BE%D1%8F%D1%82%D0%BD%D0%BE%D1%81%D1%82%D0%B8_%D0%9D%D0%B5%D0%BF%D1%80%D0%B5%D1%80%D1%8B%D0%B2%D0%BD%D1%8B%D0%B5_%D1%81%D0%BB%D1%83%D1%87%D0%B0%D0%B9%D0%BD%D1%8B%D0%B5_%D0%B2%D0%B5%D0%BB%D0%B8%D1%87%D0%B8%D0%BD%D1%8B_Homework_8.ipynb\" target=\"_parent\"><img src=\"https://colab.research.google.com/assets/colab-badge.svg\" alt=\"Open In Colab\"/></a>"
      ]
    },
    {
      "cell_type": "code",
      "metadata": {
        "id": "vvR8ZpefEwTI",
        "colab_type": "code",
        "colab": {}
      },
      "source": [
        "import math\n",
        "import numpy as np\n",
        "from scipy.stats import entropy\n",
        "import pandas as pd\n",
        "import matplotlib.pyplot as plt\n",
        "import scipy.stats as sts"
      ],
      "execution_count": 0,
      "outputs": []
    },
    {
      "cell_type": "markdown",
      "metadata": {
        "id": "kGQvrL0DCPLE",
        "colab_type": "text"
      },
      "source": [
        "### Задание 1\n",
        "\n",
        "Получить интуицию, на что влияют параметры распределений. Построить по 5 функций плотностей с разными параметрами для каждого распределения: нормальное, экспоненциальное, Стьюдента на одном графике."
      ]
    },
    {
      "cell_type": "markdown",
      "metadata": {
        "id": "IeOd8J831n9E",
        "colab_type": "text"
      },
      "source": [
        "Нормальное распределение"
      ]
    },
    {
      "cell_type": "code",
      "metadata": {
        "id": "AlXoexWLCSQT",
        "colab_type": "code",
        "colab": {
          "base_uri": "https://localhost:8080/",
          "height": 52
        },
        "outputId": "e837ef71-d525-4a30-f8fe-e830b24684fb"
      },
      "source": [
        "norm_rv = sts.norm(loc=3, scale=0.1)\n",
        "norm_rv_1 = sts.norm(loc=2, scale=0.5)\n",
        "norm_rv_2 = sts.norm(loc=1, scale=0.1)\n",
        "norm_rv_3 = sts.norm(loc=3, scale=1)\n",
        "norm_rv_4 = sts.norm(loc=2, scale=1)\n",
        "\n",
        "norm_rv.rvs(size=10)\n",
        "norm_rv_1.rvs(size=10)\n",
        "norm_rv_2.rvs(size=10)\n",
        "norm_rv_3.rvs(size=10)\n",
        "norm_rv_4.rvs(size=10)"
      ],
      "execution_count": 90,
      "outputs": [
        {
          "output_type": "execute_result",
          "data": {
            "text/plain": [
              "array([0.89420972, 3.06339969, 2.89380701, 3.42902476, 1.05912963,\n",
              "       2.72079647, 2.75541023, 1.49446334, 1.01298979, 3.91542026])"
            ]
          },
          "metadata": {
            "tags": []
          },
          "execution_count": 90
        }
      ]
    },
    {
      "cell_type": "code",
      "metadata": {
        "id": "0skgUmiCCSM_",
        "colab_type": "code",
        "colab": {
          "base_uri": "https://localhost:8080/",
          "height": 296
        },
        "outputId": "32ac7285-7817-4f04-b196-8478cbdf8a0c"
      },
      "source": [
        "x = np.linspace(0,4,100)\n",
        "cdf = norm_rv.cdf(x) # функция может принимать и вектор (x)\n",
        "cdf_1 = norm_rv_1.cdf(x) \n",
        "cdf_2 = norm_rv_2.cdf(x)\n",
        "cdf_3 = norm_rv_3.cdf(x)\n",
        "cdf_4 = norm_rv_4.cdf(x)\n",
        "plt.plot(x, cdf, color='g')\n",
        "plt.plot(x, cdf_1, color='black')\n",
        "plt.plot(x, cdf_2, color='b')\n",
        "plt.plot(x, cdf_3, color='r')\n",
        "plt.plot(x, cdf_4, color='y')\n",
        "plt.ylabel('$F(x)$')\n",
        "plt.xlabel('$x$')\n",
        "plt.legend()\n",
        "plt.show()"
      ],
      "execution_count": 93,
      "outputs": [
        {
          "output_type": "stream",
          "text": [
            "No handles with labels found to put in legend.\n"
          ],
          "name": "stderr"
        },
        {
          "output_type": "display_data",
          "data": {
            "image/png": "[encoded data removed]",
            "text/plain": [
              "<Figure size 432x288 with 1 Axes>"
            ]
          },
          "metadata": {
            "tags": []
          }
        }
      ]
    },
    {
      "cell_type": "code",
      "metadata": {
        "id": "0Vh2SfhWMM6y",
        "colab_type": "code",
        "colab": {
          "base_uri": "https://localhost:8080/",
          "height": 278
        },
        "outputId": "da85593d-ddb3-487f-90cd-8f2290e1c77a"
      },
      "source": [
        "x = np.linspace(0,4,100)\n",
        "pdf = norm_rv_1.pdf(x)\n",
        "pdf_1 = norm_rv_1.pdf(x) \n",
        "pdf_2 = norm_rv_2.pdf(x)\n",
        "pdf_3 = norm_rv_3.pdf(x)\n",
        "pdf_4 = norm_rv_4.pdf(x)\n",
        "plt.plot(x, pdf, color='g')\n",
        "plt.plot(x, pdf_1, color='black')\n",
        "plt.plot(x, pdf_2, color='b')\n",
        "plt.plot(x, pdf_3, color='r')\n",
        "plt.plot(x, pdf_4, color='y')\n",
        "\n",
        "plt.ylabel('$f(x)$')\n",
        "plt.xlabel('$x$')\n",
        "plt.show()"
      ],
      "execution_count": 111,
      "outputs": [
        {
          "output_type": "display_data",
          "data": {
            "image/png": "[encoded data removed]",
            "text/plain": [
              "<Figure size 432x288 with 1 Axes>"
            ]
          },
          "metadata": {
            "tags": []
          }
        }
      ]
    },
    {
      "cell_type": "code",
      "metadata": {
        "id": "F6snR0WjMM0N",
        "colab_type": "code",
        "colab": {}
      },
      "source": [
        ""
      ],
      "execution_count": 0,
      "outputs": []
    },
    {
      "cell_type": "markdown",
      "metadata": {
        "id": "USdpNYfUF-uj",
        "colab_type": "text"
      },
      "source": [
        "Экспоненциальное распределение"
      ]
    },
    {
      "cell_type": "code",
      "metadata": {
        "id": "hRmQKIJwGEiT",
        "colab_type": "code",
        "colab": {
          "base_uri": "https://localhost:8080/",
          "height": 52
        },
        "outputId": "eb1159e1-f2a4-4fa4-92fe-7fd536a7305e"
      },
      "source": [
        "expon_rv = sts.expon(0.1)\n",
        "expon_rv_1 = sts.expon(0.5)\n",
        "expon_rv_2 = sts.expon(0.8)\n",
        "expon_rv_3 = sts.expon(1)\n",
        "expon_rv_4 = sts.expon(3)\n",
        "expon_rv.rvs(10)"
      ],
      "execution_count": 86,
      "outputs": [
        {
          "output_type": "execute_result",
          "data": {
            "text/plain": [
              "array([1.21661055, 0.24127985, 0.65642625, 2.24954422, 0.65700815,\n",
              "       1.09448556, 0.37187969, 1.80229068, 0.38962597, 0.27656951])"
            ]
          },
          "metadata": {
            "tags": []
          },
          "execution_count": 86
        }
      ]
    },
    {
      "cell_type": "code",
      "metadata": {
        "id": "-681jtIRGEe3",
        "colab_type": "code",
        "colab": {
          "base_uri": "https://localhost:8080/",
          "height": 278
        },
        "outputId": "677484af-b65a-4831-bfc2-891eb9cd431b"
      },
      "source": [
        "x = np.linspace(0,5,200)\n",
        "cdf = expon_rv.cdf(x)\n",
        "cdf_1 = expon_rv_1.cdf(x)\n",
        "cdf_2 = expon_rv_2.cdf(x)\n",
        "cdf_3 = expon_rv_3.cdf(x)\n",
        "cdf_4 = expon_rv_4.cdf(x)\n",
        "plt.plot(x, cdf, color='g')\n",
        "plt.plot(x, cdf_1, color='black')\n",
        "plt.plot(x, cdf_2, color='b')\n",
        "plt.plot(x, cdf_3, color='r')\n",
        "plt.plot(x, cdf_4, color='y')\n",
        "\n",
        "plt.ylabel('$F(x)$')\n",
        "plt.xlabel('$x$')\n",
        "plt.show()"
      ],
      "execution_count": 88,
      "outputs": [
        {
          "output_type": "display_data",
          "data": {
            "image/png": "[encoded data removed]",
            "text/plain": [
              "<Figure size 432x288 with 1 Axes>"
            ]
          },
          "metadata": {
            "tags": []
          }
        }
      ]
    },
    {
      "cell_type": "markdown",
      "metadata": {
        "id": "wyNmZ4sQRM1X",
        "colab_type": "text"
      },
      "source": [
        "Распределение Стьюдента"
      ]
    },
    {
      "cell_type": "code",
      "metadata": {
        "id": "squxqyC2GEc1",
        "colab_type": "code",
        "colab": {
          "base_uri": "https://localhost:8080/",
          "height": 52
        },
        "outputId": "c2d6ca41-99ab-4cde-f44e-bdd487a4accf"
      },
      "source": [
        "t_rv = sts.t(3)\n",
        "t_rv_1 = sts.t(1)\n",
        "t_rv_2 = sts.t(0.5)\n",
        "t_rv_3 = sts.t(2)\n",
        "t_rv_4 = sts.t(5)\n",
        "\n",
        "t_rv.rvs(10)"
      ],
      "execution_count": 121,
      "outputs": [
        {
          "output_type": "execute_result",
          "data": {
            "text/plain": [
              "array([-2.4160113 , -2.51762132, -1.81756467, -1.874414  ,  0.02171339,\n",
              "       -0.65327034,  0.96848585, -0.09145017,  1.80640564,  0.82768555])"
            ]
          },
          "metadata": {
            "tags": []
          },
          "execution_count": 121
        }
      ]
    },
    {
      "cell_type": "code",
      "metadata": {
        "id": "5qly2TLbGEY6",
        "colab_type": "code",
        "colab": {
          "base_uri": "https://localhost:8080/",
          "height": 278
        },
        "outputId": "0f2f82d9-8b12-4cff-d7c4-311d4b94346f"
      },
      "source": [
        "x = np.linspace(-5,5,100)\n",
        "cdf = t_rv.cdf(x)\n",
        "cdf_1 = t_rv_1.cdf(x)\n",
        "cdf_2 = t_rv_2.cdf(x)\n",
        "cdf_3 = t_rv_3.cdf(x)\n",
        "cdf_4 = t_rv_4.cdf(x)\n",
        "\n",
        "plt.plot(x, cdf, color='g')\n",
        "plt.plot(x, cdf_1, color='black')\n",
        "plt.plot(x, cdf_2, color='b')\n",
        "plt.plot(x, cdf_3, color='r')\n",
        "plt.plot(x, cdf_4, color='y')\n",
        "\n",
        "plt.ylabel('$F(x)$')\n",
        "plt.xlabel('$x$')\n",
        "plt.show()"
      ],
      "execution_count": 123,
      "outputs": [
        {
          "output_type": "display_data",
          "data": {
            "image/png": "[encoded data removed]",
            "text/plain": [
              "<Figure size 432x288 with 1 Axes>"
            ]
          },
          "metadata": {
            "tags": []
          }
        }
      ]
    },
    {
      "cell_type": "code",
      "metadata": {
        "id": "9Cseqjt8GEV5",
        "colab_type": "code",
        "colab": {}
      },
      "source": [
        ""
      ],
      "execution_count": 0,
      "outputs": []
    },
    {
      "cell_type": "code",
      "metadata": {
        "id": "KUu1nXW8GERX",
        "colab_type": "code",
        "colab": {}
      },
      "source": [
        ""
      ],
      "execution_count": 0,
      "outputs": []
    },
    {
      "cell_type": "markdown",
      "metadata": {
        "id": "M7oIstcpCPLG",
        "colab_type": "text"
      },
      "source": [
        "### Задание 2"
      ]
    },
    {
      "cell_type": "markdown",
      "metadata": {
        "id": "B2i-H6ufCPLI",
        "colab_type": "text"
      },
      "source": [
        "Непрерывная случайная величина задана плотностью распределения:\n",
        "$$ f(\\xi) = C, x \\in [0;5];f(\\xi) = 0, x \\notin [0;5]$$\n",
        "Найдите C, математическое ожидание $\\xi$ а также вероятность попадания $\\xi$ в отрезок $[3.5;7]$, т.е. $P(3.5<\\xi<7)$."
      ]
    },
    {
      "cell_type": "code",
      "metadata": {
        "id": "IdQ2n5OYCRmb",
        "colab_type": "code",
        "colab": {}
      },
      "source": [
        ""
      ],
      "execution_count": 0,
      "outputs": []
    },
    {
      "cell_type": "code",
      "metadata": {
        "id": "QChI0DoPCRjg",
        "colab_type": "code",
        "colab": {}
      },
      "source": [
        ""
      ],
      "execution_count": 0,
      "outputs": []
    },
    {
      "cell_type": "code",
      "metadata": {
        "id": "6ABPCmwHCRfn",
        "colab_type": "code",
        "colab": {}
      },
      "source": [
        ""
      ],
      "execution_count": 0,
      "outputs": []
    },
    {
      "cell_type": "markdown",
      "metadata": {
        "id": "ZVm-yhUACPLJ",
        "colab_type": "text"
      },
      "source": [
        "### Задание 3\n",
        "Известно, что светофор горит 54 секунды красным, 4 секунды жёлтым и 28 секунд зелёным. Посчитайте, какое количество информации несёт сообщение о цвете светофора в текущий момент. А что будет в случае 28, 28 и 28 секунд для каждого цвета?"
      ]
    },
    {
      "cell_type": "code",
      "metadata": {
        "id": "RnhsXmc0CREC",
        "colab_type": "code",
        "colab": {}
      },
      "source": [
        "red = 54/86\n",
        "yellow = 4/86\n",
        "green = 28/86"
      ],
      "execution_count": 0,
      "outputs": []
    },
    {
      "cell_type": "code",
      "metadata": {
        "id": "3718dkYhJoiN",
        "colab_type": "code",
        "colab": {
          "base_uri": "https://localhost:8080/",
          "height": 34
        },
        "outputId": "df3c3eb9-5dcf-4214-961a-abcee21fc8c9"
      },
      "source": [
        "entropy([red, yellow, green], base=2)"
      ],
      "execution_count": 35,
      "outputs": [
        {
          "output_type": "execute_result",
          "data": {
            "text/plain": [
              "1.1545221624411652"
            ]
          },
          "metadata": {
            "tags": []
          },
          "execution_count": 35
        }
      ]
    },
    {
      "cell_type": "code",
      "metadata": {
        "id": "ktg5NhA7CQ4I",
        "colab_type": "code",
        "colab": {
          "base_uri": "https://localhost:8080/",
          "height": 34
        },
        "outputId": "8f2829c3-7649-499f-a94e-a1081e0e5c00"
      },
      "source": [
        "-(red * math.log2(red) + yellow * math.log2(yellow) + green * math.log2(green))"
      ],
      "execution_count": 49,
      "outputs": [
        {
          "output_type": "execute_result",
          "data": {
            "text/plain": [
              "1.154522162441165"
            ]
          },
          "metadata": {
            "tags": []
          },
          "execution_count": 49
        }
      ]
    },
    {
      "cell_type": "code",
      "metadata": {
        "id": "U583ZTlyFGAJ",
        "colab_type": "code",
        "colab": {
          "base_uri": "https://localhost:8080/",
          "height": 34
        },
        "outputId": "e56c4255-3e0d-4787-87ed-6fe8ff9b01b9"
      },
      "source": [
        "# в случае по 28 секунд для каждого цвета, три равномерных исхода\n",
        "I_2 = math.log2(3)\n",
        "\n",
        "I_2"
      ],
      "execution_count": 39,
      "outputs": [
        {
          "output_type": "execute_result",
          "data": {
            "text/plain": [
              "1.584962500721156"
            ]
          },
          "metadata": {
            "tags": []
          },
          "execution_count": 39
        }
      ]
    },
    {
      "cell_type": "code",
      "metadata": {
        "id": "zRwKxKaqOCSL",
        "colab_type": "code",
        "colab": {
          "base_uri": "https://localhost:8080/",
          "height": 34
        },
        "outputId": "73e65190-0b54-49cf-8589-7c59a23fafe5"
      },
      "source": [
        "-math.log2(1/3)"
      ],
      "execution_count": 44,
      "outputs": [
        {
          "output_type": "execute_result",
          "data": {
            "text/plain": [
              "1.5849625007211563"
            ]
          },
          "metadata": {
            "tags": []
          },
          "execution_count": 44
        }
      ]
    }
  ]
}