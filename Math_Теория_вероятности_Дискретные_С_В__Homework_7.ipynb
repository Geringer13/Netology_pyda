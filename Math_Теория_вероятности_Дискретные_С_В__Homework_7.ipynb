{
  "nbformat": 4,
  "nbformat_minor": 0,
  "metadata": {
    "kernelspec": {
      "display_name": "Python 3",
      "language": "python",
      "name": "python3"
    },
    "language_info": {
      "codemirror_mode": {
        "name": "ipython",
        "version": 3
      },
      "file_extension": ".py",
      "mimetype": "text/x-python",
      "name": "python",
      "nbconvert_exporter": "python",
      "pygments_lexer": "ipython3",
      "version": "3.7.5"
    },
    "colab": {
      "name": "Math_Теория вероятности. Дискретные С.В._Homework_7.ipynb",
      "provenance": [],
      "collapsed_sections": [],
      "include_colab_link": true
    }
  },
  "cells": [
    {
      "cell_type": "markdown",
      "metadata": {
        "id": "view-in-github",
        "colab_type": "text"
      },
      "source": [
        "<a href=\"https://colab.research.google.com/github/Geringer13/Netology_pyda/blob/master/Math_%D0%A2%D0%B5%D0%BE%D1%80%D0%B8%D1%8F_%D0%B2%D0%B5%D1%80%D0%BE%D1%8F%D1%82%D0%BD%D0%BE%D1%81%D1%82%D0%B8_%D0%94%D0%B8%D1%81%D0%BA%D1%80%D0%B5%D1%82%D0%BD%D1%8B%D0%B5_%D0%A1_%D0%92__Homework_7.ipynb\" target=\"_parent\"><img src=\"https://colab.research.google.com/assets/colab-badge.svg\" alt=\"Open In Colab\"/></a>"
      ]
    },
    {
      "cell_type": "markdown",
      "metadata": {
        "id": "a0-5VV50Ke-M",
        "colab_type": "text"
      },
      "source": [
        "### Задание 1"
      ]
    },
    {
      "cell_type": "markdown",
      "metadata": {
        "id": "VwoGFwk4Ke-Q",
        "colab_type": "text"
      },
      "source": [
        "Монетку подбрасывают 15 раз, найдите вероятность выпадения простого числа (решение на бумажке и на python)."
      ]
    },
    {
      "cell_type": "code",
      "metadata": {
        "id": "-M43F6asNp5o",
        "colab_type": "code",
        "colab": {}
      },
      "source": [
        "import math\n",
        "import numpy as np\n",
        "import matplotlib.pyplot as plt\n",
        "import seaborn as sns\n",
        "import statistics\n",
        "import pandas as pd"
      ],
      "execution_count": 0,
      "outputs": []
    },
    {
      "cell_type": "code",
      "metadata": {
        "id": "tE7VA5PUNp28",
        "colab_type": "code",
        "outputId": "bbea5ac7-4c81-4c3f-ee4c-189daba567a9",
        "colab": {
          "base_uri": "https://localhost:8080/",
          "height": 34
        }
      },
      "source": [
        "m = 0\n",
        "n = 2\n",
        "\n",
        "P_A = m/n\n",
        "P_A"
      ],
      "execution_count": 0,
      "outputs": [
        {
          "output_type": "execute_result",
          "data": {
            "text/plain": [
              "0.0"
            ]
          },
          "metadata": {
            "tags": []
          },
          "execution_count": 4
        }
      ]
    },
    {
      "cell_type": "markdown",
      "metadata": {
        "id": "I12KxvSxKe-S",
        "colab_type": "text"
      },
      "source": [
        "### Задание 2"
      ]
    },
    {
      "cell_type": "markdown",
      "metadata": {
        "id": "irMB0TKOKe-W",
        "colab_type": "text"
      },
      "source": [
        "Создайте свою дискретную случайную величину с не менее, чем 10 значениями. Просемплируйте 1000 случайных значений, постройте гистограмму плотности распределения по выборке, посчитайте среднее, дисперсию и медиану."
      ]
    },
    {
      "cell_type": "code",
      "metadata": {
        "id": "kVU5HR1ZhZy0",
        "colab_type": "code",
        "colab": {}
      },
      "source": [
        "a, b, s = 0, 10, 1000\n",
        "v1 = list(np.random.randint(a, b, s))"
      ],
      "execution_count": 0,
      "outputs": []
    },
    {
      "cell_type": "code",
      "metadata": {
        "id": "mfPV_yx0WL5H",
        "colab_type": "code",
        "outputId": "f2379d15-388b-4b69-a28e-539aa9f3cfce",
        "colab": {
          "base_uri": "https://localhost:8080/",
          "height": 282
        }
      },
      "source": [
        "sns.distplot(v1)"
      ],
      "execution_count": 0,
      "outputs": [
        {
          "output_type": "execute_result",
          "data": {
            "text/plain": [
              "<matplotlib.axes._subplots.AxesSubplot at 0x7f02a9ec78d0>"
            ]
          },
          "metadata": {
            "tags": []
          },
          "execution_count": 131
        },
        {
          "output_type": "display_data",
          "data": {
            "image/png": "[encoded data removed]",
            "text/plain": [
              "<Figure size 432x288 with 1 Axes>"
            ]
          },
          "metadata": {
            "tags": []
          }
        }
      ]
    },
    {
      "cell_type": "code",
      "metadata": {
        "id": "v1IGT_PeY545",
        "colab_type": "code",
        "outputId": "de0a61aa-53c6-4977-fcc9-04ee21283d69",
        "colab": {
          "base_uri": "https://localhost:8080/",
          "height": 388
        }
      },
      "source": [
        "plt.figure(figsize=(10,6))\n",
        "plt.hist(v1, 20)\n",
        "plt.xlabel('number')\n",
        "plt.ylabel('frequency')\n",
        "plt.show()"
      ],
      "execution_count": 0,
      "outputs": [
        {
          "output_type": "display_data",
          "data": {
            "image/png": "[encoded data removed]",
            "text/plain": [
              "<Figure size 720x432 with 1 Axes>"
            ]
          },
          "metadata": {
            "tags": []
          }
        }
      ]
    },
    {
      "cell_type": "markdown",
      "metadata": {
        "id": "Kk_czHC1jNFl",
        "colab_type": "text"
      },
      "source": [
        "Медиана"
      ]
    },
    {
      "cell_type": "code",
      "metadata": {
        "id": "JsJJtR7mioAW",
        "colab_type": "code",
        "outputId": "d3039edb-c46e-4b75-9dfe-6e3a3d501932",
        "colab": {
          "base_uri": "https://localhost:8080/",
          "height": 34
        }
      },
      "source": [
        "duration = v1\n",
        "num_duration = len(duration)\n",
        "sorted_duration = sorted(duration)\n",
        "middle = (num_duration // 2)\n",
        "if num_duration%2==0:\n",
        "  result = (sorted_duration[middle-1] + sorted_duration[middle])/2\n",
        "else:\n",
        "  result = sorted_duration[middle]\n",
        "print('Медиана: ', result)"
      ],
      "execution_count": 0,
      "outputs": [
        {
          "output_type": "stream",
          "text": [
            "Медиана:  4.0\n"
          ],
          "name": "stdout"
        }
      ]
    },
    {
      "cell_type": "code",
      "metadata": {
        "id": "Z4YHFsjvaI77",
        "colab_type": "code",
        "outputId": "c04ac2f3-7b50-4283-d896-761ea7d53c35",
        "colab": {
          "base_uri": "https://localhost:8080/",
          "height": 34
        }
      },
      "source": [
        "# медиана\n",
        "statistics.mean(v1)"
      ],
      "execution_count": 0,
      "outputs": [
        {
          "output_type": "execute_result",
          "data": {
            "text/plain": [
              "4"
            ]
          },
          "metadata": {
            "tags": []
          },
          "execution_count": 133
        }
      ]
    },
    {
      "cell_type": "markdown",
      "metadata": {
        "id": "P2GQGhuQjPvc",
        "colab_type": "text"
      },
      "source": [
        "Среднее"
      ]
    },
    {
      "cell_type": "code",
      "metadata": {
        "id": "sia8EABkh50l",
        "colab_type": "code",
        "outputId": "ac7749ac-5bb6-47ab-b9c8-e10d151eae71",
        "colab": {
          "base_uri": "https://localhost:8080/",
          "height": 34
        }
      },
      "source": [
        "# среднее\n",
        "sum(v1)/len(v1)"
      ],
      "execution_count": 0,
      "outputs": [
        {
          "output_type": "execute_result",
          "data": {
            "text/plain": [
              "4.571"
            ]
          },
          "metadata": {
            "tags": []
          },
          "execution_count": 134
        }
      ]
    },
    {
      "cell_type": "markdown",
      "metadata": {
        "id": "8_tpu7gsjjeq",
        "colab_type": "text"
      },
      "source": [
        "Дисперсия"
      ]
    },
    {
      "cell_type": "code",
      "metadata": {
        "id": "D2ZPZENbjlLl",
        "colab_type": "code",
        "outputId": "4543295e-7fa3-4660-fd6c-c423e2507dcc",
        "colab": {
          "base_uri": "https://localhost:8080/",
          "height": 34
        }
      },
      "source": [
        "statistics.pvariance(v1)"
      ],
      "execution_count": 0,
      "outputs": [
        {
          "output_type": "execute_result",
          "data": {
            "text/plain": [
              "8"
            ]
          },
          "metadata": {
            "tags": []
          },
          "execution_count": 138
        }
      ]
    },
    {
      "cell_type": "code",
      "metadata": {
        "id": "xCQ63KMRjoBT",
        "colab_type": "code",
        "outputId": "fefe3417-6579-4264-cda6-bd5a888b8e80",
        "colab": {
          "base_uri": "https://localhost:8080/",
          "height": 34
        }
      },
      "source": [
        "statistics.pstdev(v1)**2"
      ],
      "execution_count": 0,
      "outputs": [
        {
          "output_type": "execute_result",
          "data": {
            "text/plain": [
              "8.000000000000002"
            ]
          },
          "metadata": {
            "tags": []
          },
          "execution_count": 139
        }
      ]
    },
    {
      "cell_type": "markdown",
      "metadata": {
        "id": "ouCbtphCKe-a",
        "colab_type": "text"
      },
      "source": [
        "### Задание 3"
      ]
    },
    {
      "cell_type": "markdown",
      "metadata": {
        "id": "DK-xdC56Ke-c",
        "colab_type": "text"
      },
      "source": [
        "Задача с 17-го слайда лекции про 3 монеты. Покажите, почему 3 события являются попарно независимыми, но <b>не</b> являются независимыми в совокупности."
      ]
    },
    {
      "cell_type": "markdown",
      "metadata": {
        "id": "fZ1OobL9Ke-d",
        "colab_type": "text"
      },
      "source": [
        "### Задание 4 (формула полной вероятности)"
      ]
    },
    {
      "cell_type": "markdown",
      "metadata": {
        "id": "zII3Y0sQKe-f",
        "colab_type": "text"
      },
      "source": [
        "В магазин привезли устройства с 3-х разных предприятий. Соотношение устройств следующее: 20% - продукция первого предприятия, 30% - продукция второго предприятия, 50% - продукция третьего предприятия; далее, 10% продукции первого предприятия высшего сорта, на втором предприятии - 5% и на третьем - 20% продукции высшего сорта. Найти вероятность того, что случайно купленная новая продукция окажется высшего сорта."
      ]
    },
    {
      "cell_type": "markdown",
      "metadata": {
        "id": "3F9o6yrLIzUP",
        "colab_type": "text"
      },
      "source": [
        "1 предприятие - 1p\n",
        "\n",
        "2 предприятие - 2р\n",
        "\n",
        "3 предприятие - 3р\n",
        "\n",
        "Тогда Р(1р) = 2\\10, Р(2р) = 3\\10, Р(3р) = 5\\10\n",
        "\n",
        "Получается, что вероятность продукции первого сорта:\n",
        "2\\10 * 10% + 3\\10 * 5% + 5\\10 * 20% = 0,2 * 10% + 0,3 * 5% + 0,5 * 20% = \n",
        "= 0,02 + 0,01 + 0,1 = 0,13 или 13\\100"
      ]
    }
  ]
}