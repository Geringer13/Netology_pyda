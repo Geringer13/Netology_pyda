{
  "nbformat": 4,
  "nbformat_minor": 0,
  "metadata": {
    "colab": {
      "name": "Final_work_Creating_Model",
      "provenance": [],
      "collapsed_sections": [],
      "authorship_tag": "ABX9TyMRxWs+eaiteWs6Fa5M+ehu",
      "include_colab_link": true
    },
    "kernelspec": {
      "name": "python3",
      "display_name": "Python 3"
    }
  },
  "cells": [
    {
      "cell_type": "markdown",
      "metadata": {
        "id": "view-in-github",
        "colab_type": "text"
      },
      "source": [
        "<a href=\"https://colab.research.google.com/github/Geringer13/Netology_pyda/blob/master/Final_work_Creating_Model.ipynb\" target=\"_parent\"><img src=\"https://colab.research.google.com/assets/colab-badge.svg\" alt=\"Open In Colab\"/></a>"
      ]
    },
    {
      "cell_type": "code",
      "metadata": {
        "id": "c1RXl60NwLb7",
        "colab_type": "code",
        "colab": {}
      },
      "source": [
        "import pandas as pd\n",
        "import numpy as np\n",
        "import statistics\n",
        "import matplotlib.pyplot as plt\n",
        "from sklearn.linear_model import LogisticRegression\n",
        "from sklearn.linear_model import LinearRegression\n",
        "from sklearn.model_selection import train_test_split\n",
        "from sklearn.tree import DecisionTreeClassifier\n",
        "from sklearn.ensemble import RandomForestClassifier\n",
        "from sklearn.model_selection import cross_val_score\n",
        "from sklearn.model_selection import GridSearchCV\n",
        "from sklearn.neighbors import KNeighborsClassifier\n",
        "from sklearn.metrics import precision_recall_curve\n",
        "from sklearn.metrics import roc_auc_score\n",
        "from sklearn.preprocessing import LabelEncoder, OneHotEncoder\n",
        "from sklearn.preprocessing import StandardScaler\n",
        "from sklearn.metrics import roc_curve\n",
        "import seaborn as sns\n",
        "from sklearn.cluster import KMeans, AgglomerativeClustering, DBSCAN, AffinityPropagation\n",
        "from sklearn.metrics import adjusted_rand_score, silhouette_score\n",
        "from sklearn.metrics import mean_squared_error, mean_absolute_error, r2_score"
      ],
      "execution_count": 0,
      "outputs": []
    },
    {
      "cell_type": "markdown",
      "metadata": {
        "id": "umRvK205wmzk",
        "colab_type": "text"
      },
      "source": [
        "Item_Identifier - Id продукта\n",
        "\n",
        "Item_Weight - Вес продукта\n",
        "\n",
        "Item_Fat_Content - Содержание жира в продукте\n",
        "\n",
        "Item_Visibility - %полок, отведенный под наш продукт в конкретном магазине\n",
        "\n",
        "Item_Type - Категория продукта\n",
        "\n",
        "Item_MRP - Максимальная цена продажи продукта\n",
        "\n",
        "Outlet_Identifier - Идентификатор магазина\n",
        "\n",
        "Outlet_Establishment_Year - Год открытия магазина\n",
        "\n",
        "Outlet_Size - Площадь магазина\n",
        "\n",
        "Outlet_Location_Type - Тип города, в котором расположен магазин\n",
        "\n",
        "Outlet_Type - Признак является ли магазин продуктовым или супермаркетом\n",
        "\n",
        "Item_Outlet_Sales - Продажи продукта в конкретном магазине. Именно ее и надо предсказывать\n"
      ]
    },
    {
      "cell_type": "markdown",
      "metadata": {
        "id": "ze73hIWr29EE",
        "colab_type": "text"
      },
      "source": [
        "**Read the file**"
      ]
    },
    {
      "cell_type": "code",
      "metadata": {
        "id": "j-5EWnIWwM0g",
        "colab_type": "code",
        "outputId": "375e1c52-b833-4f99-f9c2-1d7a627971d3",
        "colab": {
          "base_uri": "https://localhost:8080/",
          "height": 309
        }
      },
      "source": [
        "data = pd.read_csv('data.csv')\n",
        "data.head()"
      ],
      "execution_count": 3,
      "outputs": [
        {
          "output_type": "execute_result",
          "data": {
            "text/html": [
              "<div>\n",
              "<style scoped>\n",
              "    .dataframe tbody tr th:only-of-type {\n",
              "        vertical-align: middle;\n",
              "    }\n",
              "\n",
              "    .dataframe tbody tr th {\n",
              "        vertical-align: top;\n",
              "    }\n",
              "\n",
              "    .dataframe thead th {\n",
              "        text-align: right;\n",
              "    }\n",
              "</style>\n",
              "<table border=\"1\" class=\"dataframe\">\n",
              "  <thead>\n",
              "    <tr style=\"text-align: right;\">\n",
              "      <th></th>\n",
              "      <th>Item_Identifier</th>\n",
              "      <th>Item_Weight</th>\n",
              "      <th>Item_Fat_Content</th>\n",
              "      <th>Item_Visibility</th>\n",
              "      <th>Item_Type</th>\n",
              "      <th>Item_MRP</th>\n",
              "      <th>Outlet_Identifier</th>\n",
              "      <th>Outlet_Establishment_Year</th>\n",
              "      <th>Outlet_Size</th>\n",
              "      <th>Outlet_Location_Type</th>\n",
              "      <th>Outlet_Type</th>\n",
              "      <th>Item_Outlet_Sales</th>\n",
              "    </tr>\n",
              "  </thead>\n",
              "  <tbody>\n",
              "    <tr>\n",
              "      <th>0</th>\n",
              "      <td>FDA15</td>\n",
              "      <td>9.30</td>\n",
              "      <td>Low Fat</td>\n",
              "      <td>0.016047</td>\n",
              "      <td>Dairy</td>\n",
              "      <td>249.8092</td>\n",
              "      <td>OUT049</td>\n",
              "      <td>1999</td>\n",
              "      <td>Medium</td>\n",
              "      <td>Tier 1</td>\n",
              "      <td>Supermarket Type1</td>\n",
              "      <td>3735.1380</td>\n",
              "    </tr>\n",
              "    <tr>\n",
              "      <th>1</th>\n",
              "      <td>DRC01</td>\n",
              "      <td>5.92</td>\n",
              "      <td>Regular</td>\n",
              "      <td>0.019278</td>\n",
              "      <td>Soft Drinks</td>\n",
              "      <td>48.2692</td>\n",
              "      <td>OUT018</td>\n",
              "      <td>2009</td>\n",
              "      <td>Medium</td>\n",
              "      <td>Tier 3</td>\n",
              "      <td>Supermarket Type2</td>\n",
              "      <td>443.4228</td>\n",
              "    </tr>\n",
              "    <tr>\n",
              "      <th>2</th>\n",
              "      <td>FDN15</td>\n",
              "      <td>17.50</td>\n",
              "      <td>Low Fat</td>\n",
              "      <td>0.016760</td>\n",
              "      <td>Meat</td>\n",
              "      <td>141.6180</td>\n",
              "      <td>OUT049</td>\n",
              "      <td>1999</td>\n",
              "      <td>Medium</td>\n",
              "      <td>Tier 1</td>\n",
              "      <td>Supermarket Type1</td>\n",
              "      <td>2097.2700</td>\n",
              "    </tr>\n",
              "    <tr>\n",
              "      <th>3</th>\n",
              "      <td>FDX07</td>\n",
              "      <td>19.20</td>\n",
              "      <td>Regular</td>\n",
              "      <td>0.000000</td>\n",
              "      <td>Fruits and Vegetables</td>\n",
              "      <td>182.0950</td>\n",
              "      <td>OUT010</td>\n",
              "      <td>1998</td>\n",
              "      <td>NaN</td>\n",
              "      <td>Tier 3</td>\n",
              "      <td>Grocery Store</td>\n",
              "      <td>732.3800</td>\n",
              "    </tr>\n",
              "    <tr>\n",
              "      <th>4</th>\n",
              "      <td>NCD19</td>\n",
              "      <td>8.93</td>\n",
              "      <td>Low Fat</td>\n",
              "      <td>0.000000</td>\n",
              "      <td>Household</td>\n",
              "      <td>53.8614</td>\n",
              "      <td>OUT013</td>\n",
              "      <td>1987</td>\n",
              "      <td>High</td>\n",
              "      <td>Tier 3</td>\n",
              "      <td>Supermarket Type1</td>\n",
              "      <td>994.7052</td>\n",
              "    </tr>\n",
              "  </tbody>\n",
              "</table>\n",
              "</div>"
            ],
            "text/plain": [
              "  Item_Identifier  Item_Weight  ...        Outlet_Type  Item_Outlet_Sales\n",
              "0           FDA15         9.30  ...  Supermarket Type1          3735.1380\n",
              "1           DRC01         5.92  ...  Supermarket Type2           443.4228\n",
              "2           FDN15        17.50  ...  Supermarket Type1          2097.2700\n",
              "3           FDX07        19.20  ...      Grocery Store           732.3800\n",
              "4           NCD19         8.93  ...  Supermarket Type1           994.7052\n",
              "\n",
              "[5 rows x 12 columns]"
            ]
          },
          "metadata": {
            "tags": []
          },
          "execution_count": 3
        }
      ]
    },
    {
      "cell_type": "markdown",
      "metadata": {
        "id": "PKM95i5W3BpJ",
        "colab_type": "text"
      },
      "source": [
        "**Explore dataset with info, describe etc**"
      ]
    },
    {
      "cell_type": "code",
      "metadata": {
        "id": "MKY9QyTkwMx5",
        "colab_type": "code",
        "outputId": "a70eeebf-2de9-4ea1-c3c7-d71d13d5b057",
        "colab": {
          "base_uri": "https://localhost:8080/",
          "height": 34
        }
      },
      "source": [
        "len(data)"
      ],
      "execution_count": 4,
      "outputs": [
        {
          "output_type": "execute_result",
          "data": {
            "text/plain": [
              "8523"
            ]
          },
          "metadata": {
            "tags": []
          },
          "execution_count": 4
        }
      ]
    },
    {
      "cell_type": "code",
      "metadata": {
        "id": "jHEP3b5VwMuB",
        "colab_type": "code",
        "outputId": "aeae4abe-ca3e-4974-fd3d-9278621ab939",
        "colab": {
          "base_uri": "https://localhost:8080/",
          "height": 306
        }
      },
      "source": [
        "data.info()"
      ],
      "execution_count": 0,
      "outputs": [
        {
          "output_type": "stream",
          "text": [
            "<class 'pandas.core.frame.DataFrame'>\n",
            "RangeIndex: 8523 entries, 0 to 8522\n",
            "Data columns (total 12 columns):\n",
            "Item_Identifier              8523 non-null object\n",
            "Item_Weight                  7060 non-null float64\n",
            "Item_Fat_Content             8523 non-null object\n",
            "Item_Visibility              8523 non-null float64\n",
            "Item_Type                    8523 non-null object\n",
            "Item_MRP                     8523 non-null float64\n",
            "Outlet_Identifier            8523 non-null object\n",
            "Outlet_Establishment_Year    8523 non-null int64\n",
            "Outlet_Size                  6113 non-null object\n",
            "Outlet_Location_Type         8523 non-null object\n",
            "Outlet_Type                  8523 non-null object\n",
            "Item_Outlet_Sales            8523 non-null float64\n",
            "dtypes: float64(4), int64(1), object(7)\n",
            "memory usage: 799.2+ KB\n"
          ],
          "name": "stdout"
        }
      ]
    },
    {
      "cell_type": "code",
      "metadata": {
        "id": "3oZndYSL0M8i",
        "colab_type": "code",
        "outputId": "0b5df3ff-e946-4508-cbfa-0a7cbed240d4",
        "colab": {
          "base_uri": "https://localhost:8080/",
          "height": 238
        }
      },
      "source": [
        "data.isnull().sum()"
      ],
      "execution_count": 0,
      "outputs": [
        {
          "output_type": "execute_result",
          "data": {
            "text/plain": [
              "Item_Identifier                 0\n",
              "Item_Weight                  1463\n",
              "Item_Fat_Content                0\n",
              "Item_Visibility                 0\n",
              "Item_Type                       0\n",
              "Item_MRP                        0\n",
              "Outlet_Identifier               0\n",
              "Outlet_Establishment_Year       0\n",
              "Outlet_Size                  2410\n",
              "Outlet_Location_Type            0\n",
              "Outlet_Type                     0\n",
              "Item_Outlet_Sales               0\n",
              "dtype: int64"
            ]
          },
          "metadata": {
            "tags": []
          },
          "execution_count": 20
        }
      ]
    },
    {
      "cell_type": "code",
      "metadata": {
        "id": "PHimjgxQ2KDi",
        "colab_type": "code",
        "outputId": "464d4cea-300d-4e45-c8fc-8a231cdeb6c9",
        "colab": {
          "base_uri": "https://localhost:8080/",
          "height": 287
        }
      },
      "source": [
        "data.describe()"
      ],
      "execution_count": 0,
      "outputs": [
        {
          "output_type": "execute_result",
          "data": {
            "text/html": [
              "<div>\n",
              "<style scoped>\n",
              "    .dataframe tbody tr th:only-of-type {\n",
              "        vertical-align: middle;\n",
              "    }\n",
              "\n",
              "    .dataframe tbody tr th {\n",
              "        vertical-align: top;\n",
              "    }\n",
              "\n",
              "    .dataframe thead th {\n",
              "        text-align: right;\n",
              "    }\n",
              "</style>\n",
              "<table border=\"1\" class=\"dataframe\">\n",
              "  <thead>\n",
              "    <tr style=\"text-align: right;\">\n",
              "      <th></th>\n",
              "      <th>Item_Weight</th>\n",
              "      <th>Item_Visibility</th>\n",
              "      <th>Item_MRP</th>\n",
              "      <th>Outlet_Establishment_Year</th>\n",
              "      <th>Item_Outlet_Sales</th>\n",
              "    </tr>\n",
              "  </thead>\n",
              "  <tbody>\n",
              "    <tr>\n",
              "      <th>count</th>\n",
              "      <td>7060.000000</td>\n",
              "      <td>8523.000000</td>\n",
              "      <td>8523.000000</td>\n",
              "      <td>8523.000000</td>\n",
              "      <td>8523.000000</td>\n",
              "    </tr>\n",
              "    <tr>\n",
              "      <th>mean</th>\n",
              "      <td>12.857645</td>\n",
              "      <td>0.066132</td>\n",
              "      <td>140.992782</td>\n",
              "      <td>1997.831867</td>\n",
              "      <td>2181.288914</td>\n",
              "    </tr>\n",
              "    <tr>\n",
              "      <th>std</th>\n",
              "      <td>4.643456</td>\n",
              "      <td>0.051598</td>\n",
              "      <td>62.275067</td>\n",
              "      <td>8.371760</td>\n",
              "      <td>1706.499616</td>\n",
              "    </tr>\n",
              "    <tr>\n",
              "      <th>min</th>\n",
              "      <td>4.555000</td>\n",
              "      <td>0.000000</td>\n",
              "      <td>31.290000</td>\n",
              "      <td>1985.000000</td>\n",
              "      <td>33.290000</td>\n",
              "    </tr>\n",
              "    <tr>\n",
              "      <th>25%</th>\n",
              "      <td>8.773750</td>\n",
              "      <td>0.026989</td>\n",
              "      <td>93.826500</td>\n",
              "      <td>1987.000000</td>\n",
              "      <td>834.247400</td>\n",
              "    </tr>\n",
              "    <tr>\n",
              "      <th>50%</th>\n",
              "      <td>12.600000</td>\n",
              "      <td>0.053931</td>\n",
              "      <td>143.012800</td>\n",
              "      <td>1999.000000</td>\n",
              "      <td>1794.331000</td>\n",
              "    </tr>\n",
              "    <tr>\n",
              "      <th>75%</th>\n",
              "      <td>16.850000</td>\n",
              "      <td>0.094585</td>\n",
              "      <td>185.643700</td>\n",
              "      <td>2004.000000</td>\n",
              "      <td>3101.296400</td>\n",
              "    </tr>\n",
              "    <tr>\n",
              "      <th>max</th>\n",
              "      <td>21.350000</td>\n",
              "      <td>0.328391</td>\n",
              "      <td>266.888400</td>\n",
              "      <td>2009.000000</td>\n",
              "      <td>13086.964800</td>\n",
              "    </tr>\n",
              "  </tbody>\n",
              "</table>\n",
              "</div>"
            ],
            "text/plain": [
              "       Item_Weight  ...  Item_Outlet_Sales\n",
              "count  7060.000000  ...        8523.000000\n",
              "mean     12.857645  ...        2181.288914\n",
              "std       4.643456  ...        1706.499616\n",
              "min       4.555000  ...          33.290000\n",
              "25%       8.773750  ...         834.247400\n",
              "50%      12.600000  ...        1794.331000\n",
              "75%      16.850000  ...        3101.296400\n",
              "max      21.350000  ...       13086.964800\n",
              "\n",
              "[8 rows x 5 columns]"
            ]
          },
          "metadata": {
            "tags": []
          },
          "execution_count": 5
        }
      ]
    },
    {
      "cell_type": "markdown",
      "metadata": {
        "id": "KHuShzNU3NTv",
        "colab_type": "text"
      },
      "source": [
        "**We have two columns with NaN values, its Weight and Size. Let`s deal with this, I suggest fill weight NaN values with mean(), and size NaN values transform into 4th feature of a size type.**"
      ]
    },
    {
      "cell_type": "markdown",
      "metadata": {
        "id": "UOPJoXD55vYE",
        "colab_type": "text"
      },
      "source": [
        "Process size feature"
      ]
    },
    {
      "cell_type": "code",
      "metadata": {
        "id": "_XIB8u6rwMkG",
        "colab_type": "code",
        "outputId": "9581c1e8-8be2-4ddd-cd8a-04287a3f2889",
        "colab": {
          "base_uri": "https://localhost:8080/",
          "height": 87
        }
      },
      "source": [
        "# Let`s make 4th feature - another type\n",
        "data['Outlet_Size'].value_counts()"
      ],
      "execution_count": 0,
      "outputs": [
        {
          "output_type": "execute_result",
          "data": {
            "text/plain": [
              "Medium    2793\n",
              "Small     2388\n",
              "High       932\n",
              "Name: Outlet_Size, dtype: int64"
            ]
          },
          "metadata": {
            "tags": []
          },
          "execution_count": 6
        }
      ]
    },
    {
      "cell_type": "code",
      "metadata": {
        "id": "NVSOB1L0wMgH",
        "colab_type": "code",
        "outputId": "011bb189-2793-4b98-8659-d7d57cc3fcec",
        "colab": {
          "base_uri": "https://localhost:8080/",
          "height": 282
        }
      },
      "source": [
        "data['Outlet_Size'].hist()"
      ],
      "execution_count": 0,
      "outputs": [
        {
          "output_type": "execute_result",
          "data": {
            "text/plain": [
              "<matplotlib.axes._subplots.AxesSubplot at 0x7fe540849438>"
            ]
          },
          "metadata": {
            "tags": []
          },
          "execution_count": 35
        },
        {
          "output_type": "display_data",
          "data": {
            "image/png": "[encoded data removed]",
            "text/plain": [
              "<Figure size 432x288 with 1 Axes>"
            ]
          },
          "metadata": {
            "tags": []
          }
        }
      ]
    },
    {
      "cell_type": "code",
      "metadata": {
        "id": "oFEJr0gx4J0x",
        "colab_type": "code",
        "colab": {}
      },
      "source": [
        "data['Outlet_Size'] = data['Outlet_Size'].fillna('Another')"
      ],
      "execution_count": 0,
      "outputs": []
    },
    {
      "cell_type": "code",
      "metadata": {
        "id": "ev4UHTIy4svC",
        "colab_type": "code",
        "outputId": "6686196d-270d-4ec4-d84a-53a44c50b775",
        "colab": {
          "base_uri": "https://localhost:8080/",
          "height": 350
        }
      },
      "source": [
        "data['Outlet_Size'].hist()\n",
        "print(data['Outlet_Size'].value_counts())"
      ],
      "execution_count": 6,
      "outputs": [
        {
          "output_type": "stream",
          "text": [
            "Medium     2793\n",
            "Another    2410\n",
            "Small      2388\n",
            "High        932\n",
            "Name: Outlet_Size, dtype: int64\n"
          ],
          "name": "stdout"
        },
        {
          "output_type": "display_data",
          "data": {
            "image/png": "[encoded data removed]",
            "text/plain": [
              "<Figure size 432x288 with 1 Axes>"
            ]
          },
          "metadata": {
            "tags": [],
            "needs_background": "light"
          }
        }
      ]
    },
    {
      "cell_type": "markdown",
      "metadata": {
        "id": "9P1IavTR6M-w",
        "colab_type": "text"
      },
      "source": [
        "Process weight feature, fill NaN values with mean() according to a item type "
      ]
    },
    {
      "cell_type": "code",
      "metadata": {
        "id": "r0UFSqTY5re7",
        "colab_type": "code",
        "outputId": "981852be-1193-48e6-fb54-2beb5372af23",
        "colab": {
          "base_uri": "https://localhost:8080/",
          "height": 483
        }
      },
      "source": [
        "plt.figure(figsize=(15,8))\n",
        "data['Item_Weight'].hist(bins=15)\n",
        "plt.show()"
      ],
      "execution_count": 0,
      "outputs": [
        {
          "output_type": "display_data",
          "data": {
            "image/png": "[encoded data removed]",
            "text/plain": [
              "<Figure size 1080x576 with 1 Axes>"
            ]
          },
          "metadata": {
            "tags": []
          }
        }
      ]
    },
    {
      "cell_type": "code",
      "metadata": {
        "id": "qqWekVWY6tQj",
        "colab_type": "code",
        "outputId": "87dc7961-1a3f-4fae-d759-3a855a24697e",
        "colab": {
          "base_uri": "https://localhost:8080/",
          "height": 247
        }
      },
      "source": [
        "# we see that amounts of NaN weight valeus equal 1463 records, its huge number\n",
        "\n",
        "print(data['Item_Weight'].value_counts())\n",
        "print(data['Item_Weight'].isna().sum())"
      ],
      "execution_count": 0,
      "outputs": [
        {
          "output_type": "stream",
          "text": [
            "12.150    86\n",
            "17.600    82\n",
            "13.650    77\n",
            "11.800    76\n",
            "15.100    68\n",
            "          ..\n",
            "7.560      2\n",
            "9.420      1\n",
            "5.400      1\n",
            "6.520      1\n",
            "7.685      1\n",
            "Name: Item_Weight, Length: 415, dtype: int64\n",
            "1463\n"
          ],
          "name": "stdout"
        }
      ]
    },
    {
      "cell_type": "code",
      "metadata": {
        "id": "YE5UKw9xF7Ld",
        "colab_type": "code",
        "outputId": "cc5d75fc-6974-4f8a-f5a1-72fd44d3101f",
        "colab": {
          "base_uri": "https://localhost:8080/",
          "height": 85
        }
      },
      "source": [
        "data['Item_Type'].unique()"
      ],
      "execution_count": 0,
      "outputs": [
        {
          "output_type": "execute_result",
          "data": {
            "text/plain": [
              "array(['Dairy', 'Soft Drinks', 'Meat', 'Fruits and Vegetables',\n",
              "       'Household', 'Baking Goods', 'Snack Foods', 'Frozen Foods',\n",
              "       'Breakfast', 'Health and Hygiene', 'Hard Drinks', 'Canned',\n",
              "       'Breads', 'Starchy Foods', 'Others', 'Seafood'], dtype=object)"
            ]
          },
          "metadata": {
            "tags": []
          },
          "execution_count": 28
        }
      ]
    },
    {
      "cell_type": "code",
      "metadata": {
        "id": "16WopR-MIsrz",
        "colab_type": "code",
        "colab": {}
      },
      "source": [
        "# let`s fill NAN values with the mode values for each type\n",
        "# first of all estimate mean values for each type and put it in new dataframe\n",
        "mean = data.groupby('Item_Type').apply(lambda data: data['Item_Weight'].mean())"
      ],
      "execution_count": 0,
      "outputs": []
    },
    {
      "cell_type": "code",
      "metadata": {
        "id": "5zRkmmgdO1Uz",
        "colab_type": "code",
        "outputId": "ba97a065-2e77-4429-912f-0dd06cc25637",
        "colab": {
          "base_uri": "https://localhost:8080/",
          "height": 204
        }
      },
      "source": [
        "mean = pd.DataFrame(mean)\n",
        "mean = mean.reset_index()\n",
        "mean.head()"
      ],
      "execution_count": 12,
      "outputs": [
        {
          "output_type": "execute_result",
          "data": {
            "text/html": [
              "<div>\n",
              "<style scoped>\n",
              "    .dataframe tbody tr th:only-of-type {\n",
              "        vertical-align: middle;\n",
              "    }\n",
              "\n",
              "    .dataframe tbody tr th {\n",
              "        vertical-align: top;\n",
              "    }\n",
              "\n",
              "    .dataframe thead th {\n",
              "        text-align: right;\n",
              "    }\n",
              "</style>\n",
              "<table border=\"1\" class=\"dataframe\">\n",
              "  <thead>\n",
              "    <tr style=\"text-align: right;\">\n",
              "      <th></th>\n",
              "      <th>index</th>\n",
              "      <th>Item_Type</th>\n",
              "      <th>0</th>\n",
              "    </tr>\n",
              "  </thead>\n",
              "  <tbody>\n",
              "    <tr>\n",
              "      <th>0</th>\n",
              "      <td>0</td>\n",
              "      <td>Baking Goods</td>\n",
              "      <td>12.277108</td>\n",
              "    </tr>\n",
              "    <tr>\n",
              "      <th>1</th>\n",
              "      <td>1</td>\n",
              "      <td>Breads</td>\n",
              "      <td>11.346936</td>\n",
              "    </tr>\n",
              "    <tr>\n",
              "      <th>2</th>\n",
              "      <td>2</td>\n",
              "      <td>Breakfast</td>\n",
              "      <td>12.768202</td>\n",
              "    </tr>\n",
              "    <tr>\n",
              "      <th>3</th>\n",
              "      <td>3</td>\n",
              "      <td>Canned</td>\n",
              "      <td>12.305705</td>\n",
              "    </tr>\n",
              "    <tr>\n",
              "      <th>4</th>\n",
              "      <td>4</td>\n",
              "      <td>Dairy</td>\n",
              "      <td>13.426069</td>\n",
              "    </tr>\n",
              "  </tbody>\n",
              "</table>\n",
              "</div>"
            ],
            "text/plain": [
              "   index     Item_Type          0\n",
              "0      0  Baking Goods  12.277108\n",
              "1      1        Breads  11.346936\n",
              "2      2     Breakfast  12.768202\n",
              "3      3        Canned  12.305705\n",
              "4      4         Dairy  13.426069"
            ]
          },
          "metadata": {
            "tags": []
          },
          "execution_count": 12
        }
      ]
    },
    {
      "cell_type": "code",
      "metadata": {
        "id": "lgUH2WJpN6qk",
        "colab_type": "code",
        "colab": {}
      },
      "source": [
        "mean = mean.drop('index', axis=1)"
      ],
      "execution_count": 0,
      "outputs": []
    },
    {
      "cell_type": "code",
      "metadata": {
        "id": "i_LD5W4kN6nF",
        "colab_type": "code",
        "outputId": "3fe5a40f-8725-473b-ba3c-b5e3780b5d9f",
        "colab": {
          "base_uri": "https://localhost:8080/",
          "height": 545
        }
      },
      "source": [
        "mean.columns = ['Item_Type', 'mean']\n",
        "mean"
      ],
      "execution_count": 14,
      "outputs": [
        {
          "output_type": "execute_result",
          "data": {
            "text/html": [
              "<div>\n",
              "<style scoped>\n",
              "    .dataframe tbody tr th:only-of-type {\n",
              "        vertical-align: middle;\n",
              "    }\n",
              "\n",
              "    .dataframe tbody tr th {\n",
              "        vertical-align: top;\n",
              "    }\n",
              "\n",
              "    .dataframe thead th {\n",
              "        text-align: right;\n",
              "    }\n",
              "</style>\n",
              "<table border=\"1\" class=\"dataframe\">\n",
              "  <thead>\n",
              "    <tr style=\"text-align: right;\">\n",
              "      <th></th>\n",
              "      <th>Item_Type</th>\n",
              "      <th>mean</th>\n",
              "    </tr>\n",
              "  </thead>\n",
              "  <tbody>\n",
              "    <tr>\n",
              "      <th>0</th>\n",
              "      <td>Baking Goods</td>\n",
              "      <td>12.277108</td>\n",
              "    </tr>\n",
              "    <tr>\n",
              "      <th>1</th>\n",
              "      <td>Breads</td>\n",
              "      <td>11.346936</td>\n",
              "    </tr>\n",
              "    <tr>\n",
              "      <th>2</th>\n",
              "      <td>Breakfast</td>\n",
              "      <td>12.768202</td>\n",
              "    </tr>\n",
              "    <tr>\n",
              "      <th>3</th>\n",
              "      <td>Canned</td>\n",
              "      <td>12.305705</td>\n",
              "    </tr>\n",
              "    <tr>\n",
              "      <th>4</th>\n",
              "      <td>Dairy</td>\n",
              "      <td>13.426069</td>\n",
              "    </tr>\n",
              "    <tr>\n",
              "      <th>5</th>\n",
              "      <td>Frozen Foods</td>\n",
              "      <td>12.867061</td>\n",
              "    </tr>\n",
              "    <tr>\n",
              "      <th>6</th>\n",
              "      <td>Fruits and Vegetables</td>\n",
              "      <td>13.224769</td>\n",
              "    </tr>\n",
              "    <tr>\n",
              "      <th>7</th>\n",
              "      <td>Hard Drinks</td>\n",
              "      <td>11.400328</td>\n",
              "    </tr>\n",
              "    <tr>\n",
              "      <th>8</th>\n",
              "      <td>Health and Hygiene</td>\n",
              "      <td>13.142314</td>\n",
              "    </tr>\n",
              "    <tr>\n",
              "      <th>9</th>\n",
              "      <td>Household</td>\n",
              "      <td>13.384736</td>\n",
              "    </tr>\n",
              "    <tr>\n",
              "      <th>10</th>\n",
              "      <td>Meat</td>\n",
              "      <td>12.817344</td>\n",
              "    </tr>\n",
              "    <tr>\n",
              "      <th>11</th>\n",
              "      <td>Others</td>\n",
              "      <td>13.853285</td>\n",
              "    </tr>\n",
              "    <tr>\n",
              "      <th>12</th>\n",
              "      <td>Seafood</td>\n",
              "      <td>12.552843</td>\n",
              "    </tr>\n",
              "    <tr>\n",
              "      <th>13</th>\n",
              "      <td>Snack Foods</td>\n",
              "      <td>12.987880</td>\n",
              "    </tr>\n",
              "    <tr>\n",
              "      <th>14</th>\n",
              "      <td>Soft Drinks</td>\n",
              "      <td>11.847460</td>\n",
              "    </tr>\n",
              "    <tr>\n",
              "      <th>15</th>\n",
              "      <td>Starchy Foods</td>\n",
              "      <td>13.690731</td>\n",
              "    </tr>\n",
              "  </tbody>\n",
              "</table>\n",
              "</div>"
            ],
            "text/plain": [
              "                Item_Type       mean\n",
              "0            Baking Goods  12.277108\n",
              "1                  Breads  11.346936\n",
              "2               Breakfast  12.768202\n",
              "3                  Canned  12.305705\n",
              "4                   Dairy  13.426069\n",
              "5            Frozen Foods  12.867061\n",
              "6   Fruits and Vegetables  13.224769\n",
              "7             Hard Drinks  11.400328\n",
              "8      Health and Hygiene  13.142314\n",
              "9               Household  13.384736\n",
              "10                   Meat  12.817344\n",
              "11                 Others  13.853285\n",
              "12                Seafood  12.552843\n",
              "13            Snack Foods  12.987880\n",
              "14            Soft Drinks  11.847460\n",
              "15          Starchy Foods  13.690731"
            ]
          },
          "metadata": {
            "tags": []
          },
          "execution_count": 14
        }
      ]
    },
    {
      "cell_type": "code",
      "metadata": {
        "id": "2K_Mw8X6yLol",
        "colab_type": "code",
        "outputId": "4f028055-58cf-49a4-baf9-d74f7800411d",
        "colab": {
          "base_uri": "https://localhost:8080/",
          "height": 549
        }
      },
      "source": [
        "# merge general dataframe with mode\n",
        "data = data.merge(mean, how='left')\n",
        "data.head(10)"
      ],
      "execution_count": 15,
      "outputs": [
        {
          "output_type": "execute_result",
          "data": {
            "text/html": [
              "<div>\n",
              "<style scoped>\n",
              "    .dataframe tbody tr th:only-of-type {\n",
              "        vertical-align: middle;\n",
              "    }\n",
              "\n",
              "    .dataframe tbody tr th {\n",
              "        vertical-align: top;\n",
              "    }\n",
              "\n",
              "    .dataframe thead th {\n",
              "        text-align: right;\n",
              "    }\n",
              "</style>\n",
              "<table border=\"1\" class=\"dataframe\">\n",
              "  <thead>\n",
              "    <tr style=\"text-align: right;\">\n",
              "      <th></th>\n",
              "      <th>Item_Identifier</th>\n",
              "      <th>Item_Weight</th>\n",
              "      <th>Item_Fat_Content</th>\n",
              "      <th>Item_Visibility</th>\n",
              "      <th>Item_Type</th>\n",
              "      <th>Item_MRP</th>\n",
              "      <th>Outlet_Identifier</th>\n",
              "      <th>Outlet_Establishment_Year</th>\n",
              "      <th>Outlet_Size</th>\n",
              "      <th>Outlet_Location_Type</th>\n",
              "      <th>Outlet_Type</th>\n",
              "      <th>Item_Outlet_Sales</th>\n",
              "      <th>mean</th>\n",
              "    </tr>\n",
              "  </thead>\n",
              "  <tbody>\n",
              "    <tr>\n",
              "      <th>0</th>\n",
              "      <td>FDA15</td>\n",
              "      <td>9.300</td>\n",
              "      <td>Low Fat</td>\n",
              "      <td>0.016047</td>\n",
              "      <td>Dairy</td>\n",
              "      <td>249.8092</td>\n",
              "      <td>OUT049</td>\n",
              "      <td>1999</td>\n",
              "      <td>Medium</td>\n",
              "      <td>Tier 1</td>\n",
              "      <td>Supermarket Type1</td>\n",
              "      <td>3735.1380</td>\n",
              "      <td>13.426069</td>\n",
              "    </tr>\n",
              "    <tr>\n",
              "      <th>1</th>\n",
              "      <td>DRC01</td>\n",
              "      <td>5.920</td>\n",
              "      <td>Regular</td>\n",
              "      <td>0.019278</td>\n",
              "      <td>Soft Drinks</td>\n",
              "      <td>48.2692</td>\n",
              "      <td>OUT018</td>\n",
              "      <td>2009</td>\n",
              "      <td>Medium</td>\n",
              "      <td>Tier 3</td>\n",
              "      <td>Supermarket Type2</td>\n",
              "      <td>443.4228</td>\n",
              "      <td>11.847460</td>\n",
              "    </tr>\n",
              "    <tr>\n",
              "      <th>2</th>\n",
              "      <td>FDN15</td>\n",
              "      <td>17.500</td>\n",
              "      <td>Low Fat</td>\n",
              "      <td>0.016760</td>\n",
              "      <td>Meat</td>\n",
              "      <td>141.6180</td>\n",
              "      <td>OUT049</td>\n",
              "      <td>1999</td>\n",
              "      <td>Medium</td>\n",
              "      <td>Tier 1</td>\n",
              "      <td>Supermarket Type1</td>\n",
              "      <td>2097.2700</td>\n",
              "      <td>12.817344</td>\n",
              "    </tr>\n",
              "    <tr>\n",
              "      <th>3</th>\n",
              "      <td>FDX07</td>\n",
              "      <td>19.200</td>\n",
              "      <td>Regular</td>\n",
              "      <td>0.000000</td>\n",
              "      <td>Fruits and Vegetables</td>\n",
              "      <td>182.0950</td>\n",
              "      <td>OUT010</td>\n",
              "      <td>1998</td>\n",
              "      <td>Another</td>\n",
              "      <td>Tier 3</td>\n",
              "      <td>Grocery Store</td>\n",
              "      <td>732.3800</td>\n",
              "      <td>13.224769</td>\n",
              "    </tr>\n",
              "    <tr>\n",
              "      <th>4</th>\n",
              "      <td>NCD19</td>\n",
              "      <td>8.930</td>\n",
              "      <td>Low Fat</td>\n",
              "      <td>0.000000</td>\n",
              "      <td>Household</td>\n",
              "      <td>53.8614</td>\n",
              "      <td>OUT013</td>\n",
              "      <td>1987</td>\n",
              "      <td>High</td>\n",
              "      <td>Tier 3</td>\n",
              "      <td>Supermarket Type1</td>\n",
              "      <td>994.7052</td>\n",
              "      <td>13.384736</td>\n",
              "    </tr>\n",
              "    <tr>\n",
              "      <th>5</th>\n",
              "      <td>FDP36</td>\n",
              "      <td>10.395</td>\n",
              "      <td>Regular</td>\n",
              "      <td>0.000000</td>\n",
              "      <td>Baking Goods</td>\n",
              "      <td>51.4008</td>\n",
              "      <td>OUT018</td>\n",
              "      <td>2009</td>\n",
              "      <td>Medium</td>\n",
              "      <td>Tier 3</td>\n",
              "      <td>Supermarket Type2</td>\n",
              "      <td>556.6088</td>\n",
              "      <td>12.277108</td>\n",
              "    </tr>\n",
              "    <tr>\n",
              "      <th>6</th>\n",
              "      <td>FDO10</td>\n",
              "      <td>13.650</td>\n",
              "      <td>Regular</td>\n",
              "      <td>0.012741</td>\n",
              "      <td>Snack Foods</td>\n",
              "      <td>57.6588</td>\n",
              "      <td>OUT013</td>\n",
              "      <td>1987</td>\n",
              "      <td>High</td>\n",
              "      <td>Tier 3</td>\n",
              "      <td>Supermarket Type1</td>\n",
              "      <td>343.5528</td>\n",
              "      <td>12.987880</td>\n",
              "    </tr>\n",
              "    <tr>\n",
              "      <th>7</th>\n",
              "      <td>FDP10</td>\n",
              "      <td>NaN</td>\n",
              "      <td>Low Fat</td>\n",
              "      <td>0.127470</td>\n",
              "      <td>Snack Foods</td>\n",
              "      <td>107.7622</td>\n",
              "      <td>OUT027</td>\n",
              "      <td>1985</td>\n",
              "      <td>Medium</td>\n",
              "      <td>Tier 3</td>\n",
              "      <td>Supermarket Type3</td>\n",
              "      <td>4022.7636</td>\n",
              "      <td>12.987880</td>\n",
              "    </tr>\n",
              "    <tr>\n",
              "      <th>8</th>\n",
              "      <td>FDH17</td>\n",
              "      <td>16.200</td>\n",
              "      <td>Regular</td>\n",
              "      <td>0.016687</td>\n",
              "      <td>Frozen Foods</td>\n",
              "      <td>96.9726</td>\n",
              "      <td>OUT045</td>\n",
              "      <td>2002</td>\n",
              "      <td>Another</td>\n",
              "      <td>Tier 2</td>\n",
              "      <td>Supermarket Type1</td>\n",
              "      <td>1076.5986</td>\n",
              "      <td>12.867061</td>\n",
              "    </tr>\n",
              "    <tr>\n",
              "      <th>9</th>\n",
              "      <td>FDU28</td>\n",
              "      <td>19.200</td>\n",
              "      <td>Regular</td>\n",
              "      <td>0.094450</td>\n",
              "      <td>Frozen Foods</td>\n",
              "      <td>187.8214</td>\n",
              "      <td>OUT017</td>\n",
              "      <td>2007</td>\n",
              "      <td>Another</td>\n",
              "      <td>Tier 2</td>\n",
              "      <td>Supermarket Type1</td>\n",
              "      <td>4710.5350</td>\n",
              "      <td>12.867061</td>\n",
              "    </tr>\n",
              "  </tbody>\n",
              "</table>\n",
              "</div>"
            ],
            "text/plain": [
              "  Item_Identifier  Item_Weight  ... Item_Outlet_Sales       mean\n",
              "0           FDA15        9.300  ...         3735.1380  13.426069\n",
              "1           DRC01        5.920  ...          443.4228  11.847460\n",
              "2           FDN15       17.500  ...         2097.2700  12.817344\n",
              "3           FDX07       19.200  ...          732.3800  13.224769\n",
              "4           NCD19        8.930  ...          994.7052  13.384736\n",
              "5           FDP36       10.395  ...          556.6088  12.277108\n",
              "6           FDO10       13.650  ...          343.5528  12.987880\n",
              "7           FDP10          NaN  ...         4022.7636  12.987880\n",
              "8           FDH17       16.200  ...         1076.5986  12.867061\n",
              "9           FDU28       19.200  ...         4710.5350  12.867061\n",
              "\n",
              "[10 rows x 13 columns]"
            ]
          },
          "metadata": {
            "tags": []
          },
          "execution_count": 15
        }
      ]
    },
    {
      "cell_type": "code",
      "metadata": {
        "id": "S2UBE4Ja5BLK",
        "colab_type": "code",
        "colab": {}
      },
      "source": [
        "data['Item_Weight'] = data['Item_Weight'].fillna('nothing')"
      ],
      "execution_count": 0,
      "outputs": []
    },
    {
      "cell_type": "code",
      "metadata": {
        "id": "_U50JGVZ1CjB",
        "colab_type": "code",
        "colab": {}
      },
      "source": [
        "data.loc[data['Item_Weight']=='nothing', 'Item_Weight'] = data['mean']"
      ],
      "execution_count": 0,
      "outputs": []
    },
    {
      "cell_type": "code",
      "metadata": {
        "id": "6QwGGqSn9xHG",
        "colab_type": "code",
        "colab": {}
      },
      "source": [
        "data = data.drop('mean', axis=1)"
      ],
      "execution_count": 0,
      "outputs": []
    },
    {
      "cell_type": "code",
      "metadata": {
        "id": "-HIrc2Lp8wbx",
        "colab_type": "code",
        "outputId": "15dad21c-09f4-4c74-d9b3-c181386e66ac",
        "colab": {
          "base_uri": "https://localhost:8080/",
          "height": 340
        }
      },
      "source": [
        "data.info()"
      ],
      "execution_count": 20,
      "outputs": [
        {
          "output_type": "stream",
          "text": [
            "<class 'pandas.core.frame.DataFrame'>\n",
            "Int64Index: 8523 entries, 0 to 8522\n",
            "Data columns (total 12 columns):\n",
            " #   Column                     Non-Null Count  Dtype  \n",
            "---  ------                     --------------  -----  \n",
            " 0   Item_Identifier            8523 non-null   object \n",
            " 1   Item_Weight                8523 non-null   object \n",
            " 2   Item_Fat_Content           8523 non-null   object \n",
            " 3   Item_Visibility            8523 non-null   float64\n",
            " 4   Item_Type                  8523 non-null   object \n",
            " 5   Item_MRP                   8523 non-null   float64\n",
            " 6   Outlet_Identifier          8523 non-null   object \n",
            " 7   Outlet_Establishment_Year  8523 non-null   int64  \n",
            " 8   Outlet_Size                8523 non-null   object \n",
            " 9   Outlet_Location_Type       8523 non-null   object \n",
            " 10  Outlet_Type                8523 non-null   object \n",
            " 11  Item_Outlet_Sales          8523 non-null   float64\n",
            "dtypes: float64(3), int64(1), object(8)\n",
            "memory usage: 1.2+ MB\n"
          ],
          "name": "stdout"
        }
      ]
    },
    {
      "cell_type": "markdown",
      "metadata": {
        "id": "Pzc5p9C88fde",
        "colab_type": "text"
      },
      "source": [
        "Nice, we have filled all nan values, lets research our data"
      ]
    },
    {
      "cell_type": "code",
      "metadata": {
        "id": "swItSIE68sch",
        "colab_type": "code",
        "outputId": "aff4f947-3ddf-4d80-ed34-9dab41a508f8",
        "colab": {
          "base_uri": "https://localhost:8080/",
          "height": 282
        }
      },
      "source": [
        "# let`s look for different distributions\n",
        "data['Item_Weight'].hist(bins=55)"
      ],
      "execution_count": 21,
      "outputs": [
        {
          "output_type": "execute_result",
          "data": {
            "text/plain": [
              "<matplotlib.axes._subplots.AxesSubplot at 0x7fa95cb8f0b8>"
            ]
          },
          "metadata": {
            "tags": []
          },
          "execution_count": 21
        },
        {
          "output_type": "display_data",
          "data": {
            "image/png": "[encoded data removed]",
            "text/plain": [
              "<Figure size 432x288 with 1 Axes>"
            ]
          },
          "metadata": {
            "tags": [],
            "needs_background": "light"
          }
        }
      ]
    },
    {
      "cell_type": "code",
      "metadata": {
        "id": "771vKWl98sZn",
        "colab_type": "code",
        "outputId": "acd5ae58-a046-46bd-8490-21f3dbd4cb92",
        "colab": {
          "base_uri": "https://localhost:8080/",
          "height": 282
        }
      },
      "source": [
        "data['Item_Visibility'].hist(bins=55)"
      ],
      "execution_count": 22,
      "outputs": [
        {
          "output_type": "execute_result",
          "data": {
            "text/plain": [
              "<matplotlib.axes._subplots.AxesSubplot at 0x7fa95cb68da0>"
            ]
          },
          "metadata": {
            "tags": []
          },
          "execution_count": 22
        },
        {
          "output_type": "display_data",
          "data": {
            "image/png": "[encoded data removed]",
            "text/plain": [
              "<Figure size 432x288 with 1 Axes>"
            ]
          },
          "metadata": {
            "tags": [],
            "needs_background": "light"
          }
        }
      ]
    },
    {
      "cell_type": "code",
      "metadata": {
        "id": "9Mh90lzP8sWh",
        "colab_type": "code",
        "outputId": "3070d984-c077-4f63-bc8e-505320ff304d",
        "colab": {
          "base_uri": "https://localhost:8080/",
          "height": 282
        }
      },
      "source": [
        "data['Item_MRP'].hist(bins=55)"
      ],
      "execution_count": 23,
      "outputs": [
        {
          "output_type": "execute_result",
          "data": {
            "text/plain": [
              "<matplotlib.axes._subplots.AxesSubplot at 0x7fa95cbc5f28>"
            ]
          },
          "metadata": {
            "tags": []
          },
          "execution_count": 23
        },
        {
          "output_type": "display_data",
          "data": {
            "image/png": "[encoded data removed]",
            "text/plain": [
              "<Figure size 432x288 with 1 Axes>"
            ]
          },
          "metadata": {
            "tags": [],
            "needs_background": "light"
          }
        }
      ]
    },
    {
      "cell_type": "code",
      "metadata": {
        "id": "EO6aSycS8sTm",
        "colab_type": "code",
        "outputId": "b53d5974-106e-4f23-8b89-83618fc6bbe5",
        "colab": {
          "base_uri": "https://localhost:8080/",
          "height": 286
        }
      },
      "source": [
        "data['Item_Outlet_Sales'].hist(bins=55)"
      ],
      "execution_count": 24,
      "outputs": [
        {
          "output_type": "execute_result",
          "data": {
            "text/plain": [
              "<matplotlib.axes._subplots.AxesSubplot at 0x7fa95c8796a0>"
            ]
          },
          "metadata": {
            "tags": []
          },
          "execution_count": 24
        },
        {
          "output_type": "display_data",
          "data": {
            "image/png": "[encoded data removed]",
            "text/plain": [
              "<Figure size 432x288 with 1 Axes>"
            ]
          },
          "metadata": {
            "tags": [],
            "needs_background": "light"
          }
        }
      ]
    },
    {
      "cell_type": "code",
      "metadata": {
        "id": "oQmUMpifArHT",
        "colab_type": "code",
        "outputId": "0118d405-59f5-45af-ba83-4d9c73b3cc11",
        "colab": {
          "base_uri": "https://localhost:8080/",
          "height": 282
        }
      },
      "source": [
        "data['Outlet_Establishment_Year'].hist(bins=55)"
      ],
      "execution_count": 0,
      "outputs": [
        {
          "output_type": "execute_result",
          "data": {
            "text/plain": [
              "<matplotlib.axes._subplots.AxesSubplot at 0x7f1dfa084780>"
            ]
          },
          "metadata": {
            "tags": []
          },
          "execution_count": 227
        },
        {
          "output_type": "display_data",
          "data": {
            "image/png": "[encoded data removed]",
            "text/plain": [
              "<Figure size 432x288 with 1 Axes>"
            ]
          },
          "metadata": {
            "tags": [],
            "needs_background": "light"
          }
        }
      ]
    },
    {
      "cell_type": "code",
      "metadata": {
        "id": "rKHADqqZA6qZ",
        "colab_type": "code",
        "outputId": "e414a7fc-498f-4d2c-b121-823d16f575ba",
        "colab": {
          "base_uri": "https://localhost:8080/",
          "height": 282
        }
      },
      "source": [
        "data['Outlet_Size'].hist(bins=55)"
      ],
      "execution_count": 0,
      "outputs": [
        {
          "output_type": "execute_result",
          "data": {
            "text/plain": [
              "<matplotlib.axes._subplots.AxesSubplot at 0x7f1df9ff06a0>"
            ]
          },
          "metadata": {
            "tags": []
          },
          "execution_count": 228
        },
        {
          "output_type": "display_data",
          "data": {
            "image/png": "[encoded data removed]",
            "text/plain": [
              "<Figure size 432x288 with 1 Axes>"
            ]
          },
          "metadata": {
            "tags": [],
            "needs_background": "light"
          }
        }
      ]
    },
    {
      "cell_type": "code",
      "metadata": {
        "id": "gjf2Cj2iA6ks",
        "colab_type": "code",
        "outputId": "a733e547-a763-40fd-aa26-95b93cbeef1a",
        "colab": {
          "base_uri": "https://localhost:8080/",
          "height": 282
        }
      },
      "source": [
        "data['Item_Fat_Content'].hist(bins=55)"
      ],
      "execution_count": 0,
      "outputs": [
        {
          "output_type": "execute_result",
          "data": {
            "text/plain": [
              "<matplotlib.axes._subplots.AxesSubplot at 0x7f1df9ec9d68>"
            ]
          },
          "metadata": {
            "tags": []
          },
          "execution_count": 229
        },
        {
          "output_type": "display_data",
          "data": {
            "image/png": "[encoded data removed]",
            "text/plain": [
              "<Figure size 432x288 with 1 Axes>"
            ]
          },
          "metadata": {
            "tags": [],
            "needs_background": "light"
          }
        }
      ]
    },
    {
      "cell_type": "code",
      "metadata": {
        "id": "WJjBRq5dA6hX",
        "colab_type": "code",
        "outputId": "bcedbac2-3d2f-4040-d08a-571cca7c1cb4",
        "colab": {
          "base_uri": "https://localhost:8080/",
          "height": 282
        }
      },
      "source": [
        "data['Item_Visibility'].hist(bins=55)"
      ],
      "execution_count": 0,
      "outputs": [
        {
          "output_type": "execute_result",
          "data": {
            "text/plain": [
              "<matplotlib.axes._subplots.AxesSubplot at 0x7f1df9e2e6d8>"
            ]
          },
          "metadata": {
            "tags": []
          },
          "execution_count": 230
        },
        {
          "output_type": "display_data",
          "data": {
            "image/png": "[encoded data removed]",
            "text/plain": [
              "<Figure size 432x288 with 1 Axes>"
            ]
          },
          "metadata": {
            "tags": [],
            "needs_background": "light"
          }
        }
      ]
    },
    {
      "cell_type": "code",
      "metadata": {
        "id": "N2ZL3Tj7A6bY",
        "colab_type": "code",
        "outputId": "78fdc6b7-9615-499b-897c-1bfacbc86f0f",
        "colab": {
          "base_uri": "https://localhost:8080/",
          "height": 282
        }
      },
      "source": [
        "data['Item_Weight'].hist(bins=55)"
      ],
      "execution_count": 0,
      "outputs": [
        {
          "output_type": "execute_result",
          "data": {
            "text/plain": [
              "<matplotlib.axes._subplots.AxesSubplot at 0x7f1df9cdfeb8>"
            ]
          },
          "metadata": {
            "tags": []
          },
          "execution_count": 231
        },
        {
          "output_type": "display_data",
          "data": {
            "image/png": "[encoded data removed]",
            "text/plain": [
              "<Figure size 432x288 with 1 Axes>"
            ]
          },
          "metadata": {
            "tags": [],
            "needs_background": "light"
          }
        }
      ]
    },
    {
      "cell_type": "code",
      "metadata": {
        "id": "BE0Fu3jtJlSr",
        "colab_type": "code",
        "colab": {}
      },
      "source": [
        "# look at sales rating according to different features\n",
        "sales = data.groupby('Item_Type').sum().sort_values('Item_Outlet_Sales', ascending=True).reset_index()"
      ],
      "execution_count": 0,
      "outputs": []
    },
    {
      "cell_type": "code",
      "metadata": {
        "id": "qpgALOIRInS2",
        "colab_type": "code",
        "outputId": "7789dd04-c20a-4406-c29e-c076083a94f8",
        "colab": {
          "base_uri": "https://localhost:8080/",
          "height": 334
        }
      },
      "source": [
        "plt.figure(figsize=(15,5))\n",
        "plt.barh(sales['Item_Type'], sales['Item_Outlet_Sales'])\n",
        "plt.xlabel('sales')\n",
        "plt.ylabel('type')\n",
        "plt.show()"
      ],
      "execution_count": 26,
      "outputs": [
        {
          "output_type": "display_data",
          "data": {
            "image/png": "[encoded data removed]",
            "text/plain": [
              "<Figure size 1080x360 with 1 Axes>"
            ]
          },
          "metadata": {
            "tags": [],
            "needs_background": "light"
          }
        }
      ]
    },
    {
      "cell_type": "code",
      "metadata": {
        "id": "ilsNVtp7_ptT",
        "colab_type": "code",
        "colab": {}
      },
      "source": [
        "sales2 = data.groupby('Item_Fat_Content').sum().sort_values('Item_Outlet_Sales', ascending=True).reset_index()"
      ],
      "execution_count": 0,
      "outputs": []
    },
    {
      "cell_type": "code",
      "metadata": {
        "id": "8VMe8B1P_cJL",
        "colab_type": "code",
        "outputId": "426b6422-bf5e-4f97-87b2-5f40921a0161",
        "colab": {
          "base_uri": "https://localhost:8080/",
          "height": 334
        }
      },
      "source": [
        "plt.figure(figsize=(15,5))\n",
        "plt.barh(sales2['Item_Fat_Content'], sales2['Item_Outlet_Sales'])\n",
        "plt.xlabel('sales')\n",
        "plt.show()"
      ],
      "execution_count": 28,
      "outputs": [
        {
          "output_type": "display_data",
          "data": {
            "image/png": "[encoded data removed]",
            "text/plain": [
              "<Figure size 1080x360 with 1 Axes>"
            ]
          },
          "metadata": {
            "tags": [],
            "needs_background": "light"
          }
        }
      ]
    },
    {
      "cell_type": "code",
      "metadata": {
        "id": "8V6_Q2jJ_gTS",
        "colab_type": "code",
        "colab": {}
      },
      "source": [
        "sales3 = data.groupby('Outlet_Size').sum().sort_values('Item_Outlet_Sales', ascending=True).reset_index()"
      ],
      "execution_count": 0,
      "outputs": []
    },
    {
      "cell_type": "code",
      "metadata": {
        "id": "WtYIl4pV_gNS",
        "colab_type": "code",
        "outputId": "a7c60ffa-5b3e-48dd-8eaf-0a466fdaae2f",
        "colab": {
          "base_uri": "https://localhost:8080/",
          "height": 334
        }
      },
      "source": [
        "plt.figure(figsize=(15,5))\n",
        "plt.barh(sales3['Outlet_Size'], sales3['Item_Outlet_Sales'])\n",
        "plt.xlabel('sales')\n",
        "plt.show()"
      ],
      "execution_count": 30,
      "outputs": [
        {
          "output_type": "display_data",
          "data": {
            "image/png": "[encoded data removed]",
            "text/plain": [
              "<Figure size 1080x360 with 1 Axes>"
            ]
          },
          "metadata": {
            "tags": [],
            "needs_background": "light"
          }
        }
      ]
    },
    {
      "cell_type": "code",
      "metadata": {
        "id": "jAkhug2ZAU8W",
        "colab_type": "code",
        "colab": {}
      },
      "source": [
        "sales4 = data.groupby('Outlet_Identifier').sum().sort_values('Item_Outlet_Sales', ascending=True).reset_index()"
      ],
      "execution_count": 0,
      "outputs": []
    },
    {
      "cell_type": "code",
      "metadata": {
        "id": "cJYjIddyAU3W",
        "colab_type": "code",
        "outputId": "822d2a7e-2381-431f-c728-1cacf2004ca5",
        "colab": {
          "base_uri": "https://localhost:8080/",
          "height": 334
        }
      },
      "source": [
        "plt.figure(figsize=(15,5))\n",
        "plt.barh(sales4['Outlet_Identifier'], sales4['Item_Outlet_Sales'])\n",
        "plt.xlabel('sales')\n",
        "plt.show()"
      ],
      "execution_count": 32,
      "outputs": [
        {
          "output_type": "display_data",
          "data": {
            "image/png": "[encoded data removed]",
            "text/plain": [
              "<Figure size 1080x360 with 1 Axes>"
            ]
          },
          "metadata": {
            "tags": [],
            "needs_background": "light"
          }
        }
      ]
    },
    {
      "cell_type": "code",
      "metadata": {
        "id": "_F2vyyebAUzi",
        "colab_type": "code",
        "outputId": "6b008bd4-e337-49d8-f04d-698e74b2fbcc",
        "colab": {
          "base_uri": "https://localhost:8080/",
          "height": 279
        }
      },
      "source": [
        "# lets look at sales correlation with different features\n",
        "\n",
        "plt.scatter(data['Item_Outlet_Sales'], data['Item_Weight'])\n",
        "plt.xlabel('sales')\n",
        "plt.show()"
      ],
      "execution_count": 33,
      "outputs": [
        {
          "output_type": "display_data",
          "data": {
            "image/png": "[encoded data removed]",
            "text/plain": [
              "<Figure size 432x288 with 1 Axes>"
            ]
          },
          "metadata": {
            "tags": [],
            "needs_background": "light"
          }
        }
      ]
    },
    {
      "cell_type": "code",
      "metadata": {
        "id": "oQoFiUJDAUwZ",
        "colab_type": "code",
        "outputId": "02a38fca-78a2-483c-ada1-98e5300b5dfb",
        "colab": {
          "base_uri": "https://localhost:8080/",
          "height": 279
        }
      },
      "source": [
        "plt.scatter(data['Item_Outlet_Sales'], data['Item_Visibility'])\n",
        "plt.xlabel('sales')\n",
        "plt.show()"
      ],
      "execution_count": 34,
      "outputs": [
        {
          "output_type": "display_data",
          "data": {
            "image/png": "[encoded data removed]",
            "text/plain": [
              "<Figure size 432x288 with 1 Axes>"
            ]
          },
          "metadata": {
            "tags": [],
            "needs_background": "light"
          }
        }
      ]
    },
    {
      "cell_type": "code",
      "metadata": {
        "id": "4HRk1v0yDK3J",
        "colab_type": "code",
        "outputId": "dbdaf550-3cae-428b-cffb-172a61ebc165",
        "colab": {
          "base_uri": "https://localhost:8080/",
          "height": 279
        }
      },
      "source": [
        "plt.scatter(data['Item_Outlet_Sales'], data['Item_MRP'])\n",
        "plt.xlabel('sales')\n",
        "plt.show()"
      ],
      "execution_count": 35,
      "outputs": [
        {
          "output_type": "display_data",
          "data": {
            "image/png": "[encoded data removed]",
            "text/plain": [
              "<Figure size 432x288 with 1 Axes>"
            ]
          },
          "metadata": {
            "tags": [],
            "needs_background": "light"
          }
        }
      ]
    },
    {
      "cell_type": "markdown",
      "metadata": {
        "id": "p7J1EK1SDp6Y",
        "colab_type": "text"
      },
      "source": [
        "So, we need to process categorical features to get more information about correlation in data"
      ]
    },
    {
      "cell_type": "code",
      "metadata": {
        "id": "qt8JzdL6GXZz",
        "colab_type": "code",
        "colab": {}
      },
      "source": [
        "# let`s use label encoder for processing categorical features\n",
        "le = LabelEncoder()"
      ],
      "execution_count": 0,
      "outputs": []
    },
    {
      "cell_type": "code",
      "metadata": {
        "id": "TrH0NImULkRR",
        "colab_type": "code",
        "colab": {}
      },
      "source": [
        "data['Item_Fat_Content'] = le.fit_transform(data['Item_Fat_Content'])\n",
        "data['Item_Type'] = le.fit_transform(data['Item_Type'])\n",
        "data['Outlet_Size'] = le.fit_transform(data['Outlet_Size'])\n",
        "data['Outlet_Location_Type'] = le.fit_transform(data['Outlet_Location_Type'])\n",
        "data['Outlet_Type'] = le.fit_transform(data['Outlet_Type'])\n",
        "data['Outlet_Establishment_Year'] = le.fit_transform(data['Outlet_Establishment_Year'])"
      ],
      "execution_count": 0,
      "outputs": []
    },
    {
      "cell_type": "code",
      "metadata": {
        "id": "k5k7lgN-NL61",
        "colab_type": "code",
        "outputId": "d2aca8df-4160-4dd8-cead-e4709372c38a",
        "colab": {
          "base_uri": "https://localhost:8080/",
          "height": 736
        }
      },
      "source": [
        "plt.figure(figsize=(10,10))\n",
        "sns.heatmap(data.corr())"
      ],
      "execution_count": 38,
      "outputs": [
        {
          "output_type": "execute_result",
          "data": {
            "text/plain": [
              "<matplotlib.axes._subplots.AxesSubplot at 0x7fa959dfaa58>"
            ]
          },
          "metadata": {
            "tags": []
          },
          "execution_count": 38
        },
        {
          "output_type": "display_data",
          "data": {
            "image/png": "[encoded data removed]",
            "text/plain": [
              "<Figure size 720x720 with 2 Axes>"
            ]
          },
          "metadata": {
            "tags": [],
            "needs_background": "light"
          }
        }
      ]
    },
    {
      "cell_type": "markdown",
      "metadata": {
        "id": "-EIrB1paPo3o",
        "colab_type": "text"
      },
      "source": [
        "So, let`s try to build up the models: Linearregression and RandomForrest. Im going to use MAE - mean absolute error to evaluate model results because we will predict sales numbers, this is continuous values."
      ]
    },
    {
      "cell_type": "code",
      "metadata": {
        "id": "kRYr198Lculi",
        "colab_type": "code",
        "colab": {}
      },
      "source": [
        "data_scal = data[['Item_MRP', 'Outlet_Location_Type', 'Outlet_Type', 'Item_Outlet_Sales']]\n",
        "headers = data_scal.columns"
      ],
      "execution_count": 0,
      "outputs": []
    },
    {
      "cell_type": "code",
      "metadata": {
        "id": "fU2VmL0WcnU6",
        "colab_type": "code",
        "colab": {}
      },
      "source": [
        "scaler = StandardScaler()\n",
        "data_scal = scaler.fit_transform(data_scal)"
      ],
      "execution_count": 0,
      "outputs": []
    },
    {
      "cell_type": "code",
      "metadata": {
        "id": "cezIujuDcz1g",
        "colab_type": "code",
        "colab": {}
      },
      "source": [
        "data_scal = pd.DataFrame(data_scal)\n",
        "data_scal.columns = headers"
      ],
      "execution_count": 0,
      "outputs": []
    },
    {
      "cell_type": "code",
      "metadata": {
        "id": "sRRE90eEPI7V",
        "colab_type": "code",
        "colab": {}
      },
      "source": [
        "# for linear model I will leave only three feature which have the largest data correlation\n",
        "X = data_scal[['Item_MRP', 'Outlet_Location_Type', 'Outlet_Type']]\n",
        "y = data_scal['Item_Outlet_Sales']"
      ],
      "execution_count": 0,
      "outputs": []
    },
    {
      "cell_type": "code",
      "metadata": {
        "id": "VsURnS3SVBBy",
        "colab_type": "code",
        "colab": {}
      },
      "source": [
        "X_train, X_test, y_train, y_test = train_test_split(X, y, test_size=0.3)"
      ],
      "execution_count": 0,
      "outputs": []
    },
    {
      "cell_type": "code",
      "metadata": {
        "id": "WdToyiTPPIvU",
        "colab_type": "code",
        "colab": {}
      },
      "source": [
        "model_lin = LinearRegression()\n",
        "model_lin.fit(X_train, y_train)\n",
        "prediction_lin = model_lin.predict(X_test)"
      ],
      "execution_count": 0,
      "outputs": []
    },
    {
      "cell_type": "code",
      "metadata": {
        "id": "QF2cNtFIR8NE",
        "colab_type": "code",
        "outputId": "92b7cf46-1c3c-472b-9725-608fbde9a1e1",
        "colab": {
          "base_uri": "https://localhost:8080/",
          "height": 34
        }
      },
      "source": [
        "model_lin.score(X_test, y_test)"
      ],
      "execution_count": 47,
      "outputs": [
        {
          "output_type": "execute_result",
          "data": {
            "text/plain": [
              "0.5261590515940961"
            ]
          },
          "metadata": {
            "tags": []
          },
          "execution_count": 47
        }
      ]
    },
    {
      "cell_type": "code",
      "metadata": {
        "id": "r6qRsyrtWU-n",
        "colab_type": "code",
        "outputId": "20c48ed0-92aa-4d15-b10a-7b0eabdf3d7f",
        "colab": {
          "base_uri": "https://localhost:8080/",
          "height": 34
        }
      },
      "source": [
        "print(\"MAE: \\t\", mean_absolute_error(y_test, prediction_lin))"
      ],
      "execution_count": 48,
      "outputs": [
        {
          "output_type": "stream",
          "text": [
            "MAE: \t 0.5161532231684581\n"
          ],
          "name": "stdout"
        }
      ]
    },
    {
      "cell_type": "code",
      "metadata": {
        "id": "0hmppPUkWlHf",
        "colab_type": "code",
        "colab": {}
      },
      "source": [
        "# for i, j in zip(y_test, prediction_lin):\n",
        "#     print('target:', i, 'pred:', j)"
      ],
      "execution_count": 0,
      "outputs": []
    },
    {
      "cell_type": "code",
      "metadata": {
        "id": "C2IhYWtlUEks",
        "colab_type": "code",
        "outputId": "a5b75d7d-f24a-4f5c-aabc-1ead6aa9c058",
        "colab": {
          "base_uri": "https://localhost:8080/",
          "height": 34
        }
      },
      "source": [
        "# let`s try polynomial regression\n",
        "from sklearn.preprocessing import PolynomialFeatures\n",
        "poly_reg = PolynomialFeatures(degree=4)\n",
        "X_poly = poly_reg.fit_transform(X_train)\n",
        "pol_reg = LinearRegression()\n",
        "pol_reg.fit(X_poly, y_train)\n",
        "# prediction_poly = model_lin.predict(X_poly)\n",
        "pol_reg.score(poly_reg.fit_transform(X_test), y_test)"
      ],
      "execution_count": 54,
      "outputs": [
        {
          "output_type": "execute_result",
          "data": {
            "text/plain": [
              "0.6213526954899234"
            ]
          },
          "metadata": {
            "tags": []
          },
          "execution_count": 54
        }
      ]
    },
    {
      "cell_type": "code",
      "metadata": {
        "id": "TLnyFienXNZF",
        "colab_type": "code",
        "colab": {}
      },
      "source": [
        "# print(\"MAE: \\t\", mean_absolute_error(y_test, prediction_lin))"
      ],
      "execution_count": 0,
      "outputs": []
    },
    {
      "cell_type": "code",
      "metadata": {
        "id": "Bj0qCbhYfpLu",
        "colab_type": "code",
        "outputId": "5aab2a29-9564-41d1-b837-64f9caa453a9",
        "colab": {
          "base_uri": "https://localhost:8080/",
          "height": 224
        }
      },
      "source": [
        "data_proba = data[data['Item_Outlet_Sales']<= 5000] \n",
        "data_proba.head()"
      ],
      "execution_count": 57,
      "outputs": [
        {
          "output_type": "execute_result",
          "data": {
            "text/html": [
              "<div>\n",
              "<style scoped>\n",
              "    .dataframe tbody tr th:only-of-type {\n",
              "        vertical-align: middle;\n",
              "    }\n",
              "\n",
              "    .dataframe tbody tr th {\n",
              "        vertical-align: top;\n",
              "    }\n",
              "\n",
              "    .dataframe thead th {\n",
              "        text-align: right;\n",
              "    }\n",
              "</style>\n",
              "<table border=\"1\" class=\"dataframe\">\n",
              "  <thead>\n",
              "    <tr style=\"text-align: right;\">\n",
              "      <th></th>\n",
              "      <th>Item_Identifier</th>\n",
              "      <th>Item_Weight</th>\n",
              "      <th>Item_Fat_Content</th>\n",
              "      <th>Item_Visibility</th>\n",
              "      <th>Item_Type</th>\n",
              "      <th>Item_MRP</th>\n",
              "      <th>Outlet_Identifier</th>\n",
              "      <th>Outlet_Establishment_Year</th>\n",
              "      <th>Outlet_Size</th>\n",
              "      <th>Outlet_Location_Type</th>\n",
              "      <th>Outlet_Type</th>\n",
              "      <th>Item_Outlet_Sales</th>\n",
              "    </tr>\n",
              "  </thead>\n",
              "  <tbody>\n",
              "    <tr>\n",
              "      <th>0</th>\n",
              "      <td>FDA15</td>\n",
              "      <td>9.3</td>\n",
              "      <td>1</td>\n",
              "      <td>0.016047</td>\n",
              "      <td>4</td>\n",
              "      <td>249.8092</td>\n",
              "      <td>OUT049</td>\n",
              "      <td>4</td>\n",
              "      <td>2</td>\n",
              "      <td>0</td>\n",
              "      <td>1</td>\n",
              "      <td>3735.1380</td>\n",
              "    </tr>\n",
              "    <tr>\n",
              "      <th>1</th>\n",
              "      <td>DRC01</td>\n",
              "      <td>5.92</td>\n",
              "      <td>2</td>\n",
              "      <td>0.019278</td>\n",
              "      <td>14</td>\n",
              "      <td>48.2692</td>\n",
              "      <td>OUT018</td>\n",
              "      <td>8</td>\n",
              "      <td>2</td>\n",
              "      <td>2</td>\n",
              "      <td>2</td>\n",
              "      <td>443.4228</td>\n",
              "    </tr>\n",
              "    <tr>\n",
              "      <th>2</th>\n",
              "      <td>FDN15</td>\n",
              "      <td>17.5</td>\n",
              "      <td>1</td>\n",
              "      <td>0.016760</td>\n",
              "      <td>10</td>\n",
              "      <td>141.6180</td>\n",
              "      <td>OUT049</td>\n",
              "      <td>4</td>\n",
              "      <td>2</td>\n",
              "      <td>0</td>\n",
              "      <td>1</td>\n",
              "      <td>2097.2700</td>\n",
              "    </tr>\n",
              "    <tr>\n",
              "      <th>3</th>\n",
              "      <td>FDX07</td>\n",
              "      <td>19.2</td>\n",
              "      <td>2</td>\n",
              "      <td>0.000000</td>\n",
              "      <td>6</td>\n",
              "      <td>182.0950</td>\n",
              "      <td>OUT010</td>\n",
              "      <td>3</td>\n",
              "      <td>0</td>\n",
              "      <td>2</td>\n",
              "      <td>0</td>\n",
              "      <td>732.3800</td>\n",
              "    </tr>\n",
              "    <tr>\n",
              "      <th>4</th>\n",
              "      <td>NCD19</td>\n",
              "      <td>8.93</td>\n",
              "      <td>1</td>\n",
              "      <td>0.000000</td>\n",
              "      <td>9</td>\n",
              "      <td>53.8614</td>\n",
              "      <td>OUT013</td>\n",
              "      <td>1</td>\n",
              "      <td>1</td>\n",
              "      <td>2</td>\n",
              "      <td>1</td>\n",
              "      <td>994.7052</td>\n",
              "    </tr>\n",
              "  </tbody>\n",
              "</table>\n",
              "</div>"
            ],
            "text/plain": [
              "  Item_Identifier Item_Weight  ...  Outlet_Type  Item_Outlet_Sales\n",
              "0           FDA15         9.3  ...            1          3735.1380\n",
              "1           DRC01        5.92  ...            2           443.4228\n",
              "2           FDN15        17.5  ...            1          2097.2700\n",
              "3           FDX07        19.2  ...            0           732.3800\n",
              "4           NCD19        8.93  ...            1           994.7052\n",
              "\n",
              "[5 rows x 12 columns]"
            ]
          },
          "metadata": {
            "tags": []
          },
          "execution_count": 57
        }
      ]
    },
    {
      "cell_type": "code",
      "metadata": {
        "id": "DIRVLBrTfpDQ",
        "colab_type": "code",
        "colab": {}
      },
      "source": [
        "# two times\n",
        "data_proba = data_proba.sort_values(by='Item_Outlet_Sales',ascending=True).reset_index()"
      ],
      "execution_count": 0,
      "outputs": []
    },
    {
      "cell_type": "code",
      "metadata": {
        "id": "lb-vA6mMfpAM",
        "colab_type": "code",
        "colab": {}
      },
      "source": [
        "data_proba = data_proba.drop('index', axis=1)"
      ],
      "execution_count": 0,
      "outputs": []
    },
    {
      "cell_type": "code",
      "metadata": {
        "id": "RMc2AYGbZS5-",
        "colab_type": "code",
        "colab": {}
      },
      "source": [
        "data_proba = data_proba.applymap(lambda x: int(x) if isinstance(x, float) else x)"
      ],
      "execution_count": 0,
      "outputs": []
    },
    {
      "cell_type": "code",
      "metadata": {
        "id": "7b-HUfApYC2a",
        "colab_type": "code",
        "colab": {}
      },
      "source": [
        "data_proba.loc[:2888, 'level_0'] = '1'\n",
        "data_proba.loc[2888:5403, 'level_0'] = '2'\n",
        "data_proba.loc[5404:7234, 'level_0'] = '3'\n",
        "data_proba.loc[7234:8434, 'level_0'] = '4'\n",
        "data_proba.loc[8434:, 'level_0'] = '5'"
      ],
      "execution_count": 0,
      "outputs": []
    },
    {
      "cell_type": "code",
      "metadata": {
        "id": "noyAJeecOAz2",
        "colab_type": "code",
        "outputId": "0007cf38-ab6a-4535-a071-2a8527a0659a",
        "colab": {
          "base_uri": "https://localhost:8080/",
          "height": 439
        }
      },
      "source": [
        "data_proba"
      ],
      "execution_count": 62,
      "outputs": [
        {
          "output_type": "execute_result",
          "data": {
            "text/html": [
              "<div>\n",
              "<style scoped>\n",
              "    .dataframe tbody tr th:only-of-type {\n",
              "        vertical-align: middle;\n",
              "    }\n",
              "\n",
              "    .dataframe tbody tr th {\n",
              "        vertical-align: top;\n",
              "    }\n",
              "\n",
              "    .dataframe thead th {\n",
              "        text-align: right;\n",
              "    }\n",
              "</style>\n",
              "<table border=\"1\" class=\"dataframe\">\n",
              "  <thead>\n",
              "    <tr style=\"text-align: right;\">\n",
              "      <th></th>\n",
              "      <th>Item_Identifier</th>\n",
              "      <th>Item_Weight</th>\n",
              "      <th>Item_Fat_Content</th>\n",
              "      <th>Item_Visibility</th>\n",
              "      <th>Item_Type</th>\n",
              "      <th>Item_MRP</th>\n",
              "      <th>Outlet_Identifier</th>\n",
              "      <th>Outlet_Establishment_Year</th>\n",
              "      <th>Outlet_Size</th>\n",
              "      <th>Outlet_Location_Type</th>\n",
              "      <th>Outlet_Type</th>\n",
              "      <th>Item_Outlet_Sales</th>\n",
              "      <th>level_0</th>\n",
              "    </tr>\n",
              "  </thead>\n",
              "  <tbody>\n",
              "    <tr>\n",
              "      <th>0</th>\n",
              "      <td>NCR42</td>\n",
              "      <td>9</td>\n",
              "      <td>1</td>\n",
              "      <td>0</td>\n",
              "      <td>9</td>\n",
              "      <td>33</td>\n",
              "      <td>OUT010</td>\n",
              "      <td>3</td>\n",
              "      <td>0</td>\n",
              "      <td>2</td>\n",
              "      <td>0</td>\n",
              "      <td>33</td>\n",
              "      <td>1</td>\n",
              "    </tr>\n",
              "    <tr>\n",
              "      <th>1</th>\n",
              "      <td>DRK12</td>\n",
              "      <td>9</td>\n",
              "      <td>1</td>\n",
              "      <td>0</td>\n",
              "      <td>14</td>\n",
              "      <td>32</td>\n",
              "      <td>OUT010</td>\n",
              "      <td>3</td>\n",
              "      <td>0</td>\n",
              "      <td>2</td>\n",
              "      <td>0</td>\n",
              "      <td>33</td>\n",
              "      <td>1</td>\n",
              "    </tr>\n",
              "    <tr>\n",
              "      <th>2</th>\n",
              "      <td>FDU21</td>\n",
              "      <td>12</td>\n",
              "      <td>2</td>\n",
              "      <td>0</td>\n",
              "      <td>13</td>\n",
              "      <td>35</td>\n",
              "      <td>OUT019</td>\n",
              "      <td>0</td>\n",
              "      <td>3</td>\n",
              "      <td>0</td>\n",
              "      <td>0</td>\n",
              "      <td>33</td>\n",
              "      <td>1</td>\n",
              "    </tr>\n",
              "    <tr>\n",
              "      <th>3</th>\n",
              "      <td>NCL41</td>\n",
              "      <td>13</td>\n",
              "      <td>1</td>\n",
              "      <td>0</td>\n",
              "      <td>8</td>\n",
              "      <td>34</td>\n",
              "      <td>OUT019</td>\n",
              "      <td>0</td>\n",
              "      <td>3</td>\n",
              "      <td>0</td>\n",
              "      <td>0</td>\n",
              "      <td>34</td>\n",
              "      <td>1</td>\n",
              "    </tr>\n",
              "    <tr>\n",
              "      <th>4</th>\n",
              "      <td>FDQ47</td>\n",
              "      <td>7</td>\n",
              "      <td>2</td>\n",
              "      <td>0</td>\n",
              "      <td>1</td>\n",
              "      <td>33</td>\n",
              "      <td>OUT010</td>\n",
              "      <td>3</td>\n",
              "      <td>0</td>\n",
              "      <td>2</td>\n",
              "      <td>0</td>\n",
              "      <td>35</td>\n",
              "      <td>1</td>\n",
              "    </tr>\n",
              "    <tr>\n",
              "      <th>...</th>\n",
              "      <td>...</td>\n",
              "      <td>...</td>\n",
              "      <td>...</td>\n",
              "      <td>...</td>\n",
              "      <td>...</td>\n",
              "      <td>...</td>\n",
              "      <td>...</td>\n",
              "      <td>...</td>\n",
              "      <td>...</td>\n",
              "      <td>...</td>\n",
              "      <td>...</td>\n",
              "      <td>...</td>\n",
              "      <td>...</td>\n",
              "    </tr>\n",
              "    <tr>\n",
              "      <th>7889</th>\n",
              "      <td>FDU14</td>\n",
              "      <td>17</td>\n",
              "      <td>1</td>\n",
              "      <td>0</td>\n",
              "      <td>4</td>\n",
              "      <td>248</td>\n",
              "      <td>OUT045</td>\n",
              "      <td>5</td>\n",
              "      <td>0</td>\n",
              "      <td>1</td>\n",
              "      <td>1</td>\n",
              "      <td>4993</td>\n",
              "      <td>4</td>\n",
              "    </tr>\n",
              "    <tr>\n",
              "      <th>7890</th>\n",
              "      <td>FDF05</td>\n",
              "      <td>17</td>\n",
              "      <td>1</td>\n",
              "      <td>0</td>\n",
              "      <td>5</td>\n",
              "      <td>264</td>\n",
              "      <td>OUT013</td>\n",
              "      <td>1</td>\n",
              "      <td>1</td>\n",
              "      <td>2</td>\n",
              "      <td>1</td>\n",
              "      <td>4996</td>\n",
              "      <td>4</td>\n",
              "    </tr>\n",
              "    <tr>\n",
              "      <th>7891</th>\n",
              "      <td>FDF39</td>\n",
              "      <td>14</td>\n",
              "      <td>2</td>\n",
              "      <td>0</td>\n",
              "      <td>4</td>\n",
              "      <td>262</td>\n",
              "      <td>OUT046</td>\n",
              "      <td>2</td>\n",
              "      <td>3</td>\n",
              "      <td>0</td>\n",
              "      <td>1</td>\n",
              "      <td>4996</td>\n",
              "      <td>4</td>\n",
              "    </tr>\n",
              "    <tr>\n",
              "      <th>7892</th>\n",
              "      <td>FDK40</td>\n",
              "      <td>7</td>\n",
              "      <td>0</td>\n",
              "      <td>0</td>\n",
              "      <td>5</td>\n",
              "      <td>263</td>\n",
              "      <td>OUT049</td>\n",
              "      <td>4</td>\n",
              "      <td>2</td>\n",
              "      <td>0</td>\n",
              "      <td>1</td>\n",
              "      <td>4996</td>\n",
              "      <td>4</td>\n",
              "    </tr>\n",
              "    <tr>\n",
              "      <th>7893</th>\n",
              "      <td>FDU01</td>\n",
              "      <td>20</td>\n",
              "      <td>2</td>\n",
              "      <td>0</td>\n",
              "      <td>3</td>\n",
              "      <td>184</td>\n",
              "      <td>OUT046</td>\n",
              "      <td>2</td>\n",
              "      <td>3</td>\n",
              "      <td>0</td>\n",
              "      <td>1</td>\n",
              "      <td>4997</td>\n",
              "      <td>4</td>\n",
              "    </tr>\n",
              "  </tbody>\n",
              "</table>\n",
              "<p>7894 rows × 13 columns</p>\n",
              "</div>"
            ],
            "text/plain": [
              "     Item_Identifier  Item_Weight  ...  Item_Outlet_Sales  level_0\n",
              "0              NCR42            9  ...                 33        1\n",
              "1              DRK12            9  ...                 33        1\n",
              "2              FDU21           12  ...                 33        1\n",
              "3              NCL41           13  ...                 34        1\n",
              "4              FDQ47            7  ...                 35        1\n",
              "...              ...          ...  ...                ...      ...\n",
              "7889           FDU14           17  ...               4993        4\n",
              "7890           FDF05           17  ...               4996        4\n",
              "7891           FDF39           14  ...               4996        4\n",
              "7892           FDK40            7  ...               4996        4\n",
              "7893           FDU01           20  ...               4997        4\n",
              "\n",
              "[7894 rows x 13 columns]"
            ]
          },
          "metadata": {
            "tags": []
          },
          "execution_count": 62
        }
      ]
    },
    {
      "cell_type": "code",
      "metadata": {
        "id": "8Q1tqlluOAtc",
        "colab_type": "code",
        "colab": {}
      },
      "source": [
        "X_1 = data_proba.drop(['level_0', 'Item_Outlet_Sales', 'Item_Identifier', 'Outlet_Identifier'], axis=1)\n",
        "y_1 = data_proba['level_0']"
      ],
      "execution_count": 0,
      "outputs": []
    },
    {
      "cell_type": "code",
      "metadata": {
        "id": "5q83cAVoOAqe",
        "colab_type": "code",
        "colab": {}
      },
      "source": [
        "X_1train, X_1test, y_1train, y_1test = train_test_split(X_1, y_1, test_size=0.3)"
      ],
      "execution_count": 0,
      "outputs": []
    },
    {
      "cell_type": "code",
      "metadata": {
        "id": "sZyjrUvgbhCu",
        "colab_type": "code",
        "colab": {}
      },
      "source": [
        "dt = DecisionTreeClassifier(max_depth=5, min_samples_leaf=20, max_features=0.5)"
      ],
      "execution_count": 0,
      "outputs": []
    },
    {
      "cell_type": "code",
      "metadata": {
        "id": "BrstWLg2bg9y",
        "colab_type": "code",
        "outputId": "f8136c40-52c3-454a-cff1-2270c82bfe9d",
        "colab": {
          "base_uri": "https://localhost:8080/",
          "height": 119
        }
      },
      "source": [
        "dt.fit(X_1train, y_1train)"
      ],
      "execution_count": 72,
      "outputs": [
        {
          "output_type": "execute_result",
          "data": {
            "text/plain": [
              "DecisionTreeClassifier(ccp_alpha=0.0, class_weight=None, criterion='gini',\n",
              "                       max_depth=5, max_features=0.5, max_leaf_nodes=None,\n",
              "                       min_impurity_decrease=0.0, min_impurity_split=None,\n",
              "                       min_samples_leaf=20, min_samples_split=2,\n",
              "                       min_weight_fraction_leaf=0.0, presort='deprecated',\n",
              "                       random_state=None, splitter='best')"
            ]
          },
          "metadata": {
            "tags": []
          },
          "execution_count": 72
        }
      ]
    },
    {
      "cell_type": "code",
      "metadata": {
        "id": "ODh0aD_meQ3a",
        "colab_type": "code",
        "outputId": "da88eadd-8142-4965-b15f-66aef3dfe71d",
        "colab": {
          "base_uri": "https://localhost:8080/",
          "height": 282
        }
      },
      "source": [
        "# the most important features\n",
        "plt.barh(np.arange(len(dt.feature_importances_)), dt.feature_importances_)\n",
        "plt.yticks(np.arange(len(X_1.columns)),X_1.columns)\n",
        "''"
      ],
      "execution_count": 73,
      "outputs": [
        {
          "output_type": "execute_result",
          "data": {
            "text/plain": [
              "''"
            ]
          },
          "metadata": {
            "tags": []
          },
          "execution_count": 73
        },
        {
          "output_type": "display_data",
          "data": {
            "image/png": "[encoded data removed]",
            "text/plain": [
              "<Figure size 432x288 with 1 Axes>"
            ]
          },
          "metadata": {
            "tags": [],
            "needs_background": "light"
          }
        }
      ]
    },
    {
      "cell_type": "code",
      "metadata": {
        "id": "sRn_CMOybg6C",
        "colab_type": "code",
        "outputId": "0a6fd0f6-596c-488f-9409-1b2ea46fc483",
        "colab": {
          "base_uri": "https://localhost:8080/",
          "height": 34
        }
      },
      "source": [
        "dt.score(X_1test, y_1test)"
      ],
      "execution_count": 74,
      "outputs": [
        {
          "output_type": "execute_result",
          "data": {
            "text/plain": [
              "0.5808357956943858"
            ]
          },
          "metadata": {
            "tags": []
          },
          "execution_count": 74
        }
      ]
    },
    {
      "cell_type": "code",
      "metadata": {
        "id": "CfpY8hCzi2Uj",
        "colab_type": "code",
        "outputId": "5d610f46-15cd-4651-d9fa-c49829743af1",
        "colab": {
          "base_uri": "https://localhost:8080/",
          "height": 34
        }
      },
      "source": [
        "dt.predict(X_1test)"
      ],
      "execution_count": 75,
      "outputs": [
        {
          "output_type": "execute_result",
          "data": {
            "text/plain": [
              "array(['1', '2', '1', ..., '1', '3', '1'], dtype=object)"
            ]
          },
          "metadata": {
            "tags": []
          },
          "execution_count": 75
        }
      ]
    },
    {
      "cell_type": "code",
      "metadata": {
        "id": "EIrjGC_Wjbev",
        "colab_type": "code",
        "colab": {}
      },
      "source": [
        "a=[]\n",
        "for i, j in zip(y_1train, dt.predict(X_1test)):\n",
        "    a.append(int(i)- int(j))\n",
        "    # print('target:', i, 'pred:', j, 'diff: ', int(i)- int(j))"
      ],
      "execution_count": 0,
      "outputs": []
    },
    {
      "cell_type": "code",
      "metadata": {
        "id": "f0OLlOfMnAgn",
        "colab_type": "code",
        "colab": {
          "base_uri": "https://localhost:8080/",
          "height": 419
        },
        "outputId": "600ca868-7c77-4b11-c130-f2407b782d49"
      },
      "source": [
        "b = pd.DataFrame(a)\n",
        "b.reset_index()"
      ],
      "execution_count": 80,
      "outputs": [
        {
          "output_type": "execute_result",
          "data": {
            "text/html": [
              "<div>\n",
              "<style scoped>\n",
              "    .dataframe tbody tr th:only-of-type {\n",
              "        vertical-align: middle;\n",
              "    }\n",
              "\n",
              "    .dataframe tbody tr th {\n",
              "        vertical-align: top;\n",
              "    }\n",
              "\n",
              "    .dataframe thead th {\n",
              "        text-align: right;\n",
              "    }\n",
              "</style>\n",
              "<table border=\"1\" class=\"dataframe\">\n",
              "  <thead>\n",
              "    <tr style=\"text-align: right;\">\n",
              "      <th></th>\n",
              "      <th>index</th>\n",
              "      <th>0</th>\n",
              "    </tr>\n",
              "  </thead>\n",
              "  <tbody>\n",
              "    <tr>\n",
              "      <th>0</th>\n",
              "      <td>0</td>\n",
              "      <td>0</td>\n",
              "    </tr>\n",
              "    <tr>\n",
              "      <th>1</th>\n",
              "      <td>1</td>\n",
              "      <td>1</td>\n",
              "    </tr>\n",
              "    <tr>\n",
              "      <th>2</th>\n",
              "      <td>2</td>\n",
              "      <td>2</td>\n",
              "    </tr>\n",
              "    <tr>\n",
              "      <th>3</th>\n",
              "      <td>3</td>\n",
              "      <td>-1</td>\n",
              "    </tr>\n",
              "    <tr>\n",
              "      <th>4</th>\n",
              "      <td>4</td>\n",
              "      <td>0</td>\n",
              "    </tr>\n",
              "    <tr>\n",
              "      <th>...</th>\n",
              "      <td>...</td>\n",
              "      <td>...</td>\n",
              "    </tr>\n",
              "    <tr>\n",
              "      <th>2364</th>\n",
              "      <td>2364</td>\n",
              "      <td>1</td>\n",
              "    </tr>\n",
              "    <tr>\n",
              "      <th>2365</th>\n",
              "      <td>2365</td>\n",
              "      <td>-2</td>\n",
              "    </tr>\n",
              "    <tr>\n",
              "      <th>2366</th>\n",
              "      <td>2366</td>\n",
              "      <td>3</td>\n",
              "    </tr>\n",
              "    <tr>\n",
              "      <th>2367</th>\n",
              "      <td>2367</td>\n",
              "      <td>-2</td>\n",
              "    </tr>\n",
              "    <tr>\n",
              "      <th>2368</th>\n",
              "      <td>2368</td>\n",
              "      <td>1</td>\n",
              "    </tr>\n",
              "  </tbody>\n",
              "</table>\n",
              "<p>2369 rows × 2 columns</p>\n",
              "</div>"
            ],
            "text/plain": [
              "      index  0\n",
              "0         0  0\n",
              "1         1  1\n",
              "2         2  2\n",
              "3         3 -1\n",
              "4         4  0\n",
              "...     ... ..\n",
              "2364   2364  1\n",
              "2365   2365 -2\n",
              "2366   2366  3\n",
              "2367   2367 -2\n",
              "2368   2368  1\n",
              "\n",
              "[2369 rows x 2 columns]"
            ]
          },
          "metadata": {
            "tags": []
          },
          "execution_count": 80
        }
      ]
    },
    {
      "cell_type": "code",
      "metadata": {
        "id": "EDxEVtxPnFO7",
        "colab_type": "code",
        "colab": {}
      },
      "source": [
        "b.columns=['1']"
      ],
      "execution_count": 0,
      "outputs": []
    },
    {
      "cell_type": "code",
      "metadata": {
        "id": "cKiV9g0bmsDn",
        "colab_type": "code",
        "outputId": "2e26c9b0-223a-46e6-acd0-7c43fe48dd31",
        "colab": {
          "base_uri": "https://localhost:8080/",
          "height": 153
        }
      },
      "source": [
        "b['1'].value_counts()"
      ],
      "execution_count": 82,
      "outputs": [
        {
          "output_type": "execute_result",
          "data": {
            "text/plain": [
              " 0    670\n",
              "-1    585\n",
              " 1    471\n",
              "-2    347\n",
              " 2    226\n",
              " 3     62\n",
              "-3      8\n",
              "Name: 1, dtype: int64"
            ]
          },
          "metadata": {
            "tags": []
          },
          "execution_count": 82
        }
      ]
    },
    {
      "cell_type": "code",
      "metadata": {
        "id": "2i7zOJ0ejW72",
        "colab_type": "code",
        "outputId": "cab06b35-d78e-427b-d620-dda26b9c8235",
        "colab": {
          "base_uri": "https://localhost:8080/",
          "height": 136
        }
      },
      "source": [
        "yval_pred_proba = dt.predict_proba(X_1test)\n",
        "yval_pred_proba"
      ],
      "execution_count": 0,
      "outputs": [
        {
          "output_type": "execute_result",
          "data": {
            "text/plain": [
              "array([[0.00775194, 0.10852713, 0.20930233, 0.3875969 , 0.28682171],\n",
              "       [1.        , 0.        , 0.        , 0.        , 0.        ],\n",
              "       [0.16666667, 0.31666667, 0.34166667, 0.16666667, 0.00833333],\n",
              "       ...,\n",
              "       [0.0326087 , 0.59782609, 0.30434783, 0.04347826, 0.02173913],\n",
              "       [1.        , 0.        , 0.        , 0.        , 0.        ],\n",
              "       [0.52222222, 0.42222222, 0.05555556, 0.        , 0.        ]])"
            ]
          },
          "metadata": {
            "tags": []
          },
          "execution_count": 257
        }
      ]
    },
    {
      "cell_type": "code",
      "metadata": {
        "id": "kQ9cBvSmaUy7",
        "colab_type": "code",
        "colab": {
          "base_uri": "https://localhost:8080/",
          "height": 153
        },
        "outputId": "f04965e7-47fa-4780-9ea1-8cf6336b8cb4"
      },
      "source": [
        "clf_rf = RandomForestClassifier(n_estimators=10, max_depth=5, min_samples_leaf=20, max_features=0.5, n_jobs=-1)\n",
        "clf_rf.fit(X_1train, y_1train)   "
      ],
      "execution_count": 68,
      "outputs": [
        {
          "output_type": "execute_result",
          "data": {
            "text/plain": [
              "RandomForestClassifier(bootstrap=True, ccp_alpha=0.0, class_weight=None,\n",
              "                       criterion='gini', max_depth=5, max_features=0.5,\n",
              "                       max_leaf_nodes=None, max_samples=None,\n",
              "                       min_impurity_decrease=0.0, min_impurity_split=None,\n",
              "                       min_samples_leaf=20, min_samples_split=2,\n",
              "                       min_weight_fraction_leaf=0.0, n_estimators=10, n_jobs=-1,\n",
              "                       oob_score=False, random_state=None, verbose=0,\n",
              "                       warm_start=False)"
            ]
          },
          "metadata": {
            "tags": []
          },
          "execution_count": 68
        }
      ]
    },
    {
      "cell_type": "code",
      "metadata": {
        "id": "iKvmcuAHaUv9",
        "colab_type": "code",
        "colab": {
          "base_uri": "https://localhost:8080/",
          "height": 34
        },
        "outputId": "c73119e5-0ffc-499a-d6a3-3741a8e7309f"
      },
      "source": [
        "clf_rf.score(X_1test, y_1test)"
      ],
      "execution_count": 83,
      "outputs": [
        {
          "output_type": "execute_result",
          "data": {
            "text/plain": [
              "0.5854791051076403"
            ]
          },
          "metadata": {
            "tags": []
          },
          "execution_count": 83
        }
      ]
    },
    {
      "cell_type": "code",
      "metadata": {
        "id": "01Uixajqc5UG",
        "colab_type": "code",
        "colab": {}
      },
      "source": [
        "k_range = list(range(1, 10))"
      ],
      "execution_count": 0,
      "outputs": []
    },
    {
      "cell_type": "code",
      "metadata": {
        "id": "7x63ZoZjc5Mk",
        "colab_type": "code",
        "colab": {}
      },
      "source": [
        "param_grid = dict(n_neighbors=k_range)"
      ],
      "execution_count": 0,
      "outputs": []
    },
    {
      "cell_type": "code",
      "metadata": {
        "id": "nyVIO5FKc5F-",
        "colab_type": "code",
        "colab": {}
      },
      "source": [
        "grid = GridSearchCV(KNeighborsClassifier(), param_grid=param_grid, cv=10, scoring='accuracy')"
      ],
      "execution_count": 0,
      "outputs": []
    },
    {
      "cell_type": "code",
      "metadata": {
        "id": "2sVajZF_c5Bw",
        "colab_type": "code",
        "colab": {
          "base_uri": "https://localhost:8080/",
          "height": 187
        },
        "outputId": "a29edb7e-c010-4f33-b909-22e72a9d6a47"
      },
      "source": [
        "grid.fit(X_1, y_1)"
      ],
      "execution_count": 100,
      "outputs": [
        {
          "output_type": "execute_result",
          "data": {
            "text/plain": [
              "GridSearchCV(cv=10, error_score=nan,\n",
              "             estimator=KNeighborsClassifier(algorithm='auto', leaf_size=30,\n",
              "                                            metric='minkowski',\n",
              "                                            metric_params=None, n_jobs=None,\n",
              "                                            n_neighbors=5, p=2,\n",
              "                                            weights='uniform'),\n",
              "             iid='deprecated', n_jobs=None,\n",
              "             param_grid={'n_neighbors': [1, 2, 3, 4, 5, 6, 7, 8, 9]},\n",
              "             pre_dispatch='2*n_jobs', refit=True, return_train_score=False,\n",
              "             scoring='accuracy', verbose=0)"
            ]
          },
          "metadata": {
            "tags": []
          },
          "execution_count": 100
        }
      ]
    },
    {
      "cell_type": "code",
      "metadata": {
        "id": "xJlR6eOec49Y",
        "colab_type": "code",
        "colab": {
          "base_uri": "https://localhost:8080/",
          "height": 340
        },
        "outputId": "988a5442-a236-4d2c-d8db-822f174bd002"
      },
      "source": [
        "for k in grid.cv_results_:\n",
        "    print(k, \":\", grid.cv_results_[k][0])"
      ],
      "execution_count": 101,
      "outputs": [
        {
          "output_type": "stream",
          "text": [
            "mean_fit_time : 0.015323519706726074\n",
            "std_fit_time : 0.0015798849707931604\n",
            "mean_score_time : 0.025203490257263185\n",
            "std_score_time : 0.0005047811360281564\n",
            "param_n_neighbors : 1\n",
            "params : {'n_neighbors': 1}\n",
            "split0_test_score : 0.5455696202531646\n",
            "split1_test_score : 0.49746835443037973\n",
            "split2_test_score : 0.5012658227848101\n",
            "split3_test_score : 0.4911392405063291\n",
            "split4_test_score : 0.45373891001267425\n",
            "split5_test_score : 0.4512040557667934\n",
            "split6_test_score : 0.5006337135614702\n",
            "split7_test_score : 0.4512040557667934\n",
            "split8_test_score : 0.43599493029150826\n",
            "split9_test_score : 0.41698352344740175\n",
            "mean_test_score : 0.4745202226821325\n",
            "std_test_score : 0.036826467490467654\n",
            "rank_test_score : 9\n"
          ],
          "name": "stdout"
        }
      ]
    },
    {
      "cell_type": "code",
      "metadata": {
        "id": "vQ_s15OJc41u",
        "colab_type": "code",
        "colab": {
          "base_uri": "https://localhost:8080/",
          "height": 51
        },
        "outputId": "f3c9fc9d-162d-49c7-a92d-0d4423974c16"
      },
      "source": [
        "test_scores = grid.cv_results_['mean_test_score']\n",
        "print(test_scores)"
      ],
      "execution_count": 102,
      "outputs": [
        {
          "output_type": "stream",
          "text": [
            "[0.47452022 0.47896424 0.48377324 0.49581557 0.49809068 0.49923232\n",
            " 0.49631853 0.49948934 0.49518105]\n"
          ],
          "name": "stdout"
        }
      ]
    },
    {
      "cell_type": "code",
      "metadata": {
        "id": "baldZTXQdrHT",
        "colab_type": "code",
        "colab": {
          "base_uri": "https://localhost:8080/",
          "height": 296
        },
        "outputId": "961bbda9-7da6-4fd3-fea4-20bc70f5e64b"
      },
      "source": [
        "plt.plot(k_range, test_scores)\n",
        "plt.xlabel('Value of K for KNN')\n",
        "plt.ylabel('Cross-Validated Accuracy')"
      ],
      "execution_count": 103,
      "outputs": [
        {
          "output_type": "execute_result",
          "data": {
            "text/plain": [
              "Text(0, 0.5, 'Cross-Validated Accuracy')"
            ]
          },
          "metadata": {
            "tags": []
          },
          "execution_count": 103
        },
        {
          "output_type": "display_data",
          "data": {
            "image/png": "[encoded data removed]",
            "text/plain": [
              "<Figure size 432x288 with 1 Axes>"
            ]
          },
          "metadata": {
            "tags": [],
            "needs_background": "light"
          }
        }
      ]
    },
    {
      "cell_type": "code",
      "metadata": {
        "id": "eBLJwvmydrCD",
        "colab_type": "code",
        "colab": {
          "base_uri": "https://localhost:8080/",
          "height": 102
        },
        "outputId": "6af69712-4b1c-4009-c273-3867ead1da6a"
      },
      "source": [
        "# Single best score achieved across all params (k)\n",
        "print(grid.best_score_)\n",
        "\n",
        "# Dictionary containing the parameters (k) used to generate that score\n",
        "print(grid.best_params_)\n",
        "\n",
        "# Actual model object fit with those best parameters\n",
        "# Shows default parameters that we did not specify\n",
        "print(grid.best_estimator_)"
      ],
      "execution_count": 104,
      "outputs": [
        {
          "output_type": "stream",
          "text": [
            "0.49948933917312416\n",
            "{'n_neighbors': 8}\n",
            "KNeighborsClassifier(algorithm='auto', leaf_size=30, metric='minkowski',\n",
            "                     metric_params=None, n_jobs=None, n_neighbors=8, p=2,\n",
            "                     weights='uniform')\n"
          ],
          "name": "stdout"
        }
      ]
    },
    {
      "cell_type": "markdown",
      "metadata": {
        "id": "KVS6Wt3MeC7k",
        "colab_type": "text"
      },
      "source": [
        "**Что и требовалось доказать) 49%)))**"
      ]
    },
    {
      "cell_type": "code",
      "metadata": {
        "id": "HxWbvXGndq8Z",
        "colab_type": "code",
        "colab": {}
      },
      "source": [
        ""
      ],
      "execution_count": 0,
      "outputs": []
    },
    {
      "cell_type": "code",
      "metadata": {
        "id": "CDCbZFpTaUr0",
        "colab_type": "code",
        "colab": {}
      },
      "source": [
        "predictions = clf_rf.predict(X_1test)"
      ],
      "execution_count": 0,
      "outputs": []
    },
    {
      "cell_type": "code",
      "metadata": {
        "id": "Ayjlzk3VcKIv",
        "colab_type": "code",
        "colab": {
          "base_uri": "https://localhost:8080/",
          "height": 282
        },
        "outputId": "deb70c2f-fe26-4c5a-b78c-d77a6484418f"
      },
      "source": [
        "# the most important features\n",
        "plt.barh(np.arange(len(clf_rf.feature_importances_)), clf_rf.feature_importances_)\n",
        "plt.yticks(np.arange(len(X_1.columns)),X_1.columns)\n",
        "''"
      ],
      "execution_count": 94,
      "outputs": [
        {
          "output_type": "execute_result",
          "data": {
            "text/plain": [
              "''"
            ]
          },
          "metadata": {
            "tags": []
          },
          "execution_count": 94
        },
        {
          "output_type": "display_data",
          "data": {
            "image/png": "[encoded data removed]",
            "text/plain": [
              "<Figure size 432x288 with 1 Axes>"
            ]
          },
          "metadata": {
            "tags": [],
            "needs_background": "light"
          }
        }
      ]
    },
    {
      "cell_type": "code",
      "metadata": {
        "id": "mPK3XokRaUgJ",
        "colab_type": "code",
        "colab": {
          "base_uri": "https://localhost:8080/",
          "height": 1000
        },
        "outputId": "1652da62-51ac-4350-bc71-fd9aa447945d"
      },
      "source": [
        "c = []\n",
        "for i, j in zip(y_1train, predictions):\n",
        "    c.append(int(i)- int(j))\n",
        "    print('target:', i, 'pred:', j, 'diff: ', int(i)- int(j))"
      ],
      "execution_count": 90,
      "outputs": [
        {
          "output_type": "stream",
          "text": [
            "target: 1 pred: 1 diff:  0\n",
            "target: 3 pred: 2 diff:  1\n",
            "target: 3 pred: 1 diff:  2\n",
            "target: 2 pred: 3 diff:  -1\n",
            "target: 1 pred: 1 diff:  0\n",
            "target: 3 pred: 1 diff:  2\n",
            "target: 3 pred: 2 diff:  1\n",
            "target: 2 pred: 3 diff:  -1\n",
            "target: 2 pred: 3 diff:  -1\n",
            "target: 1 pred: 3 diff:  -2\n",
            "target: 1 pred: 2 diff:  -1\n",
            "target: 1 pred: 1 diff:  0\n",
            "target: 1 pred: 1 diff:  0\n",
            "target: 1 pred: 1 diff:  0\n",
            "target: 1 pred: 2 diff:  -1\n",
            "target: 2 pred: 1 diff:  1\n",
            "target: 2 pred: 2 diff:  0\n",
            "target: 1 pred: 1 diff:  0\n",
            "target: 1 pred: 1 diff:  0\n",
            "target: 3 pred: 2 diff:  1\n",
            "target: 3 pred: 2 diff:  1\n",
            "target: 2 pred: 2 diff:  0\n",
            "target: 2 pred: 3 diff:  -1\n",
            "target: 1 pred: 3 diff:  -2\n",
            "target: 1 pred: 3 diff:  -2\n",
            "target: 1 pred: 1 diff:  0\n",
            "target: 1 pred: 2 diff:  -1\n",
            "target: 1 pred: 2 diff:  -1\n",
            "target: 1 pred: 2 diff:  -1\n",
            "target: 1 pred: 1 diff:  0\n",
            "target: 3 pred: 2 diff:  1\n",
            "target: 3 pred: 2 diff:  1\n",
            "target: 1 pred: 1 diff:  0\n",
            "target: 2 pred: 1 diff:  1\n",
            "target: 1 pred: 2 diff:  -1\n",
            "target: 2 pred: 2 diff:  0\n",
            "target: 4 pred: 2 diff:  2\n",
            "target: 3 pred: 3 diff:  0\n",
            "target: 1 pred: 3 diff:  -2\n",
            "target: 2 pred: 2 diff:  0\n",
            "target: 4 pred: 2 diff:  2\n",
            "target: 2 pred: 3 diff:  -1\n",
            "target: 3 pred: 1 diff:  2\n",
            "target: 1 pred: 2 diff:  -1\n",
            "target: 1 pred: 3 diff:  -2\n",
            "target: 2 pred: 3 diff:  -1\n",
            "target: 1 pred: 1 diff:  0\n",
            "target: 2 pred: 1 diff:  1\n",
            "target: 4 pred: 2 diff:  2\n",
            "target: 4 pred: 1 diff:  3\n",
            "target: 4 pred: 3 diff:  1\n",
            "target: 4 pred: 3 diff:  1\n",
            "target: 4 pred: 2 diff:  2\n",
            "target: 2 pred: 2 diff:  0\n",
            "target: 4 pred: 3 diff:  1\n",
            "target: 1 pred: 1 diff:  0\n",
            "target: 1 pred: 3 diff:  -2\n",
            "target: 2 pred: 3 diff:  -1\n",
            "target: 4 pred: 2 diff:  2\n",
            "target: 1 pred: 2 diff:  -1\n",
            "target: 2 pred: 2 diff:  0\n",
            "target: 1 pred: 2 diff:  -1\n",
            "target: 1 pred: 1 diff:  0\n",
            "target: 3 pred: 3 diff:  0\n",
            "target: 3 pred: 3 diff:  0\n",
            "target: 1 pred: 3 diff:  -2\n",
            "target: 3 pred: 1 diff:  2\n",
            "target: 2 pred: 1 diff:  1\n",
            "target: 2 pred: 3 diff:  -1\n",
            "target: 3 pred: 2 diff:  1\n",
            "target: 1 pred: 2 diff:  -1\n",
            "target: 1 pred: 2 diff:  -1\n",
            "target: 2 pred: 2 diff:  0\n",
            "target: 1 pred: 1 diff:  0\n",
            "target: 3 pred: 3 diff:  0\n",
            "target: 3 pred: 3 diff:  0\n",
            "target: 1 pred: 2 diff:  -1\n",
            "target: 4 pred: 1 diff:  3\n",
            "target: 2 pred: 2 diff:  0\n",
            "target: 3 pred: 2 diff:  1\n",
            "target: 4 pred: 3 diff:  1\n",
            "target: 2 pred: 3 diff:  -1\n",
            "target: 3 pred: 3 diff:  0\n",
            "target: 2 pred: 1 diff:  1\n",
            "target: 1 pred: 1 diff:  0\n",
            "target: 4 pred: 2 diff:  2\n",
            "target: 1 pred: 1 diff:  0\n",
            "target: 2 pred: 2 diff:  0\n",
            "target: 1 pred: 3 diff:  -2\n",
            "target: 1 pred: 2 diff:  -1\n",
            "target: 3 pred: 2 diff:  1\n",
            "target: 3 pred: 1 diff:  2\n",
            "target: 1 pred: 2 diff:  -1\n",
            "target: 1 pred: 2 diff:  -1\n",
            "target: 1 pred: 1 diff:  0\n",
            "target: 1 pred: 3 diff:  -2\n",
            "target: 2 pred: 1 diff:  1\n",
            "target: 3 pred: 3 diff:  0\n",
            "target: 1 pred: 2 diff:  -1\n",
            "target: 1 pred: 1 diff:  0\n",
            "target: 2 pred: 1 diff:  1\n",
            "target: 3 pred: 1 diff:  2\n",
            "target: 1 pred: 2 diff:  -1\n",
            "target: 2 pred: 3 diff:  -1\n",
            "target: 3 pred: 2 diff:  1\n",
            "target: 1 pred: 2 diff:  -1\n",
            "target: 2 pred: 3 diff:  -1\n",
            "target: 1 pred: 2 diff:  -1\n",
            "target: 3 pred: 1 diff:  2\n",
            "target: 3 pred: 1 diff:  2\n",
            "target: 3 pred: 1 diff:  2\n",
            "target: 1 pred: 2 diff:  -1\n",
            "target: 1 pred: 2 diff:  -1\n",
            "target: 3 pred: 1 diff:  2\n",
            "target: 1 pred: 3 diff:  -2\n",
            "target: 2 pred: 2 diff:  0\n",
            "target: 1 pred: 3 diff:  -2\n",
            "target: 1 pred: 1 diff:  0\n",
            "target: 1 pred: 2 diff:  -1\n",
            "target: 2 pred: 3 diff:  -1\n",
            "target: 3 pred: 2 diff:  1\n",
            "target: 1 pred: 2 diff:  -1\n",
            "target: 3 pred: 2 diff:  1\n",
            "target: 3 pred: 2 diff:  1\n",
            "target: 2 pred: 1 diff:  1\n",
            "target: 2 pred: 1 diff:  1\n",
            "target: 3 pred: 1 diff:  2\n",
            "target: 2 pred: 3 diff:  -1\n",
            "target: 3 pred: 2 diff:  1\n",
            "target: 3 pred: 3 diff:  0\n",
            "target: 4 pred: 2 diff:  2\n",
            "target: 1 pred: 2 diff:  -1\n",
            "target: 1 pred: 1 diff:  0\n",
            "target: 3 pred: 3 diff:  0\n",
            "target: 1 pred: 2 diff:  -1\n",
            "target: 3 pred: 1 diff:  2\n",
            "target: 1 pred: 2 diff:  -1\n",
            "target: 1 pred: 2 diff:  -1\n",
            "target: 2 pred: 1 diff:  1\n",
            "target: 1 pred: 3 diff:  -2\n",
            "target: 2 pred: 3 diff:  -1\n",
            "target: 1 pred: 2 diff:  -1\n",
            "target: 2 pred: 1 diff:  1\n",
            "target: 3 pred: 2 diff:  1\n",
            "target: 2 pred: 3 diff:  -1\n",
            "target: 2 pred: 3 diff:  -1\n",
            "target: 1 pred: 2 diff:  -1\n",
            "target: 2 pred: 1 diff:  1\n",
            "target: 2 pred: 1 diff:  1\n",
            "target: 3 pred: 3 diff:  0\n",
            "target: 2 pred: 2 diff:  0\n",
            "target: 1 pred: 2 diff:  -1\n",
            "target: 1 pred: 2 diff:  -1\n",
            "target: 2 pred: 3 diff:  -1\n",
            "target: 3 pred: 2 diff:  1\n",
            "target: 2 pred: 2 diff:  0\n",
            "target: 1 pred: 2 diff:  -1\n",
            "target: 1 pred: 3 diff:  -2\n",
            "target: 1 pred: 3 diff:  -2\n",
            "target: 4 pred: 2 diff:  2\n",
            "target: 2 pred: 2 diff:  0\n",
            "target: 3 pred: 3 diff:  0\n",
            "target: 3 pred: 1 diff:  2\n",
            "target: 2 pred: 1 diff:  1\n",
            "target: 2 pred: 1 diff:  1\n",
            "target: 1 pred: 3 diff:  -2\n",
            "target: 2 pred: 2 diff:  0\n",
            "target: 3 pred: 2 diff:  1\n",
            "target: 4 pred: 1 diff:  3\n",
            "target: 2 pred: 2 diff:  0\n",
            "target: 3 pred: 2 diff:  1\n",
            "target: 2 pred: 3 diff:  -1\n",
            "target: 2 pred: 2 diff:  0\n",
            "target: 1 pred: 2 diff:  -1\n",
            "target: 1 pred: 3 diff:  -2\n",
            "target: 2 pred: 1 diff:  1\n",
            "target: 2 pred: 2 diff:  0\n",
            "target: 2 pred: 2 diff:  0\n",
            "target: 2 pred: 3 diff:  -1\n",
            "target: 3 pred: 1 diff:  2\n",
            "target: 1 pred: 1 diff:  0\n",
            "target: 2 pred: 2 diff:  0\n",
            "target: 1 pred: 2 diff:  -1\n",
            "target: 1 pred: 3 diff:  -2\n",
            "target: 3 pred: 2 diff:  1\n",
            "target: 3 pred: 3 diff:  0\n",
            "target: 2 pred: 3 diff:  -1\n",
            "target: 2 pred: 1 diff:  1\n",
            "target: 1 pred: 2 diff:  -1\n",
            "target: 4 pred: 2 diff:  2\n",
            "target: 1 pred: 1 diff:  0\n",
            "target: 1 pred: 2 diff:  -1\n",
            "target: 2 pred: 2 diff:  0\n",
            "target: 4 pred: 2 diff:  2\n",
            "target: 2 pred: 2 diff:  0\n",
            "target: 2 pred: 3 diff:  -1\n",
            "target: 2 pred: 3 diff:  -1\n",
            "target: 2 pred: 3 diff:  -1\n",
            "target: 2 pred: 2 diff:  0\n",
            "target: 2 pred: 1 diff:  1\n",
            "target: 3 pred: 1 diff:  2\n",
            "target: 1 pred: 2 diff:  -1\n",
            "target: 2 pred: 1 diff:  1\n",
            "target: 1 pred: 2 diff:  -1\n",
            "target: 2 pred: 1 diff:  1\n",
            "target: 1 pred: 1 diff:  0\n",
            "target: 1 pred: 1 diff:  0\n",
            "target: 4 pred: 1 diff:  3\n",
            "target: 2 pred: 3 diff:  -1\n",
            "target: 1 pred: 2 diff:  -1\n",
            "target: 2 pred: 3 diff:  -1\n",
            "target: 4 pred: 2 diff:  2\n",
            "target: 3 pred: 2 diff:  1\n",
            "target: 1 pred: 2 diff:  -1\n",
            "target: 2 pred: 1 diff:  1\n",
            "target: 1 pred: 3 diff:  -2\n",
            "target: 2 pred: 2 diff:  0\n",
            "target: 2 pred: 1 diff:  1\n",
            "target: 1 pred: 2 diff:  -1\n",
            "target: 2 pred: 1 diff:  1\n",
            "target: 2 pred: 3 diff:  -1\n",
            "target: 3 pred: 1 diff:  2\n",
            "target: 3 pred: 2 diff:  1\n",
            "target: 4 pred: 3 diff:  1\n",
            "target: 4 pred: 1 diff:  3\n",
            "target: 3 pred: 3 diff:  0\n",
            "target: 3 pred: 1 diff:  2\n",
            "target: 2 pred: 3 diff:  -1\n",
            "target: 2 pred: 2 diff:  0\n",
            "target: 2 pred: 1 diff:  1\n",
            "target: 1 pred: 1 diff:  0\n",
            "target: 3 pred: 3 diff:  0\n",
            "target: 4 pred: 3 diff:  1\n",
            "target: 3 pred: 2 diff:  1\n",
            "target: 2 pred: 2 diff:  0\n",
            "target: 2 pred: 1 diff:  1\n",
            "target: 1 pred: 3 diff:  -2\n",
            "target: 2 pred: 2 diff:  0\n",
            "target: 2 pred: 3 diff:  -1\n",
            "target: 1 pred: 2 diff:  -1\n",
            "target: 4 pred: 2 diff:  2\n",
            "target: 3 pred: 2 diff:  1\n",
            "target: 1 pred: 1 diff:  0\n",
            "target: 2 pred: 1 diff:  1\n",
            "target: 3 pred: 3 diff:  0\n",
            "target: 3 pred: 1 diff:  2\n",
            "target: 3 pred: 1 diff:  2\n",
            "target: 3 pred: 3 diff:  0\n",
            "target: 3 pred: 2 diff:  1\n",
            "target: 1 pred: 1 diff:  0\n",
            "target: 3 pred: 3 diff:  0\n",
            "target: 2 pred: 3 diff:  -1\n",
            "target: 2 pred: 3 diff:  -1\n",
            "target: 1 pred: 2 diff:  -1\n",
            "target: 3 pred: 2 diff:  1\n",
            "target: 3 pred: 1 diff:  2\n",
            "target: 2 pred: 2 diff:  0\n",
            "target: 1 pred: 1 diff:  0\n",
            "target: 3 pred: 2 diff:  1\n",
            "target: 4 pred: 1 diff:  3\n",
            "target: 1 pred: 2 diff:  -1\n",
            "target: 1 pred: 2 diff:  -1\n",
            "target: 2 pred: 3 diff:  -1\n",
            "target: 1 pred: 2 diff:  -1\n",
            "target: 3 pred: 2 diff:  1\n",
            "target: 1 pred: 3 diff:  -2\n",
            "target: 1 pred: 2 diff:  -1\n",
            "target: 1 pred: 2 diff:  -1\n",
            "target: 3 pred: 2 diff:  1\n",
            "target: 3 pred: 1 diff:  2\n",
            "target: 3 pred: 2 diff:  1\n",
            "target: 3 pred: 1 diff:  2\n",
            "target: 1 pred: 1 diff:  0\n",
            "target: 4 pred: 2 diff:  2\n",
            "target: 1 pred: 2 diff:  -1\n",
            "target: 1 pred: 2 diff:  -1\n",
            "target: 1 pred: 2 diff:  -1\n",
            "target: 2 pred: 3 diff:  -1\n",
            "target: 3 pred: 1 diff:  2\n",
            "target: 2 pred: 2 diff:  0\n",
            "target: 1 pred: 2 diff:  -1\n",
            "target: 1 pred: 3 diff:  -2\n",
            "target: 1 pred: 2 diff:  -1\n",
            "target: 3 pred: 1 diff:  2\n",
            "target: 2 pred: 2 diff:  0\n",
            "target: 3 pred: 3 diff:  0\n",
            "target: 2 pred: 2 diff:  0\n",
            "target: 1 pred: 2 diff:  -1\n",
            "target: 3 pred: 2 diff:  1\n",
            "target: 1 pred: 2 diff:  -1\n",
            "target: 4 pred: 2 diff:  2\n",
            "target: 2 pred: 3 diff:  -1\n",
            "target: 2 pred: 3 diff:  -1\n",
            "target: 2 pred: 1 diff:  1\n",
            "target: 1 pred: 3 diff:  -2\n",
            "target: 1 pred: 3 diff:  -2\n",
            "target: 2 pred: 1 diff:  1\n",
            "target: 1 pred: 3 diff:  -2\n",
            "target: 2 pred: 1 diff:  1\n",
            "target: 2 pred: 2 diff:  0\n",
            "target: 1 pred: 1 diff:  0\n",
            "target: 3 pred: 3 diff:  0\n",
            "target: 2 pred: 2 diff:  0\n",
            "target: 1 pred: 3 diff:  -2\n",
            "target: 3 pred: 2 diff:  1\n",
            "target: 2 pred: 3 diff:  -1\n",
            "target: 1 pred: 2 diff:  -1\n",
            "target: 2 pred: 1 diff:  1\n",
            "target: 2 pred: 2 diff:  0\n",
            "target: 1 pred: 2 diff:  -1\n",
            "target: 2 pred: 2 diff:  0\n",
            "target: 3 pred: 1 diff:  2\n",
            "target: 3 pred: 2 diff:  1\n",
            "target: 1 pred: 2 diff:  -1\n",
            "target: 3 pred: 2 diff:  1\n",
            "target: 1 pred: 2 diff:  -1\n",
            "target: 3 pred: 1 diff:  2\n",
            "target: 1 pred: 1 diff:  0\n",
            "target: 3 pred: 2 diff:  1\n",
            "target: 1 pred: 1 diff:  0\n",
            "target: 4 pred: 3 diff:  1\n",
            "target: 2 pred: 1 diff:  1\n",
            "target: 3 pred: 1 diff:  2\n",
            "target: 2 pred: 3 diff:  -1\n",
            "target: 3 pred: 4 diff:  -1\n",
            "target: 4 pred: 1 diff:  3\n",
            "target: 1 pred: 1 diff:  0\n",
            "target: 1 pred: 2 diff:  -1\n",
            "target: 4 pred: 2 diff:  2\n",
            "target: 2 pred: 1 diff:  1\n",
            "target: 4 pred: 2 diff:  2\n",
            "target: 2 pred: 2 diff:  0\n",
            "target: 3 pred: 2 diff:  1\n",
            "target: 2 pred: 3 diff:  -1\n",
            "target: 1 pred: 2 diff:  -1\n",
            "target: 1 pred: 3 diff:  -2\n",
            "target: 1 pred: 2 diff:  -1\n",
            "target: 2 pred: 1 diff:  1\n",
            "target: 1 pred: 1 diff:  0\n",
            "target: 1 pred: 2 diff:  -1\n",
            "target: 4 pred: 1 diff:  3\n",
            "target: 1 pred: 1 diff:  0\n",
            "target: 3 pred: 2 diff:  1\n",
            "target: 3 pred: 1 diff:  2\n",
            "target: 4 pred: 2 diff:  2\n",
            "target: 4 pred: 1 diff:  3\n",
            "target: 4 pred: 3 diff:  1\n",
            "target: 4 pred: 2 diff:  2\n",
            "target: 4 pred: 1 diff:  3\n",
            "target: 1 pred: 1 diff:  0\n",
            "target: 1 pred: 1 diff:  0\n",
            "target: 3 pred: 2 diff:  1\n",
            "target: 2 pred: 3 diff:  -1\n",
            "target: 1 pred: 1 diff:  0\n",
            "target: 3 pred: 1 diff:  2\n",
            "target: 3 pred: 1 diff:  2\n",
            "target: 2 pred: 3 diff:  -1\n",
            "target: 1 pred: 2 diff:  -1\n",
            "target: 3 pred: 2 diff:  1\n",
            "target: 1 pred: 2 diff:  -1\n",
            "target: 1 pred: 3 diff:  -2\n",
            "target: 2 pred: 3 diff:  -1\n",
            "target: 2 pred: 3 diff:  -1\n",
            "target: 1 pred: 1 diff:  0\n",
            "target: 1 pred: 2 diff:  -1\n",
            "target: 3 pred: 4 diff:  -1\n",
            "target: 2 pred: 2 diff:  0\n",
            "target: 1 pred: 2 diff:  -1\n",
            "target: 3 pred: 3 diff:  0\n",
            "target: 3 pred: 3 diff:  0\n",
            "target: 2 pred: 3 diff:  -1\n",
            "target: 2 pred: 3 diff:  -1\n",
            "target: 2 pred: 3 diff:  -1\n",
            "target: 3 pred: 2 diff:  1\n",
            "target: 1 pred: 3 diff:  -2\n",
            "target: 1 pred: 2 diff:  -1\n",
            "target: 1 pred: 2 diff:  -1\n",
            "target: 1 pred: 3 diff:  -2\n",
            "target: 4 pred: 3 diff:  1\n",
            "target: 1 pred: 2 diff:  -1\n",
            "target: 3 pred: 2 diff:  1\n",
            "target: 2 pred: 2 diff:  0\n",
            "target: 3 pred: 1 diff:  2\n",
            "target: 3 pred: 2 diff:  1\n",
            "target: 1 pred: 3 diff:  -2\n",
            "target: 2 pred: 1 diff:  1\n",
            "target: 3 pred: 1 diff:  2\n",
            "target: 2 pred: 2 diff:  0\n",
            "target: 2 pred: 1 diff:  1\n",
            "target: 1 pred: 1 diff:  0\n",
            "target: 4 pred: 3 diff:  1\n",
            "target: 2 pred: 1 diff:  1\n",
            "target: 1 pred: 2 diff:  -1\n",
            "target: 1 pred: 1 diff:  0\n",
            "target: 1 pred: 1 diff:  0\n",
            "target: 1 pred: 2 diff:  -1\n",
            "target: 2 pred: 2 diff:  0\n",
            "target: 1 pred: 2 diff:  -1\n",
            "target: 4 pred: 2 diff:  2\n",
            "target: 2 pred: 1 diff:  1\n",
            "target: 1 pred: 2 diff:  -1\n",
            "target: 3 pred: 1 diff:  2\n",
            "target: 3 pred: 2 diff:  1\n",
            "target: 3 pred: 1 diff:  2\n",
            "target: 4 pred: 1 diff:  3\n",
            "target: 1 pred: 1 diff:  0\n",
            "target: 1 pred: 2 diff:  -1\n",
            "target: 1 pred: 2 diff:  -1\n",
            "target: 1 pred: 1 diff:  0\n",
            "target: 1 pred: 3 diff:  -2\n",
            "target: 2 pred: 2 diff:  0\n",
            "target: 4 pred: 3 diff:  1\n",
            "target: 2 pred: 1 diff:  1\n",
            "target: 3 pred: 1 diff:  2\n",
            "target: 3 pred: 3 diff:  0\n",
            "target: 1 pred: 3 diff:  -2\n",
            "target: 2 pred: 1 diff:  1\n",
            "target: 4 pred: 3 diff:  1\n",
            "target: 1 pred: 2 diff:  -1\n",
            "target: 1 pred: 3 diff:  -2\n",
            "target: 3 pred: 1 diff:  2\n",
            "target: 2 pred: 1 diff:  1\n",
            "target: 2 pred: 2 diff:  0\n",
            "target: 1 pred: 1 diff:  0\n",
            "target: 1 pred: 1 diff:  0\n",
            "target: 3 pred: 2 diff:  1\n",
            "target: 2 pred: 2 diff:  0\n",
            "target: 1 pred: 1 diff:  0\n",
            "target: 2 pred: 2 diff:  0\n",
            "target: 1 pred: 2 diff:  -1\n",
            "target: 1 pred: 2 diff:  -1\n",
            "target: 2 pred: 2 diff:  0\n",
            "target: 3 pred: 2 diff:  1\n",
            "target: 4 pred: 1 diff:  3\n",
            "target: 1 pred: 2 diff:  -1\n",
            "target: 3 pred: 2 diff:  1\n",
            "target: 2 pred: 2 diff:  0\n",
            "target: 2 pred: 2 diff:  0\n",
            "target: 4 pred: 2 diff:  2\n",
            "target: 1 pred: 2 diff:  -1\n",
            "target: 1 pred: 2 diff:  -1\n",
            "target: 1 pred: 2 diff:  -1\n",
            "target: 4 pred: 2 diff:  2\n",
            "target: 3 pred: 3 diff:  0\n",
            "target: 1 pred: 3 diff:  -2\n",
            "target: 2 pred: 3 diff:  -1\n",
            "target: 2 pred: 2 diff:  0\n",
            "target: 3 pred: 3 diff:  0\n",
            "target: 3 pred: 1 diff:  2\n",
            "target: 3 pred: 2 diff:  1\n",
            "target: 1 pred: 3 diff:  -2\n",
            "target: 2 pred: 3 diff:  -1\n",
            "target: 1 pred: 3 diff:  -2\n",
            "target: 3 pred: 1 diff:  2\n",
            "target: 1 pred: 2 diff:  -1\n",
            "target: 3 pred: 3 diff:  0\n",
            "target: 3 pred: 2 diff:  1\n",
            "target: 1 pred: 2 diff:  -1\n",
            "target: 1 pred: 2 diff:  -1\n",
            "target: 4 pred: 3 diff:  1\n",
            "target: 2 pred: 3 diff:  -1\n",
            "target: 4 pred: 3 diff:  1\n",
            "target: 1 pred: 2 diff:  -1\n",
            "target: 4 pred: 3 diff:  1\n",
            "target: 1 pred: 2 diff:  -1\n",
            "target: 2 pred: 1 diff:  1\n",
            "target: 3 pred: 2 diff:  1\n",
            "target: 1 pred: 3 diff:  -2\n",
            "target: 2 pred: 3 diff:  -1\n",
            "target: 3 pred: 1 diff:  2\n",
            "target: 2 pred: 3 diff:  -1\n",
            "target: 3 pred: 2 diff:  1\n",
            "target: 4 pred: 3 diff:  1\n",
            "target: 2 pred: 3 diff:  -1\n",
            "target: 1 pred: 2 diff:  -1\n",
            "target: 1 pred: 1 diff:  0\n",
            "target: 1 pred: 1 diff:  0\n",
            "target: 1 pred: 3 diff:  -2\n",
            "target: 1 pred: 2 diff:  -1\n",
            "target: 1 pred: 3 diff:  -2\n",
            "target: 3 pred: 3 diff:  0\n",
            "target: 1 pred: 2 diff:  -1\n",
            "target: 2 pred: 1 diff:  1\n",
            "target: 2 pred: 2 diff:  0\n",
            "target: 2 pred: 2 diff:  0\n",
            "target: 3 pred: 3 diff:  0\n",
            "target: 2 pred: 2 diff:  0\n",
            "target: 2 pred: 2 diff:  0\n",
            "target: 2 pred: 2 diff:  0\n",
            "target: 1 pred: 3 diff:  -2\n",
            "target: 3 pred: 2 diff:  1\n",
            "target: 2 pred: 2 diff:  0\n",
            "target: 2 pred: 2 diff:  0\n",
            "target: 1 pred: 3 diff:  -2\n",
            "target: 1 pred: 3 diff:  -2\n",
            "target: 1 pred: 2 diff:  -1\n",
            "target: 1 pred: 3 diff:  -2\n",
            "target: 3 pred: 2 diff:  1\n",
            "target: 1 pred: 3 diff:  -2\n",
            "target: 1 pred: 1 diff:  0\n",
            "target: 2 pred: 1 diff:  1\n",
            "target: 1 pred: 2 diff:  -1\n",
            "target: 4 pred: 1 diff:  3\n",
            "target: 3 pred: 2 diff:  1\n",
            "target: 2 pred: 3 diff:  -1\n",
            "target: 4 pred: 2 diff:  2\n",
            "target: 2 pred: 2 diff:  0\n",
            "target: 1 pred: 1 diff:  0\n",
            "target: 3 pred: 2 diff:  1\n",
            "target: 4 pred: 1 diff:  3\n",
            "target: 1 pred: 1 diff:  0\n",
            "target: 1 pred: 3 diff:  -2\n",
            "target: 2 pred: 2 diff:  0\n",
            "target: 1 pred: 2 diff:  -1\n",
            "target: 1 pred: 1 diff:  0\n",
            "target: 1 pred: 1 diff:  0\n",
            "target: 4 pred: 2 diff:  2\n",
            "target: 4 pred: 2 diff:  2\n",
            "target: 3 pred: 1 diff:  2\n",
            "target: 2 pred: 3 diff:  -1\n",
            "target: 1 pred: 3 diff:  -2\n",
            "target: 2 pred: 3 diff:  -1\n",
            "target: 4 pred: 2 diff:  2\n",
            "target: 2 pred: 2 diff:  0\n",
            "target: 1 pred: 1 diff:  0\n",
            "target: 3 pred: 3 diff:  0\n",
            "target: 2 pred: 1 diff:  1\n",
            "target: 3 pred: 3 diff:  0\n",
            "target: 1 pred: 1 diff:  0\n",
            "target: 2 pred: 3 diff:  -1\n",
            "target: 2 pred: 2 diff:  0\n",
            "target: 1 pred: 1 diff:  0\n",
            "target: 3 pred: 3 diff:  0\n",
            "target: 4 pred: 2 diff:  2\n",
            "target: 3 pred: 3 diff:  0\n",
            "target: 3 pred: 2 diff:  1\n",
            "target: 2 pred: 3 diff:  -1\n",
            "target: 1 pred: 2 diff:  -1\n",
            "target: 2 pred: 2 diff:  0\n",
            "target: 2 pred: 3 diff:  -1\n",
            "target: 2 pred: 2 diff:  0\n",
            "target: 2 pred: 2 diff:  0\n",
            "target: 1 pred: 1 diff:  0\n",
            "target: 1 pred: 2 diff:  -1\n",
            "target: 2 pred: 1 diff:  1\n",
            "target: 2 pred: 1 diff:  1\n",
            "target: 3 pred: 2 diff:  1\n",
            "target: 2 pred: 3 diff:  -1\n",
            "target: 3 pred: 2 diff:  1\n",
            "target: 1 pred: 2 diff:  -1\n",
            "target: 2 pred: 1 diff:  1\n",
            "target: 3 pred: 1 diff:  2\n",
            "target: 2 pred: 3 diff:  -1\n",
            "target: 1 pred: 2 diff:  -1\n",
            "target: 2 pred: 2 diff:  0\n",
            "target: 1 pred: 2 diff:  -1\n",
            "target: 2 pred: 1 diff:  1\n",
            "target: 2 pred: 1 diff:  1\n",
            "target: 3 pred: 2 diff:  1\n",
            "target: 2 pred: 1 diff:  1\n",
            "target: 3 pred: 1 diff:  2\n",
            "target: 3 pred: 3 diff:  0\n",
            "target: 2 pred: 2 diff:  0\n",
            "target: 1 pred: 3 diff:  -2\n",
            "target: 3 pred: 3 diff:  0\n",
            "target: 3 pred: 1 diff:  2\n",
            "target: 2 pred: 2 diff:  0\n",
            "target: 3 pred: 3 diff:  0\n",
            "target: 3 pred: 2 diff:  1\n",
            "target: 2 pred: 2 diff:  0\n",
            "target: 1 pred: 3 diff:  -2\n",
            "target: 1 pred: 3 diff:  -2\n",
            "target: 3 pred: 2 diff:  1\n",
            "target: 2 pred: 3 diff:  -1\n",
            "target: 1 pred: 2 diff:  -1\n",
            "target: 1 pred: 1 diff:  0\n",
            "target: 3 pred: 1 diff:  2\n",
            "target: 3 pred: 1 diff:  2\n",
            "target: 1 pred: 3 diff:  -2\n",
            "target: 3 pred: 2 diff:  1\n",
            "target: 1 pred: 3 diff:  -2\n",
            "target: 3 pred: 2 diff:  1\n",
            "target: 1 pred: 2 diff:  -1\n",
            "target: 1 pred: 2 diff:  -1\n",
            "target: 3 pred: 1 diff:  2\n",
            "target: 3 pred: 1 diff:  2\n",
            "target: 3 pred: 1 diff:  2\n",
            "target: 3 pred: 2 diff:  1\n",
            "target: 3 pred: 3 diff:  0\n",
            "target: 3 pred: 2 diff:  1\n",
            "target: 3 pred: 3 diff:  0\n",
            "target: 1 pred: 3 diff:  -2\n",
            "target: 1 pred: 1 diff:  0\n",
            "target: 2 pred: 3 diff:  -1\n",
            "target: 1 pred: 3 diff:  -2\n",
            "target: 1 pred: 3 diff:  -2\n",
            "target: 1 pred: 3 diff:  -2\n",
            "target: 1 pred: 2 diff:  -1\n",
            "target: 2 pred: 1 diff:  1\n",
            "target: 1 pred: 2 diff:  -1\n",
            "target: 2 pred: 3 diff:  -1\n",
            "target: 1 pred: 3 diff:  -2\n",
            "target: 4 pred: 3 diff:  1\n",
            "target: 1 pred: 1 diff:  0\n",
            "target: 2 pred: 2 diff:  0\n",
            "target: 1 pred: 2 diff:  -1\n",
            "target: 2 pred: 2 diff:  0\n",
            "target: 1 pred: 3 diff:  -2\n",
            "target: 2 pred: 3 diff:  -1\n",
            "target: 3 pred: 3 diff:  0\n",
            "target: 2 pred: 2 diff:  0\n",
            "target: 2 pred: 4 diff:  -2\n",
            "target: 3 pred: 3 diff:  0\n",
            "target: 1 pred: 3 diff:  -2\n",
            "target: 4 pred: 2 diff:  2\n",
            "target: 1 pred: 1 diff:  0\n",
            "target: 3 pred: 2 diff:  1\n",
            "target: 2 pred: 2 diff:  0\n",
            "target: 1 pred: 2 diff:  -1\n",
            "target: 2 pred: 2 diff:  0\n",
            "target: 1 pred: 1 diff:  0\n",
            "target: 1 pred: 3 diff:  -2\n",
            "target: 3 pred: 2 diff:  1\n",
            "target: 1 pred: 1 diff:  0\n",
            "target: 2 pred: 2 diff:  0\n",
            "target: 2 pred: 3 diff:  -1\n",
            "target: 3 pred: 2 diff:  1\n",
            "target: 4 pred: 2 diff:  2\n",
            "target: 1 pred: 2 diff:  -1\n",
            "target: 1 pred: 2 diff:  -1\n",
            "target: 3 pred: 1 diff:  2\n",
            "target: 2 pred: 2 diff:  0\n",
            "target: 4 pred: 2 diff:  2\n",
            "target: 1 pred: 2 diff:  -1\n",
            "target: 2 pred: 2 diff:  0\n",
            "target: 1 pred: 2 diff:  -1\n",
            "target: 1 pred: 3 diff:  -2\n",
            "target: 2 pred: 2 diff:  0\n",
            "target: 1 pred: 3 diff:  -2\n",
            "target: 2 pred: 2 diff:  0\n",
            "target: 1 pred: 2 diff:  -1\n",
            "target: 1 pred: 2 diff:  -1\n",
            "target: 2 pred: 1 diff:  1\n",
            "target: 1 pred: 3 diff:  -2\n",
            "target: 3 pred: 3 diff:  0\n",
            "target: 2 pred: 1 diff:  1\n",
            "target: 1 pred: 3 diff:  -2\n",
            "target: 3 pred: 1 diff:  2\n",
            "target: 3 pred: 3 diff:  0\n",
            "target: 1 pred: 3 diff:  -2\n",
            "target: 2 pred: 3 diff:  -1\n",
            "target: 2 pred: 1 diff:  1\n",
            "target: 4 pred: 2 diff:  2\n",
            "target: 3 pred: 1 diff:  2\n",
            "target: 3 pred: 1 diff:  2\n",
            "target: 1 pred: 2 diff:  -1\n",
            "target: 3 pred: 2 diff:  1\n",
            "target: 2 pred: 2 diff:  0\n",
            "target: 3 pred: 3 diff:  0\n",
            "target: 3 pred: 1 diff:  2\n",
            "target: 1 pred: 1 diff:  0\n",
            "target: 2 pred: 3 diff:  -1\n",
            "target: 2 pred: 3 diff:  -1\n",
            "target: 1 pred: 1 diff:  0\n",
            "target: 2 pred: 3 diff:  -1\n",
            "target: 1 pred: 3 diff:  -2\n",
            "target: 4 pred: 1 diff:  3\n",
            "target: 4 pred: 3 diff:  1\n",
            "target: 3 pred: 4 diff:  -1\n",
            "target: 1 pred: 2 diff:  -1\n",
            "target: 3 pred: 2 diff:  1\n",
            "target: 2 pred: 1 diff:  1\n",
            "target: 2 pred: 1 diff:  1\n",
            "target: 4 pred: 2 diff:  2\n",
            "target: 1 pred: 1 diff:  0\n",
            "target: 2 pred: 2 diff:  0\n",
            "target: 3 pred: 2 diff:  1\n",
            "target: 1 pred: 3 diff:  -2\n",
            "target: 1 pred: 2 diff:  -1\n",
            "target: 1 pred: 3 diff:  -2\n",
            "target: 1 pred: 1 diff:  0\n",
            "target: 1 pred: 3 diff:  -2\n",
            "target: 2 pred: 2 diff:  0\n",
            "target: 1 pred: 2 diff:  -1\n",
            "target: 1 pred: 1 diff:  0\n",
            "target: 2 pred: 2 diff:  0\n",
            "target: 2 pred: 2 diff:  0\n",
            "target: 2 pred: 2 diff:  0\n",
            "target: 3 pred: 1 diff:  2\n",
            "target: 3 pred: 3 diff:  0\n",
            "target: 4 pred: 3 diff:  1\n",
            "target: 2 pred: 2 diff:  0\n",
            "target: 4 pred: 2 diff:  2\n",
            "target: 1 pred: 1 diff:  0\n",
            "target: 4 pred: 1 diff:  3\n",
            "target: 1 pred: 1 diff:  0\n",
            "target: 3 pred: 2 diff:  1\n",
            "target: 1 pred: 3 diff:  -2\n",
            "target: 3 pred: 1 diff:  2\n",
            "target: 2 pred: 1 diff:  1\n",
            "target: 2 pred: 1 diff:  1\n",
            "target: 1 pred: 2 diff:  -1\n",
            "target: 2 pred: 1 diff:  1\n",
            "target: 1 pred: 1 diff:  0\n",
            "target: 2 pred: 3 diff:  -1\n",
            "target: 3 pred: 1 diff:  2\n",
            "target: 2 pred: 3 diff:  -1\n",
            "target: 3 pred: 2 diff:  1\n",
            "target: 3 pred: 1 diff:  2\n",
            "target: 2 pred: 2 diff:  0\n",
            "target: 4 pred: 2 diff:  2\n",
            "target: 3 pred: 3 diff:  0\n",
            "target: 4 pred: 1 diff:  3\n",
            "target: 4 pred: 2 diff:  2\n",
            "target: 3 pred: 2 diff:  1\n",
            "target: 3 pred: 1 diff:  2\n",
            "target: 3 pred: 1 diff:  2\n",
            "target: 2 pred: 1 diff:  1\n",
            "target: 2 pred: 3 diff:  -1\n",
            "target: 1 pred: 2 diff:  -1\n",
            "target: 1 pred: 2 diff:  -1\n",
            "target: 2 pred: 4 diff:  -2\n",
            "target: 3 pred: 3 diff:  0\n",
            "target: 3 pred: 1 diff:  2\n",
            "target: 1 pred: 2 diff:  -1\n",
            "target: 2 pred: 2 diff:  0\n",
            "target: 4 pred: 3 diff:  1\n",
            "target: 4 pred: 1 diff:  3\n",
            "target: 3 pred: 1 diff:  2\n",
            "target: 3 pred: 2 diff:  1\n",
            "target: 4 pred: 1 diff:  3\n",
            "target: 2 pred: 3 diff:  -1\n",
            "target: 1 pred: 2 diff:  -1\n",
            "target: 3 pred: 3 diff:  0\n",
            "target: 2 pred: 3 diff:  -1\n",
            "target: 4 pred: 3 diff:  1\n",
            "target: 1 pred: 2 diff:  -1\n",
            "target: 3 pred: 2 diff:  1\n",
            "target: 2 pred: 1 diff:  1\n",
            "target: 2 pred: 2 diff:  0\n",
            "target: 1 pred: 2 diff:  -1\n",
            "target: 3 pred: 1 diff:  2\n",
            "target: 1 pred: 1 diff:  0\n",
            "target: 1 pred: 1 diff:  0\n",
            "target: 1 pred: 1 diff:  0\n",
            "target: 2 pred: 3 diff:  -1\n",
            "target: 3 pred: 2 diff:  1\n",
            "target: 1 pred: 3 diff:  -2\n",
            "target: 2 pred: 2 diff:  0\n",
            "target: 3 pred: 3 diff:  0\n",
            "target: 2 pred: 2 diff:  0\n",
            "target: 3 pred: 1 diff:  2\n",
            "target: 2 pred: 3 diff:  -1\n",
            "target: 2 pred: 3 diff:  -1\n",
            "target: 2 pred: 2 diff:  0\n",
            "target: 1 pred: 2 diff:  -1\n",
            "target: 2 pred: 2 diff:  0\n",
            "target: 3 pred: 3 diff:  0\n",
            "target: 4 pred: 2 diff:  2\n",
            "target: 2 pred: 2 diff:  0\n",
            "target: 3 pred: 1 diff:  2\n",
            "target: 1 pred: 1 diff:  0\n",
            "target: 1 pred: 3 diff:  -2\n",
            "target: 3 pred: 2 diff:  1\n",
            "target: 2 pred: 1 diff:  1\n",
            "target: 4 pred: 1 diff:  3\n",
            "target: 2 pred: 2 diff:  0\n",
            "target: 1 pred: 2 diff:  -1\n",
            "target: 1 pred: 3 diff:  -2\n",
            "target: 2 pred: 2 diff:  0\n",
            "target: 1 pred: 1 diff:  0\n",
            "target: 2 pred: 2 diff:  0\n",
            "target: 1 pred: 2 diff:  -1\n",
            "target: 2 pred: 1 diff:  1\n",
            "target: 2 pred: 2 diff:  0\n",
            "target: 2 pred: 1 diff:  1\n",
            "target: 2 pred: 2 diff:  0\n",
            "target: 1 pred: 2 diff:  -1\n",
            "target: 1 pred: 2 diff:  -1\n",
            "target: 2 pred: 2 diff:  0\n",
            "target: 2 pred: 1 diff:  1\n",
            "target: 1 pred: 2 diff:  -1\n",
            "target: 2 pred: 2 diff:  0\n",
            "target: 1 pred: 2 diff:  -1\n",
            "target: 3 pred: 1 diff:  2\n",
            "target: 2 pred: 2 diff:  0\n",
            "target: 2 pred: 1 diff:  1\n",
            "target: 3 pred: 1 diff:  2\n",
            "target: 2 pred: 2 diff:  0\n",
            "target: 3 pred: 2 diff:  1\n",
            "target: 2 pred: 2 diff:  0\n",
            "target: 1 pred: 1 diff:  0\n",
            "target: 1 pred: 3 diff:  -2\n",
            "target: 2 pred: 2 diff:  0\n",
            "target: 2 pred: 1 diff:  1\n",
            "target: 2 pred: 3 diff:  -1\n",
            "target: 1 pred: 3 diff:  -2\n",
            "target: 1 pred: 2 diff:  -1\n",
            "target: 1 pred: 2 diff:  -1\n",
            "target: 2 pred: 2 diff:  0\n",
            "target: 1 pred: 1 diff:  0\n",
            "target: 2 pred: 1 diff:  1\n",
            "target: 1 pred: 1 diff:  0\n",
            "target: 1 pred: 3 diff:  -2\n",
            "target: 1 pred: 3 diff:  -2\n",
            "target: 1 pred: 3 diff:  -2\n",
            "target: 3 pred: 2 diff:  1\n",
            "target: 1 pred: 2 diff:  -1\n",
            "target: 2 pred: 1 diff:  1\n",
            "target: 1 pred: 3 diff:  -2\n",
            "target: 3 pred: 1 diff:  2\n",
            "target: 1 pred: 2 diff:  -1\n",
            "target: 1 pred: 2 diff:  -1\n",
            "target: 1 pred: 3 diff:  -2\n",
            "target: 1 pred: 1 diff:  0\n",
            "target: 1 pred: 2 diff:  -1\n",
            "target: 3 pred: 1 diff:  2\n",
            "target: 2 pred: 1 diff:  1\n",
            "target: 1 pred: 2 diff:  -1\n",
            "target: 1 pred: 2 diff:  -1\n",
            "target: 1 pred: 1 diff:  0\n",
            "target: 2 pred: 3 diff:  -1\n",
            "target: 1 pred: 3 diff:  -2\n",
            "target: 1 pred: 2 diff:  -1\n",
            "target: 1 pred: 2 diff:  -1\n",
            "target: 2 pred: 3 diff:  -1\n",
            "target: 3 pred: 3 diff:  0\n",
            "target: 2 pred: 1 diff:  1\n",
            "target: 3 pred: 2 diff:  1\n",
            "target: 4 pred: 2 diff:  2\n",
            "target: 2 pred: 2 diff:  0\n",
            "target: 3 pred: 1 diff:  2\n",
            "target: 1 pred: 1 diff:  0\n",
            "target: 3 pred: 2 diff:  1\n",
            "target: 3 pred: 1 diff:  2\n",
            "target: 2 pred: 3 diff:  -1\n",
            "target: 4 pred: 2 diff:  2\n",
            "target: 3 pred: 1 diff:  2\n",
            "target: 3 pred: 2 diff:  1\n",
            "target: 2 pred: 2 diff:  0\n",
            "target: 1 pred: 2 diff:  -1\n",
            "target: 1 pred: 3 diff:  -2\n",
            "target: 1 pred: 2 diff:  -1\n",
            "target: 2 pred: 3 diff:  -1\n",
            "target: 1 pred: 1 diff:  0\n",
            "target: 1 pred: 3 diff:  -2\n",
            "target: 1 pred: 2 diff:  -1\n",
            "target: 3 pred: 2 diff:  1\n",
            "target: 1 pred: 2 diff:  -1\n",
            "target: 3 pred: 2 diff:  1\n",
            "target: 2 pred: 1 diff:  1\n",
            "target: 3 pred: 3 diff:  0\n",
            "target: 2 pred: 2 diff:  0\n",
            "target: 2 pred: 2 diff:  0\n",
            "target: 1 pred: 2 diff:  -1\n",
            "target: 1 pred: 3 diff:  -2\n",
            "target: 3 pred: 2 diff:  1\n",
            "target: 3 pred: 2 diff:  1\n",
            "target: 2 pred: 3 diff:  -1\n",
            "target: 1 pred: 1 diff:  0\n",
            "target: 3 pred: 2 diff:  1\n",
            "target: 4 pred: 2 diff:  2\n",
            "target: 2 pred: 1 diff:  1\n",
            "target: 2 pred: 2 diff:  0\n",
            "target: 3 pred: 3 diff:  0\n",
            "target: 1 pred: 2 diff:  -1\n",
            "target: 2 pred: 2 diff:  0\n",
            "target: 1 pred: 1 diff:  0\n",
            "target: 2 pred: 1 diff:  1\n",
            "target: 4 pred: 3 diff:  1\n",
            "target: 4 pred: 3 diff:  1\n",
            "target: 1 pred: 2 diff:  -1\n",
            "target: 1 pred: 1 diff:  0\n",
            "target: 4 pred: 3 diff:  1\n",
            "target: 1 pred: 2 diff:  -1\n",
            "target: 4 pred: 3 diff:  1\n",
            "target: 2 pred: 2 diff:  0\n",
            "target: 2 pred: 3 diff:  -1\n",
            "target: 1 pred: 3 diff:  -2\n",
            "target: 1 pred: 2 diff:  -1\n",
            "target: 3 pred: 4 diff:  -1\n",
            "target: 1 pred: 3 diff:  -2\n",
            "target: 3 pred: 2 diff:  1\n",
            "target: 2 pred: 3 diff:  -1\n",
            "target: 1 pred: 1 diff:  0\n",
            "target: 3 pred: 1 diff:  2\n",
            "target: 4 pred: 1 diff:  3\n",
            "target: 1 pred: 3 diff:  -2\n",
            "target: 2 pred: 2 diff:  0\n",
            "target: 1 pred: 2 diff:  -1\n",
            "target: 3 pred: 3 diff:  0\n",
            "target: 1 pred: 2 diff:  -1\n",
            "target: 3 pred: 2 diff:  1\n",
            "target: 2 pred: 3 diff:  -1\n",
            "target: 2 pred: 2 diff:  0\n",
            "target: 1 pred: 1 diff:  0\n",
            "target: 1 pred: 1 diff:  0\n",
            "target: 3 pred: 3 diff:  0\n",
            "target: 1 pred: 3 diff:  -2\n",
            "target: 2 pred: 2 diff:  0\n",
            "target: 4 pred: 2 diff:  2\n",
            "target: 2 pred: 2 diff:  0\n",
            "target: 4 pred: 1 diff:  3\n",
            "target: 1 pred: 3 diff:  -2\n",
            "target: 4 pred: 1 diff:  3\n",
            "target: 2 pred: 2 diff:  0\n",
            "target: 2 pred: 2 diff:  0\n",
            "target: 2 pred: 2 diff:  0\n",
            "target: 3 pred: 2 diff:  1\n",
            "target: 1 pred: 3 diff:  -2\n",
            "target: 2 pred: 1 diff:  1\n",
            "target: 1 pred: 2 diff:  -1\n",
            "target: 1 pred: 3 diff:  -2\n",
            "target: 3 pred: 2 diff:  1\n",
            "target: 3 pred: 3 diff:  0\n",
            "target: 3 pred: 2 diff:  1\n",
            "target: 3 pred: 1 diff:  2\n",
            "target: 1 pred: 2 diff:  -1\n",
            "target: 2 pred: 1 diff:  1\n",
            "target: 3 pred: 1 diff:  2\n",
            "target: 2 pred: 3 diff:  -1\n",
            "target: 2 pred: 2 diff:  0\n",
            "target: 4 pred: 1 diff:  3\n",
            "target: 2 pred: 1 diff:  1\n",
            "target: 3 pred: 1 diff:  2\n",
            "target: 1 pred: 2 diff:  -1\n",
            "target: 2 pred: 2 diff:  0\n",
            "target: 2 pred: 2 diff:  0\n",
            "target: 1 pred: 2 diff:  -1\n",
            "target: 2 pred: 2 diff:  0\n",
            "target: 3 pred: 2 diff:  1\n",
            "target: 2 pred: 2 diff:  0\n",
            "target: 1 pred: 3 diff:  -2\n",
            "target: 2 pred: 2 diff:  0\n",
            "target: 1 pred: 3 diff:  -2\n",
            "target: 2 pred: 2 diff:  0\n",
            "target: 2 pred: 3 diff:  -1\n",
            "target: 3 pred: 2 diff:  1\n",
            "target: 2 pred: 3 diff:  -1\n",
            "target: 1 pred: 2 diff:  -1\n",
            "target: 4 pred: 2 diff:  2\n",
            "target: 1 pred: 1 diff:  0\n",
            "target: 1 pred: 2 diff:  -1\n",
            "target: 1 pred: 2 diff:  -1\n",
            "target: 3 pred: 2 diff:  1\n",
            "target: 2 pred: 3 diff:  -1\n",
            "target: 1 pred: 2 diff:  -1\n",
            "target: 3 pred: 3 diff:  0\n",
            "target: 3 pred: 1 diff:  2\n",
            "target: 1 pred: 3 diff:  -2\n",
            "target: 1 pred: 2 diff:  -1\n",
            "target: 2 pred: 3 diff:  -1\n",
            "target: 1 pred: 2 diff:  -1\n",
            "target: 2 pred: 3 diff:  -1\n",
            "target: 2 pred: 1 diff:  1\n",
            "target: 1 pred: 2 diff:  -1\n",
            "target: 1 pred: 2 diff:  -1\n",
            "target: 2 pred: 3 diff:  -1\n",
            "target: 2 pred: 2 diff:  0\n",
            "target: 1 pred: 2 diff:  -1\n",
            "target: 1 pred: 2 diff:  -1\n",
            "target: 3 pred: 2 diff:  1\n",
            "target: 1 pred: 1 diff:  0\n",
            "target: 4 pred: 2 diff:  2\n",
            "target: 2 pred: 2 diff:  0\n",
            "target: 3 pred: 2 diff:  1\n",
            "target: 2 pred: 2 diff:  0\n",
            "target: 4 pred: 2 diff:  2\n",
            "target: 1 pred: 2 diff:  -1\n",
            "target: 3 pred: 2 diff:  1\n",
            "target: 1 pred: 3 diff:  -2\n",
            "target: 2 pred: 1 diff:  1\n",
            "target: 2 pred: 3 diff:  -1\n",
            "target: 3 pred: 2 diff:  1\n",
            "target: 2 pred: 3 diff:  -1\n",
            "target: 1 pred: 3 diff:  -2\n",
            "target: 1 pred: 2 diff:  -1\n",
            "target: 1 pred: 3 diff:  -2\n",
            "target: 1 pred: 1 diff:  0\n",
            "target: 2 pred: 1 diff:  1\n",
            "target: 1 pred: 2 diff:  -1\n",
            "target: 2 pred: 1 diff:  1\n",
            "target: 2 pred: 3 diff:  -1\n",
            "target: 3 pred: 1 diff:  2\n",
            "target: 2 pred: 3 diff:  -1\n",
            "target: 3 pred: 3 diff:  0\n",
            "target: 1 pred: 1 diff:  0\n",
            "target: 1 pred: 2 diff:  -1\n",
            "target: 1 pred: 3 diff:  -2\n",
            "target: 2 pred: 3 diff:  -1\n",
            "target: 4 pred: 1 diff:  3\n",
            "target: 3 pred: 2 diff:  1\n",
            "target: 2 pred: 2 diff:  0\n",
            "target: 3 pred: 2 diff:  1\n",
            "target: 1 pred: 3 diff:  -2\n",
            "target: 4 pred: 1 diff:  3\n",
            "target: 3 pred: 2 diff:  1\n",
            "target: 2 pred: 1 diff:  1\n",
            "target: 1 pred: 2 diff:  -1\n",
            "target: 2 pred: 2 diff:  0\n",
            "target: 1 pred: 2 diff:  -1\n",
            "target: 3 pred: 3 diff:  0\n",
            "target: 3 pred: 1 diff:  2\n",
            "target: 3 pred: 1 diff:  2\n",
            "target: 2 pred: 1 diff:  1\n",
            "target: 4 pred: 2 diff:  2\n",
            "target: 3 pred: 1 diff:  2\n",
            "target: 1 pred: 3 diff:  -2\n",
            "target: 4 pred: 1 diff:  3\n",
            "target: 1 pred: 3 diff:  -2\n",
            "target: 2 pred: 3 diff:  -1\n",
            "target: 3 pred: 2 diff:  1\n",
            "target: 2 pred: 2 diff:  0\n",
            "target: 1 pred: 2 diff:  -1\n",
            "target: 4 pred: 2 diff:  2\n",
            "target: 1 pred: 1 diff:  0\n",
            "target: 1 pred: 1 diff:  0\n",
            "target: 2 pred: 1 diff:  1\n",
            "target: 2 pred: 3 diff:  -1\n",
            "target: 2 pred: 1 diff:  1\n",
            "target: 1 pred: 2 diff:  -1\n",
            "target: 1 pred: 1 diff:  0\n",
            "target: 1 pred: 2 diff:  -1\n",
            "target: 3 pred: 1 diff:  2\n",
            "target: 1 pred: 3 diff:  -2\n",
            "target: 1 pred: 1 diff:  0\n",
            "target: 3 pred: 2 diff:  1\n",
            "target: 4 pred: 1 diff:  3\n",
            "target: 3 pred: 3 diff:  0\n",
            "target: 3 pred: 1 diff:  2\n",
            "target: 1 pred: 3 diff:  -2\n",
            "target: 1 pred: 1 diff:  0\n",
            "target: 4 pred: 1 diff:  3\n",
            "target: 1 pred: 1 diff:  0\n",
            "target: 1 pred: 2 diff:  -1\n",
            "target: 1 pred: 1 diff:  0\n",
            "target: 3 pred: 2 diff:  1\n",
            "target: 3 pred: 1 diff:  2\n",
            "target: 2 pred: 2 diff:  0\n",
            "target: 1 pred: 4 diff:  -3\n",
            "target: 4 pred: 2 diff:  2\n",
            "target: 1 pred: 2 diff:  -1\n",
            "target: 1 pred: 3 diff:  -2\n",
            "target: 3 pred: 2 diff:  1\n",
            "target: 3 pred: 3 diff:  0\n",
            "target: 2 pred: 2 diff:  0\n",
            "target: 1 pred: 3 diff:  -2\n",
            "target: 1 pred: 2 diff:  -1\n",
            "target: 4 pred: 2 diff:  2\n",
            "target: 2 pred: 2 diff:  0\n",
            "target: 2 pred: 3 diff:  -1\n",
            "target: 2 pred: 3 diff:  -1\n",
            "target: 1 pred: 2 diff:  -1\n",
            "target: 1 pred: 1 diff:  0\n",
            "target: 1 pred: 3 diff:  -2\n",
            "target: 1 pred: 2 diff:  -1\n",
            "target: 2 pred: 1 diff:  1\n",
            "target: 2 pred: 3 diff:  -1\n",
            "target: 2 pred: 2 diff:  0\n",
            "target: 2 pred: 2 diff:  0\n",
            "target: 1 pred: 1 diff:  0\n",
            "target: 1 pred: 2 diff:  -1\n",
            "target: 3 pred: 2 diff:  1\n",
            "target: 3 pred: 3 diff:  0\n",
            "target: 4 pred: 2 diff:  2\n",
            "target: 1 pred: 1 diff:  0\n",
            "target: 1 pred: 1 diff:  0\n",
            "target: 2 pred: 1 diff:  1\n",
            "target: 2 pred: 3 diff:  -1\n",
            "target: 3 pred: 3 diff:  0\n",
            "target: 4 pred: 3 diff:  1\n",
            "target: 1 pred: 1 diff:  0\n",
            "target: 1 pred: 2 diff:  -1\n",
            "target: 3 pred: 3 diff:  0\n",
            "target: 1 pred: 1 diff:  0\n",
            "target: 3 pred: 1 diff:  2\n",
            "target: 2 pred: 3 diff:  -1\n",
            "target: 1 pred: 2 diff:  -1\n",
            "target: 3 pred: 2 diff:  1\n",
            "target: 3 pred: 3 diff:  0\n",
            "target: 2 pred: 1 diff:  1\n",
            "target: 2 pred: 3 diff:  -1\n",
            "target: 3 pred: 2 diff:  1\n",
            "target: 2 pred: 2 diff:  0\n",
            "target: 3 pred: 3 diff:  0\n",
            "target: 3 pred: 2 diff:  1\n",
            "target: 4 pred: 2 diff:  2\n",
            "target: 1 pred: 2 diff:  -1\n",
            "target: 3 pred: 2 diff:  1\n",
            "target: 3 pred: 2 diff:  1\n",
            "target: 2 pred: 3 diff:  -1\n",
            "target: 2 pred: 2 diff:  0\n",
            "target: 4 pred: 2 diff:  2\n",
            "target: 2 pred: 2 diff:  0\n",
            "target: 3 pred: 2 diff:  1\n",
            "target: 1 pred: 2 diff:  -1\n",
            "target: 1 pred: 3 diff:  -2\n",
            "target: 2 pred: 1 diff:  1\n",
            "target: 1 pred: 2 diff:  -1\n",
            "target: 2 pred: 3 diff:  -1\n",
            "target: 3 pred: 2 diff:  1\n",
            "target: 1 pred: 2 diff:  -1\n",
            "target: 2 pred: 4 diff:  -2\n",
            "target: 4 pred: 1 diff:  3\n",
            "target: 3 pred: 3 diff:  0\n",
            "target: 3 pred: 2 diff:  1\n",
            "target: 1 pred: 1 diff:  0\n",
            "target: 1 pred: 1 diff:  0\n",
            "target: 4 pred: 2 diff:  2\n",
            "target: 3 pred: 3 diff:  0\n",
            "target: 1 pred: 2 diff:  -1\n",
            "target: 3 pred: 2 diff:  1\n",
            "target: 2 pred: 1 diff:  1\n",
            "target: 1 pred: 3 diff:  -2\n",
            "target: 1 pred: 2 diff:  -1\n",
            "target: 1 pred: 1 diff:  0\n",
            "target: 1 pred: 1 diff:  0\n",
            "target: 1 pred: 3 diff:  -2\n",
            "target: 1 pred: 3 diff:  -2\n",
            "target: 1 pred: 2 diff:  -1\n",
            "target: 1 pred: 3 diff:  -2\n",
            "target: 4 pred: 3 diff:  1\n",
            "target: 2 pred: 2 diff:  0\n",
            "target: 1 pred: 1 diff:  0\n",
            "target: 3 pred: 1 diff:  2\n",
            "target: 1 pred: 2 diff:  -1\n",
            "target: 1 pred: 2 diff:  -1\n",
            "target: 1 pred: 2 diff:  -1\n",
            "target: 2 pred: 1 diff:  1\n",
            "target: 1 pred: 1 diff:  0\n",
            "target: 2 pred: 3 diff:  -1\n",
            "target: 3 pred: 2 diff:  1\n",
            "target: 4 pred: 1 diff:  3\n",
            "target: 2 pred: 1 diff:  1\n",
            "target: 2 pred: 1 diff:  1\n",
            "target: 3 pred: 3 diff:  0\n",
            "target: 3 pred: 2 diff:  1\n",
            "target: 2 pred: 2 diff:  0\n",
            "target: 4 pred: 3 diff:  1\n",
            "target: 3 pred: 2 diff:  1\n",
            "target: 3 pred: 2 diff:  1\n",
            "target: 4 pred: 2 diff:  2\n",
            "target: 4 pred: 2 diff:  2\n",
            "target: 2 pred: 3 diff:  -1\n",
            "target: 1 pred: 1 diff:  0\n",
            "target: 4 pred: 2 diff:  2\n",
            "target: 3 pred: 1 diff:  2\n",
            "target: 1 pred: 1 diff:  0\n",
            "target: 2 pred: 2 diff:  0\n",
            "target: 2 pred: 2 diff:  0\n",
            "target: 3 pred: 1 diff:  2\n",
            "target: 1 pred: 2 diff:  -1\n",
            "target: 3 pred: 1 diff:  2\n",
            "target: 2 pred: 2 diff:  0\n",
            "target: 4 pred: 1 diff:  3\n",
            "target: 3 pred: 1 diff:  2\n",
            "target: 1 pred: 3 diff:  -2\n",
            "target: 1 pred: 1 diff:  0\n",
            "target: 2 pred: 3 diff:  -1\n",
            "target: 2 pred: 2 diff:  0\n",
            "target: 1 pred: 2 diff:  -1\n",
            "target: 3 pred: 1 diff:  2\n",
            "target: 4 pred: 3 diff:  1\n",
            "target: 2 pred: 1 diff:  1\n",
            "target: 1 pred: 1 diff:  0\n",
            "target: 3 pred: 3 diff:  0\n",
            "target: 2 pred: 3 diff:  -1\n",
            "target: 2 pred: 3 diff:  -1\n",
            "target: 4 pred: 1 diff:  3\n",
            "target: 1 pred: 1 diff:  0\n",
            "target: 2 pred: 3 diff:  -1\n",
            "target: 1 pred: 3 diff:  -2\n",
            "target: 1 pred: 3 diff:  -2\n",
            "target: 1 pred: 2 diff:  -1\n",
            "target: 2 pred: 3 diff:  -1\n",
            "target: 3 pred: 1 diff:  2\n",
            "target: 3 pred: 1 diff:  2\n",
            "target: 3 pred: 2 diff:  1\n",
            "target: 1 pred: 3 diff:  -2\n",
            "target: 1 pred: 1 diff:  0\n",
            "target: 1 pred: 2 diff:  -1\n",
            "target: 2 pred: 2 diff:  0\n",
            "target: 3 pred: 2 diff:  1\n",
            "target: 3 pred: 2 diff:  1\n",
            "target: 1 pred: 2 diff:  -1\n",
            "target: 3 pred: 1 diff:  2\n",
            "target: 2 pred: 2 diff:  0\n",
            "target: 2 pred: 3 diff:  -1\n",
            "target: 4 pred: 1 diff:  3\n",
            "target: 4 pred: 2 diff:  2\n",
            "target: 4 pred: 1 diff:  3\n",
            "target: 2 pred: 1 diff:  1\n",
            "target: 3 pred: 1 diff:  2\n",
            "target: 3 pred: 3 diff:  0\n",
            "target: 1 pred: 2 diff:  -1\n",
            "target: 2 pred: 1 diff:  1\n",
            "target: 2 pred: 1 diff:  1\n",
            "target: 2 pred: 4 diff:  -2\n",
            "target: 2 pred: 2 diff:  0\n",
            "target: 1 pred: 2 diff:  -1\n",
            "target: 2 pred: 1 diff:  1\n",
            "target: 3 pred: 3 diff:  0\n",
            "target: 3 pred: 1 diff:  2\n",
            "target: 1 pred: 2 diff:  -1\n",
            "target: 2 pred: 3 diff:  -1\n",
            "target: 1 pred: 3 diff:  -2\n",
            "target: 4 pred: 3 diff:  1\n",
            "target: 3 pred: 2 diff:  1\n",
            "target: 3 pred: 2 diff:  1\n",
            "target: 3 pred: 1 diff:  2\n",
            "target: 1 pred: 2 diff:  -1\n",
            "target: 1 pred: 1 diff:  0\n",
            "target: 1 pred: 1 diff:  0\n",
            "target: 1 pred: 2 diff:  -1\n",
            "target: 1 pred: 2 diff:  -1\n",
            "target: 3 pred: 3 diff:  0\n",
            "target: 1 pred: 3 diff:  -2\n",
            "target: 1 pred: 2 diff:  -1\n",
            "target: 2 pred: 2 diff:  0\n",
            "target: 2 pred: 2 diff:  0\n",
            "target: 1 pred: 2 diff:  -1\n",
            "target: 2 pred: 1 diff:  1\n",
            "target: 1 pred: 3 diff:  -2\n",
            "target: 1 pred: 3 diff:  -2\n",
            "target: 1 pred: 2 diff:  -1\n",
            "target: 2 pred: 2 diff:  0\n",
            "target: 3 pred: 3 diff:  0\n",
            "target: 1 pred: 1 diff:  0\n",
            "target: 3 pred: 1 diff:  2\n",
            "target: 1 pred: 1 diff:  0\n",
            "target: 1 pred: 2 diff:  -1\n",
            "target: 1 pred: 1 diff:  0\n",
            "target: 1 pred: 1 diff:  0\n",
            "target: 2 pred: 1 diff:  1\n",
            "target: 3 pred: 1 diff:  2\n",
            "target: 1 pred: 3 diff:  -2\n",
            "target: 2 pred: 1 diff:  1\n",
            "target: 1 pred: 2 diff:  -1\n",
            "target: 3 pred: 2 diff:  1\n",
            "target: 4 pred: 1 diff:  3\n",
            "target: 2 pred: 2 diff:  0\n",
            "target: 3 pred: 2 diff:  1\n",
            "target: 1 pred: 2 diff:  -1\n",
            "target: 1 pred: 2 diff:  -1\n",
            "target: 2 pred: 2 diff:  0\n",
            "target: 1 pred: 1 diff:  0\n",
            "target: 3 pred: 2 diff:  1\n",
            "target: 1 pred: 3 diff:  -2\n",
            "target: 2 pred: 3 diff:  -1\n",
            "target: 1 pred: 2 diff:  -1\n",
            "target: 2 pred: 3 diff:  -1\n",
            "target: 1 pred: 2 diff:  -1\n",
            "target: 2 pred: 3 diff:  -1\n",
            "target: 4 pred: 2 diff:  2\n",
            "target: 1 pred: 2 diff:  -1\n",
            "target: 1 pred: 3 diff:  -2\n",
            "target: 1 pred: 1 diff:  0\n",
            "target: 3 pred: 2 diff:  1\n",
            "target: 3 pred: 2 diff:  1\n",
            "target: 1 pred: 3 diff:  -2\n",
            "target: 2 pred: 2 diff:  0\n",
            "target: 4 pred: 1 diff:  3\n",
            "target: 1 pred: 3 diff:  -2\n",
            "target: 2 pred: 1 diff:  1\n",
            "target: 4 pred: 3 diff:  1\n",
            "target: 2 pred: 2 diff:  0\n",
            "target: 2 pred: 1 diff:  1\n",
            "target: 3 pred: 3 diff:  0\n",
            "target: 2 pred: 1 diff:  1\n",
            "target: 2 pred: 1 diff:  1\n",
            "target: 2 pred: 2 diff:  0\n",
            "target: 3 pred: 2 diff:  1\n",
            "target: 1 pred: 2 diff:  -1\n",
            "target: 2 pred: 2 diff:  0\n",
            "target: 1 pred: 1 diff:  0\n",
            "target: 2 pred: 1 diff:  1\n",
            "target: 2 pred: 2 diff:  0\n",
            "target: 1 pred: 3 diff:  -2\n",
            "target: 1 pred: 1 diff:  0\n",
            "target: 1 pred: 3 diff:  -2\n",
            "target: 2 pred: 2 diff:  0\n",
            "target: 3 pred: 1 diff:  2\n",
            "target: 3 pred: 1 diff:  2\n",
            "target: 1 pred: 2 diff:  -1\n",
            "target: 2 pred: 3 diff:  -1\n",
            "target: 2 pred: 1 diff:  1\n",
            "target: 1 pred: 2 diff:  -1\n",
            "target: 1 pred: 3 diff:  -2\n",
            "target: 1 pred: 2 diff:  -1\n",
            "target: 3 pred: 3 diff:  0\n",
            "target: 2 pred: 2 diff:  0\n",
            "target: 2 pred: 3 diff:  -1\n",
            "target: 2 pred: 3 diff:  -1\n",
            "target: 1 pred: 1 diff:  0\n",
            "target: 2 pred: 3 diff:  -1\n",
            "target: 1 pred: 2 diff:  -1\n",
            "target: 1 pred: 3 diff:  -2\n",
            "target: 3 pred: 3 diff:  0\n",
            "target: 2 pred: 3 diff:  -1\n",
            "target: 2 pred: 3 diff:  -1\n",
            "target: 1 pred: 2 diff:  -1\n",
            "target: 3 pred: 2 diff:  1\n",
            "target: 1 pred: 2 diff:  -1\n",
            "target: 3 pred: 2 diff:  1\n",
            "target: 2 pred: 1 diff:  1\n",
            "target: 3 pred: 1 diff:  2\n",
            "target: 1 pred: 2 diff:  -1\n",
            "target: 2 pred: 2 diff:  0\n",
            "target: 3 pred: 1 diff:  2\n",
            "target: 1 pred: 3 diff:  -2\n",
            "target: 3 pred: 2 diff:  1\n",
            "target: 2 pred: 1 diff:  1\n",
            "target: 1 pred: 1 diff:  0\n",
            "target: 1 pred: 2 diff:  -1\n",
            "target: 1 pred: 3 diff:  -2\n",
            "target: 1 pred: 1 diff:  0\n",
            "target: 1 pred: 1 diff:  0\n",
            "target: 4 pred: 2 diff:  2\n",
            "target: 2 pred: 1 diff:  1\n",
            "target: 4 pred: 2 diff:  2\n",
            "target: 3 pred: 2 diff:  1\n",
            "target: 2 pred: 3 diff:  -1\n",
            "target: 3 pred: 3 diff:  0\n",
            "target: 4 pred: 2 diff:  2\n",
            "target: 4 pred: 2 diff:  2\n",
            "target: 2 pred: 2 diff:  0\n",
            "target: 2 pred: 2 diff:  0\n",
            "target: 1 pred: 3 diff:  -2\n",
            "target: 2 pred: 1 diff:  1\n",
            "target: 1 pred: 3 diff:  -2\n",
            "target: 2 pred: 3 diff:  -1\n",
            "target: 3 pred: 3 diff:  0\n",
            "target: 2 pred: 1 diff:  1\n",
            "target: 2 pred: 2 diff:  0\n",
            "target: 4 pred: 2 diff:  2\n",
            "target: 2 pred: 2 diff:  0\n",
            "target: 2 pred: 2 diff:  0\n",
            "target: 3 pred: 2 diff:  1\n",
            "target: 1 pred: 1 diff:  0\n",
            "target: 1 pred: 1 diff:  0\n",
            "target: 3 pred: 2 diff:  1\n",
            "target: 3 pred: 3 diff:  0\n",
            "target: 1 pred: 1 diff:  0\n",
            "target: 1 pred: 2 diff:  -1\n",
            "target: 1 pred: 2 diff:  -1\n",
            "target: 2 pred: 2 diff:  0\n",
            "target: 4 pred: 3 diff:  1\n",
            "target: 3 pred: 2 diff:  1\n",
            "target: 1 pred: 2 diff:  -1\n",
            "target: 1 pred: 1 diff:  0\n",
            "target: 3 pred: 3 diff:  0\n",
            "target: 3 pred: 1 diff:  2\n",
            "target: 1 pred: 2 diff:  -1\n",
            "target: 4 pred: 1 diff:  3\n",
            "target: 2 pred: 1 diff:  1\n",
            "target: 3 pred: 2 diff:  1\n",
            "target: 2 pred: 1 diff:  1\n",
            "target: 2 pred: 2 diff:  0\n",
            "target: 3 pred: 1 diff:  2\n",
            "target: 1 pred: 3 diff:  -2\n",
            "target: 4 pred: 2 diff:  2\n",
            "target: 2 pred: 1 diff:  1\n",
            "target: 1 pred: 2 diff:  -1\n",
            "target: 4 pred: 2 diff:  2\n",
            "target: 1 pred: 2 diff:  -1\n",
            "target: 2 pred: 2 diff:  0\n",
            "target: 2 pred: 3 diff:  -1\n",
            "target: 4 pred: 3 diff:  1\n",
            "target: 3 pred: 2 diff:  1\n",
            "target: 1 pred: 2 diff:  -1\n",
            "target: 3 pred: 1 diff:  2\n",
            "target: 1 pred: 3 diff:  -2\n",
            "target: 2 pred: 1 diff:  1\n",
            "target: 1 pred: 3 diff:  -2\n",
            "target: 2 pred: 1 diff:  1\n",
            "target: 1 pred: 3 diff:  -2\n",
            "target: 2 pred: 2 diff:  0\n",
            "target: 1 pred: 2 diff:  -1\n",
            "target: 1 pred: 2 diff:  -1\n",
            "target: 4 pred: 1 diff:  3\n",
            "target: 2 pred: 1 diff:  1\n",
            "target: 1 pred: 2 diff:  -1\n",
            "target: 3 pred: 3 diff:  0\n",
            "target: 4 pred: 1 diff:  3\n",
            "target: 1 pred: 1 diff:  0\n",
            "target: 2 pred: 2 diff:  0\n",
            "target: 4 pred: 1 diff:  3\n",
            "target: 2 pred: 2 diff:  0\n",
            "target: 2 pred: 2 diff:  0\n",
            "target: 1 pred: 1 diff:  0\n",
            "target: 2 pred: 1 diff:  1\n",
            "target: 3 pred: 2 diff:  1\n",
            "target: 3 pred: 1 diff:  2\n",
            "target: 1 pred: 1 diff:  0\n",
            "target: 3 pred: 1 diff:  2\n",
            "target: 3 pred: 2 diff:  1\n",
            "target: 1 pred: 3 diff:  -2\n",
            "target: 2 pred: 2 diff:  0\n",
            "target: 2 pred: 1 diff:  1\n",
            "target: 2 pred: 1 diff:  1\n",
            "target: 2 pred: 3 diff:  -1\n",
            "target: 2 pred: 2 diff:  0\n",
            "target: 4 pred: 1 diff:  3\n",
            "target: 2 pred: 2 diff:  0\n",
            "target: 3 pred: 2 diff:  1\n",
            "target: 3 pred: 1 diff:  2\n",
            "target: 1 pred: 2 diff:  -1\n",
            "target: 2 pred: 3 diff:  -1\n",
            "target: 1 pred: 1 diff:  0\n",
            "target: 2 pred: 2 diff:  0\n",
            "target: 1 pred: 3 diff:  -2\n",
            "target: 4 pred: 3 diff:  1\n",
            "target: 3 pred: 2 diff:  1\n",
            "target: 1 pred: 3 diff:  -2\n",
            "target: 3 pred: 3 diff:  0\n",
            "target: 2 pred: 1 diff:  1\n",
            "target: 3 pred: 3 diff:  0\n",
            "target: 1 pred: 3 diff:  -2\n",
            "target: 3 pred: 3 diff:  0\n",
            "target: 4 pred: 2 diff:  2\n",
            "target: 2 pred: 1 diff:  1\n",
            "target: 1 pred: 2 diff:  -1\n",
            "target: 2 pred: 3 diff:  -1\n",
            "target: 3 pred: 3 diff:  0\n",
            "target: 2 pred: 3 diff:  -1\n",
            "target: 1 pred: 1 diff:  0\n",
            "target: 1 pred: 1 diff:  0\n",
            "target: 3 pred: 2 diff:  1\n",
            "target: 1 pred: 3 diff:  -2\n",
            "target: 3 pred: 3 diff:  0\n",
            "target: 1 pred: 1 diff:  0\n",
            "target: 1 pred: 2 diff:  -1\n",
            "target: 2 pred: 1 diff:  1\n",
            "target: 3 pred: 2 diff:  1\n",
            "target: 3 pred: 3 diff:  0\n",
            "target: 2 pred: 3 diff:  -1\n",
            "target: 2 pred: 2 diff:  0\n",
            "target: 2 pred: 4 diff:  -2\n",
            "target: 2 pred: 2 diff:  0\n",
            "target: 4 pred: 1 diff:  3\n",
            "target: 1 pred: 1 diff:  0\n",
            "target: 4 pred: 3 diff:  1\n",
            "target: 2 pred: 3 diff:  -1\n",
            "target: 1 pred: 3 diff:  -2\n",
            "target: 1 pred: 1 diff:  0\n",
            "target: 2 pred: 3 diff:  -1\n",
            "target: 2 pred: 1 diff:  1\n",
            "target: 1 pred: 2 diff:  -1\n",
            "target: 3 pred: 1 diff:  2\n",
            "target: 2 pred: 1 diff:  1\n",
            "target: 1 pred: 1 diff:  0\n",
            "target: 4 pred: 1 diff:  3\n",
            "target: 2 pred: 1 diff:  1\n",
            "target: 3 pred: 3 diff:  0\n",
            "target: 2 pred: 3 diff:  -1\n",
            "target: 3 pred: 1 diff:  2\n",
            "target: 2 pred: 2 diff:  0\n",
            "target: 3 pred: 1 diff:  2\n",
            "target: 2 pred: 3 diff:  -1\n",
            "target: 2 pred: 3 diff:  -1\n",
            "target: 1 pred: 1 diff:  0\n",
            "target: 1 pred: 2 diff:  -1\n",
            "target: 4 pred: 2 diff:  2\n",
            "target: 2 pred: 3 diff:  -1\n",
            "target: 1 pred: 1 diff:  0\n",
            "target: 3 pred: 3 diff:  0\n",
            "target: 3 pred: 3 diff:  0\n",
            "target: 1 pred: 1 diff:  0\n",
            "target: 1 pred: 2 diff:  -1\n",
            "target: 2 pred: 3 diff:  -1\n",
            "target: 2 pred: 1 diff:  1\n",
            "target: 2 pred: 3 diff:  -1\n",
            "target: 1 pred: 2 diff:  -1\n",
            "target: 1 pred: 2 diff:  -1\n",
            "target: 2 pred: 2 diff:  0\n",
            "target: 2 pred: 1 diff:  1\n",
            "target: 3 pred: 1 diff:  2\n",
            "target: 2 pred: 2 diff:  0\n",
            "target: 2 pred: 1 diff:  1\n",
            "target: 2 pred: 1 diff:  1\n",
            "target: 1 pred: 3 diff:  -2\n",
            "target: 2 pred: 3 diff:  -1\n",
            "target: 1 pred: 2 diff:  -1\n",
            "target: 3 pred: 1 diff:  2\n",
            "target: 3 pred: 2 diff:  1\n",
            "target: 1 pred: 3 diff:  -2\n",
            "target: 2 pred: 1 diff:  1\n",
            "target: 4 pred: 1 diff:  3\n",
            "target: 2 pred: 2 diff:  0\n",
            "target: 1 pred: 1 diff:  0\n",
            "target: 1 pred: 2 diff:  -1\n",
            "target: 3 pred: 2 diff:  1\n",
            "target: 1 pred: 2 diff:  -1\n",
            "target: 1 pred: 2 diff:  -1\n",
            "target: 3 pred: 1 diff:  2\n",
            "target: 1 pred: 2 diff:  -1\n",
            "target: 3 pred: 2 diff:  1\n",
            "target: 1 pred: 3 diff:  -2\n",
            "target: 4 pred: 3 diff:  1\n",
            "target: 3 pred: 2 diff:  1\n",
            "target: 1 pred: 3 diff:  -2\n",
            "target: 1 pred: 3 diff:  -2\n",
            "target: 3 pred: 2 diff:  1\n",
            "target: 4 pred: 2 diff:  2\n",
            "target: 2 pred: 3 diff:  -1\n",
            "target: 1 pred: 3 diff:  -2\n",
            "target: 3 pred: 2 diff:  1\n",
            "target: 1 pred: 4 diff:  -3\n",
            "target: 4 pred: 3 diff:  1\n",
            "target: 1 pred: 2 diff:  -1\n",
            "target: 2 pred: 1 diff:  1\n",
            "target: 1 pred: 3 diff:  -2\n",
            "target: 1 pred: 2 diff:  -1\n",
            "target: 1 pred: 1 diff:  0\n",
            "target: 2 pred: 3 diff:  -1\n",
            "target: 2 pred: 2 diff:  0\n",
            "target: 2 pred: 3 diff:  -1\n",
            "target: 1 pred: 3 diff:  -2\n",
            "target: 1 pred: 3 diff:  -2\n",
            "target: 3 pred: 3 diff:  0\n",
            "target: 1 pred: 2 diff:  -1\n",
            "target: 1 pred: 3 diff:  -2\n",
            "target: 2 pred: 1 diff:  1\n",
            "target: 2 pred: 2 diff:  0\n",
            "target: 2 pred: 2 diff:  0\n",
            "target: 1 pred: 1 diff:  0\n",
            "target: 2 pred: 2 diff:  0\n",
            "target: 1 pred: 3 diff:  -2\n",
            "target: 2 pred: 2 diff:  0\n",
            "target: 2 pred: 2 diff:  0\n",
            "target: 4 pred: 2 diff:  2\n",
            "target: 1 pred: 3 diff:  -2\n",
            "target: 1 pred: 2 diff:  -1\n",
            "target: 2 pred: 3 diff:  -1\n",
            "target: 3 pred: 1 diff:  2\n",
            "target: 4 pred: 1 diff:  3\n",
            "target: 3 pred: 1 diff:  2\n",
            "target: 3 pred: 1 diff:  2\n",
            "target: 2 pred: 3 diff:  -1\n",
            "target: 2 pred: 2 diff:  0\n",
            "target: 1 pred: 1 diff:  0\n",
            "target: 4 pred: 2 diff:  2\n",
            "target: 2 pred: 2 diff:  0\n",
            "target: 1 pred: 1 diff:  0\n",
            "target: 2 pred: 3 diff:  -1\n",
            "target: 4 pred: 3 diff:  1\n",
            "target: 4 pred: 1 diff:  3\n",
            "target: 3 pred: 3 diff:  0\n",
            "target: 1 pred: 3 diff:  -2\n",
            "target: 1 pred: 3 diff:  -2\n",
            "target: 1 pred: 2 diff:  -1\n",
            "target: 2 pred: 2 diff:  0\n",
            "target: 3 pred: 3 diff:  0\n",
            "target: 2 pred: 1 diff:  1\n",
            "target: 2 pred: 3 diff:  -1\n",
            "target: 3 pred: 1 diff:  2\n",
            "target: 1 pred: 2 diff:  -1\n",
            "target: 2 pred: 3 diff:  -1\n",
            "target: 4 pred: 3 diff:  1\n",
            "target: 1 pred: 2 diff:  -1\n",
            "target: 3 pred: 2 diff:  1\n",
            "target: 2 pred: 2 diff:  0\n",
            "target: 2 pred: 2 diff:  0\n",
            "target: 1 pred: 4 diff:  -3\n",
            "target: 3 pred: 1 diff:  2\n",
            "target: 1 pred: 1 diff:  0\n",
            "target: 3 pred: 2 diff:  1\n",
            "target: 3 pred: 2 diff:  1\n",
            "target: 1 pred: 1 diff:  0\n",
            "target: 2 pred: 1 diff:  1\n",
            "target: 2 pred: 2 diff:  0\n",
            "target: 2 pred: 3 diff:  -1\n",
            "target: 3 pred: 2 diff:  1\n",
            "target: 1 pred: 2 diff:  -1\n",
            "target: 1 pred: 1 diff:  0\n",
            "target: 1 pred: 2 diff:  -1\n",
            "target: 3 pred: 3 diff:  0\n",
            "target: 2 pred: 2 diff:  0\n",
            "target: 1 pred: 2 diff:  -1\n",
            "target: 2 pred: 2 diff:  0\n",
            "target: 1 pred: 3 diff:  -2\n",
            "target: 1 pred: 2 diff:  -1\n",
            "target: 3 pred: 2 diff:  1\n",
            "target: 1 pred: 1 diff:  0\n",
            "target: 3 pred: 2 diff:  1\n",
            "target: 2 pred: 2 diff:  0\n",
            "target: 3 pred: 2 diff:  1\n",
            "target: 1 pred: 3 diff:  -2\n",
            "target: 2 pred: 2 diff:  0\n",
            "target: 1 pred: 3 diff:  -2\n",
            "target: 2 pred: 2 diff:  0\n",
            "target: 2 pred: 2 diff:  0\n",
            "target: 2 pred: 2 diff:  0\n",
            "target: 4 pred: 2 diff:  2\n",
            "target: 2 pred: 2 diff:  0\n",
            "target: 2 pred: 2 diff:  0\n",
            "target: 1 pred: 1 diff:  0\n",
            "target: 1 pred: 2 diff:  -1\n",
            "target: 1 pred: 1 diff:  0\n",
            "target: 2 pred: 1 diff:  1\n",
            "target: 2 pred: 1 diff:  1\n",
            "target: 1 pred: 1 diff:  0\n",
            "target: 1 pred: 2 diff:  -1\n",
            "target: 1 pred: 3 diff:  -2\n",
            "target: 3 pred: 2 diff:  1\n",
            "target: 3 pred: 2 diff:  1\n",
            "target: 3 pred: 2 diff:  1\n",
            "target: 2 pred: 3 diff:  -1\n",
            "target: 3 pred: 2 diff:  1\n",
            "target: 2 pred: 3 diff:  -1\n",
            "target: 3 pred: 1 diff:  2\n",
            "target: 1 pred: 2 diff:  -1\n",
            "target: 3 pred: 2 diff:  1\n",
            "target: 2 pred: 3 diff:  -1\n",
            "target: 1 pred: 3 diff:  -2\n",
            "target: 1 pred: 2 diff:  -1\n",
            "target: 2 pred: 3 diff:  -1\n",
            "target: 2 pred: 3 diff:  -1\n",
            "target: 3 pred: 2 diff:  1\n",
            "target: 3 pred: 1 diff:  2\n",
            "target: 4 pred: 2 diff:  2\n",
            "target: 2 pred: 2 diff:  0\n",
            "target: 3 pred: 1 diff:  2\n",
            "target: 3 pred: 3 diff:  0\n",
            "target: 1 pred: 2 diff:  -1\n",
            "target: 1 pred: 3 diff:  -2\n",
            "target: 3 pred: 2 diff:  1\n",
            "target: 1 pred: 1 diff:  0\n",
            "target: 4 pred: 3 diff:  1\n",
            "target: 1 pred: 2 diff:  -1\n",
            "target: 2 pred: 2 diff:  0\n",
            "target: 1 pred: 1 diff:  0\n",
            "target: 3 pred: 1 diff:  2\n",
            "target: 3 pred: 3 diff:  0\n",
            "target: 2 pred: 2 diff:  0\n",
            "target: 2 pred: 3 diff:  -1\n",
            "target: 2 pred: 3 diff:  -1\n",
            "target: 2 pred: 1 diff:  1\n",
            "target: 1 pred: 1 diff:  0\n",
            "target: 3 pred: 2 diff:  1\n",
            "target: 1 pred: 3 diff:  -2\n",
            "target: 2 pred: 1 diff:  1\n",
            "target: 1 pred: 2 diff:  -1\n",
            "target: 2 pred: 3 diff:  -1\n",
            "target: 3 pred: 2 diff:  1\n",
            "target: 3 pred: 1 diff:  2\n",
            "target: 3 pred: 1 diff:  2\n",
            "target: 1 pred: 1 diff:  0\n",
            "target: 4 pred: 3 diff:  1\n",
            "target: 1 pred: 2 diff:  -1\n",
            "target: 2 pred: 1 diff:  1\n",
            "target: 2 pred: 1 diff:  1\n",
            "target: 3 pred: 3 diff:  0\n",
            "target: 3 pred: 3 diff:  0\n",
            "target: 4 pred: 1 diff:  3\n",
            "target: 3 pred: 2 diff:  1\n",
            "target: 3 pred: 2 diff:  1\n",
            "target: 4 pred: 2 diff:  2\n",
            "target: 1 pred: 2 diff:  -1\n",
            "target: 1 pred: 3 diff:  -2\n",
            "target: 2 pred: 1 diff:  1\n",
            "target: 3 pred: 3 diff:  0\n",
            "target: 4 pred: 1 diff:  3\n",
            "target: 2 pred: 2 diff:  0\n",
            "target: 1 pred: 1 diff:  0\n",
            "target: 1 pred: 3 diff:  -2\n",
            "target: 1 pred: 2 diff:  -1\n",
            "target: 3 pred: 2 diff:  1\n",
            "target: 1 pred: 2 diff:  -1\n",
            "target: 3 pred: 3 diff:  0\n",
            "target: 2 pred: 1 diff:  1\n",
            "target: 1 pred: 3 diff:  -2\n",
            "target: 1 pred: 1 diff:  0\n",
            "target: 1 pred: 3 diff:  -2\n",
            "target: 2 pred: 2 diff:  0\n",
            "target: 3 pred: 2 diff:  1\n",
            "target: 3 pred: 3 diff:  0\n",
            "target: 3 pred: 3 diff:  0\n",
            "target: 2 pred: 3 diff:  -1\n",
            "target: 1 pred: 2 diff:  -1\n",
            "target: 2 pred: 2 diff:  0\n",
            "target: 2 pred: 2 diff:  0\n",
            "target: 2 pred: 1 diff:  1\n",
            "target: 4 pred: 2 diff:  2\n",
            "target: 1 pred: 1 diff:  0\n",
            "target: 2 pred: 2 diff:  0\n",
            "target: 1 pred: 2 diff:  -1\n",
            "target: 1 pred: 2 diff:  -1\n",
            "target: 2 pred: 2 diff:  0\n",
            "target: 3 pred: 2 diff:  1\n",
            "target: 2 pred: 2 diff:  0\n",
            "target: 1 pred: 1 diff:  0\n",
            "target: 2 pred: 2 diff:  0\n",
            "target: 1 pred: 2 diff:  -1\n",
            "target: 3 pred: 2 diff:  1\n",
            "target: 3 pred: 1 diff:  2\n",
            "target: 2 pred: 2 diff:  0\n",
            "target: 1 pred: 3 diff:  -2\n",
            "target: 4 pred: 2 diff:  2\n",
            "target: 3 pred: 3 diff:  0\n",
            "target: 3 pred: 2 diff:  1\n",
            "target: 4 pred: 2 diff:  2\n",
            "target: 3 pred: 3 diff:  0\n",
            "target: 1 pred: 3 diff:  -2\n",
            "target: 2 pred: 3 diff:  -1\n",
            "target: 3 pred: 4 diff:  -1\n",
            "target: 3 pred: 2 diff:  1\n",
            "target: 1 pred: 3 diff:  -2\n",
            "target: 3 pred: 3 diff:  0\n",
            "target: 2 pred: 3 diff:  -1\n",
            "target: 2 pred: 3 diff:  -1\n",
            "target: 1 pred: 2 diff:  -1\n",
            "target: 1 pred: 2 diff:  -1\n",
            "target: 1 pred: 1 diff:  0\n",
            "target: 4 pred: 1 diff:  3\n",
            "target: 1 pred: 3 diff:  -2\n",
            "target: 3 pred: 3 diff:  0\n",
            "target: 2 pred: 1 diff:  1\n",
            "target: 1 pred: 2 diff:  -1\n",
            "target: 1 pred: 1 diff:  0\n",
            "target: 3 pred: 1 diff:  2\n",
            "target: 2 pred: 1 diff:  1\n",
            "target: 2 pred: 1 diff:  1\n",
            "target: 2 pred: 3 diff:  -1\n",
            "target: 1 pred: 2 diff:  -1\n",
            "target: 2 pred: 2 diff:  0\n",
            "target: 3 pred: 2 diff:  1\n",
            "target: 1 pred: 1 diff:  0\n",
            "target: 3 pred: 3 diff:  0\n",
            "target: 3 pred: 1 diff:  2\n",
            "target: 1 pred: 2 diff:  -1\n",
            "target: 2 pred: 1 diff:  1\n",
            "target: 3 pred: 3 diff:  0\n",
            "target: 2 pred: 3 diff:  -1\n",
            "target: 1 pred: 2 diff:  -1\n",
            "target: 3 pred: 2 diff:  1\n",
            "target: 1 pred: 2 diff:  -1\n",
            "target: 4 pred: 2 diff:  2\n",
            "target: 1 pred: 1 diff:  0\n",
            "target: 2 pred: 2 diff:  0\n",
            "target: 3 pred: 3 diff:  0\n",
            "target: 2 pred: 3 diff:  -1\n",
            "target: 2 pred: 3 diff:  -1\n",
            "target: 3 pred: 2 diff:  1\n",
            "target: 1 pred: 2 diff:  -1\n",
            "target: 1 pred: 1 diff:  0\n",
            "target: 3 pred: 3 diff:  0\n",
            "target: 1 pred: 2 diff:  -1\n",
            "target: 2 pred: 2 diff:  0\n",
            "target: 1 pred: 3 diff:  -2\n",
            "target: 1 pred: 2 diff:  -1\n",
            "target: 2 pred: 2 diff:  0\n",
            "target: 4 pred: 1 diff:  3\n",
            "target: 1 pred: 2 diff:  -1\n",
            "target: 1 pred: 2 diff:  -1\n",
            "target: 4 pred: 1 diff:  3\n",
            "target: 1 pred: 3 diff:  -2\n",
            "target: 2 pred: 1 diff:  1\n",
            "target: 2 pred: 1 diff:  1\n",
            "target: 2 pred: 1 diff:  1\n",
            "target: 3 pred: 2 diff:  1\n",
            "target: 1 pred: 2 diff:  -1\n",
            "target: 2 pred: 2 diff:  0\n",
            "target: 3 pred: 3 diff:  0\n",
            "target: 3 pred: 2 diff:  1\n",
            "target: 3 pred: 3 diff:  0\n",
            "target: 2 pred: 1 diff:  1\n",
            "target: 3 pred: 1 diff:  2\n",
            "target: 1 pred: 2 diff:  -1\n",
            "target: 3 pred: 3 diff:  0\n",
            "target: 1 pred: 2 diff:  -1\n",
            "target: 2 pred: 1 diff:  1\n",
            "target: 3 pred: 1 diff:  2\n",
            "target: 3 pred: 2 diff:  1\n",
            "target: 3 pred: 1 diff:  2\n",
            "target: 2 pred: 2 diff:  0\n",
            "target: 2 pred: 1 diff:  1\n",
            "target: 1 pred: 2 diff:  -1\n",
            "target: 2 pred: 2 diff:  0\n",
            "target: 2 pred: 2 diff:  0\n",
            "target: 1 pred: 2 diff:  -1\n",
            "target: 1 pred: 2 diff:  -1\n",
            "target: 3 pred: 1 diff:  2\n",
            "target: 2 pred: 2 diff:  0\n",
            "target: 4 pred: 2 diff:  2\n",
            "target: 3 pred: 2 diff:  1\n",
            "target: 2 pred: 2 diff:  0\n",
            "target: 3 pred: 3 diff:  0\n",
            "target: 1 pred: 2 diff:  -1\n",
            "target: 2 pred: 3 diff:  -1\n",
            "target: 3 pred: 4 diff:  -1\n",
            "target: 2 pred: 1 diff:  1\n",
            "target: 4 pred: 2 diff:  2\n",
            "target: 3 pred: 3 diff:  0\n",
            "target: 2 pred: 2 diff:  0\n",
            "target: 1 pred: 1 diff:  0\n",
            "target: 1 pred: 2 diff:  -1\n",
            "target: 3 pred: 1 diff:  2\n",
            "target: 3 pred: 2 diff:  1\n",
            "target: 3 pred: 2 diff:  1\n",
            "target: 3 pred: 2 diff:  1\n",
            "target: 1 pred: 2 diff:  -1\n",
            "target: 3 pred: 1 diff:  2\n",
            "target: 3 pred: 2 diff:  1\n",
            "target: 2 pred: 2 diff:  0\n",
            "target: 1 pred: 2 diff:  -1\n",
            "target: 2 pred: 3 diff:  -1\n",
            "target: 2 pred: 3 diff:  -1\n",
            "target: 1 pred: 1 diff:  0\n",
            "target: 2 pred: 3 diff:  -1\n",
            "target: 1 pred: 3 diff:  -2\n",
            "target: 1 pred: 2 diff:  -1\n",
            "target: 4 pred: 2 diff:  2\n",
            "target: 1 pred: 2 diff:  -1\n",
            "target: 3 pred: 3 diff:  0\n",
            "target: 3 pred: 1 diff:  2\n",
            "target: 2 pred: 1 diff:  1\n",
            "target: 1 pred: 3 diff:  -2\n",
            "target: 1 pred: 1 diff:  0\n",
            "target: 3 pred: 2 diff:  1\n",
            "target: 2 pred: 2 diff:  0\n",
            "target: 3 pred: 3 diff:  0\n",
            "target: 2 pred: 1 diff:  1\n",
            "target: 1 pred: 3 diff:  -2\n",
            "target: 2 pred: 1 diff:  1\n",
            "target: 1 pred: 4 diff:  -3\n",
            "target: 1 pred: 3 diff:  -2\n",
            "target: 2 pred: 2 diff:  0\n",
            "target: 3 pred: 2 diff:  1\n",
            "target: 2 pred: 2 diff:  0\n",
            "target: 4 pred: 2 diff:  2\n",
            "target: 4 pred: 2 diff:  2\n",
            "target: 1 pred: 2 diff:  -1\n",
            "target: 3 pred: 2 diff:  1\n",
            "target: 1 pred: 3 diff:  -2\n",
            "target: 1 pred: 3 diff:  -2\n",
            "target: 3 pred: 1 diff:  2\n",
            "target: 1 pred: 3 diff:  -2\n",
            "target: 2 pred: 2 diff:  0\n",
            "target: 2 pred: 1 diff:  1\n",
            "target: 1 pred: 1 diff:  0\n",
            "target: 2 pred: 2 diff:  0\n",
            "target: 1 pred: 3 diff:  -2\n",
            "target: 3 pred: 2 diff:  1\n",
            "target: 2 pred: 1 diff:  1\n",
            "target: 2 pred: 2 diff:  0\n",
            "target: 1 pred: 2 diff:  -1\n",
            "target: 1 pred: 2 diff:  -1\n",
            "target: 2 pred: 3 diff:  -1\n",
            "target: 1 pred: 2 diff:  -1\n",
            "target: 4 pred: 3 diff:  1\n",
            "target: 1 pred: 1 diff:  0\n",
            "target: 1 pred: 2 diff:  -1\n",
            "target: 1 pred: 1 diff:  0\n",
            "target: 2 pred: 3 diff:  -1\n",
            "target: 3 pred: 2 diff:  1\n",
            "target: 1 pred: 2 diff:  -1\n",
            "target: 3 pred: 2 diff:  1\n",
            "target: 3 pred: 1 diff:  2\n",
            "target: 3 pred: 1 diff:  2\n",
            "target: 3 pred: 3 diff:  0\n",
            "target: 2 pred: 2 diff:  0\n",
            "target: 4 pred: 1 diff:  3\n",
            "target: 2 pred: 1 diff:  1\n",
            "target: 1 pred: 2 diff:  -1\n",
            "target: 1 pred: 1 diff:  0\n",
            "target: 4 pred: 1 diff:  3\n",
            "target: 1 pred: 2 diff:  -1\n",
            "target: 3 pred: 1 diff:  2\n",
            "target: 3 pred: 1 diff:  2\n",
            "target: 3 pred: 2 diff:  1\n",
            "target: 1 pred: 2 diff:  -1\n",
            "target: 3 pred: 3 diff:  0\n",
            "target: 3 pred: 2 diff:  1\n",
            "target: 1 pred: 1 diff:  0\n",
            "target: 1 pred: 2 diff:  -1\n",
            "target: 1 pred: 2 diff:  -1\n",
            "target: 1 pred: 2 diff:  -1\n",
            "target: 3 pred: 3 diff:  0\n",
            "target: 2 pred: 2 diff:  0\n",
            "target: 1 pred: 1 diff:  0\n",
            "target: 3 pred: 1 diff:  2\n",
            "target: 1 pred: 2 diff:  -1\n",
            "target: 2 pred: 2 diff:  0\n",
            "target: 1 pred: 3 diff:  -2\n",
            "target: 3 pred: 2 diff:  1\n",
            "target: 1 pred: 1 diff:  0\n",
            "target: 2 pred: 3 diff:  -1\n",
            "target: 1 pred: 2 diff:  -1\n",
            "target: 2 pred: 3 diff:  -1\n",
            "target: 1 pred: 2 diff:  -1\n",
            "target: 1 pred: 2 diff:  -1\n",
            "target: 1 pred: 1 diff:  0\n",
            "target: 2 pred: 1 diff:  1\n",
            "target: 1 pred: 3 diff:  -2\n",
            "target: 4 pred: 3 diff:  1\n",
            "target: 1 pred: 2 diff:  -1\n",
            "target: 2 pred: 2 diff:  0\n",
            "target: 2 pred: 2 diff:  0\n",
            "target: 2 pred: 1 diff:  1\n",
            "target: 2 pred: 1 diff:  1\n",
            "target: 1 pred: 1 diff:  0\n",
            "target: 3 pred: 2 diff:  1\n",
            "target: 4 pred: 2 diff:  2\n",
            "target: 4 pred: 1 diff:  3\n",
            "target: 1 pred: 3 diff:  -2\n",
            "target: 1 pred: 1 diff:  0\n",
            "target: 1 pred: 2 diff:  -1\n",
            "target: 1 pred: 3 diff:  -2\n",
            "target: 3 pred: 2 diff:  1\n",
            "target: 2 pred: 2 diff:  0\n",
            "target: 3 pred: 2 diff:  1\n",
            "target: 3 pred: 1 diff:  2\n",
            "target: 1 pred: 3 diff:  -2\n",
            "target: 3 pred: 3 diff:  0\n",
            "target: 2 pred: 2 diff:  0\n",
            "target: 1 pred: 1 diff:  0\n",
            "target: 1 pred: 1 diff:  0\n",
            "target: 2 pred: 1 diff:  1\n",
            "target: 1 pred: 2 diff:  -1\n",
            "target: 1 pred: 1 diff:  0\n",
            "target: 2 pred: 3 diff:  -1\n",
            "target: 4 pred: 2 diff:  2\n",
            "target: 1 pred: 1 diff:  0\n",
            "target: 3 pred: 1 diff:  2\n",
            "target: 1 pred: 2 diff:  -1\n",
            "target: 1 pred: 1 diff:  0\n",
            "target: 1 pred: 1 diff:  0\n",
            "target: 3 pred: 1 diff:  2\n",
            "target: 3 pred: 2 diff:  1\n",
            "target: 4 pred: 4 diff:  0\n",
            "target: 1 pred: 2 diff:  -1\n",
            "target: 3 pred: 1 diff:  2\n",
            "target: 2 pred: 1 diff:  1\n",
            "target: 1 pred: 1 diff:  0\n",
            "target: 1 pred: 2 diff:  -1\n",
            "target: 1 pred: 1 diff:  0\n",
            "target: 3 pred: 2 diff:  1\n",
            "target: 3 pred: 2 diff:  1\n",
            "target: 3 pred: 2 diff:  1\n",
            "target: 1 pred: 2 diff:  -1\n",
            "target: 3 pred: 2 diff:  1\n",
            "target: 1 pred: 3 diff:  -2\n",
            "target: 3 pred: 2 diff:  1\n",
            "target: 1 pred: 3 diff:  -2\n",
            "target: 2 pred: 2 diff:  0\n",
            "target: 3 pred: 2 diff:  1\n",
            "target: 1 pred: 3 diff:  -2\n",
            "target: 1 pred: 2 diff:  -1\n",
            "target: 3 pred: 2 diff:  1\n",
            "target: 1 pred: 2 diff:  -1\n",
            "target: 2 pred: 2 diff:  0\n",
            "target: 2 pred: 2 diff:  0\n",
            "target: 2 pred: 1 diff:  1\n",
            "target: 3 pred: 2 diff:  1\n",
            "target: 3 pred: 3 diff:  0\n",
            "target: 1 pred: 1 diff:  0\n",
            "target: 3 pred: 2 diff:  1\n",
            "target: 2 pred: 2 diff:  0\n",
            "target: 3 pred: 2 diff:  1\n",
            "target: 2 pred: 3 diff:  -1\n",
            "target: 3 pred: 2 diff:  1\n",
            "target: 1 pred: 2 diff:  -1\n",
            "target: 1 pred: 2 diff:  -1\n",
            "target: 1 pred: 3 diff:  -2\n",
            "target: 2 pred: 1 diff:  1\n",
            "target: 1 pred: 1 diff:  0\n",
            "target: 3 pred: 2 diff:  1\n",
            "target: 2 pred: 4 diff:  -2\n",
            "target: 1 pred: 2 diff:  -1\n",
            "target: 2 pred: 3 diff:  -1\n",
            "target: 2 pred: 2 diff:  0\n",
            "target: 1 pred: 2 diff:  -1\n",
            "target: 3 pred: 1 diff:  2\n",
            "target: 4 pred: 2 diff:  2\n",
            "target: 1 pred: 1 diff:  0\n",
            "target: 1 pred: 1 diff:  0\n",
            "target: 2 pred: 3 diff:  -1\n",
            "target: 2 pred: 3 diff:  -1\n",
            "target: 3 pred: 3 diff:  0\n",
            "target: 3 pred: 1 diff:  2\n",
            "target: 1 pred: 3 diff:  -2\n",
            "target: 2 pred: 2 diff:  0\n",
            "target: 2 pred: 3 diff:  -1\n",
            "target: 2 pred: 2 diff:  0\n",
            "target: 1 pred: 2 diff:  -1\n",
            "target: 2 pred: 3 diff:  -1\n",
            "target: 4 pred: 2 diff:  2\n",
            "target: 1 pred: 3 diff:  -2\n",
            "target: 1 pred: 2 diff:  -1\n",
            "target: 4 pred: 2 diff:  2\n",
            "target: 2 pred: 1 diff:  1\n",
            "target: 2 pred: 3 diff:  -1\n",
            "target: 1 pred: 2 diff:  -1\n",
            "target: 2 pred: 1 diff:  1\n",
            "target: 3 pred: 2 diff:  1\n",
            "target: 1 pred: 2 diff:  -1\n",
            "target: 3 pred: 1 diff:  2\n",
            "target: 3 pred: 3 diff:  0\n",
            "target: 4 pred: 1 diff:  3\n",
            "target: 2 pred: 2 diff:  0\n",
            "target: 1 pred: 1 diff:  0\n",
            "target: 2 pred: 1 diff:  1\n",
            "target: 1 pred: 2 diff:  -1\n",
            "target: 2 pred: 3 diff:  -1\n",
            "target: 2 pred: 2 diff:  0\n",
            "target: 1 pred: 2 diff:  -1\n",
            "target: 1 pred: 1 diff:  0\n",
            "target: 2 pred: 3 diff:  -1\n",
            "target: 3 pred: 1 diff:  2\n",
            "target: 1 pred: 2 diff:  -1\n",
            "target: 2 pred: 1 diff:  1\n",
            "target: 2 pred: 3 diff:  -1\n",
            "target: 2 pred: 1 diff:  1\n",
            "target: 2 pred: 3 diff:  -1\n",
            "target: 2 pred: 3 diff:  -1\n",
            "target: 1 pred: 2 diff:  -1\n",
            "target: 3 pred: 3 diff:  0\n",
            "target: 2 pred: 3 diff:  -1\n",
            "target: 3 pred: 1 diff:  2\n",
            "target: 2 pred: 2 diff:  0\n",
            "target: 1 pred: 3 diff:  -2\n",
            "target: 4 pred: 3 diff:  1\n",
            "target: 1 pred: 2 diff:  -1\n",
            "target: 2 pred: 2 diff:  0\n",
            "target: 2 pred: 3 diff:  -1\n",
            "target: 1 pred: 2 diff:  -1\n",
            "target: 3 pred: 3 diff:  0\n",
            "target: 2 pred: 2 diff:  0\n",
            "target: 4 pred: 3 diff:  1\n",
            "target: 3 pred: 2 diff:  1\n",
            "target: 1 pred: 3 diff:  -2\n",
            "target: 1 pred: 3 diff:  -2\n",
            "target: 3 pred: 2 diff:  1\n",
            "target: 1 pred: 3 diff:  -2\n",
            "target: 2 pred: 1 diff:  1\n",
            "target: 2 pred: 2 diff:  0\n",
            "target: 1 pred: 1 diff:  0\n",
            "target: 1 pred: 2 diff:  -1\n",
            "target: 3 pred: 2 diff:  1\n",
            "target: 1 pred: 3 diff:  -2\n",
            "target: 1 pred: 2 diff:  -1\n",
            "target: 2 pred: 1 diff:  1\n",
            "target: 3 pred: 1 diff:  2\n",
            "target: 2 pred: 1 diff:  1\n",
            "target: 3 pred: 3 diff:  0\n",
            "target: 2 pred: 2 diff:  0\n",
            "target: 3 pred: 3 diff:  0\n",
            "target: 1 pred: 3 diff:  -2\n",
            "target: 3 pred: 1 diff:  2\n",
            "target: 1 pred: 2 diff:  -1\n",
            "target: 4 pred: 2 diff:  2\n",
            "target: 1 pred: 2 diff:  -1\n",
            "target: 2 pred: 3 diff:  -1\n",
            "target: 3 pred: 1 diff:  2\n",
            "target: 2 pred: 2 diff:  0\n",
            "target: 4 pred: 2 diff:  2\n",
            "target: 2 pred: 1 diff:  1\n",
            "target: 2 pred: 1 diff:  1\n",
            "target: 2 pred: 1 diff:  1\n",
            "target: 1 pred: 2 diff:  -1\n",
            "target: 1 pred: 2 diff:  -1\n",
            "target: 1 pred: 3 diff:  -2\n",
            "target: 4 pred: 3 diff:  1\n",
            "target: 1 pred: 1 diff:  0\n",
            "target: 3 pred: 1 diff:  2\n",
            "target: 2 pred: 1 diff:  1\n",
            "target: 3 pred: 2 diff:  1\n",
            "target: 3 pred: 1 diff:  2\n",
            "target: 1 pred: 2 diff:  -1\n",
            "target: 1 pred: 1 diff:  0\n",
            "target: 1 pred: 2 diff:  -1\n",
            "target: 3 pred: 2 diff:  1\n",
            "target: 3 pred: 2 diff:  1\n",
            "target: 1 pred: 2 diff:  -1\n",
            "target: 4 pred: 1 diff:  3\n",
            "target: 2 pred: 3 diff:  -1\n",
            "target: 2 pred: 2 diff:  0\n",
            "target: 3 pred: 3 diff:  0\n",
            "target: 2 pred: 2 diff:  0\n",
            "target: 4 pred: 2 diff:  2\n",
            "target: 3 pred: 3 diff:  0\n",
            "target: 2 pred: 2 diff:  0\n",
            "target: 3 pred: 2 diff:  1\n",
            "target: 2 pred: 3 diff:  -1\n",
            "target: 1 pred: 2 diff:  -1\n",
            "target: 1 pred: 1 diff:  0\n",
            "target: 3 pred: 3 diff:  0\n",
            "target: 3 pred: 1 diff:  2\n",
            "target: 3 pred: 2 diff:  1\n",
            "target: 2 pred: 3 diff:  -1\n",
            "target: 1 pred: 2 diff:  -1\n",
            "target: 2 pred: 1 diff:  1\n",
            "target: 1 pred: 1 diff:  0\n",
            "target: 2 pred: 2 diff:  0\n",
            "target: 3 pred: 1 diff:  2\n",
            "target: 3 pred: 3 diff:  0\n",
            "target: 1 pred: 3 diff:  -2\n",
            "target: 2 pred: 1 diff:  1\n",
            "target: 1 pred: 1 diff:  0\n",
            "target: 1 pred: 1 diff:  0\n",
            "target: 1 pred: 3 diff:  -2\n",
            "target: 4 pred: 2 diff:  2\n",
            "target: 1 pred: 2 diff:  -1\n",
            "target: 3 pred: 2 diff:  1\n",
            "target: 2 pred: 1 diff:  1\n",
            "target: 1 pred: 2 diff:  -1\n",
            "target: 1 pred: 3 diff:  -2\n",
            "target: 2 pred: 3 diff:  -1\n",
            "target: 1 pred: 2 diff:  -1\n",
            "target: 2 pred: 3 diff:  -1\n",
            "target: 2 pred: 1 diff:  1\n",
            "target: 1 pred: 1 diff:  0\n",
            "target: 4 pred: 1 diff:  3\n",
            "target: 3 pred: 2 diff:  1\n",
            "target: 2 pred: 1 diff:  1\n",
            "target: 1 pred: 3 diff:  -2\n",
            "target: 1 pred: 1 diff:  0\n",
            "target: 1 pred: 3 diff:  -2\n",
            "target: 4 pred: 4 diff:  0\n",
            "target: 4 pred: 1 diff:  3\n",
            "target: 1 pred: 2 diff:  -1\n",
            "target: 1 pred: 1 diff:  0\n",
            "target: 2 pred: 2 diff:  0\n",
            "target: 2 pred: 2 diff:  0\n",
            "target: 3 pred: 1 diff:  2\n",
            "target: 2 pred: 3 diff:  -1\n",
            "target: 1 pred: 1 diff:  0\n",
            "target: 2 pred: 2 diff:  0\n",
            "target: 1 pred: 2 diff:  -1\n",
            "target: 3 pred: 2 diff:  1\n",
            "target: 1 pred: 2 diff:  -1\n",
            "target: 4 pred: 1 diff:  3\n",
            "target: 1 pred: 2 diff:  -1\n",
            "target: 2 pred: 1 diff:  1\n",
            "target: 1 pred: 3 diff:  -2\n",
            "target: 1 pred: 1 diff:  0\n",
            "target: 1 pred: 2 diff:  -1\n",
            "target: 2 pred: 2 diff:  0\n",
            "target: 1 pred: 3 diff:  -2\n",
            "target: 4 pred: 1 diff:  3\n",
            "target: 2 pred: 1 diff:  1\n",
            "target: 2 pred: 1 diff:  1\n",
            "target: 3 pred: 1 diff:  2\n",
            "target: 1 pred: 2 diff:  -1\n",
            "target: 3 pred: 1 diff:  2\n",
            "target: 1 pred: 1 diff:  0\n",
            "target: 3 pred: 2 diff:  1\n",
            "target: 2 pred: 2 diff:  0\n",
            "target: 4 pred: 3 diff:  1\n",
            "target: 3 pred: 1 diff:  2\n",
            "target: 1 pred: 2 diff:  -1\n",
            "target: 2 pred: 1 diff:  1\n",
            "target: 4 pred: 2 diff:  2\n",
            "target: 3 pred: 2 diff:  1\n",
            "target: 3 pred: 2 diff:  1\n",
            "target: 3 pred: 1 diff:  2\n",
            "target: 2 pred: 3 diff:  -1\n",
            "target: 1 pred: 2 diff:  -1\n",
            "target: 2 pred: 2 diff:  0\n",
            "target: 3 pred: 2 diff:  1\n",
            "target: 3 pred: 2 diff:  1\n",
            "target: 3 pred: 2 diff:  1\n",
            "target: 2 pred: 2 diff:  0\n",
            "target: 2 pred: 2 diff:  0\n",
            "target: 3 pred: 2 diff:  1\n",
            "target: 1 pred: 1 diff:  0\n",
            "target: 2 pred: 2 diff:  0\n",
            "target: 1 pred: 3 diff:  -2\n",
            "target: 3 pred: 3 diff:  0\n",
            "target: 1 pred: 2 diff:  -1\n",
            "target: 3 pred: 2 diff:  1\n",
            "target: 2 pred: 1 diff:  1\n",
            "target: 1 pred: 2 diff:  -1\n",
            "target: 3 pred: 2 diff:  1\n",
            "target: 2 pred: 1 diff:  1\n",
            "target: 1 pred: 1 diff:  0\n",
            "target: 3 pred: 3 diff:  0\n",
            "target: 2 pred: 1 diff:  1\n",
            "target: 3 pred: 2 diff:  1\n",
            "target: 4 pred: 3 diff:  1\n",
            "target: 1 pred: 2 diff:  -1\n",
            "target: 2 pred: 2 diff:  0\n",
            "target: 2 pred: 2 diff:  0\n",
            "target: 1 pred: 1 diff:  0\n",
            "target: 2 pred: 3 diff:  -1\n",
            "target: 1 pred: 2 diff:  -1\n",
            "target: 2 pred: 2 diff:  0\n",
            "target: 3 pred: 2 diff:  1\n",
            "target: 1 pred: 2 diff:  -1\n",
            "target: 3 pred: 2 diff:  1\n",
            "target: 1 pred: 3 diff:  -2\n",
            "target: 3 pred: 2 diff:  1\n",
            "target: 2 pred: 2 diff:  0\n",
            "target: 2 pred: 2 diff:  0\n",
            "target: 3 pred: 2 diff:  1\n",
            "target: 3 pred: 3 diff:  0\n",
            "target: 1 pred: 2 diff:  -1\n",
            "target: 2 pred: 1 diff:  1\n",
            "target: 2 pred: 3 diff:  -1\n",
            "target: 2 pred: 2 diff:  0\n",
            "target: 1 pred: 2 diff:  -1\n",
            "target: 1 pred: 3 diff:  -2\n",
            "target: 2 pred: 1 diff:  1\n",
            "target: 1 pred: 2 diff:  -1\n",
            "target: 2 pred: 2 diff:  0\n",
            "target: 1 pred: 2 diff:  -1\n",
            "target: 3 pred: 2 diff:  1\n",
            "target: 2 pred: 3 diff:  -1\n",
            "target: 3 pred: 2 diff:  1\n",
            "target: 3 pred: 3 diff:  0\n",
            "target: 1 pred: 1 diff:  0\n",
            "target: 1 pred: 3 diff:  -2\n",
            "target: 1 pred: 2 diff:  -1\n",
            "target: 2 pred: 3 diff:  -1\n",
            "target: 1 pred: 3 diff:  -2\n",
            "target: 2 pred: 2 diff:  0\n",
            "target: 1 pred: 1 diff:  0\n",
            "target: 2 pred: 2 diff:  0\n",
            "target: 3 pred: 2 diff:  1\n",
            "target: 2 pred: 2 diff:  0\n",
            "target: 1 pred: 3 diff:  -2\n",
            "target: 4 pred: 1 diff:  3\n",
            "target: 2 pred: 2 diff:  0\n",
            "target: 1 pred: 1 diff:  0\n",
            "target: 1 pred: 2 diff:  -1\n",
            "target: 1 pred: 3 diff:  -2\n",
            "target: 1 pred: 1 diff:  0\n",
            "target: 1 pred: 3 diff:  -2\n",
            "target: 2 pred: 1 diff:  1\n",
            "target: 1 pred: 1 diff:  0\n",
            "target: 4 pred: 2 diff:  2\n",
            "target: 4 pred: 2 diff:  2\n",
            "target: 1 pred: 3 diff:  -2\n",
            "target: 1 pred: 2 diff:  -1\n",
            "target: 3 pred: 1 diff:  2\n",
            "target: 1 pred: 1 diff:  0\n",
            "target: 2 pred: 2 diff:  0\n",
            "target: 3 pred: 3 diff:  0\n",
            "target: 1 pred: 1 diff:  0\n",
            "target: 1 pred: 3 diff:  -2\n",
            "target: 4 pred: 3 diff:  1\n",
            "target: 2 pred: 2 diff:  0\n",
            "target: 1 pred: 2 diff:  -1\n",
            "target: 2 pred: 1 diff:  1\n",
            "target: 3 pred: 2 diff:  1\n",
            "target: 1 pred: 3 diff:  -2\n",
            "target: 1 pred: 2 diff:  -1\n",
            "target: 4 pred: 3 diff:  1\n",
            "target: 2 pred: 2 diff:  0\n",
            "target: 1 pred: 2 diff:  -1\n",
            "target: 1 pred: 2 diff:  -1\n",
            "target: 2 pred: 1 diff:  1\n",
            "target: 1 pred: 2 diff:  -1\n",
            "target: 1 pred: 2 diff:  -1\n",
            "target: 1 pred: 1 diff:  0\n",
            "target: 2 pred: 3 diff:  -1\n",
            "target: 1 pred: 2 diff:  -1\n",
            "target: 3 pred: 2 diff:  1\n",
            "target: 2 pred: 1 diff:  1\n",
            "target: 4 pred: 3 diff:  1\n",
            "target: 1 pred: 1 diff:  0\n",
            "target: 2 pred: 1 diff:  1\n",
            "target: 1 pred: 1 diff:  0\n",
            "target: 1 pred: 3 diff:  -2\n",
            "target: 3 pred: 2 diff:  1\n",
            "target: 4 pred: 3 diff:  1\n",
            "target: 2 pred: 2 diff:  0\n",
            "target: 2 pred: 2 diff:  0\n",
            "target: 1 pred: 3 diff:  -2\n",
            "target: 2 pred: 1 diff:  1\n",
            "target: 1 pred: 1 diff:  0\n",
            "target: 3 pred: 2 diff:  1\n",
            "target: 3 pred: 1 diff:  2\n",
            "target: 3 pred: 2 diff:  1\n",
            "target: 3 pred: 2 diff:  1\n",
            "target: 2 pred: 3 diff:  -1\n",
            "target: 3 pred: 2 diff:  1\n",
            "target: 1 pred: 1 diff:  0\n",
            "target: 4 pred: 2 diff:  2\n",
            "target: 3 pred: 3 diff:  0\n",
            "target: 1 pred: 2 diff:  -1\n",
            "target: 1 pred: 2 diff:  -1\n",
            "target: 3 pred: 1 diff:  2\n",
            "target: 2 pred: 4 diff:  -2\n",
            "target: 2 pred: 2 diff:  0\n",
            "target: 1 pred: 3 diff:  -2\n",
            "target: 1 pred: 3 diff:  -2\n",
            "target: 1 pred: 3 diff:  -2\n",
            "target: 3 pred: 2 diff:  1\n",
            "target: 2 pred: 3 diff:  -1\n",
            "target: 3 pred: 1 diff:  2\n",
            "target: 2 pred: 3 diff:  -1\n",
            "target: 1 pred: 2 diff:  -1\n",
            "target: 1 pred: 1 diff:  0\n",
            "target: 2 pred: 2 diff:  0\n",
            "target: 2 pred: 3 diff:  -1\n",
            "target: 2 pred: 1 diff:  1\n",
            "target: 3 pred: 2 diff:  1\n",
            "target: 2 pred: 1 diff:  1\n",
            "target: 3 pred: 1 diff:  2\n",
            "target: 2 pred: 2 diff:  0\n",
            "target: 1 pred: 2 diff:  -1\n",
            "target: 2 pred: 3 diff:  -1\n",
            "target: 2 pred: 2 diff:  0\n",
            "target: 1 pred: 3 diff:  -2\n",
            "target: 1 pred: 2 diff:  -1\n",
            "target: 1 pred: 2 diff:  -1\n",
            "target: 3 pred: 1 diff:  2\n",
            "target: 2 pred: 3 diff:  -1\n",
            "target: 1 pred: 3 diff:  -2\n",
            "target: 2 pred: 3 diff:  -1\n",
            "target: 4 pred: 2 diff:  2\n",
            "target: 2 pred: 3 diff:  -1\n",
            "target: 1 pred: 3 diff:  -2\n",
            "target: 2 pred: 3 diff:  -1\n",
            "target: 2 pred: 2 diff:  0\n",
            "target: 3 pred: 2 diff:  1\n",
            "target: 1 pred: 2 diff:  -1\n",
            "target: 1 pred: 1 diff:  0\n",
            "target: 1 pred: 3 diff:  -2\n",
            "target: 2 pred: 1 diff:  1\n",
            "target: 1 pred: 1 diff:  0\n",
            "target: 4 pred: 1 diff:  3\n",
            "target: 1 pred: 2 diff:  -1\n",
            "target: 2 pred: 2 diff:  0\n",
            "target: 1 pred: 2 diff:  -1\n",
            "target: 1 pred: 2 diff:  -1\n",
            "target: 1 pred: 1 diff:  0\n",
            "target: 1 pred: 2 diff:  -1\n",
            "target: 3 pred: 2 diff:  1\n",
            "target: 1 pred: 1 diff:  0\n",
            "target: 1 pred: 2 diff:  -1\n",
            "target: 3 pred: 2 diff:  1\n",
            "target: 2 pred: 1 diff:  1\n",
            "target: 1 pred: 2 diff:  -1\n",
            "target: 1 pred: 3 diff:  -2\n",
            "target: 3 pred: 2 diff:  1\n",
            "target: 2 pred: 1 diff:  1\n",
            "target: 3 pred: 1 diff:  2\n",
            "target: 4 pred: 3 diff:  1\n",
            "target: 2 pred: 2 diff:  0\n",
            "target: 2 pred: 1 diff:  1\n",
            "target: 4 pred: 2 diff:  2\n",
            "target: 1 pred: 1 diff:  0\n",
            "target: 1 pred: 2 diff:  -1\n",
            "target: 2 pred: 3 diff:  -1\n",
            "target: 2 pred: 3 diff:  -1\n",
            "target: 1 pred: 2 diff:  -1\n",
            "target: 2 pred: 2 diff:  0\n",
            "target: 2 pred: 3 diff:  -1\n",
            "target: 1 pred: 1 diff:  0\n",
            "target: 2 pred: 3 diff:  -1\n",
            "target: 1 pred: 2 diff:  -1\n",
            "target: 2 pred: 2 diff:  0\n",
            "target: 2 pred: 1 diff:  1\n",
            "target: 1 pred: 1 diff:  0\n",
            "target: 1 pred: 2 diff:  -1\n",
            "target: 1 pred: 2 diff:  -1\n",
            "target: 2 pred: 3 diff:  -1\n",
            "target: 3 pred: 3 diff:  0\n",
            "target: 2 pred: 2 diff:  0\n",
            "target: 1 pred: 1 diff:  0\n",
            "target: 4 pred: 1 diff:  3\n",
            "target: 3 pred: 2 diff:  1\n",
            "target: 1 pred: 3 diff:  -2\n",
            "target: 4 pred: 1 diff:  3\n",
            "target: 1 pred: 3 diff:  -2\n",
            "target: 2 pred: 1 diff:  1\n"
          ],
          "name": "stdout"
        }
      ]
    },
    {
      "cell_type": "code",
      "metadata": {
        "id": "zXRBpDLtbkNi",
        "colab_type": "code",
        "colab": {
          "base_uri": "https://localhost:8080/",
          "height": 419
        },
        "outputId": "a515f668-2241-4bb2-f80c-db56ff453643"
      },
      "source": [
        "c = pd.DataFrame(c)\n",
        "c.reset_index()"
      ],
      "execution_count": 91,
      "outputs": [
        {
          "output_type": "execute_result",
          "data": {
            "text/html": [
              "<div>\n",
              "<style scoped>\n",
              "    .dataframe tbody tr th:only-of-type {\n",
              "        vertical-align: middle;\n",
              "    }\n",
              "\n",
              "    .dataframe tbody tr th {\n",
              "        vertical-align: top;\n",
              "    }\n",
              "\n",
              "    .dataframe thead th {\n",
              "        text-align: right;\n",
              "    }\n",
              "</style>\n",
              "<table border=\"1\" class=\"dataframe\">\n",
              "  <thead>\n",
              "    <tr style=\"text-align: right;\">\n",
              "      <th></th>\n",
              "      <th>index</th>\n",
              "      <th>0</th>\n",
              "    </tr>\n",
              "  </thead>\n",
              "  <tbody>\n",
              "    <tr>\n",
              "      <th>0</th>\n",
              "      <td>0</td>\n",
              "      <td>0</td>\n",
              "    </tr>\n",
              "    <tr>\n",
              "      <th>1</th>\n",
              "      <td>1</td>\n",
              "      <td>1</td>\n",
              "    </tr>\n",
              "    <tr>\n",
              "      <th>2</th>\n",
              "      <td>2</td>\n",
              "      <td>2</td>\n",
              "    </tr>\n",
              "    <tr>\n",
              "      <th>3</th>\n",
              "      <td>3</td>\n",
              "      <td>-1</td>\n",
              "    </tr>\n",
              "    <tr>\n",
              "      <th>4</th>\n",
              "      <td>4</td>\n",
              "      <td>0</td>\n",
              "    </tr>\n",
              "    <tr>\n",
              "      <th>...</th>\n",
              "      <td>...</td>\n",
              "      <td>...</td>\n",
              "    </tr>\n",
              "    <tr>\n",
              "      <th>2364</th>\n",
              "      <td>2364</td>\n",
              "      <td>1</td>\n",
              "    </tr>\n",
              "    <tr>\n",
              "      <th>2365</th>\n",
              "      <td>2365</td>\n",
              "      <td>-2</td>\n",
              "    </tr>\n",
              "    <tr>\n",
              "      <th>2366</th>\n",
              "      <td>2366</td>\n",
              "      <td>3</td>\n",
              "    </tr>\n",
              "    <tr>\n",
              "      <th>2367</th>\n",
              "      <td>2367</td>\n",
              "      <td>-2</td>\n",
              "    </tr>\n",
              "    <tr>\n",
              "      <th>2368</th>\n",
              "      <td>2368</td>\n",
              "      <td>1</td>\n",
              "    </tr>\n",
              "  </tbody>\n",
              "</table>\n",
              "<p>2369 rows × 2 columns</p>\n",
              "</div>"
            ],
            "text/plain": [
              "      index  0\n",
              "0         0  0\n",
              "1         1  1\n",
              "2         2  2\n",
              "3         3 -1\n",
              "4         4  0\n",
              "...     ... ..\n",
              "2364   2364  1\n",
              "2365   2365 -2\n",
              "2366   2366  3\n",
              "2367   2367 -2\n",
              "2368   2368  1\n",
              "\n",
              "[2369 rows x 2 columns]"
            ]
          },
          "metadata": {
            "tags": []
          },
          "execution_count": 91
        }
      ]
    },
    {
      "cell_type": "code",
      "metadata": {
        "id": "DczOJGw4bkKa",
        "colab_type": "code",
        "colab": {}
      },
      "source": [
        "c.columns=['1']"
      ],
      "execution_count": 0,
      "outputs": []
    },
    {
      "cell_type": "code",
      "metadata": {
        "id": "UiQcUO20bkHz",
        "colab_type": "code",
        "colab": {
          "base_uri": "https://localhost:8080/",
          "height": 153
        },
        "outputId": "9b4fbb65-d650-4344-e8d1-1e0c483ba165"
      },
      "source": [
        "c['1'].value_counts()"
      ],
      "execution_count": 93,
      "outputs": [
        {
          "output_type": "execute_result",
          "data": {
            "text/plain": [
              " 0    671\n",
              "-1    615\n",
              " 1    516\n",
              " 2    263\n",
              "-2    235\n",
              " 3     65\n",
              "-3      4\n",
              "Name: 1, dtype: int64"
            ]
          },
          "metadata": {
            "tags": []
          },
          "execution_count": 93
        }
      ]
    },
    {
      "cell_type": "code",
      "metadata": {
        "id": "bafJVysDbkF2",
        "colab_type": "code",
        "colab": {}
      },
      "source": [
        ""
      ],
      "execution_count": 0,
      "outputs": []
    },
    {
      "cell_type": "code",
      "metadata": {
        "id": "DvZ-HUd5bkB1",
        "colab_type": "code",
        "colab": {}
      },
      "source": [
        ""
      ],
      "execution_count": 0,
      "outputs": []
    }
  ]
}