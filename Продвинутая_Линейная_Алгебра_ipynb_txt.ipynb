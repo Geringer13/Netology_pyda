{
  "nbformat": 4,
  "nbformat_minor": 0,
  "metadata": {
    "kernelspec": {
      "display_name": "Python 3",
      "language": "python",
      "name": "python3"
    },
    "language_info": {
      "codemirror_mode": {
        "name": "ipython",
        "version": 3
      },
      "file_extension": ".py",
      "mimetype": "text/x-python",
      "name": "python",
      "nbconvert_exporter": "python",
      "pygments_lexer": "ipython3",
      "version": "3.7.5"
    },
    "colab": {
      "name": "Продвинутая Линейная Алгебра.ipynb.txt",
      "provenance": [],
      "collapsed_sections": [],
      "include_colab_link": true
    }
  },
  "cells": [
    {
      "cell_type": "markdown",
      "metadata": {
        "id": "view-in-github",
        "colab_type": "text"
      },
      "source": [
        "<a href=\"https://colab.research.google.com/github/Geringer13/Netology_pyda/blob/master/%D0%9F%D1%80%D0%BE%D0%B4%D0%B2%D0%B8%D0%BD%D1%83%D1%82%D0%B0%D1%8F_%D0%9B%D0%B8%D0%BD%D0%B5%D0%B9%D0%BD%D0%B0%D1%8F_%D0%90%D0%BB%D0%B3%D0%B5%D0%B1%D1%80%D0%B0_ipynb_txt.ipynb\" target=\"_parent\"><img src=\"https://colab.research.google.com/assets/colab-badge.svg\" alt=\"Open In Colab\"/></a>"
      ]
    },
    {
      "cell_type": "markdown",
      "metadata": {
        "id": "L2jd_9KD16Xo",
        "colab_type": "text"
      },
      "source": [
        "### Задание 1:"
      ]
    },
    {
      "cell_type": "markdown",
      "metadata": {
        "id": "tSYWFDnY16Xs",
        "colab_type": "text"
      },
      "source": [
        "Придумайте матрицы, которые обладают следующими свойствами:"
      ]
    },
    {
      "cell_type": "markdown",
      "metadata": {
        "id": "HQD1PN2F16Xt",
        "colab_type": "text"
      },
      "source": [
        "a) диагональная, ортогональная, но не единичная(!):\n",
        "\n",
        "b) верхнетреугольная, ортогональная:\n",
        "\n",
        "c) нижнетреугольная, ортогональная: \n",
        "\n",
        "d) матрица, у которой определитель = 1, и все элементы не равны 0:\n",
        "\n",
        "e) матрица (3x3), у которой определитель = 1:"
      ]
    },
    {
      "cell_type": "markdown",
      "metadata": {
        "id": "X3OsWFts16Xu",
        "colab_type": "text"
      },
      "source": [
        "P.S. Во всех пунктах ответом должна быть ненулевая матрица размерности не менее 2!"
      ]
    },
    {
      "cell_type": "code",
      "metadata": {
        "id": "e2DU_iI81_-T",
        "colab_type": "code",
        "colab": {}
      },
      "source": [
        "import numpy as np\n",
        "# a) диагональная, ортогональная, но не единичная(!)\n",
        "A = np.array([[0,0,1],\n",
        "              [1,0,0],\n",
        "              [0,1,0]])"
      ],
      "execution_count": 0,
      "outputs": []
    },
    {
      "cell_type": "code",
      "metadata": {
        "id": "N-oCaNHpOnLF",
        "colab_type": "code",
        "colab": {}
      },
      "source": [
        "# b) верхнетреугольная, ортогональная:\n",
        "B = np.array([[1,0,0],\n",
        "              [0,1,0],\n",
        "              [0,0,1]])"
      ],
      "execution_count": 0,
      "outputs": []
    },
    {
      "cell_type": "code",
      "metadata": {
        "id": "mCHNZkaBPTS5",
        "colab_type": "code",
        "colab": {}
      },
      "source": [
        "# c) нижнетреугольная, ортогональная:\n",
        "C = np.array([[1,0,0],\n",
        "              [0,1,0],\n",
        "              [0,0,1]])"
      ],
      "execution_count": 0,
      "outputs": []
    },
    {
      "cell_type": "code",
      "metadata": {
        "id": "oaolB782PgfR",
        "colab_type": "code",
        "outputId": "82fd3109-592d-4d00-f07d-bead8a1c5202",
        "colab": {
          "base_uri": "https://localhost:8080/",
          "height": 34
        }
      },
      "source": [
        "# d) матрица, у которой определитель = 1, и все элементы не равны 0:\n",
        "D = np.array([[1,1,1],\n",
        "              [1,1,2],\n",
        "              [2,1,1]])\n",
        "\n",
        "np.linalg.det(D)"
      ],
      "execution_count": 0,
      "outputs": [
        {
          "output_type": "execute_result",
          "data": {
            "text/plain": [
              "1.0"
            ]
          },
          "metadata": {
            "tags": []
          },
          "execution_count": 112
        }
      ]
    },
    {
      "cell_type": "code",
      "metadata": {
        "id": "2ib6VJBKoZfF",
        "colab_type": "code",
        "colab": {
          "base_uri": "https://localhost:8080/",
          "height": 34
        },
        "outputId": "6917dc9f-ac76-43e3-8dd5-3cd5ddfb4cd0"
      },
      "source": [
        "j = np.array([[1,3],\n",
        "              [2,4]])\n",
        "\n",
        "np.linalg.det(j)"
      ],
      "execution_count": 28,
      "outputs": [
        {
          "output_type": "execute_result",
          "data": {
            "text/plain": [
              "-2.0"
            ]
          },
          "metadata": {
            "tags": []
          },
          "execution_count": 28
        }
      ]
    },
    {
      "cell_type": "code",
      "metadata": {
        "id": "eNF9ryiuoprV",
        "colab_type": "code",
        "colab": {
          "base_uri": "https://localhost:8080/",
          "height": 34
        },
        "outputId": "9e5be325-2af5-4cbc-92d8-b03485345184"
      },
      "source": [
        "k = np.array([[2,1],\n",
        "              [1,3]])\n",
        "\n",
        "np.linalg.det(k)"
      ],
      "execution_count": 29,
      "outputs": [
        {
          "output_type": "execute_result",
          "data": {
            "text/plain": [
              "5.000000000000001"
            ]
          },
          "metadata": {
            "tags": []
          },
          "execution_count": 29
        }
      ]
    },
    {
      "cell_type": "code",
      "metadata": {
        "id": "JF0Ajb8Z1_6n",
        "colab_type": "code",
        "outputId": "72528bbd-aeaf-45f0-e161-005bef29563f",
        "colab": {
          "base_uri": "https://localhost:8080/",
          "height": 34
        }
      },
      "source": [
        "# e) матрица (3x3), у которой определитель = 1:\n",
        "D = np.array([[1,1,1],\n",
        "              [1,1,2],\n",
        "              [2,1,1]])\n",
        "\n",
        "np.linalg.det(D)"
      ],
      "execution_count": 0,
      "outputs": [
        {
          "output_type": "execute_result",
          "data": {
            "text/plain": [
              "1.0"
            ]
          },
          "metadata": {
            "tags": []
          },
          "execution_count": 116
        }
      ]
    },
    {
      "cell_type": "markdown",
      "metadata": {
        "id": "qq9N-4CG16Xv",
        "colab_type": "text"
      },
      "source": [
        "### Задание 2:"
      ]
    },
    {
      "cell_type": "markdown",
      "metadata": {
        "id": "coblpA2r16Xw",
        "colab_type": "text"
      },
      "source": [
        "Найдите собственные значения и собственные вектора матриц (необходимо решение на numpy и честное решение на бумаге:)"
      ]
    },
    {
      "cell_type": "code",
      "metadata": {
        "id": "sp7mc2qA16Xy",
        "colab_type": "code",
        "outputId": "5116c14b-a261-4660-8a5d-20f8a2912edd",
        "colab": {
          "base_uri": "https://localhost:8080/",
          "height": 52
        }
      },
      "source": [
        "m = np.array([[2, 2],\n",
        "              [1, 3]])\n",
        "print(m)"
      ],
      "execution_count": 0,
      "outputs": [
        {
          "output_type": "stream",
          "text": [
            "[[2 2]\n",
            " [1 3]]\n"
          ],
          "name": "stdout"
        }
      ]
    },
    {
      "cell_type": "code",
      "metadata": {
        "id": "hFdOmWyCNDzi",
        "colab_type": "code",
        "outputId": "3f6e3f65-9cb5-43a7-810a-0a648ac45613",
        "colab": {
          "base_uri": "https://localhost:8080/",
          "height": 52
        }
      },
      "source": [
        "np.linalg.eig(m)"
      ],
      "execution_count": 0,
      "outputs": [
        {
          "output_type": "execute_result",
          "data": {
            "text/plain": [
              "(array([1., 4.]), array([[-0.89442719, -0.70710678],\n",
              "        [ 0.4472136 , -0.70710678]]))"
            ]
          },
          "metadata": {
            "tags": []
          },
          "execution_count": 6
        }
      ]
    },
    {
      "cell_type": "markdown",
      "metadata": {
        "id": "mioQjVsZ16X3",
        "colab_type": "text"
      },
      "source": [
        "Для данного примера в честном решении можно \"угадать\" корни многочлена 3-ей степени, посмотрев на решение на numpy"
      ]
    },
    {
      "cell_type": "code",
      "metadata": {
        "id": "vJZ2_Yrm16X5",
        "colab_type": "code",
        "outputId": "54af9831-ec4e-4b5e-8e99-ca7ec818b61f",
        "colab": {
          "base_uri": "https://localhost:8080/",
          "height": 70
        }
      },
      "source": [
        "f = np.array([[4, 1, -1],\n",
        "              [1, 4, -1],\n",
        "              [-1, -1, 4]])\n",
        "print(f)"
      ],
      "execution_count": 0,
      "outputs": [
        {
          "output_type": "stream",
          "text": [
            "[[ 4  1 -1]\n",
            " [ 1  4 -1]\n",
            " [-1 -1  4]]\n"
          ],
          "name": "stdout"
        }
      ]
    },
    {
      "cell_type": "code",
      "metadata": {
        "id": "dEks4aw6PCGc",
        "colab_type": "code",
        "outputId": "7b64a36b-0ca1-4e00-b340-3bf1fb351b28",
        "colab": {
          "base_uri": "https://localhost:8080/",
          "height": 70
        }
      },
      "source": [
        "np.linalg.eig(f)"
      ],
      "execution_count": 0,
      "outputs": [
        {
          "output_type": "execute_result",
          "data": {
            "text/plain": [
              "(array([6., 3., 3.]), array([[-0.57735027, -0.81649658,  0.15430335],\n",
              "        [-0.57735027,  0.40824829,  0.6172134 ],\n",
              "        [ 0.57735027, -0.40824829,  0.77151675]]))"
            ]
          },
          "metadata": {
            "tags": []
          },
          "execution_count": 9
        }
      ]
    },
    {
      "cell_type": "markdown",
      "metadata": {
        "id": "S9rbvecI16X-",
        "colab_type": "text"
      },
      "source": [
        "### Задание 3:"
      ]
    },
    {
      "cell_type": "markdown",
      "metadata": {
        "id": "NMsHMa6n16X_",
        "colab_type": "text"
      },
      "source": [
        "Найдите спектральное разложение матрицы (честное решение на бумаге и на numpy)"
      ]
    },
    {
      "cell_type": "code",
      "metadata": {
        "id": "Qo0lg6sR16YA",
        "colab_type": "code",
        "outputId": "514b07df-153c-482b-9bc7-495ddecab2e3",
        "colab": {
          "base_uri": "https://localhost:8080/",
          "height": 52
        }
      },
      "source": [
        "lm = np.array([[1, 2],\n",
        "              [2,3]])\n",
        "print(lm)"
      ],
      "execution_count": 0,
      "outputs": [
        {
          "output_type": "stream",
          "text": [
            "[[1 2]\n",
            " [2 3]]\n"
          ],
          "name": "stdout"
        }
      ]
    },
    {
      "cell_type": "code",
      "metadata": {
        "id": "t2u39SjhPt6V",
        "colab_type": "code",
        "outputId": "2d5d5e0b-fc1a-446b-f3a6-0897f37666d0",
        "colab": {
          "base_uri": "https://localhost:8080/",
          "height": 70
        }
      },
      "source": [
        "np.linalg.svd(lm)"
      ],
      "execution_count": 0,
      "outputs": [
        {
          "output_type": "execute_result",
          "data": {
            "text/plain": [
              "(array([[-0.53, -0.85],\n",
              "        [-0.85, 0.53]]), array([4.24, 0.24]), array([[-0.53, -0.85],\n",
              "        [0.85, -0.53]]))"
            ]
          },
          "metadata": {
            "tags": []
          },
          "execution_count": 24
        }
      ]
    },
    {
      "cell_type": "markdown",
      "metadata": {
        "id": "fhNSnCvR16YE",
        "colab_type": "text"
      },
      "source": [
        "### Задание 4:"
      ]
    },
    {
      "cell_type": "markdown",
      "metadata": {
        "id": "7FOf-sIO16YF",
        "colab_type": "text"
      },
      "source": [
        "Для примера из лекции постройте график зависимости oob_score RandomForestClassifier от количества компонент при сжатии с помощью SVD"
      ]
    },
    {
      "cell_type": "code",
      "metadata": {
        "id": "dRHcbvZH16YG",
        "colab_type": "code",
        "colab": {}
      },
      "source": [
        "import numpy as np\n",
        "import pylab as pl\n",
        "import warnings\n",
        "\n",
        "from matplotlib import pyplot as plt\n",
        "from scipy import linalg\n",
        "from sklearn.datasets import load_digits\n",
        "from sklearn.decomposition import TruncatedSVD\n",
        "from sklearn.ensemble import RandomForestClassifier\n",
        "warnings.filterwarnings(\"ignore\")"
      ],
      "execution_count": 0,
      "outputs": []
    },
    {
      "cell_type": "code",
      "metadata": {
        "id": "xAq1WNB_16YL",
        "colab_type": "code",
        "colab": {}
      },
      "source": [
        "float_formatter = lambda x: \"%.2f\" % x\n",
        "np.set_printoptions(formatter={'float_kind':float_formatter})"
      ],
      "execution_count": 0,
      "outputs": []
    },
    {
      "cell_type": "code",
      "metadata": {
        "id": "cvVKIYqj16YO",
        "colab_type": "code",
        "colab": {}
      },
      "source": [
        "X, y = load_digits(return_X_y=True)"
      ],
      "execution_count": 0,
      "outputs": []
    },
    {
      "cell_type": "code",
      "metadata": {
        "id": "XsQGPPsk16YR",
        "colab_type": "code",
        "outputId": "17eca3f4-7b1c-4fa0-d75a-55828ba5da4c",
        "colab": {
          "base_uri": "https://localhost:8080/",
          "height": 52
        }
      },
      "source": [
        "print(X.shape)\n",
        "print(y.shape)"
      ],
      "execution_count": 0,
      "outputs": [
        {
          "output_type": "stream",
          "text": [
            "(1797, 64)\n",
            "(1797,)\n"
          ],
          "name": "stdout"
        }
      ]
    },
    {
      "cell_type": "code",
      "metadata": {
        "id": "ALDkwZWM16YV",
        "colab_type": "code",
        "outputId": "1415c6d4-7dcb-43dc-b4fc-4a8854610b61",
        "colab": {
          "base_uri": "https://localhost:8080/",
          "height": 274
        }
      },
      "source": [
        "image = X[53]\n",
        "image = image.reshape((8, 8))\n",
        "plt.matshow(image, cmap = 'gray')\n",
        "plt.show()"
      ],
      "execution_count": 34,
      "outputs": [
        {
          "output_type": "display_data",
          "data": {
            "image/png": "[encoded data removed]",
            "text/plain": [
              "<Figure size 288x288 with 1 Axes>"
            ]
          },
          "metadata": {
            "tags": []
          }
        }
      ]
    },
    {
      "cell_type": "code",
      "metadata": {
        "id": "OEGkPT6616YZ",
        "colab_type": "code",
        "outputId": "356bfde1-dc5e-493e-c8a5-6080c82ad95a",
        "colab": {
          "base_uri": "https://localhost:8080/",
          "height": 34
        }
      },
      "source": [
        "svd = TruncatedSVD(n_components=3)\n",
        "X_reduced = svd.fit_transform(X)\n",
        "svd.explained_variance_ratio_.sum()"
      ],
      "execution_count": 51,
      "outputs": [
        {
          "output_type": "execute_result",
          "data": {
            "text/plain": [
              "0.3136664855069512"
            ]
          },
          "metadata": {
            "tags": []
          },
          "execution_count": 51
        }
      ]
    },
    {
      "cell_type": "code",
      "metadata": {
        "id": "ntLqbEhk16Yd",
        "colab_type": "code",
        "outputId": "270054ce-64e8-4f2b-9791-75a6dfd59e0a",
        "colab": {
          "base_uri": "https://localhost:8080/",
          "height": 34
        }
      },
      "source": [
        "rf_reduced = RandomForestClassifier(oob_score=True)\n",
        "rf_reduced.fit(X_reduced, y)\n",
        "rf_reduced.oob_score_"
      ],
      "execution_count": 49,
      "outputs": [
        {
          "output_type": "execute_result",
          "data": {
            "text/plain": [
              "0.9710628825820813"
            ]
          },
          "metadata": {
            "tags": []
          },
          "execution_count": 49
        }
      ]
    },
    {
      "cell_type": "markdown",
      "metadata": {
        "id": "xlq4zyywTlee",
        "colab_type": "text"
      },
      "source": [
        "Для примера из лекции постройте график зависимости oob_score RandomForestClassifier от количества компонент при сжатии с помощью SVD"
      ]
    },
    {
      "cell_type": "code",
      "metadata": {
        "id": "LVHcfX6p16Yh",
        "colab_type": "code",
        "outputId": "731e6efc-f831-4d1f-df7c-5271bcd73cd9",
        "colab": {
          "base_uri": "https://localhost:8080/",
          "height": 264
        }
      },
      "source": [
        "for i in range(0,16):\n",
        "\n",
        "  svd = TruncatedSVD(n_components=i)\n",
        "  plt.scatter(i, rf_reduced.oob_score_)\n"
      ],
      "execution_count": 53,
      "outputs": [
        {
          "output_type": "display_data",
          "data": {
            "image/png": "[encoded data removed]",
            "text/plain": [
              "<Figure size 432x288 with 1 Axes>"
            ]
          },
          "metadata": {
            "tags": []
          }
        }
      ]
    }
  ]
}