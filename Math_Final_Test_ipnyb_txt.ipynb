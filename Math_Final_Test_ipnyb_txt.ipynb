{
  "nbformat": 4,
  "nbformat_minor": 0,
  "metadata": {
    "kernelspec": {
      "display_name": "Python 3",
      "language": "python",
      "name": "python3"
    },
    "language_info": {
      "codemirror_mode": {
        "name": "ipython",
        "version": 3
      },
      "file_extension": ".py",
      "mimetype": "text/x-python",
      "name": "python",
      "nbconvert_exporter": "python",
      "pygments_lexer": "ipython3",
      "version": "3.7.5"
    },
    "colab": {
      "name": "Math_Final_Test.ipnyb.txt",
      "provenance": [],
      "collapsed_sections": [],
      "include_colab_link": true
    }
  },
  "cells": [
    {
      "cell_type": "markdown",
      "metadata": {
        "id": "view-in-github",
        "colab_type": "text"
      },
      "source": [
        "<a href=\"https://colab.research.google.com/github/Geringer13/Netology_pyda/blob/master/Math_Final_Test_ipnyb_txt.ipynb\" target=\"_parent\"><img src=\"https://colab.research.google.com/assets/colab-badge.svg\" alt=\"Open In Colab\"/></a>"
      ]
    },
    {
      "cell_type": "code",
      "metadata": {
        "id": "-f6PREMpVAEz",
        "colab_type": "code",
        "outputId": "e523858d-b267-43d7-9924-6d64134c7218",
        "colab": {
          "base_uri": "https://localhost:8080/",
          "height": 71
        }
      },
      "source": [
        "import matplotlib.pyplot as plt\n",
        "import numpy as np\n",
        "import pandas as pd\n",
        "import seaborn as sns\n",
        "from scipy.optimize import approx_fprime\n",
        "import math\n",
        "import cmath\n",
        "from scipy.optimize import minimize\n",
        "%matplotlib inline\n",
        "import pylab as pl\n",
        "import warnings\n",
        "from scipy import linalg\n",
        "from sklearn.decomposition import TruncatedSVD\n",
        "from sklearn.ensemble import RandomForestClassifier\n",
        "warnings.filterwarnings(\"ignore\")"
      ],
      "execution_count": 1,
      "outputs": [
        {
          "output_type": "stream",
          "text": [
            "/usr/local/lib/python3.6/dist-packages/statsmodels/tools/_testing.py:19: FutureWarning: pandas.util.testing is deprecated. Use the functions in the public API at pandas.testing instead.\n",
            "  import pandas.util.testing as tm\n"
          ],
          "name": "stderr"
        }
      ]
    },
    {
      "cell_type": "markdown",
      "metadata": {
        "id": "jiCbeDCtVAFB",
        "colab_type": "text"
      },
      "source": [
        "### Задание 1"
      ]
    },
    {
      "cell_type": "markdown",
      "metadata": {
        "id": "rBKP0ZCdVAFD",
        "colab_type": "text"
      },
      "source": [
        "Дана матрица рейтингов фильмов (строки - пользователи (10 человек), столбцы - фильмы (15 фильмов))"
      ]
    },
    {
      "cell_type": "code",
      "metadata": {
        "id": "eLLxS1ysVAFG",
        "colab_type": "code",
        "colab": {}
      },
      "source": [
        "raitings = np.array([[ 4,  4,  9,  4,  1,  6, 10,  7,  9,  6,  9,  2,  8,  6,  6],\n",
        "                     [ 9,  2,  5, 10,  7,  8, 10,  5,  6,  2,  1,  6,  8,  9,  7],\n",
        "                     [ 1,  6,  8,  8,  4,  9,  3,  8, 10,  5,  2,  6,  8,  1,  6],\n",
        "                     [ 6,  1,  9,  7,  7,  9,  2,  3,  5,  1,  6,  6,  3,  2,  7],\n",
        "                     [ 3,  7,  3,  5,  7,  9,  9,  6,  2,  9,  1,  2,  8, 10,  6],\n",
        "                     [ 8,  3,  7,  3,  8,  6,  1,  8,  8,  6,  1,  9,  4, 10,  1],\n",
        "                     [ 9,  8,  4,  8,  8, 10,  6,  1,  1,  2,  9,  5,  2,  7,  2],\n",
        "                     [ 4,  1,  6,  4,  3, 10,  4,  4,  2,  8,  7,  9,  3,  8,  3],\n",
        "                     [ 2,  7,  7,  6, 10,  6,  8,  9,  8,  6, 10,  1,  7, 10,  4],\n",
        "                     [ 5, 10,  8,  8,  9,  7,  2,  9,  9, 10,  8,  8,  8,  6, 10]])"
      ],
      "execution_count": 0,
      "outputs": []
    },
    {
      "cell_type": "markdown",
      "metadata": {
        "id": "JNgglyWiVAFQ",
        "colab_type": "text"
      },
      "source": [
        "<b> a) </b> Необходимо найти наиболее похожего пользователя по косинусной метрике для каждого из (ответ: 10 пар вида (x, y), где y - наиболее похожий пользователь на пользователя x)."
      ]
    },
    {
      "cell_type": "code",
      "metadata": {
        "id": "fuGZ-C0i7AlI",
        "colab_type": "code",
        "colab": {}
      },
      "source": [
        "from scipy.spatial.distance import cdist\n",
        "from scipy.spatial.distance import pdist"
      ],
      "execution_count": 0,
      "outputs": []
    },
    {
      "cell_type": "code",
      "metadata": {
        "id": "2J_2oo_P8z8s",
        "colab_type": "code",
        "colab": {
          "base_uri": "https://localhost:8080/",
          "height": 170
        },
        "outputId": "ff88c4bd-519e-47d6-dbe8-b0314b2206d4"
      },
      "source": [
        "# сразу все пары\n",
        "pdist(raitings, metric='cosine')"
      ],
      "execution_count": 24,
      "outputs": [
        {
          "output_type": "execute_result",
          "data": {
            "text/plain": [
              "array([0.17397081, 0.15078471, 0.21659884, 0.18082368, 0.25881452,\n",
              "       0.27264172, 0.19032478, 0.08934018, 0.13989224, 0.18765675,\n",
              "       0.15364663, 0.12861948, 0.17286893, 0.17370316, 0.19973997,\n",
              "       0.17473692, 0.18031873, 0.15330626, 0.21605701, 0.20902015,\n",
              "       0.32383777, 0.23710448, 0.17887923, 0.08126949, 0.30846591,\n",
              "       0.21334208, 0.16725789, 0.17065333, 0.2229334 , 0.1411313 ,\n",
              "       0.2235566 , 0.21799532, 0.18763131, 0.12051523, 0.15425211,\n",
              "       0.25988199, 0.15548315, 0.19377124, 0.14485092, 0.17330826,\n",
              "       0.18869956, 0.20845282, 0.2018724 , 0.16317771, 0.09906203])"
            ]
          },
          "metadata": {
            "tags": []
          },
          "execution_count": 24
        }
      ]
    },
    {
      "cell_type": "code",
      "metadata": {
        "id": "mxlfnkZl6Aqd",
        "colab_type": "code",
        "colab": {
          "base_uri": "https://localhost:8080/",
          "height": 51
        },
        "outputId": "841c8d2f-8bf6-4517-d22f-f40e9829a992"
      },
      "source": [
        "# по отдельности\n",
        "cdist(raitings[0:1], raitings[0:], metric='cosine')"
      ],
      "execution_count": 14,
      "outputs": [
        {
          "output_type": "execute_result",
          "data": {
            "text/plain": [
              "array([[0.        , 0.17397081, 0.15078471, 0.21659884, 0.18082368,\n",
              "        0.25881452, 0.27264172, 0.19032478, 0.08934018, 0.13989224]])"
            ]
          },
          "metadata": {
            "tags": []
          },
          "execution_count": 14
        }
      ]
    },
    {
      "cell_type": "code",
      "metadata": {
        "id": "gosSLgt97-qL",
        "colab_type": "code",
        "colab": {
          "base_uri": "https://localhost:8080/",
          "height": 51
        },
        "outputId": "7aa84d79-b5e3-4030-be0f-aa9274457d0d"
      },
      "source": [
        "cdist(raitings[1:2], raitings[0:], metric='cosine')"
      ],
      "execution_count": 11,
      "outputs": [
        {
          "output_type": "execute_result",
          "data": {
            "text/plain": [
              "array([[0.17397081, 0.        , 0.18765675, 0.15364663, 0.12861948,\n",
              "        0.17286893, 0.17370316, 0.19973997, 0.17473692, 0.18031873]])"
            ]
          },
          "metadata": {
            "tags": []
          },
          "execution_count": 11
        }
      ]
    },
    {
      "cell_type": "code",
      "metadata": {
        "id": "5bfrfZfW8WkV",
        "colab_type": "code",
        "colab": {
          "base_uri": "https://localhost:8080/",
          "height": 51
        },
        "outputId": "7923a580-38f1-4b7c-d09d-e274f70d6f6d"
      },
      "source": [
        "cdist(raitings[2:3], raitings[0:], metric='cosine')"
      ],
      "execution_count": 15,
      "outputs": [
        {
          "output_type": "execute_result",
          "data": {
            "text/plain": [
              "array([[0.15078471, 0.18765675, 0.        , 0.15330626, 0.21605701,\n",
              "        0.20902015, 0.32383777, 0.23710448, 0.17887923, 0.08126949]])"
            ]
          },
          "metadata": {
            "tags": []
          },
          "execution_count": 15
        }
      ]
    },
    {
      "cell_type": "code",
      "metadata": {
        "id": "3eRcxmcg8Y0y",
        "colab_type": "code",
        "colab": {
          "base_uri": "https://localhost:8080/",
          "height": 68
        },
        "outputId": "fe9c725b-f9ef-43fa-e465-bfe5537b8355"
      },
      "source": [
        "cdist(raitings[3:4], raitings[0:], metric='cosine')"
      ],
      "execution_count": 16,
      "outputs": [
        {
          "output_type": "execute_result",
          "data": {
            "text/plain": [
              "array([[2.16598841e-01, 1.53646628e-01, 1.53306260e-01, 1.11022302e-16,\n",
              "        3.08465911e-01, 2.13342081e-01, 1.67257893e-01, 1.70653334e-01,\n",
              "        2.22933402e-01, 1.41131304e-01]])"
            ]
          },
          "metadata": {
            "tags": []
          },
          "execution_count": 16
        }
      ]
    },
    {
      "cell_type": "code",
      "metadata": {
        "id": "eEMonyza8cv4",
        "colab_type": "code",
        "colab": {
          "base_uri": "https://localhost:8080/",
          "height": 68
        },
        "outputId": "3158fc0d-63f2-40a3-9802-d55d2f6c97a0"
      },
      "source": [
        "cdist(raitings[4:5], raitings[0:], metric='cosine')"
      ],
      "execution_count": 17,
      "outputs": [
        {
          "output_type": "execute_result",
          "data": {
            "text/plain": [
              "array([[1.80823679e-01, 1.28619478e-01, 2.16057013e-01, 3.08465911e-01,\n",
              "        2.22044605e-16, 2.23556598e-01, 2.17995321e-01, 1.87631305e-01,\n",
              "        1.20515228e-01, 1.54252108e-01]])"
            ]
          },
          "metadata": {
            "tags": []
          },
          "execution_count": 17
        }
      ]
    },
    {
      "cell_type": "code",
      "metadata": {
        "id": "MwN6NRiH8g7M",
        "colab_type": "code",
        "colab": {
          "base_uri": "https://localhost:8080/",
          "height": 51
        },
        "outputId": "2796a986-1cf4-4a86-dc62-914c3163bdcb"
      },
      "source": [
        "cdist(raitings[5:6], raitings[0:], metric='cosine')"
      ],
      "execution_count": 18,
      "outputs": [
        {
          "output_type": "execute_result",
          "data": {
            "text/plain": [
              "array([[0.25881452, 0.17286893, 0.20902015, 0.21334208, 0.2235566 ,\n",
              "        0.        , 0.25988199, 0.15548315, 0.19377124, 0.14485092]])"
            ]
          },
          "metadata": {
            "tags": []
          },
          "execution_count": 18
        }
      ]
    },
    {
      "cell_type": "code",
      "metadata": {
        "id": "LinP1YFH8jEM",
        "colab_type": "code",
        "colab": {
          "base_uri": "https://localhost:8080/",
          "height": 68
        },
        "outputId": "b5201df1-afbd-4402-a530-827752705a57"
      },
      "source": [
        "cdist(raitings[6:7], raitings[0:], metric='cosine')"
      ],
      "execution_count": 19,
      "outputs": [
        {
          "output_type": "execute_result",
          "data": {
            "text/plain": [
              "array([[2.72641717e-01, 1.73703160e-01, 3.23837772e-01, 1.67257893e-01,\n",
              "        2.17995321e-01, 2.59881992e-01, 2.22044605e-16, 1.73308264e-01,\n",
              "        1.88699556e-01, 2.08452817e-01]])"
            ]
          },
          "metadata": {
            "tags": []
          },
          "execution_count": 19
        }
      ]
    },
    {
      "cell_type": "code",
      "metadata": {
        "id": "lmRhCokh8k-b",
        "colab_type": "code",
        "colab": {
          "base_uri": "https://localhost:8080/",
          "height": 51
        },
        "outputId": "c1ae58f9-989b-4695-9f5e-b18f4fe8c989"
      },
      "source": [
        "cdist(raitings[7:8], raitings[0:], metric='cosine')"
      ],
      "execution_count": 20,
      "outputs": [
        {
          "output_type": "execute_result",
          "data": {
            "text/plain": [
              "array([[0.19032478, 0.19973997, 0.23710448, 0.17065333, 0.18763131,\n",
              "        0.15548315, 0.17330826, 0.        , 0.2018724 , 0.16317771]])"
            ]
          },
          "metadata": {
            "tags": []
          },
          "execution_count": 20
        }
      ]
    },
    {
      "cell_type": "code",
      "metadata": {
        "id": "hPsW4ki38nZ6",
        "colab_type": "code",
        "colab": {
          "base_uri": "https://localhost:8080/",
          "height": 51
        },
        "outputId": "9e574603-e89c-4ac8-ce22-3aa99bde99c0"
      },
      "source": [
        "cdist(raitings[7:8], raitings[0:], metric='cosine')"
      ],
      "execution_count": 21,
      "outputs": [
        {
          "output_type": "execute_result",
          "data": {
            "text/plain": [
              "array([[0.19032478, 0.19973997, 0.23710448, 0.17065333, 0.18763131,\n",
              "        0.15548315, 0.17330826, 0.        , 0.2018724 , 0.16317771]])"
            ]
          },
          "metadata": {
            "tags": []
          },
          "execution_count": 21
        }
      ]
    },
    {
      "cell_type": "code",
      "metadata": {
        "id": "P9-ftqp78pMy",
        "colab_type": "code",
        "colab": {
          "base_uri": "https://localhost:8080/",
          "height": 51
        },
        "outputId": "2d11e95f-dfb0-4093-b642-39c832b52dcb"
      },
      "source": [
        "cdist(raitings[8:9], raitings[0:], metric='cosine')"
      ],
      "execution_count": 22,
      "outputs": [
        {
          "output_type": "execute_result",
          "data": {
            "text/plain": [
              "array([[0.08934018, 0.17473692, 0.17887923, 0.2229334 , 0.12051523,\n",
              "        0.19377124, 0.18869956, 0.2018724 , 0.        , 0.09906203]])"
            ]
          },
          "metadata": {
            "tags": []
          },
          "execution_count": 22
        }
      ]
    },
    {
      "cell_type": "code",
      "metadata": {
        "id": "hcbXJ4r76AkO",
        "colab_type": "code",
        "colab": {}
      },
      "source": [
        ""
      ],
      "execution_count": 0,
      "outputs": []
    },
    {
      "cell_type": "code",
      "metadata": {
        "id": "pMCyvb3q6Ag_",
        "colab_type": "code",
        "colab": {}
      },
      "source": [
        ""
      ],
      "execution_count": 0,
      "outputs": []
    },
    {
      "cell_type": "markdown",
      "metadata": {
        "id": "Sx9UNy62VAFS",
        "colab_type": "text"
      },
      "source": [
        "<b> b) </b>Предположим, вы захотели сжать признаковые описания пользователя с 15 фильмов, до, скажем, 5-ти признаков, как вы это сделаете?"
      ]
    },
    {
      "cell_type": "code",
      "metadata": {
        "id": "GAglveJ641EZ",
        "colab_type": "code",
        "colab": {}
      },
      "source": [
        "raitings = pd.DataFrame(raitings)\n",
        "raitings.columns = ('n1', 'n2', 'n3', 'n4', 'n5', 'n6', 'n7', 'n8', 'n9', 'n10', 'n11', 'n12', 'n13', 'n14', 'n15')"
      ],
      "execution_count": 0,
      "outputs": []
    },
    {
      "cell_type": "code",
      "metadata": {
        "id": "kBoDVeK-xAbZ",
        "colab_type": "code",
        "outputId": "6f0d74f7-c0e9-4f55-d19c-dc7cdb685b47",
        "colab": {
          "base_uri": "https://localhost:8080/",
          "height": 359
        }
      },
      "source": [
        "X = raitings.drop('n15', axis = 1)\n",
        "X"
      ],
      "execution_count": 0,
      "outputs": [
        {
          "output_type": "execute_result",
          "data": {
            "text/html": [
              "<div>\n",
              "<style scoped>\n",
              "    .dataframe tbody tr th:only-of-type {\n",
              "        vertical-align: middle;\n",
              "    }\n",
              "\n",
              "    .dataframe tbody tr th {\n",
              "        vertical-align: top;\n",
              "    }\n",
              "\n",
              "    .dataframe thead th {\n",
              "        text-align: right;\n",
              "    }\n",
              "</style>\n",
              "<table border=\"1\" class=\"dataframe\">\n",
              "  <thead>\n",
              "    <tr style=\"text-align: right;\">\n",
              "      <th></th>\n",
              "      <th>n1</th>\n",
              "      <th>n2</th>\n",
              "      <th>n3</th>\n",
              "      <th>n4</th>\n",
              "      <th>n5</th>\n",
              "      <th>n6</th>\n",
              "      <th>n7</th>\n",
              "      <th>n8</th>\n",
              "      <th>n9</th>\n",
              "      <th>n10</th>\n",
              "      <th>n11</th>\n",
              "      <th>n12</th>\n",
              "      <th>n13</th>\n",
              "      <th>n14</th>\n",
              "    </tr>\n",
              "  </thead>\n",
              "  <tbody>\n",
              "    <tr>\n",
              "      <th>0</th>\n",
              "      <td>4</td>\n",
              "      <td>4</td>\n",
              "      <td>9</td>\n",
              "      <td>4</td>\n",
              "      <td>1</td>\n",
              "      <td>6</td>\n",
              "      <td>10</td>\n",
              "      <td>7</td>\n",
              "      <td>9</td>\n",
              "      <td>6</td>\n",
              "      <td>9</td>\n",
              "      <td>2</td>\n",
              "      <td>8</td>\n",
              "      <td>6</td>\n",
              "    </tr>\n",
              "    <tr>\n",
              "      <th>1</th>\n",
              "      <td>9</td>\n",
              "      <td>2</td>\n",
              "      <td>5</td>\n",
              "      <td>10</td>\n",
              "      <td>7</td>\n",
              "      <td>8</td>\n",
              "      <td>10</td>\n",
              "      <td>5</td>\n",
              "      <td>6</td>\n",
              "      <td>2</td>\n",
              "      <td>1</td>\n",
              "      <td>6</td>\n",
              "      <td>8</td>\n",
              "      <td>9</td>\n",
              "    </tr>\n",
              "    <tr>\n",
              "      <th>2</th>\n",
              "      <td>1</td>\n",
              "      <td>6</td>\n",
              "      <td>8</td>\n",
              "      <td>8</td>\n",
              "      <td>4</td>\n",
              "      <td>9</td>\n",
              "      <td>3</td>\n",
              "      <td>8</td>\n",
              "      <td>10</td>\n",
              "      <td>5</td>\n",
              "      <td>2</td>\n",
              "      <td>6</td>\n",
              "      <td>8</td>\n",
              "      <td>1</td>\n",
              "    </tr>\n",
              "    <tr>\n",
              "      <th>3</th>\n",
              "      <td>6</td>\n",
              "      <td>1</td>\n",
              "      <td>9</td>\n",
              "      <td>7</td>\n",
              "      <td>7</td>\n",
              "      <td>9</td>\n",
              "      <td>2</td>\n",
              "      <td>3</td>\n",
              "      <td>5</td>\n",
              "      <td>1</td>\n",
              "      <td>6</td>\n",
              "      <td>6</td>\n",
              "      <td>3</td>\n",
              "      <td>2</td>\n",
              "    </tr>\n",
              "    <tr>\n",
              "      <th>4</th>\n",
              "      <td>3</td>\n",
              "      <td>7</td>\n",
              "      <td>3</td>\n",
              "      <td>5</td>\n",
              "      <td>7</td>\n",
              "      <td>9</td>\n",
              "      <td>9</td>\n",
              "      <td>6</td>\n",
              "      <td>2</td>\n",
              "      <td>9</td>\n",
              "      <td>1</td>\n",
              "      <td>2</td>\n",
              "      <td>8</td>\n",
              "      <td>10</td>\n",
              "    </tr>\n",
              "    <tr>\n",
              "      <th>5</th>\n",
              "      <td>8</td>\n",
              "      <td>3</td>\n",
              "      <td>7</td>\n",
              "      <td>3</td>\n",
              "      <td>8</td>\n",
              "      <td>6</td>\n",
              "      <td>1</td>\n",
              "      <td>8</td>\n",
              "      <td>8</td>\n",
              "      <td>6</td>\n",
              "      <td>1</td>\n",
              "      <td>9</td>\n",
              "      <td>4</td>\n",
              "      <td>10</td>\n",
              "    </tr>\n",
              "    <tr>\n",
              "      <th>6</th>\n",
              "      <td>9</td>\n",
              "      <td>8</td>\n",
              "      <td>4</td>\n",
              "      <td>8</td>\n",
              "      <td>8</td>\n",
              "      <td>10</td>\n",
              "      <td>6</td>\n",
              "      <td>1</td>\n",
              "      <td>1</td>\n",
              "      <td>2</td>\n",
              "      <td>9</td>\n",
              "      <td>5</td>\n",
              "      <td>2</td>\n",
              "      <td>7</td>\n",
              "    </tr>\n",
              "    <tr>\n",
              "      <th>7</th>\n",
              "      <td>4</td>\n",
              "      <td>1</td>\n",
              "      <td>6</td>\n",
              "      <td>4</td>\n",
              "      <td>3</td>\n",
              "      <td>10</td>\n",
              "      <td>4</td>\n",
              "      <td>4</td>\n",
              "      <td>2</td>\n",
              "      <td>8</td>\n",
              "      <td>7</td>\n",
              "      <td>9</td>\n",
              "      <td>3</td>\n",
              "      <td>8</td>\n",
              "    </tr>\n",
              "    <tr>\n",
              "      <th>8</th>\n",
              "      <td>2</td>\n",
              "      <td>7</td>\n",
              "      <td>7</td>\n",
              "      <td>6</td>\n",
              "      <td>10</td>\n",
              "      <td>6</td>\n",
              "      <td>8</td>\n",
              "      <td>9</td>\n",
              "      <td>8</td>\n",
              "      <td>6</td>\n",
              "      <td>10</td>\n",
              "      <td>1</td>\n",
              "      <td>7</td>\n",
              "      <td>10</td>\n",
              "    </tr>\n",
              "    <tr>\n",
              "      <th>9</th>\n",
              "      <td>5</td>\n",
              "      <td>10</td>\n",
              "      <td>8</td>\n",
              "      <td>8</td>\n",
              "      <td>9</td>\n",
              "      <td>7</td>\n",
              "      <td>2</td>\n",
              "      <td>9</td>\n",
              "      <td>9</td>\n",
              "      <td>10</td>\n",
              "      <td>8</td>\n",
              "      <td>8</td>\n",
              "      <td>8</td>\n",
              "      <td>6</td>\n",
              "    </tr>\n",
              "  </tbody>\n",
              "</table>\n",
              "</div>"
            ],
            "text/plain": [
              "   n1  n2  n3  n4  n5  n6  n7  n8  n9  n10  n11  n12  n13  n14\n",
              "0   4   4   9   4   1   6  10   7   9    6    9    2    8    6\n",
              "1   9   2   5  10   7   8  10   5   6    2    1    6    8    9\n",
              "2   1   6   8   8   4   9   3   8  10    5    2    6    8    1\n",
              "3   6   1   9   7   7   9   2   3   5    1    6    6    3    2\n",
              "4   3   7   3   5   7   9   9   6   2    9    1    2    8   10\n",
              "5   8   3   7   3   8   6   1   8   8    6    1    9    4   10\n",
              "6   9   8   4   8   8  10   6   1   1    2    9    5    2    7\n",
              "7   4   1   6   4   3  10   4   4   2    8    7    9    3    8\n",
              "8   2   7   7   6  10   6   8   9   8    6   10    1    7   10\n",
              "9   5  10   8   8   9   7   2   9   9   10    8    8    8    6"
            ]
          },
          "metadata": {
            "tags": []
          },
          "execution_count": 53
        }
      ]
    },
    {
      "cell_type": "code",
      "metadata": {
        "id": "Tw4H5vNLwtgA",
        "colab_type": "code",
        "outputId": "e0c57858-e5a5-40c4-b4f6-4901baf79d12",
        "colab": {
          "base_uri": "https://localhost:8080/",
          "height": 204
        }
      },
      "source": [
        "y = raitings['n15']\n",
        "y"
      ],
      "execution_count": 0,
      "outputs": [
        {
          "output_type": "execute_result",
          "data": {
            "text/plain": [
              "0     6\n",
              "1     7\n",
              "2     6\n",
              "3     7\n",
              "4     6\n",
              "5     1\n",
              "6     2\n",
              "7     3\n",
              "8     4\n",
              "9    10\n",
              "Name: n15, dtype: int64"
            ]
          },
          "metadata": {
            "tags": []
          },
          "execution_count": 46
        }
      ]
    },
    {
      "cell_type": "code",
      "metadata": {
        "id": "wTKbIYoQ4mA8",
        "colab_type": "code",
        "outputId": "317ffc9b-ebe2-40de-88f4-7eb02f04d4dc",
        "colab": {
          "base_uri": "https://localhost:8080/",
          "height": 34
        }
      },
      "source": [
        "svd = TruncatedSVD(n_components=5)\n",
        "X_reduced = svd.fit_transform(X)\n",
        "svd.explained_variance_ratio_.sum()"
      ],
      "execution_count": 0,
      "outputs": [
        {
          "output_type": "execute_result",
          "data": {
            "text/plain": [
              "0.7800209720671962"
            ]
          },
          "metadata": {
            "tags": []
          },
          "execution_count": 56
        }
      ]
    },
    {
      "cell_type": "markdown",
      "metadata": {
        "id": "phzgUuTwVAFT",
        "colab_type": "text"
      },
      "source": [
        "### Задание 2"
      ]
    },
    {
      "cell_type": "markdown",
      "metadata": {
        "id": "39FkAefRVAFV",
        "colab_type": "text"
      },
      "source": [
        "Вычислите производную $tg^2(sin(x) + cos(2x+3))$ в точке $x_0=1$ на python и на \n",
        "\n",
        "---\n",
        "\n",
        "бумаге (просто подставить точку в производную и ничего не упрощать)."
      ]
    },
    {
      "cell_type": "code",
      "metadata": {
        "id": "VBHjxDNn-WrP",
        "colab_type": "code",
        "outputId": "de8469da-a0a4-4402-f022-2f5f68e9e0ff",
        "colab": {
          "base_uri": "https://localhost:8080/",
          "height": 34
        }
      },
      "source": [
        "import numpy as np\n",
        "from scipy.misc import derivative\n",
        "def f(x):\n",
        "    return np.tan(np.sin(x) + np.cos(2 * x + 3))**2\n",
        "print(derivative(f, 1.0, dx=1e-6, n=0, order=5))"
      ],
      "execution_count": 0,
      "outputs": [
        {
          "output_type": "stream",
          "text": [
            "4.381853728061273\n"
          ],
          "name": "stdout"
        }
      ]
    },
    {
      "cell_type": "markdown",
      "metadata": {
        "id": "5D6nfrMLVAFW",
        "colab_type": "text"
      },
      "source": [
        "### Задание 3"
      ]
    },
    {
      "cell_type": "markdown",
      "metadata": {
        "id": "IdCdsguJVAFY",
        "colab_type": "text"
      },
      "source": [
        "Дана функция с неизвестными параметрами a и b, вам также известны значения функции fx в точках x. Найдите оптимальные параметры a, b, минимизирующие абсолютную ошибку <b>error</b>"
      ]
    },
    {
      "cell_type": "code",
      "metadata": {
        "id": "YYj4-E_cVAFa",
        "colab_type": "code",
        "colab": {}
      },
      "source": [
        "def f(x, a, b):\n",
        "    return np.e**a * np.sin(b*x) + x"
      ],
      "execution_count": 0,
      "outputs": []
    },
    {
      "cell_type": "code",
      "metadata": {
        "id": "GVw2ub-iVAFi",
        "colab_type": "code",
        "colab": {}
      },
      "source": [
        "x = np.array([0.        , 0.26315789, 0.52631579, 0.78947368, 1.05263158,\n",
        "              1.31578947, 1.57894737, 1.84210526, 2.10526316, 2.36842105,\n",
        "              2.63157895, 2.89473684, 3.15789474, 3.42105263, 3.68421053,\n",
        "              3.94736842, 4.21052632, 4.47368421, 4.73684211, 5.        ])"
      ],
      "execution_count": 0,
      "outputs": []
    },
    {
      "cell_type": "code",
      "metadata": {
        "id": "xbYPz6JTVAFo",
        "colab_type": "code",
        "colab": {}
      },
      "source": [
        "fx = np.array([  0.        , -12.01819092, -18.90968634, -17.68786571,\n",
        "                -8.7529108 ,   4.27524517,  16.06801336,  21.81250213,\n",
        "                19.22059845,   9.48411207,  -3.22273056, -13.48576488,\n",
        "               -16.91096359, -11.95866834,  -0.58630088,  12.56873816,\n",
        "                22.12489421,  24.20292139,  18.04522521,   6.33211092])"
      ],
      "execution_count": 0,
      "outputs": []
    },
    {
      "cell_type": "code",
      "metadata": {
        "id": "LIgVpVRDVAFv",
        "colab_type": "code",
        "outputId": "06d8f9a2-4e39-4a4e-df93-0bdd92b1e97a",
        "colab": {
          "base_uri": "https://localhost:8080/",
          "height": 265
        }
      },
      "source": [
        "plt.plot(x, fx)\n",
        "plt.show()"
      ],
      "execution_count": 0,
      "outputs": [
        {
          "output_type": "display_data",
          "data": {
            "image/png": "[encoded data removed]",
            "text/plain": [
              "<Figure size 432x288 with 1 Axes>"
            ]
          },
          "metadata": {
            "tags": [],
            "needs_background": "light"
          }
        }
      ]
    },
    {
      "cell_type": "code",
      "metadata": {
        "id": "B-z8tjsMVAF0",
        "colab_type": "code",
        "colab": {}
      },
      "source": [
        "def error(params):\n",
        "    return np.sum(np.abs(fx - f(x, params[0], params[1])))"
      ],
      "execution_count": 0,
      "outputs": []
    },
    {
      "cell_type": "markdown",
      "metadata": {
        "id": "iShWLQYgVAF6",
        "colab_type": "text"
      },
      "source": [
        "### Задание 4"
      ]
    },
    {
      "cell_type": "markdown",
      "metadata": {
        "id": "Rvahl1LBVAF7",
        "colab_type": "text"
      },
      "source": [
        "Создайте собственную дискретную случайную величину с 20 значениями. Сгенерируйте 1000 выборок размера 50. Посчитайте среднее для каждой выборки. Постройте гистограмму распределения средних."
      ]
    },
    {
      "cell_type": "code",
      "metadata": {
        "id": "2gTtPaDivb5u",
        "colab_type": "code",
        "outputId": "72f29527-72af-4007-92f1-2f48d6874b4c",
        "colab": {
          "base_uri": "https://localhost:8080/",
          "height": 281
        }
      },
      "source": [
        "elements = np.random.randint(0, 200, 20) \n",
        "samples = [ np.mean(np.random.choice(elements, 50)) for _ in range(1000) ]\n",
        "\n",
        "plt.hist(samples)\n",
        "plt.title('Средние значения выборок размера 50 из исходного распределения')\n",
        "plt.show()"
      ],
      "execution_count": 0,
      "outputs": [
        {
          "output_type": "display_data",
          "data": {
            "image/png": "[encoded data removed]",
            "text/plain": [
              "<Figure size 432x288 with 1 Axes>"
            ]
          },
          "metadata": {
            "tags": [],
            "needs_background": "light"
          }
        }
      ]
    },
    {
      "cell_type": "markdown",
      "metadata": {
        "id": "iXRb9SV2VAF-",
        "colab_type": "text"
      },
      "source": [
        "### Задание 5"
      ]
    },
    {
      "cell_type": "markdown",
      "metadata": {
        "id": "Kt2009veVAF-",
        "colab_type": "text"
      },
      "source": [
        "Найдите собственные значения и собственные вектора матрицы (на python и на бумаге)\n",
        "\n",
        "[[1, 4],\n",
        "\n",
        " [1, 1]]"
      ]
    },
    {
      "cell_type": "code",
      "metadata": {
        "id": "enM3TZ_yWQR2",
        "colab_type": "code",
        "outputId": "ddb0b21e-ac48-419d-a3eb-af99a9fc1e15",
        "colab": {
          "base_uri": "https://localhost:8080/",
          "height": 51
        }
      },
      "source": [
        "m = np.array([[1, 4],  \n",
        "              [1, 1]]) \n",
        "print(m)"
      ],
      "execution_count": 0,
      "outputs": [
        {
          "output_type": "stream",
          "text": [
            "[[1 4]\n",
            " [1 1]]\n"
          ],
          "name": "stdout"
        }
      ]
    },
    {
      "cell_type": "code",
      "metadata": {
        "id": "oZOXM9HWWQPQ",
        "colab_type": "code",
        "outputId": "85aa87b3-48aa-4acb-e9c0-eb47c6fcc2ac",
        "colab": {
          "base_uri": "https://localhost:8080/",
          "height": 51
        }
      },
      "source": [
        "np.linalg.eig(m)"
      ],
      "execution_count": 0,
      "outputs": [
        {
          "output_type": "execute_result",
          "data": {
            "text/plain": [
              "(array([ 3., -1.]), array([[ 0.89442719, -0.89442719],\n",
              "        [ 0.4472136 ,  0.4472136 ]]))"
            ]
          },
          "metadata": {
            "tags": []
          },
          "execution_count": 3
        }
      ]
    }
  ]
}