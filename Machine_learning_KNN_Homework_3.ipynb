{
  "nbformat": 4,
  "nbformat_minor": 0,
  "metadata": {
    "colab": {
      "name": "Machine_learning_KNN_Homework_3.ipynb",
      "provenance": [],
      "collapsed_sections": [],
      "authorship_tag": "ABX9TyMI4R/YpwDGwA4PDJa5pq2T",
      "include_colab_link": true
    },
    "kernelspec": {
      "name": "python3",
      "display_name": "Python 3"
    }
  },
  "cells": [
    {
      "cell_type": "markdown",
      "metadata": {
        "id": "view-in-github",
        "colab_type": "text"
      },
      "source": [
        "<a href=\"https://colab.research.google.com/github/Geringer13/Netology_pyda/blob/master/Machine_learning_KNN_Homework_3.ipynb\" target=\"_parent\"><img src=\"https://colab.research.google.com/assets/colab-badge.svg\" alt=\"Open In Colab\"/></a>"
      ]
    },
    {
      "cell_type": "markdown",
      "metadata": {
        "id": "oABn0xfXFBB_",
        "colab_type": "text"
      },
      "source": [
        "Задание 1\n",
        "\n",
        "Необходимо для каждой распознанной фамилии вывести на экран наиболее подходящий вариант из стартового протокола"
      ]
    },
    {
      "cell_type": "code",
      "metadata": {
        "id": "pmkazYajB8kV",
        "colab_type": "code",
        "colab": {}
      },
      "source": [
        "import Levenshtein"
      ],
      "execution_count": 0,
      "outputs": []
    },
    {
      "cell_type": "code",
      "metadata": {
        "id": "iZPlu2_PBtP0",
        "colab_type": "code",
        "colab": {}
      },
      "source": [
        "# что было написано в заявке\n",
        "\n",
        "claim_list = [\n",
        "    'Шехавцова Анна',\n",
        "    'Гречихина Наталья',\n",
        "    'Козлова Алена',\n",
        "    'Груздева Алина',\n",
        "    'Кущенко Анна',\n",
        "    'Чистякова Анастасия'\n",
        "]"
      ],
      "execution_count": 0,
      "outputs": []
    },
    {
      "cell_type": "code",
      "metadata": {
        "id": "eTnQzjanBv26",
        "colab_type": "code",
        "colab": {}
      },
      "source": [
        "# результат расшифровки речи диктора\n",
        "\n",
        "speech_recognition = [\n",
        "    'кучменко она',\n",
        "    'кущенко оксана',\n",
        "    'груздь алина',\n",
        "    'рычихина наталья',\n",
        "    'шиховцева на',\n",
        "    'чистова анастасия'\n",
        "]"
      ],
      "execution_count": 0,
      "outputs": []
    },
    {
      "cell_type": "code",
      "metadata": {
        "id": "WWBT1WtWBvxj",
        "colab_type": "code",
        "colab": {
          "base_uri": "https://localhost:8080/",
          "height": 123
        },
        "outputId": "1e471fa7-bcf6-4317-9a62-bc9f9c7c3f6d"
      },
      "source": [
        "for recognized_name in speech_recognition:\n",
        "    for real_name in claim_list:\n",
        "      if Levenshtein.distance(recognized_name, real_name) <=6:\n",
        "        print('{},{},{}'.format(recognized_name, real_name, Levenshtein.distance(recognized_name, real_name)))"
      ],
      "execution_count": 15,
      "outputs": [
        {
          "output_type": "stream",
          "text": [
            "кучменко она,Кущенко Анна,5\n",
            "кущенко оксана,Кущенко Анна,5\n",
            "груздь алина,Груздева Алина,5\n",
            "рычихина наталья,Гречихина Наталья,3\n",
            "шиховцева на,Шехавцова Анна,6\n",
            "чистова анастасия,Чистякова Анастасия,4\n"
          ],
          "name": "stdout"
        }
      ]
    },
    {
      "cell_type": "markdown",
      "metadata": {
        "id": "ssRWOlM_HcQ0",
        "colab_type": "text"
      },
      "source": [
        "Задание 2\n",
        "\n",
        "Постройте модель kNN для распознавания цифр. Посчитайте получившееся значение точности (последняя строка в файле 7. kNN digits.ipynb)\n",
        "\n"
      ]
    },
    {
      "cell_type": "code",
      "metadata": {
        "id": "OMgFSudxBvrv",
        "colab_type": "code",
        "colab": {}
      },
      "source": [
        "from sklearn import datasets\n",
        "from sklearn.neighbors import KNeighborsClassifier"
      ],
      "execution_count": 0,
      "outputs": []
    },
    {
      "cell_type": "code",
      "metadata": {
        "id": "8CR-pEfiBvpM",
        "colab_type": "code",
        "colab": {}
      },
      "source": [
        "digits = datasets.load_digits()\n",
        "\n",
        "X_digits = digits.data\n",
        "Y_digits = digits.target"
      ],
      "execution_count": 0,
      "outputs": []
    },
    {
      "cell_type": "code",
      "metadata": {
        "id": "zIU1AbV8LqSB",
        "colab_type": "code",
        "colab": {
          "base_uri": "https://localhost:8080/",
          "height": 34
        },
        "outputId": "fa521a87-5f41-4e4e-eca0-1ff2bb8159b7"
      },
      "source": [
        "n_samples = len( X_digits )\n",
        "n_samples"
      ],
      "execution_count": 21,
      "outputs": [
        {
          "output_type": "execute_result",
          "data": {
            "text/plain": [
              "1797"
            ]
          },
          "metadata": {
            "tags": []
          },
          "execution_count": 21
        }
      ]
    },
    {
      "cell_type": "code",
      "metadata": {
        "id": "A_GilFm6BvmT",
        "colab_type": "code",
        "colab": {
          "base_uri": "https://localhost:8080/",
          "height": 34
        },
        "outputId": "7b36f0b9-ff4c-45f4-db95-63e5291fde98"
      },
      "source": [
        "split = int( n_samples * .9 )\n",
        "split"
      ],
      "execution_count": 20,
      "outputs": [
        {
          "output_type": "execute_result",
          "data": {
            "text/plain": [
              "1617"
            ]
          },
          "metadata": {
            "tags": []
          },
          "execution_count": 20
        }
      ]
    },
    {
      "cell_type": "code",
      "metadata": {
        "id": "6KYUMUwLLyKI",
        "colab_type": "code",
        "colab": {}
      },
      "source": [
        "X_train = X_digits[:split]\n",
        "Y_train = Y_digits[:split]"
      ],
      "execution_count": 0,
      "outputs": []
    },
    {
      "cell_type": "code",
      "metadata": {
        "id": "Kozt3ER6Lfbr",
        "colab_type": "code",
        "colab": {
          "base_uri": "https://localhost:8080/",
          "height": 34
        },
        "outputId": "a1e627ef-5de3-4a09-b7ca-5955d475c9c0"
      },
      "source": [
        "split_1 = int( n_samples * .1 )\n",
        "split_1"
      ],
      "execution_count": 22,
      "outputs": [
        {
          "output_type": "execute_result",
          "data": {
            "text/plain": [
              "179"
            ]
          },
          "metadata": {
            "tags": []
          },
          "execution_count": 22
        }
      ]
    },
    {
      "cell_type": "code",
      "metadata": {
        "id": "9KjD0I8yLfYw",
        "colab_type": "code",
        "colab": {}
      },
      "source": [
        "X_test = X_digits[:split_1]\n",
        "Y_test = Y_digits[:split_1]"
      ],
      "execution_count": 0,
      "outputs": []
    },
    {
      "cell_type": "code",
      "metadata": {
        "id": "cvO8isi5LfKB",
        "colab_type": "code",
        "colab": {
          "base_uri": "https://localhost:8080/",
          "height": 34
        },
        "outputId": "dd5d297a-25c3-4bfc-8df9-4d618612d8d6"
      },
      "source": [
        "knn = KNeighborsClassifier(n_neighbors = 5)\n",
        "\n",
        "knn.fit(X_train, Y_train)\n",
        "\n",
        "knn.score( X_test, Y_test )"
      ],
      "execution_count": 26,
      "outputs": [
        {
          "output_type": "execute_result",
          "data": {
            "text/plain": [
              "0.9832402234636871"
            ]
          },
          "metadata": {
            "tags": []
          },
          "execution_count": 26
        }
      ]
    },
    {
      "cell_type": "code",
      "metadata": {
        "id": "ArYipypiLfIX",
        "colab_type": "code",
        "colab": {}
      },
      "source": [
        ""
      ],
      "execution_count": 0,
      "outputs": []
    },
    {
      "cell_type": "code",
      "metadata": {
        "id": "DYRdmitfLfEE",
        "colab_type": "code",
        "colab": {}
      },
      "source": [
        ""
      ],
      "execution_count": 0,
      "outputs": []
    }
  ]
}