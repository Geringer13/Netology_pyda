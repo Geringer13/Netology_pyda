{
  "nbformat": 4,
  "nbformat_minor": 0,
  "metadata": {
    "kernelspec": {
      "display_name": "Python 3",
      "language": "python",
      "name": "python3"
    },
    "language_info": {
      "codemirror_mode": {
        "name": "ipython",
        "version": 3
      },
      "file_extension": ".py",
      "mimetype": "text/x-python",
      "name": "python",
      "nbconvert_exporter": "python",
      "pygments_lexer": "ipython3",
      "version": "3.7.5"
    },
    "colab": {
      "name": "Математический анализ. Производная Homework-4.ipynb",
      "provenance": [],
      "collapsed_sections": [],
      "include_colab_link": true
    }
  },
  "cells": [
    {
      "cell_type": "markdown",
      "metadata": {
        "id": "view-in-github",
        "colab_type": "text"
      },
      "source": [
        "<a href=\"https://colab.research.google.com/github/Geringer13/Netology_pyda/blob/master/%D0%9C%D0%B0%D1%82%D0%B5%D0%BC%D0%B0%D1%82%D0%B8%D1%87%D0%B5%D1%81%D0%BA%D0%B8%D0%B9_%D0%B0%D0%BD%D0%B0%D0%BB%D0%B8%D0%B7_%D0%9F%D1%80%D0%BE%D0%B8%D0%B7%D0%B2%D0%BE%D0%B4%D0%BD%D0%B0%D1%8F_Homework_4.ipynb\" target=\"_parent\"><img src=\"https://colab.research.google.com/assets/colab-badge.svg\" alt=\"Open In Colab\"/></a>"
      ]
    },
    {
      "cell_type": "markdown",
      "metadata": {
        "id": "yPjagoQnjFBT",
        "colab_type": "text"
      },
      "source": [
        "### Задание 1"
      ]
    },
    {
      "cell_type": "markdown",
      "metadata": {
        "id": "4esYEaG0jFBW",
        "colab_type": "text"
      },
      "source": [
        "Придумайте функции со следующими свойствами (в a) b) c) область определения X любая, какая вам удобна, главное - функция с нужными свойствами):\n",
        "\n",
        "a) бесконечное количество локальных экстремумов:\n",
        "-1 * np.sin(x)\n",
        "\n",
        "b) 2 локальных экстремума: np.sin(x/13)\n",
        "\n",
        "с) 3 локальных экстремума: np.sin(x/10)\n",
        "\n",
        "d*) область определения функции - 1 точка: x - x"
      ]
    },
    {
      "cell_type": "markdown",
      "metadata": {
        "id": "KZhD5_SyjFBY",
        "colab_type": "text"
      },
      "source": [
        "### Задание 2:"
      ]
    },
    {
      "cell_type": "markdown",
      "metadata": {
        "id": "JQe6LjH_jFBZ",
        "colab_type": "text"
      },
      "source": [
        "Посчитайте 1-ую и 2-ую производные следующих функций (на бумажке:)):\n",
        "\n",
        "a) $f(x) = sin^2(2x+1)$\n",
        "\n",
        "b) $f(x) = ln(x^3+2sin(x))$ (выражение второй производной упрощать не нужно)"
      ]
    },
    {
      "cell_type": "markdown",
      "metadata": {
        "id": "4oH31-W0jFBb",
        "colab_type": "text"
      },
      "source": [
        "### Задание 3:"
      ]
    },
    {
      "cell_type": "markdown",
      "metadata": {
        "id": "qVWZlizAjFBc",
        "colab_type": "text"
      },
      "source": [
        "Используя numpy, посчитайте значение 3-ей и 4-ой производных функций в точке:\n",
        "\n",
        "$f(x) = x^5+4sin(2x)+cos(3x+3)$ в точке $x=1$\n"
      ]
    },
    {
      "cell_type": "code",
      "metadata": {
        "id": "79jRMLfUoG0S",
        "colab_type": "code",
        "outputId": "6acc5d22-99b0-4cb1-ed86-cf95de1d676c",
        "colab": {
          "base_uri": "https://localhost:8080/",
          "height": 52
        }
      },
      "source": [
        "import numpy as np\n",
        "from scipy.misc import derivative\n",
        "def f(x):\n",
        "    return x**5 + 4 * np.sin(2*x) + np.cos(3*x +3)\n",
        "print(derivative(f, 1.0, dx=1e-6, n=3, order=5))\n",
        "print(derivative(f, 1.0, dx=1e-6, n=4, order=5))"
      ],
      "execution_count": 0,
      "outputs": [
        {
          "output_type": "stream",
          "text": [
            "888.1784197001253\n",
            "-888178419.7001253\n"
          ],
          "name": "stdout"
        }
      ]
    },
    {
      "cell_type": "code",
      "metadata": {
        "id": "aRTB9S_mWBX_",
        "colab_type": "code",
        "colab": {}
      },
      "source": [
        "import matplotlib as plt\n",
        "import matplotlib.pyplot as plt\n",
        "import numpy as np\n",
        "import pylab\n",
        "\n",
        "def f(x):\n",
        "    return x**5 + 4 * np.sin(2*x) + np.cos(3*x +3)"
      ],
      "execution_count": 0,
      "outputs": []
    },
    {
      "cell_type": "code",
      "metadata": {
        "id": "66ZlXkY1WrXb",
        "colab_type": "code",
        "colab": {}
      },
      "source": [
        "x = np.linspace(-100, 100)\n",
        "fx = f(x)\n",
        "f1x = [derivative(f, xx, dx=1e-6, n=4, order=5) for xx in x]"
      ],
      "execution_count": 0,
      "outputs": []
    },
    {
      "cell_type": "code",
      "metadata": {
        "id": "bmZ5CWd5WvYW",
        "colab_type": "code",
        "outputId": "ed4ab828-e2ad-4efc-a89c-36b51f07fa97",
        "colab": {
          "base_uri": "https://localhost:8080/",
          "height": 275
        }
      },
      "source": [
        "plt.plot(x, fx, label='function')\n",
        "plt.plot(x, f1x, label='derivative')\n",
        "plt.legend()\n",
        "plt.show()"
      ],
      "execution_count": 0,
      "outputs": [
        {
          "output_type": "display_data",
          "data": {
            "image/png": "[encoded data removed]",
            "text/plain": [
              "<Figure size 432x288 with 1 Axes>"
            ]
          },
          "metadata": {
            "tags": []
          }
        }
      ]
    }
  ]
}
