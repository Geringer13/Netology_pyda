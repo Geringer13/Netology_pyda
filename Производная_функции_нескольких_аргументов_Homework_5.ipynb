{
  "nbformat": 4,
  "nbformat_minor": 0,
  "metadata": {
    "kernelspec": {
      "display_name": "Python 3",
      "language": "python",
      "name": "python3"
    },
    "language_info": {
      "codemirror_mode": {
        "name": "ipython",
        "version": 3
      },
      "file_extension": ".py",
      "mimetype": "text/x-python",
      "name": "python",
      "nbconvert_exporter": "python",
      "pygments_lexer": "ipython3",
      "version": "3.7.5"
    },
    "colab": {
      "name": "Производная функции нескольких аргументов_Homework-5.ipynb",
      "provenance": [],
      "collapsed_sections": [],
      "include_colab_link": true
    }
  },
  "cells": [
    {
      "cell_type": "markdown",
      "metadata": {
        "id": "view-in-github",
        "colab_type": "text"
      },
      "source": [
        "<a href=\"https://colab.research.google.com/github/Geringer13/Netology_pyda/blob/master/%D0%9F%D1%80%D0%BE%D0%B8%D0%B7%D0%B2%D0%BE%D0%B4%D0%BD%D0%B0%D1%8F_%D1%84%D1%83%D0%BD%D0%BA%D1%86%D0%B8%D0%B8_%D0%BD%D0%B5%D1%81%D0%BA%D0%BE%D0%BB%D1%8C%D0%BA%D0%B8%D1%85_%D0%B0%D1%80%D0%B3%D1%83%D0%BC%D0%B5%D0%BD%D1%82%D0%BE%D0%B2_Homework_5.ipynb\" target=\"_parent\"><img src=\"https://colab.research.google.com/assets/colab-badge.svg\" alt=\"Open In Colab\"/></a>"
      ]
    },
    {
      "cell_type": "code",
      "metadata": {
        "id": "O6TgfDk9879S",
        "colab_type": "code",
        "colab": {}
      },
      "source": [
        "import numpy as np\n",
        "from scipy.optimize import approx_fprime\n",
        "import math"
      ],
      "execution_count": 0,
      "outputs": []
    },
    {
      "cell_type": "markdown",
      "metadata": {
        "id": "lG2XGi6r879Z",
        "colab_type": "text"
      },
      "source": [
        "### Задание 1: \n",
        "Посчитайте частные производные функций в точках\n",
        "(как обычно, необходимо решение на бумажке или в LaTeX и на numpy):"
      ]
    },
    {
      "cell_type": "markdown",
      "metadata": {
        "id": "Fhvh2xew879b",
        "colab_type": "text"
      },
      "source": [
        "1) $f(x,y)=2x^2y^3 + 1/x + y^2x + 7$ в точке $(1,2)$\n",
        "\n",
        "2) $f(x,y)=x^2y - sin(xy) + cos(x^2) + 6y$"
      ]
    },
    {
      "cell_type": "code",
      "metadata": {
        "id": "yC3Fq8VpBnbi",
        "colab_type": "code",
        "colab": {}
      },
      "source": [
        "def func(x):\n",
        "    \"Coordinate vector `x` should be an array of size two.\"\n",
        "    \n",
        "    return 2 * x[0]**2 * x[1]**3 + 1 / x[0] + x[1]**2 * x[0] + 7"
      ],
      "execution_count": 0,
      "outputs": []
    },
    {
      "cell_type": "code",
      "metadata": {
        "id": "4VCYxuFABnXY",
        "colab_type": "code",
        "outputId": "9d9bdee2-e44f-4e0d-8219-de6cbcb6bdf2",
        "colab": {
          "base_uri": "https://localhost:8080/",
          "height": 34
        }
      },
      "source": [
        "v = np.array([1, 2])\n",
        "\n",
        "eps = np.sqrt(np.finfo(float).eps)\n",
        "approx_fprime(v, func, [eps, eps])"
      ],
      "execution_count": 90,
      "outputs": [
        {
          "output_type": "execute_result",
          "data": {
            "text/plain": [
              "array([35.00000024, 28.00000024])"
            ]
          },
          "metadata": {
            "tags": []
          },
          "execution_count": 90
        }
      ]
    },
    {
      "cell_type": "code",
      "metadata": {
        "id": "wYVU8oJWBnTL",
        "colab_type": "code",
        "colab": {}
      },
      "source": [
        "def func(x):\n",
        "    \"Coordinate vector `x` should be an array of size two.\"\n",
        "    return x[0]**2 * x[1] - math.asin(x[0] * x[1]) + math.acos(x[0]**2) + 6 * x[1]"
      ],
      "execution_count": 0,
      "outputs": []
    },
    {
      "cell_type": "code",
      "metadata": {
        "id": "UknSN5FeBnJF",
        "colab_type": "code",
        "outputId": "fdbdbe00-28f0-401a-b494-6df9f0ce0d0b",
        "colab": {
          "base_uri": "https://localhost:8080/",
          "height": 34
        }
      },
      "source": [
        "x = np.array([0, 0])\n",
        "\n",
        "eps = np.sqrt(np.finfo(float).eps)\n",
        "approx_fprime(x ,func, [eps, eps])"
      ],
      "execution_count": 0,
      "outputs": [
        {
          "output_type": "execute_result",
          "data": {
            "text/plain": [
              "array([-1.49011612e-08,  6.00000000e+00])"
            ]
          },
          "metadata": {
            "tags": []
          },
          "execution_count": 65
        }
      ]
    },
    {
      "cell_type": "markdown",
      "metadata": {
        "id": "4MBiIB5i879e",
        "colab_type": "text"
      },
      "source": [
        "### Задание 2:\n",
        "\n",
        "Градиентный спуск своими руками"
      ]
    },
    {
      "cell_type": "code",
      "metadata": {
        "id": "5Z2ZWNCT0VzA",
        "colab_type": "code",
        "outputId": "937d2803-4a19-4dbc-ffac-5017ecc820d6",
        "colab": {
          "base_uri": "https://localhost:8080/",
          "height": 63
        }
      },
      "source": [
        "import tensorflow as tf"
      ],
      "execution_count": 0,
      "outputs": [
        {
          "output_type": "display_data",
          "data": {
            "text/html": [
              "<p style=\"color: red;\">\n",
              "The default version of TensorFlow in Colab will soon switch to TensorFlow 2.x.<br>\n",
              "We recommend you <a href=\"https://www.tensorflow.org/guide/migrate\" target=\"_blank\">upgrade</a> now \n",
              "or ensure your notebook will continue to use TensorFlow 1.x via the <code>%tensorflow_version 1.x</code> magic:\n",
              "<a href=\"https://colab.research.google.com/notebooks/tensorflow_version.ipynb\" target=\"_blank\">more info</a>.</p>\n"
            ],
            "text/plain": [
              "<IPython.core.display.HTML object>"
            ]
          },
          "metadata": {
            "tags": []
          }
        }
      ]
    },
    {
      "cell_type": "code",
      "metadata": {
        "id": "raJB7hdV879f",
        "colab_type": "code",
        "colab": {}
      },
      "source": [
        "def f(x):\n",
        "    return (x[0]**2) + (x[1]**2) "
      ],
      "execution_count": 0,
      "outputs": []
    },
    {
      "cell_type": "code",
      "metadata": {
        "id": "B0vGqAVf879j",
        "colab_type": "code",
        "colab": {}
      },
      "source": [
        "x = np.array([100, 200])\n",
        "lr = 0.1"
      ],
      "execution_count": 0,
      "outputs": []
    },
    {
      "cell_type": "code",
      "metadata": {
        "id": "886xldox879n",
        "colab_type": "code",
        "colab": {}
      },
      "source": [
        "for i in range(100):\n",
        "\n",
        "    # Calculate gradient\n",
        "    eps = np.sqrt(np.finfo(float).eps)\n",
        "    grad = approx_fprime(x, f, epsilon=eps)\n",
        "\n",
        "    x = x - lr * grad\n"
      ],
      "execution_count": 0,
      "outputs": []
    },
    {
      "cell_type": "code",
      "metadata": {
        "id": "zwVe1gap9sSU",
        "colab_type": "code",
        "outputId": "2366703f-a9a2-4346-ba5f-8743f77a023f",
        "colab": {
          "base_uri": "https://localhost:8080/",
          "height": 34
        }
      },
      "source": [
        "grad"
      ],
      "execution_count": 0,
      "outputs": [
        {
          "output_type": "execute_result",
          "data": {
            "text/plain": [
              "array([5.09259042e-08, 1.01851802e-07])"
            ]
          },
          "metadata": {
            "tags": []
          },
          "execution_count": 37
        }
      ]
    },
    {
      "cell_type": "code",
      "metadata": {
        "id": "P1213AVQ879s",
        "colab_type": "code",
        "outputId": "7ba2fbaf-75f7-4c42-b480-74fe89c5e2d0",
        "colab": {
          "base_uri": "https://localhost:8080/",
          "height": 52
        }
      },
      "source": [
        "print(\"Минимум достигается в: \", x)\n",
        "print(\"Значение функции в минимуме: \", f(x))"
      ],
      "execution_count": 0,
      "outputs": [
        {
          "output_type": "stream",
          "text": [
            "Минимум достигается в:  [1.29197811e-08 3.32901401e-08]\n",
            "Значение функции в минимуме:  1.2751541739575636e-15\n"
          ],
          "name": "stdout"
        }
      ]
    },
    {
      "cell_type": "markdown",
      "metadata": {
        "id": "pf-znS1r879x",
        "colab_type": "text"
      },
      "source": [
        "Проверка с помощью встроенной функции numpy: "
      ]
    },
    {
      "cell_type": "code",
      "metadata": {
        "id": "aG_AkD54879y",
        "colab_type": "code",
        "outputId": "01357dd3-4128-4c32-b6d3-ba45d796bf94",
        "colab": {
          "base_uri": "https://localhost:8080/",
          "height": 34
        }
      },
      "source": [
        "j = np.gradient(x)\n",
        "j"
      ],
      "execution_count": 0,
      "outputs": [
        {
          "output_type": "execute_result",
          "data": {
            "text/plain": [
              "array([2.03703591e-08, 2.03703591e-08])"
            ]
          },
          "metadata": {
            "tags": []
          },
          "execution_count": 42
        }
      ]
    }
  ]
}