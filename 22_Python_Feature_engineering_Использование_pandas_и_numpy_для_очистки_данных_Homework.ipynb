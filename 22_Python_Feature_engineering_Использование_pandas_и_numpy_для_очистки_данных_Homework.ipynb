{
  "nbformat": 4,
  "nbformat_minor": 0,
  "metadata": {
    "colab": {
      "name": "22_Python_Feature engineering_Использование pandas и numpy для очистки данных_Homework.ipynb",
      "provenance": [],
      "private_outputs": true,
      "collapsed_sections": [],
      "include_colab_link": true
    },
    "kernelspec": {
      "name": "python3",
      "display_name": "Python 3"
    },
    "accelerator": "GPU"
  },
  "cells": [
    {
      "cell_type": "markdown",
      "metadata": {
        "id": "view-in-github",
        "colab_type": "text"
      },
      "source": [
        "<a href=\"https://colab.research.google.com/github/Geringer13/Netology_pyda/blob/master/22_Python_Feature_engineering_%D0%98%D1%81%D0%BF%D0%BE%D0%BB%D1%8C%D0%B7%D0%BE%D0%B2%D0%B0%D0%BD%D0%B8%D0%B5_pandas_%D0%B8_numpy_%D0%B4%D0%BB%D1%8F_%D0%BE%D1%87%D0%B8%D1%81%D1%82%D0%BA%D0%B8_%D0%B4%D0%B0%D0%BD%D0%BD%D1%8B%D1%85_Homework.ipynb\" target=\"_parent\"><img src=\"https://colab.research.google.com/assets/colab-badge.svg\" alt=\"Open In Colab\"/></a>"
      ]
    },
    {
      "cell_type": "code",
      "metadata": {
        "id": "gcjq3ccTcLZV",
        "colab_type": "code",
        "colab": {}
      },
      "source": [
        "from sklearn.datasets import load_boston\n",
        "from sklearn import preprocessing\n",
        "from sklearn.linear_model import LinearRegression\n",
        "from sklearn.metrics import mean_absolute_error\n",
        "from sklearn.metrics import mean_squared_error, mean_absolute_error, r2_score\n",
        "from sklearn.model_selection import train_test_split\n",
        "import matplotlib.ticker as ticker\n",
        "import pandas as pd\n",
        "import seaborn as sns\n",
        "import matplotlib.pyplot as plt\n",
        "import numpy as np\n",
        "import math\n",
        "\n",
        "data = pd.read_csv(load_boston()['filename'], skiprows=1)"
      ],
      "execution_count": 0,
      "outputs": []
    },
    {
      "cell_type": "markdown",
      "metadata": {
        "id": "bn6a0gG6eMSF",
        "colab_type": "text"
      },
      "source": [
        "        - CRIM     per capita crime rate by town\n",
        "        - ZN       proportion of residential land zoned for lots over 25,000 sq.ft.\n",
        "        - INDUS    proportion of non-retail business acres per town\n",
        "        - CHAS     Charles River dummy variable (= 1 if tract bounds river; 0 otherwise)\n",
        "        - NOX      nitric oxides concentration (parts per 10 million)\n",
        "        - RM       average number of rooms per dwelling\n",
        "        - AGE      proportion of owner-occupied units built prior to 1940\n",
        "        - DIS      weighted distances to five Boston employment centres\n",
        "        - RAD      index of accessibility to radial highways\n",
        "        - TAX      full-value property-tax rate per $10,000\n",
        "        - PTRATIO  pupil-teacher ratio by town\n",
        "        - B        1000(Bk - 0.63)^2 where Bk is the proportion of blacks by town\n",
        "        - LSTAT    % lower status of the population\n",
        "        - MEDV     Median value of owner-occupied homes in $1000's"
      ]
    },
    {
      "cell_type": "markdown",
      "metadata": {
        "id": "VQTvLXxgj531",
        "colab_type": "text"
      },
      "source": [
        "CRIM - уровень преступности на душу населения по городам\n",
        "\n",
        "ZN - доля жилой земли, зонированной для участков более 25 000 кв футов\n",
        "\n",
        "INDUS - доля не-розничных бизнес-акров на город\n",
        "\n",
        "CHAS - Charles River (= 1, если тракт ограничивает реку; 0 в противном случае)\n",
        "\n",
        "NOX - концентрация оксидов азота NOX (частей на 10 миллионов)\n",
        "\n",
        "RM - среднее количество комнат на жилое помещение\n",
        "\n",
        "AGE - ВОЗРАСТНАЯ доля занимаемых владельцами квартир, построенных до 1940 года\n",
        "\n",
        "DIS - взвешивает расстояния до пяти бостонских центров занятости\n",
        "\n",
        "RAD - индекс доступности радиальных магистралей\n",
        "\n",
        "TAX - Налоговая ставка на имущество на 10 000\n",
        "\n",
        "PLRATIO - Соотношение учеников и учителей PTRATIO по городам\n",
        "\n",
        "B - доля чернокожих по городам.\n",
        "LSTAT - % ниже статуса населения\n",
        "\n",
        "MEDV - Медианная стоимость домов, занимаемых владельцами, в $ 1000\n",
        "\n"
      ]
    },
    {
      "cell_type": "code",
      "metadata": {
        "id": "rXaq6-dhcLWk",
        "colab_type": "code",
        "colab": {}
      },
      "source": [
        "data.head()"
      ],
      "execution_count": 0,
      "outputs": []
    },
    {
      "cell_type": "markdown",
      "metadata": {
        "id": "Md6r3Uisgp--",
        "colab_type": "text"
      },
      "source": [
        "Итак, разделим датафрейм на две части, первая часть все показатели без таргета которая часть только показатель MEDV, который мы будем предсказывать. Обучим модель и посмотрим ошибку на не подготовленных данных."
      ]
    },
    {
      "cell_type": "code",
      "metadata": {
        "id": "inqLRPPDfZ5-",
        "colab_type": "code",
        "colab": {}
      },
      "source": [
        "data_reg = data.drop(['MEDV'], axis=1)"
      ],
      "execution_count": 0,
      "outputs": []
    },
    {
      "cell_type": "code",
      "metadata": {
        "id": "xWctEwLofRLo",
        "colab_type": "code",
        "colab": {}
      },
      "source": [
        "from sklearn.metrics import mean_absolute_error\n",
        "from sklearn.linear_model import LinearRegression\n",
        "\n",
        "X = data_reg\n",
        "y = data['MEDV']\n",
        "reg = LinearRegression().fit(X, y)\n",
        "print('Weights: {}'.format(reg.coef_))\n",
        "print('Bias: {}'.format(reg.intercept_))\n",
        "\n",
        "pred_values = reg.predict(X)\n",
        "print('Error: {}'.format(mean_absolute_error(pred_values, y)))"
      ],
      "execution_count": 0,
      "outputs": []
    },
    {
      "cell_type": "markdown",
      "metadata": {
        "id": "GGu5_eNfhRMn",
        "colab_type": "text"
      },
      "source": [
        "Все дальнейшие действия будут напралены на очистку и подготовку данных для обучения модели и сравнения ошибок."
      ]
    },
    {
      "cell_type": "code",
      "metadata": {
        "id": "tOXSbmI4e5EA",
        "colab_type": "code",
        "colab": {}
      },
      "source": [
        "data"
      ],
      "execution_count": 0,
      "outputs": []
    },
    {
      "cell_type": "code",
      "metadata": {
        "id": "zu5NDvByeoTL",
        "colab_type": "code",
        "colab": {}
      },
      "source": [
        "print(len(data))\n",
        "print(data.shape)"
      ],
      "execution_count": 0,
      "outputs": []
    },
    {
      "cell_type": "code",
      "metadata": {
        "id": "_NR5isJgcLRB",
        "colab_type": "code",
        "colab": {}
      },
      "source": [
        "data.info()"
      ],
      "execution_count": 0,
      "outputs": []
    },
    {
      "cell_type": "code",
      "metadata": {
        "id": "9RkB5XPtcLOX",
        "colab_type": "code",
        "colab": {}
      },
      "source": [
        "data.isna().sum()"
      ],
      "execution_count": 0,
      "outputs": []
    },
    {
      "cell_type": "code",
      "metadata": {
        "id": "O81KL6xi3-gD",
        "colab_type": "code",
        "colab": {}
      },
      "source": [
        "data.describe()"
      ],
      "execution_count": 0,
      "outputs": []
    },
    {
      "cell_type": "code",
      "metadata": {
        "id": "6k1Rpt80cLLa",
        "colab_type": "code",
        "colab": {}
      },
      "source": [
        "sns.pairplot(data)"
      ],
      "execution_count": 0,
      "outputs": []
    },
    {
      "cell_type": "code",
      "metadata": {
        "id": "xF15GlutcLIs",
        "colab_type": "code",
        "colab": {}
      },
      "source": [
        "sns.heatmap(data.corr(),annot=True,cmap='RdYlGn',linewidths=0.2) \n",
        "plt.show()"
      ],
      "execution_count": 0,
      "outputs": []
    },
    {
      "cell_type": "markdown",
      "metadata": {
        "id": "mCHOZDLD5eUT",
        "colab_type": "text"
      },
      "source": [
        "Судя по матрице корреляций существует сильная корреляция между RM и таргетом, попробуем посчитать ошибку модели на одном этом показателе. Мы видим, что ошибка стала выше, поэтому будем работать с данными дальше."
      ]
    },
    {
      "cell_type": "code",
      "metadata": {
        "id": "zf_RYLOcHR8P",
        "colab_type": "code",
        "colab": {}
      },
      "source": [
        "data_rm = data['RM']"
      ],
      "execution_count": 0,
      "outputs": []
    },
    {
      "cell_type": "code",
      "metadata": {
        "id": "FI7ReL7KGDit",
        "colab_type": "code",
        "colab": {}
      },
      "source": [
        "data_rm = data_rm.apply(math.ceil).astype(int)"
      ],
      "execution_count": 0,
      "outputs": []
    },
    {
      "cell_type": "code",
      "metadata": {
        "id": "i6zQbAY85VgL",
        "colab_type": "code",
        "colab": {}
      },
      "source": [
        "data_rm = np.array(data_rm).reshape(-1, 1)"
      ],
      "execution_count": 0,
      "outputs": []
    },
    {
      "cell_type": "code",
      "metadata": {
        "id": "Gw18vcsm5VZ3",
        "colab_type": "code",
        "colab": {}
      },
      "source": [
        "X = data_rm\n",
        "y = data['MEDV']\n",
        "reg = LinearRegression().fit(X, y)\n",
        "print('Weights: {}'.format(reg.coef_))\n",
        "print('Bias: {}'.format(reg.intercept_))\n",
        "\n",
        "pred_values = reg.predict(X)\n",
        "print('Error: {}'.format(mean_absolute_error(pred_values, y)))"
      ],
      "execution_count": 0,
      "outputs": []
    },
    {
      "cell_type": "markdown",
      "metadata": {
        "id": "djRmZikNBYvq",
        "colab_type": "text"
      },
      "source": [
        "Выпишем столбцы, которые можно убрать из анализа"
      ]
    },
    {
      "cell_type": "markdown",
      "metadata": {
        "id": "UWFi7mImCQAN",
        "colab_type": "text"
      },
      "source": [
        "'CRIM' - ok - аномалий и выбросов не замечено\n",
        "\n",
        "'ZN' - delete - аномалий и выбросов не замечено\n",
        "\n",
        "'INDUS' - mb - аномалий и выбросов не замечено\n",
        "\n",
        "'CHAS' - delete - аномалий и выбросов не замечено\n",
        "\n",
        "'NOX' - mb - аномалий и выбросов не замечено \n",
        "\n",
        "'RM' - ok - нужно округлить в большую сторону\n",
        "\n",
        "'AGE' - delete\n",
        "\n",
        "'DIS' - mb -  аномалий и выбросов не замечено\n",
        "\n",
        "'RAD' - mb\n",
        "\n",
        "'TAX' - ok\n",
        "\n",
        "'PTRATIO' - delete\n",
        "\n",
        "'B' - ok\n",
        "\n",
        "'LSTAT' - ок - обратная полиномиальная регрессия\n",
        "\n",
        "'MEDV'\n",
        "\n"
      ]
    },
    {
      "cell_type": "markdown",
      "metadata": {
        "id": "mHROSB8KBeDY",
        "colab_type": "text"
      },
      "source": [
        "Анализируем распределения и анномалии по каждому параметру"
      ]
    },
    {
      "cell_type": "code",
      "metadata": {
        "id": "du76Fwqx7nzc",
        "colab_type": "code",
        "colab": {}
      },
      "source": [
        "data_reg['RM'] = data_reg['RM'].apply(math.ceil).astype(int)"
      ],
      "execution_count": 0,
      "outputs": []
    },
    {
      "cell_type": "code",
      "metadata": {
        "id": "iZ9d_m6ueRva",
        "colab_type": "code",
        "colab": {}
      },
      "source": [
        "data['MEDV'].hist()"
      ],
      "execution_count": 0,
      "outputs": []
    },
    {
      "cell_type": "markdown",
      "metadata": {
        "id": "godsOvsQE_HS",
        "colab_type": "text"
      },
      "source": [
        "Итак, проанализировав данные напрашивается несколько вопросов, во первых странные данные по ценам ниже 10, уровень ТАХ = 666, уровень темнокожих ниже 10, а также показатель RAD = 24. Попробую два подхода: 1 - удалить эти строки, 2 - заменить на среднее."
      ]
    },
    {
      "cell_type": "markdown",
      "metadata": {
        "id": "SLRCGX0rLqxz",
        "colab_type": "text"
      },
      "source": [
        "Для начала сократим количество показателей, построим модель после удаления нескольких\n",
        "столбцов, а затем нормализуем эти данные, построим модель и сравним результаты."
      ]
    },
    {
      "cell_type": "code",
      "metadata": {
        "id": "v1Trp3vOFW9w",
        "colab_type": "code",
        "colab": {}
      },
      "source": [
        "data_approach_1 = data_reg.drop(['AGE', 'PTRATIO', 'ZN', 'CHAS'], axis=1)\n",
        "data_approach_1.head()"
      ],
      "execution_count": 0,
      "outputs": []
    },
    {
      "cell_type": "code",
      "metadata": {
        "id": "ExnFqSr8K1gH",
        "colab_type": "code",
        "colab": {}
      },
      "source": [
        "headers = list(data_approach_1.columns.values)"
      ],
      "execution_count": 0,
      "outputs": []
    },
    {
      "cell_type": "code",
      "metadata": {
        "id": "c9P4bOEaH3ru",
        "colab_type": "code",
        "colab": {}
      },
      "source": [
        "scaler = preprocessing.StandardScaler()\n",
        "data_approach_2 = scaler.fit_transform(data_approach_1)\n",
        "df_norm_1 = pd.DataFrame(data_approach_2)\n",
        "df_norm_1.columns = headers\n",
        "df_norm_1.head()"
      ],
      "execution_count": 0,
      "outputs": []
    },
    {
      "cell_type": "code",
      "metadata": {
        "id": "B8xanZaFKIaC",
        "colab_type": "code",
        "colab": {}
      },
      "source": [
        "df_norm_1.columns"
      ],
      "execution_count": 0,
      "outputs": []
    },
    {
      "cell_type": "markdown",
      "metadata": {
        "id": "gfD6rI3KNW8V",
        "colab_type": "text"
      },
      "source": [
        "Поработаем со странными значениями ТАХ = 666, уровень темнокожих ниже 10, а также показатель RAD = 24"
      ]
    },
    {
      "cell_type": "code",
      "metadata": {
        "id": "ktZ-6E4fOv6h",
        "colab_type": "code",
        "colab": {}
      },
      "source": [
        "data_reg_1 = data[data['TAX'] !=666]"
      ],
      "execution_count": 0,
      "outputs": []
    },
    {
      "cell_type": "code",
      "metadata": {
        "id": "DN2aB9tiOyp9",
        "colab_type": "code",
        "colab": {}
      },
      "source": [
        "data_reg_1_target = data_reg_1['MEDV']"
      ],
      "execution_count": 0,
      "outputs": []
    },
    {
      "cell_type": "code",
      "metadata": {
        "id": "9usujwOiNWSy",
        "colab_type": "code",
        "colab": {}
      },
      "source": [
        "data_reg_1 = data_reg_1.drop(['MEDV'], axis=1)\n",
        "data_reg_1.head()"
      ],
      "execution_count": 0,
      "outputs": []
    },
    {
      "cell_type": "code",
      "metadata": {
        "id": "1Ho-HNzqUawa",
        "colab_type": "code",
        "colab": {}
      },
      "source": [
        "data_reg_1[data_reg_1['MEDV'] == 50]"
      ],
      "execution_count": 0,
      "outputs": []
    },
    {
      "cell_type": "code",
      "metadata": {
        "id": "nSQmN0yXN5kP",
        "colab_type": "code",
        "colab": {}
      },
      "source": [
        "len(data_reg_1_target)"
      ],
      "execution_count": 0,
      "outputs": []
    },
    {
      "cell_type": "code",
      "metadata": {
        "id": "umOUNPxsQecg",
        "colab_type": "code",
        "colab": {}
      },
      "source": [
        "tax666 = data[data['TAX'] == 666]"
      ],
      "execution_count": 0,
      "outputs": []
    },
    {
      "cell_type": "code",
      "metadata": {
        "id": "2HFSyKQVSjBp",
        "colab_type": "code",
        "colab": {}
      },
      "source": [
        "sns.pairplot(tax666)"
      ],
      "execution_count": 0,
      "outputs": []
    },
    {
      "cell_type": "code",
      "metadata": {
        "id": "Sj9u2_3CNEbh",
        "colab_type": "code",
        "colab": {}
      },
      "source": [
        "data_wth_666 = data[data['TAX'] != 666]"
      ],
      "execution_count": 0,
      "outputs": []
    },
    {
      "cell_type": "code",
      "metadata": {
        "id": "NbzFAQLLPOhW",
        "colab_type": "code",
        "colab": {}
      },
      "source": [
        "data_wth_666 = data_wth_666[data_wth_666['MEDV'] != 50]"
      ],
      "execution_count": 0,
      "outputs": []
    },
    {
      "cell_type": "code",
      "metadata": {
        "id": "KaZ2fyt_Pzgb",
        "colab_type": "code",
        "colab": {}
      },
      "source": [
        "data_wth_666.hist(figsize=(15,15))\n",
        "plt.show()"
      ],
      "execution_count": 0,
      "outputs": []
    },
    {
      "cell_type": "code",
      "metadata": {
        "id": "aI5KfCayQeBC",
        "colab_type": "code",
        "colab": {}
      },
      "source": [
        "sns.pairplot(data_wth_666)"
      ],
      "execution_count": 0,
      "outputs": []
    },
    {
      "cell_type": "code",
      "metadata": {
        "id": "Q0dT94qaND6R",
        "colab_type": "code",
        "colab": {}
      },
      "source": [
        "data_wth_666.describe()"
      ],
      "execution_count": 0,
      "outputs": []
    },
    {
      "cell_type": "code",
      "metadata": {
        "id": "uKrAxqKmNDu-",
        "colab_type": "code",
        "colab": {}
      },
      "source": [
        "data.describe()"
      ],
      "execution_count": 0,
      "outputs": []
    },
    {
      "cell_type": "code",
      "metadata": {
        "id": "rvkcwk5vNDsp",
        "colab_type": "code",
        "colab": {}
      },
      "source": [
        "fig, ax = plt.subplots(figsize=(5,5))\n",
        "ax.scatter(x=data_wth_666['RM'], y=data_wth_666['MEDV'])\n",
        "plt.show()"
      ],
      "execution_count": 0,
      "outputs": []
    },
    {
      "cell_type": "markdown",
      "metadata": {
        "id": "LUSANVlvbz7K",
        "colab_type": "text"
      },
      "source": [
        "Попробуем полиномиальную регрессию на показателе LSTAT"
      ]
    },
    {
      "cell_type": "code",
      "metadata": {
        "id": "HK5rFGGEbzS_",
        "colab_type": "code",
        "colab": {}
      },
      "source": [
        "from sklearn.preprocessing import PolynomialFeatures\n",
        "\n",
        "poly_reg = PolynomialFeatures(degree=2)\n",
        "\n",
        "X_poly = poly_reg.fit_transform(X_train_lstat)\n",
        "\n",
        "pol_reg = LinearRegression()\n",
        "pol_reg.fit(X_poly, y_train)\n",
        "\n",
        "pol_reg.score(poly_reg.fit_transform(X_test_lstat), y_test)"
      ],
      "execution_count": 0,
      "outputs": []
    },
    {
      "cell_type": "code",
      "metadata": {
        "id": "YptphFdnNDb6",
        "colab_type": "code",
        "colab": {}
      },
      "source": [
        ""
      ],
      "execution_count": 0,
      "outputs": []
    },
    {
      "cell_type": "markdown",
      "metadata": {
        "id": "WM7APX-XD3Ot",
        "colab_type": "text"
      },
      "source": [
        "**Результаты моделей**\n",
        "\n",
        "1.  На всех данных, без обработки\n",
        "*  R2: \t 0.6197381783666025\n",
        "*   RMSE: \t 4.918517322266345\n",
        "*   MAE: \t 3.5835665363854448\n",
        "2.  На одном показателе RM\n",
        "*   R2: \t 0.504181351276971\n",
        "*   RMSE: \t 5.6163513893118395\n",
        "* MAE: \t 4.044859175712278\n",
        "3. На одном показателе RM, после округления в бОльшую сторону\n",
        "*   R2: \t 0.3851370305838009\n",
        "* RMSE: \t 6.2543475658102015\n",
        "* MAE: \t 4.733766124544446\n",
        "4. На показателях 'CRIM', 'INDUS', 'NOX', 'RM', 'DIS', 'RAD', 'TAX', 'B', 'LSTAT'\n",
        "* R2: \t 0.6613075829998756\n",
        "* RMSE: \t 4.641897856718249\n",
        "* MAE: \t 3.4572858241822906\n",
        "5. На показателях 'CRIM', 'INDUS', 'NOX', 'RM', 'DIS', 'RAD', 'TAX', 'B', 'LSTAT' после нормализаци MixMaxScaller\n",
        "* R2: \t 0.6613075829998756\n",
        "* RMSE: \t 4.641897856718249\n",
        "* MAE: \t 3.4572858241822906\n",
        "6. На показателях 'CRIM', 'INDUS', 'NOX', 'RM', 'DIS', 'RAD', 'TAX', 'B', 'LSTAT' после нормализаци StandartScaller\n",
        "* R2: \t 0.661307582999878\n",
        "* RMSE: \t 4.6418978567182325\n",
        "* MAE: \t 3.4572858241822724\n",
        "7. После удаления строк со значением TAX = 666\n",
        "* R2: \t 0.8494399850402503\n",
        "* RMSE: \t 3.4873120913550344\n",
        "* MAE: \t 2.7893019732589526\n",
        "8. После удаления строк со значением TAX = 666, на одном показателе RM\n",
        "* R2: \t 0.7305161670460163\n",
        "* RMSE: \t 3.846147689313335\n",
        "* MAE: \t 3.0537879697836248\n",
        "9. Полиномиальная регрессия на показателе LSTAT, а также TAX != 666\n",
        "* R2: \t 0.46121759657776096\n",
        "* RMSE: \t 5.4383393081105\n",
        "* MAE: \t 4.225968690134918\n",
        " \t \n",
        "\n",
        "\n",
        "\n",
        "\n",
        "\n",
        "\n",
        "\n",
        "\n"
      ]
    },
    {
      "cell_type": "code",
      "metadata": {
        "id": "QkIMOd9YYsVe",
        "colab_type": "code",
        "colab": {}
      },
      "source": [
        ""
      ],
      "execution_count": 0,
      "outputs": []
    },
    {
      "cell_type": "code",
      "metadata": {
        "id": "MNt3fGChIN5I",
        "colab_type": "code",
        "colab": {}
      },
      "source": [
        "X = data_wth_666\n",
        "y = data_wth_666['MEDV']"
      ],
      "execution_count": 0,
      "outputs": []
    },
    {
      "cell_type": "code",
      "metadata": {
        "id": "hTgatwgxW6U1",
        "colab_type": "code",
        "colab": {}
      },
      "source": [
        "X = np.array(data_wth_666['LSTAT']).reshape(-1, 1)"
      ],
      "execution_count": 0,
      "outputs": []
    },
    {
      "cell_type": "code",
      "metadata": {
        "id": "Fl_rUrNVFK-a",
        "colab_type": "code",
        "colab": {}
      },
      "source": [
        "X_train, X_test, y_train, y_test = train_test_split(X, y, test_size=0.2, random_state=30)"
      ],
      "execution_count": 0,
      "outputs": []
    },
    {
      "cell_type": "code",
      "metadata": {
        "id": "5VepF1KscmJC",
        "colab_type": "code",
        "colab": {}
      },
      "source": [
        "# Попробуем полиномиальную регрессию по показателю LSTAT и TAX != 666\n",
        "from sklearn.preprocessing import PolynomialFeatures\n",
        "poly_reg = PolynomialFeatures(degree=2)\n",
        "\n",
        "X_poly = poly_reg.fit_transform(X_train)\n",
        "\n",
        "estimator = LinearRegression()\n",
        "estimator.fit(X_train, y_train)\n",
        "\n",
        "y_pred = estimator.predict(X_test)\n",
        "\n",
        "# pol_reg.score(poly_reg.fit_transform(X_test_lstat), y_test)\n",
        "print(\"R2: \\t\", r2_score(y_test, y_pred))\n",
        "print(\"RMSE: \\t\", np.sqrt(mean_squared_error(y_test, y_pred)))\n",
        "print(\"MAE: \\t\", mean_absolute_error(y_test, y_pred))"
      ],
      "execution_count": 0,
      "outputs": []
    },
    {
      "cell_type": "code",
      "metadata": {
        "id": "T8_1G_VNFKhK",
        "colab_type": "code",
        "colab": {}
      },
      "source": [
        "estimator = LinearRegression()\n",
        "estimator.fit(X_train, y_train)\n",
        "\n",
        "y_pred = estimator.predict(X_test)\n",
        "\n",
        "print(\"R2: \\t\", r2_score(y_test, y_pred))\n",
        "print(\"RMSE: \\t\", np.sqrt(mean_squared_error(y_test, y_pred)))\n",
        "print(\"MAE: \\t\", mean_absolute_error(y_test, y_pred))"
      ],
      "execution_count": 0,
      "outputs": []
    },
    {
      "cell_type": "code",
      "metadata": {
        "id": "pBlunUQ-eRuG",
        "colab_type": "code",
        "colab": {}
      },
      "source": [
        "for a, b in zip(y, y_pred):\n",
        "  print('True: {}, Pred: {}, Diff: {}'.format(a*1000, b*1000, a*1000-b*1000))"
      ],
      "execution_count": 0,
      "outputs": []
    },
    {
      "cell_type": "code",
      "metadata": {
        "id": "ulT874k2eRqY",
        "colab_type": "code",
        "colab": {}
      },
      "source": [
        ""
      ],
      "execution_count": 0,
      "outputs": []
    },
    {
      "cell_type": "code",
      "metadata": {
        "id": "PpwMdE1XeRnX",
        "colab_type": "code",
        "colab": {}
      },
      "source": [
        ""
      ],
      "execution_count": 0,
      "outputs": []
    },
    {
      "cell_type": "code",
      "metadata": {
        "id": "uMdyx-2WeRlo",
        "colab_type": "code",
        "colab": {}
      },
      "source": [
        ""
      ],
      "execution_count": 0,
      "outputs": []
    },
    {
      "cell_type": "code",
      "metadata": {
        "id": "5Pzq_CJveRiY",
        "colab_type": "code",
        "colab": {}
      },
      "source": [
        ""
      ],
      "execution_count": 0,
      "outputs": []
    },
    {
      "cell_type": "code",
      "metadata": {
        "id": "w39m-UcyeRgU",
        "colab_type": "code",
        "colab": {}
      },
      "source": [
        "\n",
        "\n",
        "\n"
      ],
      "execution_count": 0,
      "outputs": []
    }
  ]
}