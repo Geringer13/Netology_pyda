{
 "cells": [
  {
   "cell_type": "code",
   "execution_count": 18,
   "metadata": {},
   "outputs": [
    {
     "data": {
      "text/plain": [
       "318     153\n",
       "296     123\n",
       "356     116\n",
       "2571    109\n",
       "260     104\n",
       "Name: movieId, dtype: int64"
      ]
     },
     "execution_count": 18,
     "metadata": {},
     "output_type": "execute_result"
    }
   ],
   "source": [
    "# Задание 1\n",
    "# Скачайте с сайта https://grouplens.org/datasets/movielens/ датасет любого размера. \n",
    "# Определите какому фильму было выставлено больше всего оценок 5.0. userId\tmovieId\trating\ttimestamp\n",
    "import pandas as pd\n",
    "data = pd.read_csv('ratings.csv')\n",
    "movie_stats = data.filter(items = ['movieId', 'rating'])\n",
    "rating5 = movie_stats[ movie_stats.rating == 5 ]\n",
    "rating5['movieId'].value_counts().head()"
   ]
  },
  {
   "cell_type": "code",
   "execution_count": 104,
   "metadata": {},
   "outputs": [
    {
     "data": {
      "text/plain": [
       "240580.0"
      ]
     },
     "execution_count": 104,
     "metadata": {},
     "output_type": "execute_result"
    }
   ],
   "source": [
    "# Задание 2 Lithuania Latvia Estonia\n",
    "# По данным файла power.csv посчитайте суммарное потребление стран \n",
    "# Прибалтики (Латвия, Литва и Эстония) категорий 4, 12 и 21 за период с 2005 по 2010 года. \n",
    "# Не учитывайте в расчетах отрицательные значения quantity.\n",
    "countries = pd.read_csv('power.csv')\n",
    "filtered_countries = countries[ ((countries['country']=='Latvia') & (countries['year'] >= 2005) & (countries['year'] <= 2010) & (countries['quantity'] >= 0) & ((countries['category'] == 4) | (countries['category'] == 12) | (countries['category'] == 21))) | ((countries['country']=='Lithuania') & (countries['year'] >= 2005) & (countries['year'] <= 2010) & (countries['quantity'] >= 0) &((countries['category'] == 4) | (countries['category'] == 12) | (countries['category'] == 21))) | ((countries['country']=='Estonia') & (countries['year'] >= 2005) & (countries['year'] <= 2010) & (countries['quantity'] >= 0) & ((countries['category'] == 4) | (countries['category'] == 12) | (countries['category'] == 21))) ]\n",
    "filtered_countries['quantity'].sum()\n",
    "# filtered_cuntories"
   ]
  },
  {
   "cell_type": "code",
   "execution_count": 117,
   "metadata": {},
   "outputs": [
    {
     "data": {
      "text/html": [
       "<div>\n",
       "<style scoped>\n",
       "    .dataframe tbody tr th:only-of-type {\n",
       "        vertical-align: middle;\n",
       "    }\n",
       "\n",
       "    .dataframe tbody tr th {\n",
       "        vertical-align: top;\n",
       "    }\n",
       "\n",
       "    .dataframe thead th {\n",
       "        text-align: right;\n",
       "    }\n",
       "</style>\n",
       "<table border=\"1\" class=\"dataframe\">\n",
       "  <thead>\n",
       "    <tr style=\"text-align: right;\">\n",
       "      <th></th>\n",
       "      <th>Type</th>\n",
       "      <th>Last</th>\n",
       "      <th>Chg.</th>\n",
       "      <th>Chg.%</th>\n",
       "      <th>Time</th>\n",
       "    </tr>\n",
       "  </thead>\n",
       "  <tbody>\n",
       "    <tr>\n",
       "      <th>0</th>\n",
       "      <td>Яндекс Акции яндекса</td>\n",
       "      <td>34.18</td>\n",
       "      <td>0.15</td>\n",
       "      <td>0.44</td>\n",
       "      <td>NaN</td>\n",
       "    </tr>\n",
       "    <tr>\n",
       "      <th>1</th>\n",
       "      <td>Microsoft Microsoft Corp.</td>\n",
       "      <td>145.74</td>\n",
       "      <td>1.81</td>\n",
       "      <td>1.26</td>\n",
       "      <td>NaN</td>\n",
       "    </tr>\n",
       "    <tr>\n",
       "      <th>2</th>\n",
       "      <td>APPLE Акции APPLE</td>\n",
       "      <td>259.94</td>\n",
       "      <td>1.13</td>\n",
       "      <td>0.44</td>\n",
       "      <td>NaN</td>\n",
       "    </tr>\n",
       "    <tr>\n",
       "      <th>3</th>\n",
       "      <td>Toyota Акции Тойоты</td>\n",
       "      <td>120.94</td>\n",
       "      <td>0.00</td>\n",
       "      <td>0.00</td>\n",
       "      <td>NaN</td>\n",
       "    </tr>\n",
       "    <tr>\n",
       "      <th>4</th>\n",
       "      <td>Volkswagen Курс акций Volkswagen</td>\n",
       "      <td>180.42</td>\n",
       "      <td>-1.48</td>\n",
       "      <td>-0.81</td>\n",
       "      <td>NaN</td>\n",
       "    </tr>\n",
       "    <tr>\n",
       "      <th>5</th>\n",
       "      <td>Facebook Цена акций Facebook</td>\n",
       "      <td>190.44</td>\n",
       "      <td>0.62</td>\n",
       "      <td>0.33</td>\n",
       "      <td>NaN</td>\n",
       "    </tr>\n",
       "    <tr>\n",
       "      <th>6</th>\n",
       "      <td>Tesla Цены на акции Тесла</td>\n",
       "      <td>336.55</td>\n",
       "      <td>1.11</td>\n",
       "      <td>0.33</td>\n",
       "      <td>NaN</td>\n",
       "    </tr>\n",
       "    <tr>\n",
       "      <th>7</th>\n",
       "      <td>Twiter Цена акций твитера</td>\n",
       "      <td>29.19</td>\n",
       "      <td>0.22</td>\n",
       "      <td>0.76</td>\n",
       "      <td>NaN</td>\n",
       "    </tr>\n",
       "    <tr>\n",
       "      <th>8</th>\n",
       "      <td>Hasbro Цена на акции Hasbro, Inc.</td>\n",
       "      <td>95.47</td>\n",
       "      <td>10.60</td>\n",
       "      <td>12.49</td>\n",
       "      <td>NaN</td>\n",
       "    </tr>\n",
       "  </tbody>\n",
       "</table>\n",
       "</div>"
      ],
      "text/plain": [
       "                                Type    Last   Chg.  Chg.%  Time\n",
       "0               Яндекс Акции яндекса   34.18   0.15   0.44   NaN\n",
       "1          Microsoft Microsoft Corp.  145.74   1.81   1.26   NaN\n",
       "2                  APPLE Акции APPLE  259.94   1.13   0.44   NaN\n",
       "3                Toyota Акции Тойоты  120.94   0.00   0.00   NaN\n",
       "4   Volkswagen Курс акций Volkswagen  180.42  -1.48  -0.81   NaN\n",
       "5       Facebook Цена акций Facebook  190.44   0.62   0.33   NaN\n",
       "6          Tesla Цены на акции Тесла  336.55   1.11   0.33   NaN\n",
       "7          Twiter Цена акций твитера   29.19   0.22   0.76   NaN\n",
       "8  Hasbro Цена на акции Hasbro, Inc.   95.47  10.60  12.49   NaN"
      ]
     },
     "execution_count": 117,
     "metadata": {},
     "output_type": "execute_result"
    }
   ],
   "source": [
    "# Задание 3\n",
    "# Выберите страницу любого сайта с табличными данными. Импортируйте таблицы в pandas dataframe.\n",
    "# Примеры страниц (необязательно брать именно эти):\n",
    "# https://fortrader.org/quotes\n",
    "# https://www.finanz.ru/valyuty/v-realnom-vremen\n",
    "# page_url = 'https://fortrader.org/quotes'\n",
    "dataframe = pd.read_html('https://fortrader.org/quotes')\n",
    "# dataframe = pd.read_html(page_url, attrs = {'class': 'table'}, encoding='utf-8')\n",
    "dataframe[3]"
   ]
  }
 ],
 "metadata": {
  "kernelspec": {
   "display_name": "Python 3",
   "language": "python",
   "name": "python3"
  },
  "language_info": {
   "codemirror_mode": {
    "name": "ipython",
    "version": 3
   },
   "file_extension": ".py",
   "mimetype": "text/x-python",
   "name": "python",
   "nbconvert_exporter": "python",
   "pygments_lexer": "ipython3",
   "version": "3.7.3"
  }
 },
 "nbformat": 4,
 "nbformat_minor": 2
}
